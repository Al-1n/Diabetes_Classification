{
 "cells": [
  {
   "cell_type": "code",
   "execution_count": 1,
   "id": "53a74e21-f736-4e54-ac8d-774609ad9c22",
   "metadata": {},
   "outputs": [],
   "source": [
    "#!pip install optuna\n",
    "#!pip install jupyterlab-optuna\n",
    "#!pip install optuna-fast-fanova gunicorn\n",
    "#!pip install imbalanced-learn\n",
    "#!pip install hyperopt\n",
    "#!pip install lightgbm\n",
    "#!pip install catboost\n",
    "#!pip install optuna-integration"
   ]
  },
  {
   "cell_type": "code",
   "execution_count": 2,
   "id": "158ac2d3-1db7-4774-a4cf-84605a80fdf1",
   "metadata": {},
   "outputs": [],
   "source": [
    "import pandas as pd\n",
    "import numpy as np\n",
    "import seaborn as sns\n",
    "import optuna\n",
    "import matplotlib.pyplot as plt\n",
    "from sklearn.feature_selection import SelectKBest\n",
    "from sklearn.feature_selection import chi2\n",
    "from sklearn.metrics import roc_curve, precision_recall_curve, classification_report, log_loss, roc_auc_score, confusion_matrix, recall_score\n",
    "from IPython.display import Markdown, display\n",
    "from ipywidgets import widgets, Layout\n",
    "from IPython import display as disp\n",
    "\n",
    "# Define a function for printing using markdown\n",
    "def printmd(string, color=None):\n",
    "    colorstr = \"<span style='color:{}'>{}</span>\".format(color, string)\n",
    "    display(Markdown(colorstr))\n",
    "\n",
    "#Bold text delimiters\n",
    "start_bold = \"\\033[1m\"\n",
    "end_bold = \"\\033[0;0m\""
   ]
  },
  {
   "cell_type": "code",
   "execution_count": 3,
   "id": "a2610116-3880-44b5-9b41-ab0eb5cb5379",
   "metadata": {},
   "outputs": [
    {
     "data": {
      "text/html": [
       "<div>\n",
       "<style scoped>\n",
       "    .dataframe tbody tr th:only-of-type {\n",
       "        vertical-align: middle;\n",
       "    }\n",
       "\n",
       "    .dataframe tbody tr th {\n",
       "        vertical-align: top;\n",
       "    }\n",
       "\n",
       "    .dataframe thead th {\n",
       "        text-align: right;\n",
       "    }\n",
       "</style>\n",
       "<table border=\"1\" class=\"dataframe\">\n",
       "  <thead>\n",
       "    <tr style=\"text-align: right;\">\n",
       "      <th></th>\n",
       "      <th>Pregnancies</th>\n",
       "      <th>Glucose</th>\n",
       "      <th>BloodPressure</th>\n",
       "      <th>SkinThickness</th>\n",
       "      <th>Insulin</th>\n",
       "      <th>BMI</th>\n",
       "      <th>DiabetesPedigreeFunction</th>\n",
       "      <th>Age</th>\n",
       "      <th>Outcome</th>\n",
       "    </tr>\n",
       "  </thead>\n",
       "  <tbody>\n",
       "    <tr>\n",
       "      <th>0</th>\n",
       "      <td>6</td>\n",
       "      <td>148</td>\n",
       "      <td>72</td>\n",
       "      <td>35</td>\n",
       "      <td>0</td>\n",
       "      <td>33.6</td>\n",
       "      <td>0.627</td>\n",
       "      <td>50</td>\n",
       "      <td>1</td>\n",
       "    </tr>\n",
       "    <tr>\n",
       "      <th>1</th>\n",
       "      <td>1</td>\n",
       "      <td>85</td>\n",
       "      <td>66</td>\n",
       "      <td>29</td>\n",
       "      <td>0</td>\n",
       "      <td>26.6</td>\n",
       "      <td>0.351</td>\n",
       "      <td>31</td>\n",
       "      <td>0</td>\n",
       "    </tr>\n",
       "    <tr>\n",
       "      <th>2</th>\n",
       "      <td>8</td>\n",
       "      <td>183</td>\n",
       "      <td>64</td>\n",
       "      <td>0</td>\n",
       "      <td>0</td>\n",
       "      <td>23.3</td>\n",
       "      <td>0.672</td>\n",
       "      <td>32</td>\n",
       "      <td>1</td>\n",
       "    </tr>\n",
       "    <tr>\n",
       "      <th>3</th>\n",
       "      <td>1</td>\n",
       "      <td>89</td>\n",
       "      <td>66</td>\n",
       "      <td>23</td>\n",
       "      <td>94</td>\n",
       "      <td>28.1</td>\n",
       "      <td>0.167</td>\n",
       "      <td>21</td>\n",
       "      <td>0</td>\n",
       "    </tr>\n",
       "    <tr>\n",
       "      <th>4</th>\n",
       "      <td>0</td>\n",
       "      <td>137</td>\n",
       "      <td>40</td>\n",
       "      <td>35</td>\n",
       "      <td>168</td>\n",
       "      <td>43.1</td>\n",
       "      <td>2.288</td>\n",
       "      <td>33</td>\n",
       "      <td>1</td>\n",
       "    </tr>\n",
       "    <tr>\n",
       "      <th>5</th>\n",
       "      <td>5</td>\n",
       "      <td>116</td>\n",
       "      <td>74</td>\n",
       "      <td>0</td>\n",
       "      <td>0</td>\n",
       "      <td>25.6</td>\n",
       "      <td>0.201</td>\n",
       "      <td>30</td>\n",
       "      <td>0</td>\n",
       "    </tr>\n",
       "    <tr>\n",
       "      <th>6</th>\n",
       "      <td>3</td>\n",
       "      <td>78</td>\n",
       "      <td>50</td>\n",
       "      <td>32</td>\n",
       "      <td>88</td>\n",
       "      <td>31.0</td>\n",
       "      <td>0.248</td>\n",
       "      <td>26</td>\n",
       "      <td>1</td>\n",
       "    </tr>\n",
       "    <tr>\n",
       "      <th>7</th>\n",
       "      <td>10</td>\n",
       "      <td>115</td>\n",
       "      <td>0</td>\n",
       "      <td>0</td>\n",
       "      <td>0</td>\n",
       "      <td>35.3</td>\n",
       "      <td>0.134</td>\n",
       "      <td>29</td>\n",
       "      <td>0</td>\n",
       "    </tr>\n",
       "    <tr>\n",
       "      <th>8</th>\n",
       "      <td>2</td>\n",
       "      <td>197</td>\n",
       "      <td>70</td>\n",
       "      <td>45</td>\n",
       "      <td>543</td>\n",
       "      <td>30.5</td>\n",
       "      <td>0.158</td>\n",
       "      <td>53</td>\n",
       "      <td>1</td>\n",
       "    </tr>\n",
       "    <tr>\n",
       "      <th>9</th>\n",
       "      <td>8</td>\n",
       "      <td>125</td>\n",
       "      <td>96</td>\n",
       "      <td>0</td>\n",
       "      <td>0</td>\n",
       "      <td>0.0</td>\n",
       "      <td>0.232</td>\n",
       "      <td>54</td>\n",
       "      <td>1</td>\n",
       "    </tr>\n",
       "  </tbody>\n",
       "</table>\n",
       "</div>"
      ],
      "text/plain": [
       "   Pregnancies  Glucose  BloodPressure  SkinThickness  Insulin   BMI  \\\n",
       "0            6      148             72             35        0  33.6   \n",
       "1            1       85             66             29        0  26.6   \n",
       "2            8      183             64              0        0  23.3   \n",
       "3            1       89             66             23       94  28.1   \n",
       "4            0      137             40             35      168  43.1   \n",
       "5            5      116             74              0        0  25.6   \n",
       "6            3       78             50             32       88  31.0   \n",
       "7           10      115              0              0        0  35.3   \n",
       "8            2      197             70             45      543  30.5   \n",
       "9            8      125             96              0        0   0.0   \n",
       "\n",
       "   DiabetesPedigreeFunction  Age  Outcome  \n",
       "0                     0.627   50        1  \n",
       "1                     0.351   31        0  \n",
       "2                     0.672   32        1  \n",
       "3                     0.167   21        0  \n",
       "4                     2.288   33        1  \n",
       "5                     0.201   30        0  \n",
       "6                     0.248   26        1  \n",
       "7                     0.134   29        0  \n",
       "8                     0.158   53        1  \n",
       "9                     0.232   54        1  "
      ]
     },
     "execution_count": 3,
     "metadata": {},
     "output_type": "execute_result"
    }
   ],
   "source": [
    "#load the dataset and preview the first rows\n",
    "df = pd.read_csv(\"./Data/diabetes.csv\", sep = \",\")\n",
    "\n",
    "df.head(10)"
   ]
  },
  {
   "cell_type": "markdown",
   "id": "96fad3b9-ddc7-4a85-b913-25b2cb363778",
   "metadata": {},
   "source": [
    "# EDA"
   ]
  },
  {
   "cell_type": "code",
   "execution_count": 4,
   "id": "3dd49629-329d-40f8-9c09-15607116b7e8",
   "metadata": {},
   "outputs": [
    {
     "data": {
      "text/plain": [
       "Pregnancies                   int64\n",
       "Glucose                       int64\n",
       "BloodPressure                 int64\n",
       "SkinThickness                 int64\n",
       "Insulin                       int64\n",
       "BMI                         float64\n",
       "DiabetesPedigreeFunction    float64\n",
       "Age                           int64\n",
       "Outcome                       int64\n",
       "dtype: object"
      ]
     },
     "execution_count": 4,
     "metadata": {},
     "output_type": "execute_result"
    }
   ],
   "source": [
    "#Verify that all columns have numeric types\n",
    "df.dtypes"
   ]
  },
  {
   "cell_type": "code",
   "execution_count": 5,
   "id": "093e00e2-c451-4a3e-82a3-3ef3b73edc1d",
   "metadata": {},
   "outputs": [
    {
     "data": {
      "text/plain": [
       "Outcome\n",
       "0    500\n",
       "1    268\n",
       "Name: count, dtype: int64"
      ]
     },
     "execution_count": 5,
     "metadata": {},
     "output_type": "execute_result"
    }
   ],
   "source": [
    "#Check the target variable label values\n",
    "df[\"Outcome\"].value_counts()"
   ]
  },
  {
   "cell_type": "code",
   "execution_count": 6,
   "id": "6474ee6c-0655-43b1-b4a3-b76c8577eb56",
   "metadata": {},
   "outputs": [
    {
     "data": {
      "text/html": [
       "<div>\n",
       "<style scoped>\n",
       "    .dataframe tbody tr th:only-of-type {\n",
       "        vertical-align: middle;\n",
       "    }\n",
       "\n",
       "    .dataframe tbody tr th {\n",
       "        vertical-align: top;\n",
       "    }\n",
       "\n",
       "    .dataframe thead th {\n",
       "        text-align: right;\n",
       "    }\n",
       "</style>\n",
       "<table border=\"1\" class=\"dataframe\">\n",
       "  <thead>\n",
       "    <tr style=\"text-align: right;\">\n",
       "      <th></th>\n",
       "      <th>Pregnancies</th>\n",
       "      <th>Glucose</th>\n",
       "      <th>BloodPressure</th>\n",
       "      <th>SkinThickness</th>\n",
       "      <th>Insulin</th>\n",
       "      <th>BMI</th>\n",
       "      <th>DiabetesPedigreeFunction</th>\n",
       "      <th>Age</th>\n",
       "      <th>Outcome</th>\n",
       "    </tr>\n",
       "  </thead>\n",
       "  <tbody>\n",
       "    <tr>\n",
       "      <th>count</th>\n",
       "      <td>768.000000</td>\n",
       "      <td>768.000000</td>\n",
       "      <td>768.000000</td>\n",
       "      <td>768.000000</td>\n",
       "      <td>768.000000</td>\n",
       "      <td>768.000000</td>\n",
       "      <td>768.000000</td>\n",
       "      <td>768.000000</td>\n",
       "      <td>768.000000</td>\n",
       "    </tr>\n",
       "    <tr>\n",
       "      <th>mean</th>\n",
       "      <td>3.845052</td>\n",
       "      <td>120.894531</td>\n",
       "      <td>69.105469</td>\n",
       "      <td>20.536458</td>\n",
       "      <td>79.799479</td>\n",
       "      <td>31.992578</td>\n",
       "      <td>0.471876</td>\n",
       "      <td>33.240885</td>\n",
       "      <td>0.348958</td>\n",
       "    </tr>\n",
       "    <tr>\n",
       "      <th>std</th>\n",
       "      <td>3.369578</td>\n",
       "      <td>31.972618</td>\n",
       "      <td>19.355807</td>\n",
       "      <td>15.952218</td>\n",
       "      <td>115.244002</td>\n",
       "      <td>7.884160</td>\n",
       "      <td>0.331329</td>\n",
       "      <td>11.760232</td>\n",
       "      <td>0.476951</td>\n",
       "    </tr>\n",
       "    <tr>\n",
       "      <th>min</th>\n",
       "      <td>0.000000</td>\n",
       "      <td>0.000000</td>\n",
       "      <td>0.000000</td>\n",
       "      <td>0.000000</td>\n",
       "      <td>0.000000</td>\n",
       "      <td>0.000000</td>\n",
       "      <td>0.078000</td>\n",
       "      <td>21.000000</td>\n",
       "      <td>0.000000</td>\n",
       "    </tr>\n",
       "    <tr>\n",
       "      <th>25%</th>\n",
       "      <td>1.000000</td>\n",
       "      <td>99.000000</td>\n",
       "      <td>62.000000</td>\n",
       "      <td>0.000000</td>\n",
       "      <td>0.000000</td>\n",
       "      <td>27.300000</td>\n",
       "      <td>0.243750</td>\n",
       "      <td>24.000000</td>\n",
       "      <td>0.000000</td>\n",
       "    </tr>\n",
       "    <tr>\n",
       "      <th>50%</th>\n",
       "      <td>3.000000</td>\n",
       "      <td>117.000000</td>\n",
       "      <td>72.000000</td>\n",
       "      <td>23.000000</td>\n",
       "      <td>30.500000</td>\n",
       "      <td>32.000000</td>\n",
       "      <td>0.372500</td>\n",
       "      <td>29.000000</td>\n",
       "      <td>0.000000</td>\n",
       "    </tr>\n",
       "    <tr>\n",
       "      <th>75%</th>\n",
       "      <td>6.000000</td>\n",
       "      <td>140.250000</td>\n",
       "      <td>80.000000</td>\n",
       "      <td>32.000000</td>\n",
       "      <td>127.250000</td>\n",
       "      <td>36.600000</td>\n",
       "      <td>0.626250</td>\n",
       "      <td>41.000000</td>\n",
       "      <td>1.000000</td>\n",
       "    </tr>\n",
       "    <tr>\n",
       "      <th>max</th>\n",
       "      <td>17.000000</td>\n",
       "      <td>199.000000</td>\n",
       "      <td>122.000000</td>\n",
       "      <td>99.000000</td>\n",
       "      <td>846.000000</td>\n",
       "      <td>67.100000</td>\n",
       "      <td>2.420000</td>\n",
       "      <td>81.000000</td>\n",
       "      <td>1.000000</td>\n",
       "    </tr>\n",
       "  </tbody>\n",
       "</table>\n",
       "</div>"
      ],
      "text/plain": [
       "       Pregnancies     Glucose  BloodPressure  SkinThickness     Insulin  \\\n",
       "count   768.000000  768.000000     768.000000     768.000000  768.000000   \n",
       "mean      3.845052  120.894531      69.105469      20.536458   79.799479   \n",
       "std       3.369578   31.972618      19.355807      15.952218  115.244002   \n",
       "min       0.000000    0.000000       0.000000       0.000000    0.000000   \n",
       "25%       1.000000   99.000000      62.000000       0.000000    0.000000   \n",
       "50%       3.000000  117.000000      72.000000      23.000000   30.500000   \n",
       "75%       6.000000  140.250000      80.000000      32.000000  127.250000   \n",
       "max      17.000000  199.000000     122.000000      99.000000  846.000000   \n",
       "\n",
       "              BMI  DiabetesPedigreeFunction         Age     Outcome  \n",
       "count  768.000000                768.000000  768.000000  768.000000  \n",
       "mean    31.992578                  0.471876   33.240885    0.348958  \n",
       "std      7.884160                  0.331329   11.760232    0.476951  \n",
       "min      0.000000                  0.078000   21.000000    0.000000  \n",
       "25%     27.300000                  0.243750   24.000000    0.000000  \n",
       "50%     32.000000                  0.372500   29.000000    0.000000  \n",
       "75%     36.600000                  0.626250   41.000000    1.000000  \n",
       "max     67.100000                  2.420000   81.000000    1.000000  "
      ]
     },
     "execution_count": 6,
     "metadata": {},
     "output_type": "execute_result"
    }
   ],
   "source": [
    "#Get the summary sttistics for all the columns\n",
    "df.describe()"
   ]
  },
  {
   "cell_type": "code",
   "execution_count": null,
   "id": "d0010782-8e3b-477b-9275-252f79424d17",
   "metadata": {},
   "outputs": [],
   "source": []
  },
  {
   "cell_type": "code",
   "execution_count": 7,
   "id": "4df4b363-17e8-496a-a2da-2ba979fa436e",
   "metadata": {},
   "outputs": [],
   "source": [
    "# Define a function to extract information about missing measurements \n",
    "def print_missing_data_summary():\n",
    "    '''\n",
    "    This function will scan for missing values for different features and feature combinations at different steps of the imputation process.\n",
    "\n",
    "    Symbol dicionary:\n",
    "    \n",
    "    N_GLU - Number of missing Glucose measurements \n",
    "    N_INS - Number of missing Insulin measurements\n",
    "    N_BMI - Number of missing BMI measurements\n",
    "    N_BPS - Number of missing Blood Pressure measurements\n",
    "    N_STH - Number of missing Skin Thickness measurements\n",
    "    GL_IN - Number of records missing both glucose and insulin measurements\n",
    "    BM_IN - Number of records missing both BMI and Insulin data\n",
    "    BP_IN - Number of records missing both Blood Pressure and Insulin data\n",
    "    N_BIB - Number of records missing BMI, Insulin, and Blood Pressure measurements\n",
    "    GI_O1 - Number of records missing Glucose and Insulin measurements while the outcome is positive\n",
    "    GL_O1 - Number of missing Glucose measurements while the outcome is positive\n",
    "    IN_O1 - Number of missing Insulin measurements while the outcome is positive    \n",
    "    '''\n",
    "    def printmd(string, color=None):\n",
    "        colorstr = \"<span style='color:{}'>{}</span>\".format(color, string)\n",
    "        display(Markdown(colorstr))  \n",
    "    \n",
    "    v1 = pd.DataFrame(df[(df[\"Glucose\"] == 0) & (df[\"Insulin\"] == 0)]).shape[0]\n",
    "    v2 = pd.DataFrame(df[(df[\"BMI\"] == 0) & (df[\"Insulin\"] == 0)]).shape[0]\n",
    "    v3 = pd.DataFrame(df[(df[\"BloodPressure\"] == 0) & (df[\"Insulin\"] == 0)]).shape[0]\n",
    "    v4 = pd.DataFrame(df[(df[\"BMI\"] == 0) & (df[\"Insulin\"] == 0) & (df[\"BloodPressure\"] == 0)]).shape[0]\n",
    "    v5 = pd.DataFrame(df[(df[\"Glucose\"] == 0) & (df[\"Insulin\"] == 0) & (df[\"Outcome\"] == 1)]).shape[0]\n",
    "    v6 = pd.DataFrame(df[(df[\"Glucose\"] == 0) & (df[\"Outcome\"] == 1)]).shape[0]\n",
    "    v7 = pd.DataFrame(df[(df[\"Insulin\"] == 0) & (df[\"Outcome\"] == 1)]).shape[0]\n",
    "\n",
    "    display(Markdown('---'))\n",
    "    printmd(f\"**N_GLU**: {df[df['Glucose'] == 0].shape[0]}\", color=\"#9DC183\")\n",
    "    printmd(f\"**N_INS**: {df[df['Insulin'] == 0].shape[0]}\", color=\"#9DC183\")\n",
    "    printmd(f\"**N_BMI**: {df[df['BMI'] == 0].shape[0]}\", color=\"#9DC183\")\n",
    "    printmd(f\"**N_BPS**: {df[df['BloodPressure'] == 0].shape[0]}\", color=\"#9DC183\")\n",
    "    printmd(f\"**N_STH**: {df[df['SkinThickness'] == 0].shape[0]}\", color=\"#9DC183\")\n",
    "    display(Markdown('---'))\n",
    "    printmd(f\"**GL_IN**: {v1}\", color=\"#9DC183\")\n",
    "    printmd(f\"**BM_IN**: {v2}\", color=\"#9DC183\")\n",
    "    printmd(f\"**BP_IN**: {v3}\", color=\"#9DC183\")\n",
    "    printmd(f\"**N_BIB**: {v4}\", color=\"#9DC183\")\n",
    "    printmd(f\"**GI_O1**: {v5}\", color=\"#9DC183\")\n",
    "    printmd(f\"**GL_O1**: {v6}\", color=\"#9DC183\")\n",
    "    printmd(f\"**IN_O1**: {v7}\", color=\"#9DC183\")\n",
    "\n",
    "\n",
    "#Define a function that displays objects such as plots and dataframes sideways (rather than stacked) \n",
    "# def render_widgets(num_widgets, titles, objects):\n",
    "#     # Create output widgets\n",
    "#     widgets_list = [widgets.Output() for _ in range(num_widgets)]\n",
    "    \n",
    "#     # Render content in output widgets\n",
    "#     for i in range(num_widgets):\n",
    "#         with widgets_list[i]:\n",
    "#             disp.display(objects[i].style.set_caption(titles[i]))\n",
    "    \n",
    "#     # Add CSS styles to distribute free space\n",
    "#     box_layout = Layout(display='flex',\n",
    "#                         flex_flow='row',\n",
    "#                         justify_content='flex-start',\n",
    "#                         width='auto'\n",
    "#                        )\n",
    "    \n",
    "#     # Create Horizontal Box container\n",
    "#     hbox = widgets.HBox(widgets_list, layout=box_layout)\n",
    "    \n",
    "#     # Render hbox\n",
    "#     disp.display(hbox)\n",
    "\n",
    "def render_widgets(num_widgets, titles, objects):\n",
    "    # Create output widgets\n",
    "    widgets_list = [widgets.Output() for _ in range(num_widgets)]\n",
    "    \n",
    "    # Render content in output widgets\n",
    "    for i in range(num_widgets):\n",
    "        with widgets_list[i]:\n",
    "            # Display title in bold format\n",
    "            title_html = \"<b>{}</b>\".format(titles[i])\n",
    "            disp.display(disp.HTML(title_html))\n",
    "            disp.display(objects[i])\n",
    "    \n",
    "    # Add CSS styles to distribute free space\n",
    "    box_layout = Layout(display='flex',\n",
    "                        flex_flow='row',\n",
    "                        justify_content='flex-start',\n",
    "                        width='auto'\n",
    "                       )\n",
    "    \n",
    "    # Create Horizontal Box container\n",
    "    hbox = widgets.HBox(widgets_list, layout=box_layout)\n",
    "    \n",
    "    # Render hbox\n",
    "    disp.display(hbox)\n",
    "\n",
    "#Define a function to summarize the classification metrics\n",
    "def print_classification_metrics(model, x_train, y_train, x_test, y_test):\n",
    "\n",
    "    #Define pointers for bold text formatting\n",
    "    start_bold = \"\\033[1m\"\n",
    "    end_bold = \"\\033[0m\"\n",
    "    \n",
    "    #print(start_bold + \"Classification metrics\" + end_bold)\n",
    "    print()\n",
    "\n",
    "    # performance of the trained model on the training set \n",
    "    train_result = model.score(x_train, y_train)\n",
    "\n",
    "    # performance of the trained model using the testing set\n",
    "    test_result = model.score(x_test, y_test)\n",
    "\n",
    "    # make predictions on the training data\n",
    "    y_train_predict = model.predict(x_train)     \n",
    "\n",
    "    # make predictions on the test data\n",
    "    y_predict = model.predict(x_test)\n",
    "\n",
    "    # predict class probabilities on the training set\n",
    "    y_train_predict_proba = model.predict_proba(x_train)\n",
    "\n",
    "    # predict class probabilities on the test set\n",
    "    y_predict_proba = model.predict_proba(x_test)\n",
    "\n",
    "    # Calculate log loss for the training set\n",
    "    log_loss_train = round(log_loss(y_train, y_train_predict_proba), 4)\n",
    "    \n",
    "    # Calculate log loss for the test set\n",
    "    log_loss_value = round(log_loss(y_test, y_predict_proba), 4)\n",
    "\n",
    "    # Calculate ROC AUC for the training set    \n",
    "    roc_auc_train = roc_auc_score(y_train, y_train_predict_proba[:, 1])\n",
    "\n",
    "    # Calculate ROC AUC for the test set    \n",
    "    roc_auc = roc_auc_score(y_test, y_predict_proba[:, 1])\n",
    "\n",
    "    # Calculate Precision-Recall score for the TRAINING set\n",
    "    precision_train, recall_train, thresholds_train = precision_recall_curve(y_train, y_train_predict_proba[:, 1])\n",
    "\n",
    "    # Define recall levels for interpolation\n",
    "    recall_levels = np.linspace(0, 1, 100)\n",
    "\n",
    "    # Interpolate precision values for each recall level\n",
    "    interp_precision_train = np.interp(recall_levels, recall_train[::-1], precision_train[::-1])\n",
    "\n",
    "    # Calculate AUPRC using the trapezoidal rule\n",
    "    auprc_train = np.trapz(interp_precision_train, recall_levels)    \n",
    "    \n",
    "    # Calculate Precision-Recall score for the TEST set\n",
    "    precision_test, recall_test, thresholds_test = precision_recall_curve(y_test, y_predict_proba[:, 1])\n",
    "\n",
    "    # # Define recall levels for interpolation\n",
    "    # recall_levels = np.linspace(0, 1, 100)\n",
    "\n",
    "    # Interpolate precision values for each recall level\n",
    "    interp_precision_test = np.interp(recall_levels, recall_test[::-1], precision_test[::-1])\n",
    "\n",
    "    # Calculate AUPRC using the trapezoidal rule\n",
    "    auprc_test = np.trapz(interp_precision_test, recall_levels)    \n",
    "\n",
    "    train_report = pd.DataFrame(classification_report(y_train, \n",
    "                                                      y_train_predict,\n",
    "                                                      digits=4,\n",
    "                                                      output_dict = True)).transpose().astype(float).round(4).map(\"{:,.2f}\".format)\n",
    "    \n",
    "    test_report = pd.DataFrame(classification_report(y_test,\n",
    "                                                     y_predict,\n",
    "                                                     digits=4,\n",
    "                                                     output_dict = True)).transpose().astype(float).round(4).map(\"{:,.2f}\".format)    \n",
    "\n",
    "    titles = ['Training set performance', 'Test set performance']\n",
    "    render_widgets(2, titles, [train_report, test_report])\n",
    "\n",
    "    add_train_metrics = pd.DataFrame([{'Log Loss': log_loss_train,\n",
    "                                      'ROC AUC': round(roc_auc_train, 4),\n",
    "                                      'AUPRC': round(auprc_train, 4)}], columns = ['Log Loss',\n",
    "                                                                                   'ROC AUC',\n",
    "                                                                                   'AUPRC']).transpose().rename(columns = {0: 'Train Score'})\n",
    "    add_test_metrics = pd.DataFrame([{'Log Loss': log_loss_value,\n",
    "                                     'ROC AUC': round(roc_auc, 4),\n",
    "                                     'AUPRC': round(auprc_test, 4)}], columns = ['Log Loss',\n",
    "                                                                                 'ROC AUC',\n",
    "                                                                                 'AUPRC']).transpose().rename(columns = {0: 'Test Score'})\n",
    "\n",
    "    titles = ['Additional metrics', '(Log Loss, ROC Curve, Precission-Recall)']\n",
    "    render_widgets(2, titles, [add_train_metrics, add_test_metrics])\n",
    "\n",
    "    # # print the performance report\n",
    "    # print(classification_report(y_test, y_predict, digits=4))\n",
    "    # print()\n",
    "\n",
    "    # print(\"Train Accuracy: {}\".format(round(train_result, 4)))\n",
    "    # print()\n",
    "    \n",
    "    # print(\"Test Accuracy: {}\".format(round(test_result, 4)))\n",
    "    # print()\n",
    "\n",
    "    # recall = recall_score(y_test, y_predict, pos_label=1)\n",
    "    # print(\"Positive Recall: {}\".format(round(recall, 4)))\n",
    "    # print()\n",
    "\n",
    "    # # Calculate log loss\n",
    "    # log_loss_value = round(log_loss(y_test, y_predict_proba), 4)\n",
    "    # print(\"Log Loss: {}\".format(log_loss_value))\n",
    "    # print()\n",
    "\n",
    "    # # Calculate ROC AUC\n",
    "    # roc_auc = roc_auc_score(y_test, y_predict_proba[:, 1])\n",
    "    # print(\"ROC AUC: {}\".format(round(roc_auc, 4)))\n",
    "    # print()\n",
    "\n",
    "    # # Calculate Precision-Recall curve\n",
    "    # precision, recall, thresholds = precision_recall_curve(y_test, y_predict_proba[:, 1])\n",
    "\n",
    "    # # Define recall levels for interpolation\n",
    "    # recall_levels = np.linspace(0, 1, 100)\n",
    "\n",
    "    # # Interpolate precision values for each recall level\n",
    "    # interp_precision = np.interp(recall_levels, recall[::-1], precision[::-1])\n",
    "\n",
    "    # # Calculate AUPRC using the trapezoidal rule\n",
    "    # auprc = np.trapz(interp_precision, recall_levels)\n",
    "\n",
    "    # print(\"AUPRC: {}\".format(round(auprc, 4)))\n",
    "    # print()"
   ]
  },
  {
   "cell_type": "code",
   "execution_count": 8,
   "id": "c81e1604-5488-4b94-a71e-76d5c893c49b",
   "metadata": {},
   "outputs": [
    {
     "data": {
      "image/png": "[encoded data removed]",
      "text/plain": [
       "<Figure size 1000x1000 with 9 Axes>"
      ]
     },
     "metadata": {},
     "output_type": "display_data"
    }
   ],
   "source": [
    "df.hist(bins = 30, figsize = (10, 10), color = 'orange')\n",
    "\n",
    "plt.show()"
   ]
  },
  {
   "cell_type": "markdown",
   "id": "5d6df996-2754-43ff-a50b-a2ce30ae64a8",
   "metadata": {},
   "source": [
    "Insights from the histograms:\n",
    "\n",
    "* There are more young participants.\n",
    "* Zero values for skin thickness, glucose, insulin, blood presure, and bmi indicate missing measurements. A glucose level of zero would mean the patient is in a coma or worse.\n",
    "* There are about twice as many patients without diabetes (outcome = 0) than with diabetes (outcome = 1) resulting in unbalanced target classes.     "
   ]
  },
  {
   "cell_type": "code",
   "execution_count": 9,
   "id": "18252f2e-a275-43ad-8d16-2888c3c520d6",
   "metadata": {},
   "outputs": [
    {
     "data": {
      "text/markdown": [
       "---"
      ],
      "text/plain": [
       "<IPython.core.display.Markdown object>"
      ]
     },
     "metadata": {},
     "output_type": "display_data"
    },
    {
     "data": {
      "text/markdown": [
       "<span style='color:#9DC183'>**N_GLU**: 5</span>"
      ],
      "text/plain": [
       "<IPython.core.display.Markdown object>"
      ]
     },
     "metadata": {},
     "output_type": "display_data"
    },
    {
     "data": {
      "text/markdown": [
       "<span style='color:#9DC183'>**N_INS**: 374</span>"
      ],
      "text/plain": [
       "<IPython.core.display.Markdown object>"
      ]
     },
     "metadata": {},
     "output_type": "display_data"
    },
    {
     "data": {
      "text/markdown": [
       "<span style='color:#9DC183'>**N_BMI**: 11</span>"
      ],
      "text/plain": [
       "<IPython.core.display.Markdown object>"
      ]
     },
     "metadata": {},
     "output_type": "display_data"
    },
    {
     "data": {
      "text/markdown": [
       "<span style='color:#9DC183'>**N_BPS**: 35</span>"
      ],
      "text/plain": [
       "<IPython.core.display.Markdown object>"
      ]
     },
     "metadata": {},
     "output_type": "display_data"
    },
    {
     "data": {
      "text/markdown": [
       "<span style='color:#9DC183'>**N_STH**: 227</span>"
      ],
      "text/plain": [
       "<IPython.core.display.Markdown object>"
      ]
     },
     "metadata": {},
     "output_type": "display_data"
    },
    {
     "data": {
      "text/markdown": [
       "---"
      ],
      "text/plain": [
       "<IPython.core.display.Markdown object>"
      ]
     },
     "metadata": {},
     "output_type": "display_data"
    },
    {
     "data": {
      "text/markdown": [
       "<span style='color:#9DC183'>**GL_IN**: 4</span>"
      ],
      "text/plain": [
       "<IPython.core.display.Markdown object>"
      ]
     },
     "metadata": {},
     "output_type": "display_data"
    },
    {
     "data": {
      "text/markdown": [
       "<span style='color:#9DC183'>**BM_IN**: 10</span>"
      ],
      "text/plain": [
       "<IPython.core.display.Markdown object>"
      ]
     },
     "metadata": {},
     "output_type": "display_data"
    },
    {
     "data": {
      "text/markdown": [
       "<span style='color:#9DC183'>**BP_IN**: 35</span>"
      ],
      "text/plain": [
       "<IPython.core.display.Markdown object>"
      ]
     },
     "metadata": {},
     "output_type": "display_data"
    },
    {
     "data": {
      "text/markdown": [
       "<span style='color:#9DC183'>**N_BIB**: 7</span>"
      ],
      "text/plain": [
       "<IPython.core.display.Markdown object>"
      ]
     },
     "metadata": {},
     "output_type": "display_data"
    },
    {
     "data": {
      "text/markdown": [
       "<span style='color:#9DC183'>**GI_O1**: 2</span>"
      ],
      "text/plain": [
       "<IPython.core.display.Markdown object>"
      ]
     },
     "metadata": {},
     "output_type": "display_data"
    },
    {
     "data": {
      "text/markdown": [
       "<span style='color:#9DC183'>**GL_O1**: 2</span>"
      ],
      "text/plain": [
       "<IPython.core.display.Markdown object>"
      ]
     },
     "metadata": {},
     "output_type": "display_data"
    },
    {
     "data": {
      "text/markdown": [
       "<span style='color:#9DC183'>**IN_O1**: 138</span>"
      ],
      "text/plain": [
       "<IPython.core.display.Markdown object>"
      ]
     },
     "metadata": {},
     "output_type": "display_data"
    }
   ],
   "source": [
    "print_missing_data_summary()"
   ]
  },
  {
   "cell_type": "markdown",
   "id": "4a6e2571-0a62-4385-a14f-5d0a40b389c4",
   "metadata": {},
   "source": [
    "* For the two cases where the outcome is positive but the glucose and insulin measurements are missing, a good reasonable value to impute is the mean between the 75th percentile and the maximum value (based on CDC - https://www.cdc.gov/diabetes/managing/manage-blood-sugar.html), as higher values are most likely for positive cases (assuming the labels are accurate).\n",
    "* For missing inslulin levels (the highest number of missing values) it's a little more complicated as it is not clearly defined what constitudes a normal level and it might be dependent on BMI and other factors. On the other hand, removing 374 records (138 of which  coresspond to the positive class) would not be practical either, as the dataset is imbalanced and not very big as it is. Using the mean and the median is more appropriate in this case.       "
   ]
  },
  {
   "cell_type": "code",
   "execution_count": 10,
   "id": "387f5369-082f-45f0-90e2-594ea9270a0f",
   "metadata": {},
   "outputs": [
    {
     "data": {
      "application/vnd.jupyter.widget-view+json": {
       "model_id": "5c546270a6624ce2b7f125e2cff1793c",
       "version_major": 2,
       "version_minor": 0
      },
      "text/plain": [
       "HBox(children=(Output(), Output(), Output()), layout=Layout(display='flex', flex_flow='row', justify_content='…"
      ]
     },
     "metadata": {},
     "output_type": "display_data"
    }
   ],
   "source": [
    "df1 = pd.DataFrame(df[df[\"Outcome\"] == 0][\"Insulin\"]).describe()\n",
    "df2 = pd.DataFrame(df[df[\"Outcome\"] == 1][\"Insulin\"]).describe()\n",
    "df3 = pd.DataFrame(df[\"Insulin\"]).describe()\n",
    "\n",
    "titles = ['Summary of Insulin (Class 0)', 'Summary of Insulin (Class 1)', 'Summary of Insulin (Total)']\n",
    "render_widgets(3, titles, [df1, df2, df3])"
   ]
  },
  {
   "cell_type": "code",
   "execution_count": 11,
   "id": "166362d5-5fe6-464c-9a6e-69fe39cdd40d",
   "metadata": {},
   "outputs": [
    {
     "data": {
      "text/markdown": [
       "<span style='color:#9DC183'>The ratio of records with missing insulin measurements to the total number of records in the positive class is: 0.515</span>"
      ],
      "text/plain": [
       "<IPython.core.display.Markdown object>"
      ]
     },
     "metadata": {},
     "output_type": "display_data"
    }
   ],
   "source": [
    "m = round(pd.DataFrame(df[(df[\"Insulin\"] == 0) & (df[\"Outcome\"] == 1)]).shape[0] / df[\"Outcome\"].value_counts()[1], 3)\n",
    "printmd(f\"The ratio of records with missing insulin measurements to the total number of records in the positive class is: {m}\", color = \"#9DC183\")"
   ]
  },
  {
   "cell_type": "code",
   "execution_count": 12,
   "id": "65b5f613-a88a-4b37-9e9c-0a4657a3f7a3",
   "metadata": {},
   "outputs": [
    {
     "data": {
      "text/plain": [
       "<Axes: >"
      ]
     },
     "execution_count": 12,
     "metadata": {},
     "output_type": "execute_result"
    },
    {
     "data": {
      "image/png": "[encoded data removed]",
      "text/plain": [
       "<Figure size 640x480 with 1 Axes>"
      ]
     },
     "metadata": {},
     "output_type": "display_data"
    }
   ],
   "source": [
    "#Visualize the distribution of Insulin measurements\n",
    "df[\"Insulin\"].hist(bins = 30)"
   ]
  },
  {
   "cell_type": "code",
   "execution_count": 13,
   "id": "1461ad63-0fb2-4269-bc44-74ef684d2910",
   "metadata": {},
   "outputs": [],
   "source": [
    "# \n",
    "mean_insulin = int(np.mean(df[\"Insulin\"]))\n",
    "median_insulin = int(np.median(df[\"Insulin\"]))\n",
    "\n",
    "df.loc[(df[\"Outcome\"] == 1) & ((df[\"Insulin\"] == 0) | (df[\"BMI\"] > 30)), \"Insulin\"] = mean_insulin\n",
    "\n",
    "df.loc[(df[\"Outcome\"] == 0) & (df[\"Insulin\"] == 0), \"Insulin\"] = median_insulin"
   ]
  },
  {
   "cell_type": "code",
   "execution_count": 14,
   "id": "a8c80ba0-3ee0-43f9-af95-e8639d001554",
   "metadata": {},
   "outputs": [
    {
     "data": {
      "application/vnd.jupyter.widget-view+json": {
       "model_id": "c74efdd1b7694591949756e47a3bf517",
       "version_major": 2,
       "version_minor": 0
      },
      "text/plain": [
       "HBox(children=(Output(), Output(), Output()), layout=Layout(display='flex', flex_flow='row', justify_content='…"
      ]
     },
     "metadata": {},
     "output_type": "display_data"
    }
   ],
   "source": [
    "df1 = pd.DataFrame(df[df[\"Outcome\"] == 0][\"Insulin\"]).describe()\n",
    "df2 = pd.DataFrame(df[df[\"Outcome\"] == 1][\"Insulin\"]).describe()\n",
    "df3 = pd.DataFrame(df[\"Insulin\"]).describe()\n",
    "\n",
    "titles = ['Summary of Insulin (Class 0)', 'Summary of Insulin (Class 1)', 'Summary of Insulin (Total)']\n",
    "render_widgets(3, titles, [df1, df2, df3])"
   ]
  },
  {
   "cell_type": "code",
   "execution_count": 15,
   "id": "d92fd99b-97a2-4c25-8a5b-7a964ad692a2",
   "metadata": {},
   "outputs": [
    {
     "name": "stdout",
     "output_type": "stream",
     "text": [
      "79.0\n"
     ]
    }
   ],
   "source": [
    "print(np.median(df[df[\"Outcome\"] == 1][\"Insulin\"]))"
   ]
  },
  {
   "cell_type": "code",
   "execution_count": 16,
   "id": "aaafb836-111e-436a-87e3-8b97586e0655",
   "metadata": {},
   "outputs": [
    {
     "data": {
      "text/plain": [
       "<Axes: >"
      ]
     },
     "execution_count": 16,
     "metadata": {},
     "output_type": "execute_result"
    },
    {
     "data": {
      "image/png": "[encoded data removed]",
      "text/plain": [
       "<Figure size 640x480 with 1 Axes>"
      ]
     },
     "metadata": {},
     "output_type": "display_data"
    }
   ],
   "source": [
    "df[\"Insulin\"].hist(bins = 30)"
   ]
  },
  {
   "cell_type": "code",
   "execution_count": 17,
   "id": "20918dfc-6a49-4b4a-abd6-7ad1f4ea5ebd",
   "metadata": {},
   "outputs": [
    {
     "data": {
      "text/markdown": [
       "---"
      ],
      "text/plain": [
       "<IPython.core.display.Markdown object>"
      ]
     },
     "metadata": {},
     "output_type": "display_data"
    },
    {
     "data": {
      "text/markdown": [
       "<span style='color:#9DC183'>**N_GLU**: 5</span>"
      ],
      "text/plain": [
       "<IPython.core.display.Markdown object>"
      ]
     },
     "metadata": {},
     "output_type": "display_data"
    },
    {
     "data": {
      "text/markdown": [
       "<span style='color:#9DC183'>**N_INS**: 0</span>"
      ],
      "text/plain": [
       "<IPython.core.display.Markdown object>"
      ]
     },
     "metadata": {},
     "output_type": "display_data"
    },
    {
     "data": {
      "text/markdown": [
       "<span style='color:#9DC183'>**N_BMI**: 11</span>"
      ],
      "text/plain": [
       "<IPython.core.display.Markdown object>"
      ]
     },
     "metadata": {},
     "output_type": "display_data"
    },
    {
     "data": {
      "text/markdown": [
       "<span style='color:#9DC183'>**N_BPS**: 35</span>"
      ],
      "text/plain": [
       "<IPython.core.display.Markdown object>"
      ]
     },
     "metadata": {},
     "output_type": "display_data"
    },
    {
     "data": {
      "text/markdown": [
       "<span style='color:#9DC183'>**N_STH**: 227</span>"
      ],
      "text/plain": [
       "<IPython.core.display.Markdown object>"
      ]
     },
     "metadata": {},
     "output_type": "display_data"
    },
    {
     "data": {
      "text/markdown": [
       "---"
      ],
      "text/plain": [
       "<IPython.core.display.Markdown object>"
      ]
     },
     "metadata": {},
     "output_type": "display_data"
    },
    {
     "data": {
      "text/markdown": [
       "<span style='color:#9DC183'>**GL_IN**: 0</span>"
      ],
      "text/plain": [
       "<IPython.core.display.Markdown object>"
      ]
     },
     "metadata": {},
     "output_type": "display_data"
    },
    {
     "data": {
      "text/markdown": [
       "<span style='color:#9DC183'>**BM_IN**: 0</span>"
      ],
      "text/plain": [
       "<IPython.core.display.Markdown object>"
      ]
     },
     "metadata": {},
     "output_type": "display_data"
    },
    {
     "data": {
      "text/markdown": [
       "<span style='color:#9DC183'>**BP_IN**: 0</span>"
      ],
      "text/plain": [
       "<IPython.core.display.Markdown object>"
      ]
     },
     "metadata": {},
     "output_type": "display_data"
    },
    {
     "data": {
      "text/markdown": [
       "<span style='color:#9DC183'>**N_BIB**: 0</span>"
      ],
      "text/plain": [
       "<IPython.core.display.Markdown object>"
      ]
     },
     "metadata": {},
     "output_type": "display_data"
    },
    {
     "data": {
      "text/markdown": [
       "<span style='color:#9DC183'>**GI_O1**: 0</span>"
      ],
      "text/plain": [
       "<IPython.core.display.Markdown object>"
      ]
     },
     "metadata": {},
     "output_type": "display_data"
    },
    {
     "data": {
      "text/markdown": [
       "<span style='color:#9DC183'>**GL_O1**: 2</span>"
      ],
      "text/plain": [
       "<IPython.core.display.Markdown object>"
      ]
     },
     "metadata": {},
     "output_type": "display_data"
    },
    {
     "data": {
      "text/markdown": [
       "<span style='color:#9DC183'>**IN_O1**: 0</span>"
      ],
      "text/plain": [
       "<IPython.core.display.Markdown object>"
      ]
     },
     "metadata": {},
     "output_type": "display_data"
    }
   ],
   "source": [
    "print_missing_data_summary()"
   ]
  },
  {
   "cell_type": "code",
   "execution_count": 18,
   "id": "0b074528-1558-4825-8709-08752b2c8eed",
   "metadata": {},
   "outputs": [
    {
     "data": {
      "application/vnd.jupyter.widget-view+json": {
       "model_id": "4a4ba59d0f24446089bd62a4d9469eac",
       "version_major": 2,
       "version_minor": 0
      },
      "text/plain": [
       "HBox(children=(Output(), Output(), Output(), Output(), Output(), Output()), layout=Layout(display='flex', flex…"
      ]
     },
     "metadata": {},
     "output_type": "display_data"
    }
   ],
   "source": [
    "df1 = pd.DataFrame(df[df[\"Outcome\"] == 0][\"BMI\"]).describe()\n",
    "df2 = pd.DataFrame(df[df[\"Outcome\"] == 1][\"BMI\"]).describe()\n",
    "df3 = pd.DataFrame(df[\"BMI\"]).describe()\n",
    "df4 = pd.DataFrame(df[df[\"Outcome\"] == 0][\"BloodPressure\"]).describe()\n",
    "df5 = pd.DataFrame(df[df[\"Outcome\"] == 1][\"BloodPressure\"]).describe()\n",
    "df6 = pd.DataFrame(df[\"BloodPressure\"]).describe()\n",
    "\n",
    "titles = ['Summary of BMI (Class 0)', 'Summary of BMI (Class 1)', 'Summary of BMI (Total)', 'Summary of Blood Pressure (Class 0)', 'Summary of Blood Pressure (Class 1)', 'Summary of Blood Pressure (Total)']\n",
    "render_widgets(6, titles, [df1, df2, df3, df4, df5, df6])"
   ]
  },
  {
   "cell_type": "code",
   "execution_count": 19,
   "id": "121ee4da-d650-4252-b71d-fe9e0e1badf1",
   "metadata": {},
   "outputs": [],
   "source": [
    "df.loc[(df[\"Outcome\"] == 1) & (df[\"BMI\"] == 0), \"BMI\"] = np.median(df[\"BMI\"][df[\"Outcome\"] == 1])\n",
    "\n",
    "df.loc[(df[\"Outcome\"] == 0) & (df[\"BMI\"] == 0), \"BMI\"] = np.median(df[\"BMI\"][df[\"Outcome\"] == 0])\n",
    "\n",
    "df.loc[(df[\"Outcome\"] == 1) & (df[\"BloodPressure\"] == 0), \"BloodPressure\"] = int(np.median(df[\"BloodPressure\"][df[\"Outcome\"] == 1]))\n",
    "\n",
    "df.loc[(df[\"Outcome\"] == 0) & (df[\"BloodPressure\"] == 0), \"BloodPressure\"] = int(np.median(df[\"BloodPressure\"][df[\"Outcome\"] == 0]))"
   ]
  },
  {
   "cell_type": "code",
   "execution_count": 20,
   "id": "cabe27af-3168-4951-9a96-d9d78bca0037",
   "metadata": {},
   "outputs": [
    {
     "data": {
      "application/vnd.jupyter.widget-view+json": {
       "model_id": "926586a2d36149c4a6e49fbb2c675a0c",
       "version_major": 2,
       "version_minor": 0
      },
      "text/plain": [
       "HBox(children=(Output(), Output(), Output(), Output(), Output(), Output()), layout=Layout(display='flex', flex…"
      ]
     },
     "metadata": {},
     "output_type": "display_data"
    }
   ],
   "source": [
    "df1 = pd.DataFrame(df[df[\"Outcome\"] == 0][\"BMI\"]).describe()\n",
    "df2 = pd.DataFrame(df[df[\"Outcome\"] == 1][\"BMI\"]).describe()\n",
    "df3 = pd.DataFrame(df[\"BMI\"]).describe()\n",
    "df4 = pd.DataFrame(df[df[\"Outcome\"] == 0][\"BloodPressure\"]).describe()\n",
    "df5 = pd.DataFrame(df[df[\"Outcome\"] == 1][\"BloodPressure\"]).describe()\n",
    "df6 = pd.DataFrame(df[\"BloodPressure\"]).describe()\n",
    "\n",
    "titles = ['Summary of BMI (Class 0)', 'Summary of BMI (Class 1)', 'Summary of BMI (Total)', 'Summary of Blood Pressure (Class 0)', 'Summary of Blood Pressure (Class 1)', 'Summary of Blood Pressure (Total)']\n",
    "render_widgets(6, titles, [df1, df2, df3, df4, df5, df6])"
   ]
  },
  {
   "cell_type": "code",
   "execution_count": 21,
   "id": "d20d946d-dc31-4b2e-aa86-3f87d7133855",
   "metadata": {},
   "outputs": [
    {
     "data": {
      "text/markdown": [
       "---"
      ],
      "text/plain": [
       "<IPython.core.display.Markdown object>"
      ]
     },
     "metadata": {},
     "output_type": "display_data"
    },
    {
     "data": {
      "text/markdown": [
       "<span style='color:#9DC183'>**N_GLU**: 5</span>"
      ],
      "text/plain": [
       "<IPython.core.display.Markdown object>"
      ]
     },
     "metadata": {},
     "output_type": "display_data"
    },
    {
     "data": {
      "text/markdown": [
       "<span style='color:#9DC183'>**N_INS**: 0</span>"
      ],
      "text/plain": [
       "<IPython.core.display.Markdown object>"
      ]
     },
     "metadata": {},
     "output_type": "display_data"
    },
    {
     "data": {
      "text/markdown": [
       "<span style='color:#9DC183'>**N_BMI**: 0</span>"
      ],
      "text/plain": [
       "<IPython.core.display.Markdown object>"
      ]
     },
     "metadata": {},
     "output_type": "display_data"
    },
    {
     "data": {
      "text/markdown": [
       "<span style='color:#9DC183'>**N_BPS**: 0</span>"
      ],
      "text/plain": [
       "<IPython.core.display.Markdown object>"
      ]
     },
     "metadata": {},
     "output_type": "display_data"
    },
    {
     "data": {
      "text/markdown": [
       "<span style='color:#9DC183'>**N_STH**: 227</span>"
      ],
      "text/plain": [
       "<IPython.core.display.Markdown object>"
      ]
     },
     "metadata": {},
     "output_type": "display_data"
    },
    {
     "data": {
      "text/markdown": [
       "---"
      ],
      "text/plain": [
       "<IPython.core.display.Markdown object>"
      ]
     },
     "metadata": {},
     "output_type": "display_data"
    },
    {
     "data": {
      "text/markdown": [
       "<span style='color:#9DC183'>**GL_IN**: 0</span>"
      ],
      "text/plain": [
       "<IPython.core.display.Markdown object>"
      ]
     },
     "metadata": {},
     "output_type": "display_data"
    },
    {
     "data": {
      "text/markdown": [
       "<span style='color:#9DC183'>**BM_IN**: 0</span>"
      ],
      "text/plain": [
       "<IPython.core.display.Markdown object>"
      ]
     },
     "metadata": {},
     "output_type": "display_data"
    },
    {
     "data": {
      "text/markdown": [
       "<span style='color:#9DC183'>**BP_IN**: 0</span>"
      ],
      "text/plain": [
       "<IPython.core.display.Markdown object>"
      ]
     },
     "metadata": {},
     "output_type": "display_data"
    },
    {
     "data": {
      "text/markdown": [
       "<span style='color:#9DC183'>**N_BIB**: 0</span>"
      ],
      "text/plain": [
       "<IPython.core.display.Markdown object>"
      ]
     },
     "metadata": {},
     "output_type": "display_data"
    },
    {
     "data": {
      "text/markdown": [
       "<span style='color:#9DC183'>**GI_O1**: 0</span>"
      ],
      "text/plain": [
       "<IPython.core.display.Markdown object>"
      ]
     },
     "metadata": {},
     "output_type": "display_data"
    },
    {
     "data": {
      "text/markdown": [
       "<span style='color:#9DC183'>**GL_O1**: 2</span>"
      ],
      "text/plain": [
       "<IPython.core.display.Markdown object>"
      ]
     },
     "metadata": {},
     "output_type": "display_data"
    },
    {
     "data": {
      "text/markdown": [
       "<span style='color:#9DC183'>**IN_O1**: 0</span>"
      ],
      "text/plain": [
       "<IPython.core.display.Markdown object>"
      ]
     },
     "metadata": {},
     "output_type": "display_data"
    }
   ],
   "source": [
    "print_missing_data_summary()"
   ]
  },
  {
   "cell_type": "code",
   "execution_count": 22,
   "id": "fa1ae48c-7213-4b26-9675-609d251b850c",
   "metadata": {},
   "outputs": [
    {
     "data": {
      "application/vnd.jupyter.widget-view+json": {
       "model_id": "ba90de2d10ce48e68a81010c53dcd74e",
       "version_major": 2,
       "version_minor": 0
      },
      "text/plain": [
       "HBox(children=(Output(), Output(), Output(), Output(), Output(), Output()), layout=Layout(display='flex', flex…"
      ]
     },
     "metadata": {},
     "output_type": "display_data"
    }
   ],
   "source": [
    "df1 = pd.DataFrame(df[df[\"Outcome\"] == 0][\"Glucose\"]).describe()\n",
    "df2 = pd.DataFrame(df[df[\"Outcome\"] == 1][\"Glucose\"]).describe()\n",
    "df3 = pd.DataFrame(df[\"Glucose\"]).describe()\n",
    "df4 = pd.DataFrame(df[df[\"Outcome\"] == 0][\"SkinThickness\"]).describe()\n",
    "df5 = pd.DataFrame(df[df[\"Outcome\"] == 1][\"SkinThickness\"]).describe()\n",
    "df6 = pd.DataFrame(df[\"SkinThickness\"]).describe()\n",
    "\n",
    "titles = ['Summary of Glucose (Class 0)', 'Summary of Glucose (Class 1)', 'Summary of Glucose (Total)', 'Summary of Skin Thickness (Class 0)', 'Summary of Skin Thickness (Class 1)', 'Summary of Skin Thickness (Total)']\n",
    "render_widgets(6, titles, [df1, df2, df3, df4, df5, df6])"
   ]
  },
  {
   "cell_type": "code",
   "execution_count": 23,
   "id": "6b121fd3-ecb3-499e-abcb-abb8b84b0c36",
   "metadata": {},
   "outputs": [],
   "source": [
    "df.loc[(df[\"Outcome\"] == 1) & (df[\"Glucose\"] == 0), \"Glucose\"] = int(np.median(df[\"Glucose\"][df[\"Outcome\"] == 1]))\n",
    "\n",
    "df.loc[(df[\"Outcome\"] == 0) & (df[\"Glucose\"] == 0), \"Glucose\"] = int(np.median(df[\"Glucose\"][df[\"Outcome\"] == 0]))\n",
    "\n",
    "df.loc[(df[\"Outcome\"] == 1) & (df[\"SkinThickness\"] == 0), \"SkinThickness\"] = int(np.median(df[\"SkinThickness\"][df[\"Outcome\"] == 1]))\n",
    "\n",
    "df.loc[(df[\"Outcome\"] == 0) & (df[\"SkinThickness\"] == 0), \"SkinThickness\"] = int(np.median(df[\"SkinThickness\"][df[\"Outcome\"] == 0]))"
   ]
  },
  {
   "cell_type": "code",
   "execution_count": 24,
   "id": "18db0cbd-1fe3-4297-9097-d8f889741ad9",
   "metadata": {},
   "outputs": [
    {
     "data": {
      "application/vnd.jupyter.widget-view+json": {
       "model_id": "99ea467f65cf47879bcdd06519c69108",
       "version_major": 2,
       "version_minor": 0
      },
      "text/plain": [
       "HBox(children=(Output(), Output(), Output(), Output(), Output(), Output()), layout=Layout(display='flex', flex…"
      ]
     },
     "metadata": {},
     "output_type": "display_data"
    }
   ],
   "source": [
    "df1 = pd.DataFrame(df[df[\"Outcome\"] == 0][\"Glucose\"]).describe()\n",
    "df2 = pd.DataFrame(df[df[\"Outcome\"] == 1][\"Glucose\"]).describe()\n",
    "df3 = pd.DataFrame(df[\"Glucose\"]).describe()\n",
    "df4 = pd.DataFrame(df[df[\"Outcome\"] == 0][\"SkinThickness\"]).describe()\n",
    "df5 = pd.DataFrame(df[df[\"Outcome\"] == 1][\"SkinThickness\"]).describe()\n",
    "df6 = pd.DataFrame(df[\"SkinThickness\"]).describe()\n",
    "\n",
    "titles = ['Summary of Glucose (Class 0)', 'Summary of Glucose (Class 1)', 'Summary of Glucose (Total)', 'Summary of Skin Thickness (Class 0)', 'Summary of Skin Thickness (Class 1)', 'Summary of Skin Thickness (Total)']\n",
    "render_widgets(6, titles, [df1, df2, df3, df4, df5, df6])"
   ]
  },
  {
   "cell_type": "code",
   "execution_count": 25,
   "id": "ab0c2802-a3d3-49bd-b91c-a51ed5608c1d",
   "metadata": {},
   "outputs": [
    {
     "data": {
      "text/markdown": [
       "---"
      ],
      "text/plain": [
       "<IPython.core.display.Markdown object>"
      ]
     },
     "metadata": {},
     "output_type": "display_data"
    },
    {
     "data": {
      "text/markdown": [
       "<span style='color:#9DC183'>**N_GLU**: 0</span>"
      ],
      "text/plain": [
       "<IPython.core.display.Markdown object>"
      ]
     },
     "metadata": {},
     "output_type": "display_data"
    },
    {
     "data": {
      "text/markdown": [
       "<span style='color:#9DC183'>**N_INS**: 0</span>"
      ],
      "text/plain": [
       "<IPython.core.display.Markdown object>"
      ]
     },
     "metadata": {},
     "output_type": "display_data"
    },
    {
     "data": {
      "text/markdown": [
       "<span style='color:#9DC183'>**N_BMI**: 0</span>"
      ],
      "text/plain": [
       "<IPython.core.display.Markdown object>"
      ]
     },
     "metadata": {},
     "output_type": "display_data"
    },
    {
     "data": {
      "text/markdown": [
       "<span style='color:#9DC183'>**N_BPS**: 0</span>"
      ],
      "text/plain": [
       "<IPython.core.display.Markdown object>"
      ]
     },
     "metadata": {},
     "output_type": "display_data"
    },
    {
     "data": {
      "text/markdown": [
       "<span style='color:#9DC183'>**N_STH**: 0</span>"
      ],
      "text/plain": [
       "<IPython.core.display.Markdown object>"
      ]
     },
     "metadata": {},
     "output_type": "display_data"
    },
    {
     "data": {
      "text/markdown": [
       "---"
      ],
      "text/plain": [
       "<IPython.core.display.Markdown object>"
      ]
     },
     "metadata": {},
     "output_type": "display_data"
    },
    {
     "data": {
      "text/markdown": [
       "<span style='color:#9DC183'>**GL_IN**: 0</span>"
      ],
      "text/plain": [
       "<IPython.core.display.Markdown object>"
      ]
     },
     "metadata": {},
     "output_type": "display_data"
    },
    {
     "data": {
      "text/markdown": [
       "<span style='color:#9DC183'>**BM_IN**: 0</span>"
      ],
      "text/plain": [
       "<IPython.core.display.Markdown object>"
      ]
     },
     "metadata": {},
     "output_type": "display_data"
    },
    {
     "data": {
      "text/markdown": [
       "<span style='color:#9DC183'>**BP_IN**: 0</span>"
      ],
      "text/plain": [
       "<IPython.core.display.Markdown object>"
      ]
     },
     "metadata": {},
     "output_type": "display_data"
    },
    {
     "data": {
      "text/markdown": [
       "<span style='color:#9DC183'>**N_BIB**: 0</span>"
      ],
      "text/plain": [
       "<IPython.core.display.Markdown object>"
      ]
     },
     "metadata": {},
     "output_type": "display_data"
    },
    {
     "data": {
      "text/markdown": [
       "<span style='color:#9DC183'>**GI_O1**: 0</span>"
      ],
      "text/plain": [
       "<IPython.core.display.Markdown object>"
      ]
     },
     "metadata": {},
     "output_type": "display_data"
    },
    {
     "data": {
      "text/markdown": [
       "<span style='color:#9DC183'>**GL_O1**: 0</span>"
      ],
      "text/plain": [
       "<IPython.core.display.Markdown object>"
      ]
     },
     "metadata": {},
     "output_type": "display_data"
    },
    {
     "data": {
      "text/markdown": [
       "<span style='color:#9DC183'>**IN_O1**: 0</span>"
      ],
      "text/plain": [
       "<IPython.core.display.Markdown object>"
      ]
     },
     "metadata": {},
     "output_type": "display_data"
    }
   ],
   "source": [
    "print_missing_data_summary()"
   ]
  },
  {
   "cell_type": "code",
   "execution_count": 26,
   "id": "a7bdfc4b-9877-4118-9f41-56879d7aac76",
   "metadata": {},
   "outputs": [
    {
     "data": {
      "image/png": "[encoded data removed]",
      "text/plain": [
       "<Figure size 1000x1000 with 9 Axes>"
      ]
     },
     "metadata": {},
     "output_type": "display_data"
    }
   ],
   "source": [
    "df.hist(bins = 30, figsize = (10, 10), color = 'orange')\n",
    "\n",
    "plt.show()"
   ]
  },
  {
   "cell_type": "code",
   "execution_count": 27,
   "id": "efe981aa-8442-464c-8496-d2683dbe2367",
   "metadata": {},
   "outputs": [
    {
     "data": {
      "text/plain": [
       "(768, 9)"
      ]
     },
     "execution_count": 27,
     "metadata": {},
     "output_type": "execute_result"
    }
   ],
   "source": [
    "# Check the number of records left after cleaning\n",
    "df.shape"
   ]
  },
  {
   "cell_type": "code",
   "execution_count": 28,
   "id": "f53dc6f5-1693-457d-8ec7-6892a5a754f8",
   "metadata": {
    "scrolled": true
   },
   "outputs": [
    {
     "data": {
      "text/html": [
       "<div>\n",
       "<style scoped>\n",
       "    .dataframe tbody tr th:only-of-type {\n",
       "        vertical-align: middle;\n",
       "    }\n",
       "\n",
       "    .dataframe tbody tr th {\n",
       "        vertical-align: top;\n",
       "    }\n",
       "\n",
       "    .dataframe thead th {\n",
       "        text-align: right;\n",
       "    }\n",
       "</style>\n",
       "<table border=\"1\" class=\"dataframe\">\n",
       "  <thead>\n",
       "    <tr style=\"text-align: right;\">\n",
       "      <th></th>\n",
       "      <th>Pregnancies</th>\n",
       "      <th>Glucose</th>\n",
       "      <th>BloodPressure</th>\n",
       "      <th>SkinThickness</th>\n",
       "      <th>Insulin</th>\n",
       "      <th>BMI</th>\n",
       "      <th>DiabetesPedigreeFunction</th>\n",
       "      <th>Age</th>\n",
       "      <th>Outcome</th>\n",
       "    </tr>\n",
       "  </thead>\n",
       "  <tbody>\n",
       "    <tr>\n",
       "      <th>Pregnancies</th>\n",
       "      <td>1.000000</td>\n",
       "      <td>0.130155</td>\n",
       "      <td>0.209155</td>\n",
       "      <td>0.044593</td>\n",
       "      <td>-0.062114</td>\n",
       "      <td>0.023887</td>\n",
       "      <td>-0.033523</td>\n",
       "      <td>0.544341</td>\n",
       "      <td>0.221898</td>\n",
       "    </tr>\n",
       "    <tr>\n",
       "      <th>Glucose</th>\n",
       "      <td>0.130155</td>\n",
       "      <td>1.000000</td>\n",
       "      <td>0.224684</td>\n",
       "      <td>0.215366</td>\n",
       "      <td>0.242102</td>\n",
       "      <td>0.236225</td>\n",
       "      <td>0.138353</td>\n",
       "      <td>0.268910</td>\n",
       "      <td>0.495990</td>\n",
       "    </tr>\n",
       "    <tr>\n",
       "      <th>BloodPressure</th>\n",
       "      <td>0.209155</td>\n",
       "      <td>0.224684</td>\n",
       "      <td>1.000000</td>\n",
       "      <td>0.159653</td>\n",
       "      <td>-0.023694</td>\n",
       "      <td>0.285945</td>\n",
       "      <td>-0.001336</td>\n",
       "      <td>0.325306</td>\n",
       "      <td>0.173316</td>\n",
       "    </tr>\n",
       "    <tr>\n",
       "      <th>SkinThickness</th>\n",
       "      <td>0.044593</td>\n",
       "      <td>0.215366</td>\n",
       "      <td>0.159653</td>\n",
       "      <td>1.000000</td>\n",
       "      <td>0.145005</td>\n",
       "      <td>0.573227</td>\n",
       "      <td>0.144541</td>\n",
       "      <td>0.063847</td>\n",
       "      <td>0.282844</td>\n",
       "    </tr>\n",
       "    <tr>\n",
       "      <th>Insulin</th>\n",
       "      <td>-0.062114</td>\n",
       "      <td>0.242102</td>\n",
       "      <td>-0.023694</td>\n",
       "      <td>0.145005</td>\n",
       "      <td>1.000000</td>\n",
       "      <td>0.156156</td>\n",
       "      <td>0.160773</td>\n",
       "      <td>-0.074775</td>\n",
       "      <td>0.015423</td>\n",
       "    </tr>\n",
       "    <tr>\n",
       "      <th>BMI</th>\n",
       "      <td>0.023887</td>\n",
       "      <td>0.236225</td>\n",
       "      <td>0.285945</td>\n",
       "      <td>0.573227</td>\n",
       "      <td>0.156156</td>\n",
       "      <td>1.000000</td>\n",
       "      <td>0.152779</td>\n",
       "      <td>0.027873</td>\n",
       "      <td>0.315606</td>\n",
       "    </tr>\n",
       "    <tr>\n",
       "      <th>DiabetesPedigreeFunction</th>\n",
       "      <td>-0.033523</td>\n",
       "      <td>0.138353</td>\n",
       "      <td>-0.001336</td>\n",
       "      <td>0.144541</td>\n",
       "      <td>0.160773</td>\n",
       "      <td>0.152779</td>\n",
       "      <td>1.000000</td>\n",
       "      <td>0.033561</td>\n",
       "      <td>0.173844</td>\n",
       "    </tr>\n",
       "    <tr>\n",
       "      <th>Age</th>\n",
       "      <td>0.544341</td>\n",
       "      <td>0.268910</td>\n",
       "      <td>0.325306</td>\n",
       "      <td>0.063847</td>\n",
       "      <td>-0.074775</td>\n",
       "      <td>0.027873</td>\n",
       "      <td>0.033561</td>\n",
       "      <td>1.000000</td>\n",
       "      <td>0.238356</td>\n",
       "    </tr>\n",
       "    <tr>\n",
       "      <th>Outcome</th>\n",
       "      <td>0.221898</td>\n",
       "      <td>0.495990</td>\n",
       "      <td>0.173316</td>\n",
       "      <td>0.282844</td>\n",
       "      <td>0.015423</td>\n",
       "      <td>0.315606</td>\n",
       "      <td>0.173844</td>\n",
       "      <td>0.238356</td>\n",
       "      <td>1.000000</td>\n",
       "    </tr>\n",
       "  </tbody>\n",
       "</table>\n",
       "</div>"
      ],
      "text/plain": [
       "                          Pregnancies   Glucose  BloodPressure  SkinThickness  \\\n",
       "Pregnancies                  1.000000  0.130155       0.209155       0.044593   \n",
       "Glucose                      0.130155  1.000000       0.224684       0.215366   \n",
       "BloodPressure                0.209155  0.224684       1.000000       0.159653   \n",
       "SkinThickness                0.044593  0.215366       0.159653       1.000000   \n",
       "Insulin                     -0.062114  0.242102      -0.023694       0.145005   \n",
       "BMI                          0.023887  0.236225       0.285945       0.573227   \n",
       "DiabetesPedigreeFunction    -0.033523  0.138353      -0.001336       0.144541   \n",
       "Age                          0.544341  0.268910       0.325306       0.063847   \n",
       "Outcome                      0.221898  0.495990       0.173316       0.282844   \n",
       "\n",
       "                           Insulin       BMI  DiabetesPedigreeFunction  \\\n",
       "Pregnancies              -0.062114  0.023887                 -0.033523   \n",
       "Glucose                   0.242102  0.236225                  0.138353   \n",
       "BloodPressure            -0.023694  0.285945                 -0.001336   \n",
       "SkinThickness             0.145005  0.573227                  0.144541   \n",
       "Insulin                   1.000000  0.156156                  0.160773   \n",
       "BMI                       0.156156  1.000000                  0.152779   \n",
       "DiabetesPedigreeFunction  0.160773  0.152779                  1.000000   \n",
       "Age                      -0.074775  0.027873                  0.033561   \n",
       "Outcome                   0.015423  0.315606                  0.173844   \n",
       "\n",
       "                               Age   Outcome  \n",
       "Pregnancies               0.544341  0.221898  \n",
       "Glucose                   0.268910  0.495990  \n",
       "BloodPressure             0.325306  0.173316  \n",
       "SkinThickness             0.063847  0.282844  \n",
       "Insulin                  -0.074775  0.015423  \n",
       "BMI                       0.027873  0.315606  \n",
       "DiabetesPedigreeFunction  0.033561  0.173844  \n",
       "Age                       1.000000  0.238356  \n",
       "Outcome                   0.238356  1.000000  "
      ]
     },
     "execution_count": 28,
     "metadata": {},
     "output_type": "execute_result"
    }
   ],
   "source": [
    "# Create a correlation matrix\n",
    "\n",
    "corr_matrix = df.corr()\n",
    "\n",
    "corr_matrix"
   ]
  },
  {
   "cell_type": "code",
   "execution_count": 29,
   "id": "7e2f0be2-490e-48b3-a350-07d211cd4aad",
   "metadata": {},
   "outputs": [
    {
     "data": {
      "image/png": "[encoded data removed]",
      "text/plain": [
       "<Figure size 1000x1000 with 2 Axes>"
      ]
     },
     "metadata": {},
     "output_type": "display_data"
    }
   ],
   "source": [
    "# Plot the correlation matrix\n",
    "sns.set_context('talk')\n",
    "\n",
    "plt.figure(figsize = (10, 10))\n",
    "\n",
    "_ = sns.heatmap(corr_matrix, annot = True, fmt = \".3f\", linewidths = .5)\n",
    "\n",
    "plt.show()\n",
    "\n",
    "fig = _.get_figure()\n",
    "\n",
    "fig.savefig('img/corr_mat_diabetes.png')"
   ]
  },
  {
   "cell_type": "code",
   "execution_count": 30,
   "id": "02a758e5-1381-419d-814f-b246508b8d34",
   "metadata": {
    "scrolled": true
   },
   "outputs": [
    {
     "data": {
      "image/png": "[encoded data removed]",
      "text/plain": [
       "<Figure size 1000x900 with 9 Axes>"
      ]
     },
     "metadata": {},
     "output_type": "display_data"
    }
   ],
   "source": [
    "## Export the histograms to an image file\n",
    "# Determine the number of rows and columns for subplots\n",
    "num_cols = 3\n",
    "num_rows = -(-len(df.columns) // num_cols)  # Ceiling division to ensure enough rows\n",
    "\n",
    "# Create a figure and axes\n",
    "fig, axes = plt.subplots(nrows=num_rows, ncols=num_cols, figsize=(10, 3*num_rows))\n",
    "\n",
    "# Flatten the axes array for easy iteration\n",
    "axes = axes.flatten()\n",
    "\n",
    "# Plot histogram for each column\n",
    "for i, (col, ax) in enumerate(zip(df.columns, axes)):\n",
    "    df[col].plot(kind='hist', bins=30, ax=ax, color='orange')\n",
    "    ax.set_title(col)\n",
    "\n",
    "# Remove any extra empty subplots\n",
    "for j in range(i + 1, len(axes)):\n",
    "    fig.delaxes(axes[j])\n",
    "\n",
    "# Adjust layout\n",
    "plt.tight_layout()\n",
    "\n",
    "# Save the figure\n",
    "plt.savefig('img/histograms_diabetes.png')\n",
    "\n",
    "# Show the plot\n",
    "plt.show()"
   ]
  },
  {
   "cell_type": "markdown",
   "id": "9ae4a277-47a1-40be-9068-1273d25034ac",
   "metadata": {},
   "source": [
    "# Split the data into training and test sets"
   ]
  },
  {
   "cell_type": "code",
   "execution_count": 31,
   "id": "686bc552-34e8-4ead-9381-8d367f7f8e43",
   "metadata": {},
   "outputs": [
    {
     "name": "stdout",
     "output_type": "stream",
     "text": [
      "(768, 8)\n",
      "(768,)\n"
     ]
    }
   ],
   "source": [
    "# split the dataframe into target and features\n",
    "\n",
    "y = df[\"Outcome\"] # target\n",
    "X = df.drop(columns = [\"Outcome\"]) # features\n",
    "\n",
    "# Verify that the split was performed correctly\n",
    "print(X.shape)\n",
    "print(y.shape)"
   ]
  },
  {
   "cell_type": "code",
   "execution_count": 32,
   "id": "7b107738-ef6f-460f-b3da-22e4e6679eb4",
   "metadata": {},
   "outputs": [
    {
     "name": "stdout",
     "output_type": "stream",
     "text": [
      "Counter({0: 500, 1: 268})\n"
     ]
    }
   ],
   "source": [
    "from collections import Counter\n",
    "\n",
    "counter = Counter(y)\n",
    "print(counter)"
   ]
  },
  {
   "cell_type": "code",
   "execution_count": 33,
   "id": "f15712ba-38fb-4af0-86ca-56b04ff4ef6c",
   "metadata": {},
   "outputs": [
    {
     "name": "stdout",
     "output_type": "stream",
     "text": [
      "Estimate: 1.866\n"
     ]
    }
   ],
   "source": [
    "# estimate scale_pos_weight value\n",
    "estimate = counter[0] / counter[1]\n",
    "print('Estimate: %.3f' % estimate)"
   ]
  },
  {
   "cell_type": "code",
   "execution_count": 34,
   "id": "63c51e31-53c9-4192-9e0c-6c520c54b2b9",
   "metadata": {},
   "outputs": [
    {
     "name": "stdout",
     "output_type": "stream",
     "text": [
      "Training set\n",
      "(537, 8)\n",
      "(537,)\n",
      "\n",
      "Testing set\n",
      "(231, 8)\n",
      "(231,)\n",
      "\n"
     ]
    }
   ],
   "source": [
    "# split the labels and features into training and testing sets\n",
    "\n",
    "from sklearn.model_selection import train_test_split\n",
    "\n",
    "X_train, X_test, y_train, y_test = train_test_split(X, y, test_size = 0.3, random_state = 21, stratify = y)\n",
    "\n",
    "# Verify that the split was performed correctly\n",
    "print('Training set')\n",
    "print(X_train.shape)\n",
    "print(y_train.shape)\n",
    "print()\n",
    "print('Testing set')\n",
    "print(X_test.shape)\n",
    "print(y_test.shape)\n",
    "print()"
   ]
  },
  {
   "cell_type": "code",
   "execution_count": 35,
   "id": "f31691ea-b47c-446a-9cc0-f22b0ccb5bda",
   "metadata": {},
   "outputs": [
    {
     "name": "stdout",
     "output_type": "stream",
     "text": [
      "RangeIndex(start=0, stop=768, step=1)\n",
      "\n",
      "Index([452, 338, 294, 376, 702, 250, 329, 528, 309, 744,\n",
      "       ...\n",
      "       399, 758, 570, 761, 739, 319, 443, 508, 470, 727],\n",
      "      dtype='int64', length=537)\n"
     ]
    }
   ],
   "source": [
    "# Verify that the index has been shuffled\n",
    "print(X.index)\n",
    "print()\n",
    "print(X_train.index)"
   ]
  },
  {
   "cell_type": "code",
   "execution_count": 36,
   "id": "fbff6e84-e86a-40d7-a3e8-825f9e1a76c9",
   "metadata": {},
   "outputs": [
    {
     "data": {
      "text/html": [
       "<div>\n",
       "<style scoped>\n",
       "    .dataframe tbody tr th:only-of-type {\n",
       "        vertical-align: middle;\n",
       "    }\n",
       "\n",
       "    .dataframe tbody tr th {\n",
       "        vertical-align: top;\n",
       "    }\n",
       "\n",
       "    .dataframe thead th {\n",
       "        text-align: right;\n",
       "    }\n",
       "</style>\n",
       "<table border=\"1\" class=\"dataframe\">\n",
       "  <thead>\n",
       "    <tr style=\"text-align: right;\">\n",
       "      <th></th>\n",
       "      <th>0</th>\n",
       "      <th>1</th>\n",
       "      <th>2</th>\n",
       "      <th>3</th>\n",
       "      <th>4</th>\n",
       "      <th>5</th>\n",
       "      <th>6</th>\n",
       "      <th>7</th>\n",
       "    </tr>\n",
       "  </thead>\n",
       "  <tbody>\n",
       "    <tr>\n",
       "      <th>0</th>\n",
       "      <td>-0.6</td>\n",
       "      <td>-0.595238</td>\n",
       "      <td>-0.400000</td>\n",
       "      <td>0.454545</td>\n",
       "      <td>2.673469</td>\n",
       "      <td>0.836957</td>\n",
       "      <td>0.035135</td>\n",
       "      <td>-0.294118</td>\n",
       "    </tr>\n",
       "    <tr>\n",
       "      <th>1</th>\n",
       "      <td>1.2</td>\n",
       "      <td>0.857143</td>\n",
       "      <td>0.266667</td>\n",
       "      <td>0.636364</td>\n",
       "      <td>0.000000</td>\n",
       "      <td>0.217391</td>\n",
       "      <td>1.418919</td>\n",
       "      <td>0.176471</td>\n",
       "    </tr>\n",
       "    <tr>\n",
       "      <th>2</th>\n",
       "      <td>-0.6</td>\n",
       "      <td>1.071429</td>\n",
       "      <td>-1.600000</td>\n",
       "      <td>-0.545455</td>\n",
       "      <td>-1.000000</td>\n",
       "      <td>-1.119565</td>\n",
       "      <td>-0.308108</td>\n",
       "      <td>2.058824</td>\n",
       "    </tr>\n",
       "    <tr>\n",
       "      <th>3</th>\n",
       "      <td>-0.6</td>\n",
       "      <td>-0.428571</td>\n",
       "      <td>0.533333</td>\n",
       "      <td>-1.090909</td>\n",
       "      <td>0.102041</td>\n",
       "      <td>-0.760870</td>\n",
       "      <td>-0.186486</td>\n",
       "      <td>-0.470588</td>\n",
       "    </tr>\n",
       "    <tr>\n",
       "      <th>4</th>\n",
       "      <td>-0.4</td>\n",
       "      <td>1.238095</td>\n",
       "      <td>0.933333</td>\n",
       "      <td>0.181818</td>\n",
       "      <td>0.000000</td>\n",
       "      <td>0.304348</td>\n",
       "      <td>1.451351</td>\n",
       "      <td>1.294118</td>\n",
       "    </tr>\n",
       "  </tbody>\n",
       "</table>\n",
       "</div>"
      ],
      "text/plain": [
       "     0         1         2         3         4         5         6         7\n",
       "0 -0.6 -0.595238 -0.400000  0.454545  2.673469  0.836957  0.035135 -0.294118\n",
       "1  1.2  0.857143  0.266667  0.636364  0.000000  0.217391  1.418919  0.176471\n",
       "2 -0.6  1.071429 -1.600000 -0.545455 -1.000000 -1.119565 -0.308108  2.058824\n",
       "3 -0.6 -0.428571  0.533333 -1.090909  0.102041 -0.760870 -0.186486 -0.470588\n",
       "4 -0.4  1.238095  0.933333  0.181818  0.000000  0.304348  1.451351  1.294118"
      ]
     },
     "metadata": {},
     "output_type": "display_data"
    },
    {
     "name": "stdout",
     "output_type": "stream",
     "text": [
      "\n"
     ]
    },
    {
     "data": {
      "text/html": [
       "<div>\n",
       "<style scoped>\n",
       "    .dataframe tbody tr th:only-of-type {\n",
       "        vertical-align: middle;\n",
       "    }\n",
       "\n",
       "    .dataframe tbody tr th {\n",
       "        vertical-align: top;\n",
       "    }\n",
       "\n",
       "    .dataframe thead th {\n",
       "        text-align: right;\n",
       "    }\n",
       "</style>\n",
       "<table border=\"1\" class=\"dataframe\">\n",
       "  <thead>\n",
       "    <tr style=\"text-align: right;\">\n",
       "      <th></th>\n",
       "      <th>Pregnancies</th>\n",
       "      <th>Glucose</th>\n",
       "      <th>BloodPressure</th>\n",
       "      <th>SkinThickness</th>\n",
       "      <th>Insulin</th>\n",
       "      <th>BMI</th>\n",
       "      <th>DiabetesPedigreeFunction</th>\n",
       "      <th>Age</th>\n",
       "    </tr>\n",
       "  </thead>\n",
       "  <tbody>\n",
       "    <tr>\n",
       "      <th>452</th>\n",
       "      <td>0</td>\n",
       "      <td>91</td>\n",
       "      <td>68</td>\n",
       "      <td>32</td>\n",
       "      <td>210</td>\n",
       "      <td>39.9</td>\n",
       "      <td>0.381</td>\n",
       "      <td>25</td>\n",
       "    </tr>\n",
       "    <tr>\n",
       "      <th>338</th>\n",
       "      <td>9</td>\n",
       "      <td>152</td>\n",
       "      <td>78</td>\n",
       "      <td>34</td>\n",
       "      <td>79</td>\n",
       "      <td>34.2</td>\n",
       "      <td>0.893</td>\n",
       "      <td>33</td>\n",
       "    </tr>\n",
       "    <tr>\n",
       "      <th>294</th>\n",
       "      <td>0</td>\n",
       "      <td>161</td>\n",
       "      <td>50</td>\n",
       "      <td>21</td>\n",
       "      <td>30</td>\n",
       "      <td>21.9</td>\n",
       "      <td>0.254</td>\n",
       "      <td>65</td>\n",
       "    </tr>\n",
       "    <tr>\n",
       "      <th>376</th>\n",
       "      <td>0</td>\n",
       "      <td>98</td>\n",
       "      <td>82</td>\n",
       "      <td>15</td>\n",
       "      <td>84</td>\n",
       "      <td>25.2</td>\n",
       "      <td>0.299</td>\n",
       "      <td>22</td>\n",
       "    </tr>\n",
       "    <tr>\n",
       "      <th>702</th>\n",
       "      <td>1</td>\n",
       "      <td>168</td>\n",
       "      <td>88</td>\n",
       "      <td>29</td>\n",
       "      <td>79</td>\n",
       "      <td>35.0</td>\n",
       "      <td>0.905</td>\n",
       "      <td>52</td>\n",
       "    </tr>\n",
       "  </tbody>\n",
       "</table>\n",
       "</div>"
      ],
      "text/plain": [
       "     Pregnancies  Glucose  BloodPressure  SkinThickness  Insulin   BMI  \\\n",
       "452            0       91             68             32      210  39.9   \n",
       "338            9      152             78             34       79  34.2   \n",
       "294            0      161             50             21       30  21.9   \n",
       "376            0       98             82             15       84  25.2   \n",
       "702            1      168             88             29       79  35.0   \n",
       "\n",
       "     DiabetesPedigreeFunction  Age  \n",
       "452                     0.381   25  \n",
       "338                     0.893   33  \n",
       "294                     0.254   65  \n",
       "376                     0.299   22  \n",
       "702                     0.905   52  "
      ]
     },
     "metadata": {},
     "output_type": "display_data"
    }
   ],
   "source": [
    "from sklearn.preprocessing import RobustScaler\n",
    "\n",
    "# Create a StandardScaler object\n",
    "scaler = RobustScaler()\n",
    "\n",
    "# Fit and transform the training data\n",
    "X_train_scaled = scaler.fit_transform(X_train)\n",
    "\n",
    "# Transform the test data (using the same scaling parameters as the training data)\n",
    "X_test_scaled = scaler.transform(X_test)\n",
    "\n",
    "display(pd.DataFrame(X_train_scaled).head())\n",
    "\n",
    "print()\n",
    "\n",
    "display(X_train.head())"
   ]
  },
  {
   "cell_type": "markdown",
   "id": "be9921ab-8fd3-419f-8352-6ae5d94c9578",
   "metadata": {},
   "source": [
    "# Train an XGBoost Classifier in scikit-learn"
   ]
  },
  {
   "cell_type": "code",
   "execution_count": 37,
   "id": "cd2028b6-64ff-4bdc-92ed-21162e49029b",
   "metadata": {},
   "outputs": [],
   "source": [
    "# import the classifier\n",
    "\n",
    "from xgboost import XGBClassifier"
   ]
  },
  {
   "cell_type": "code",
   "execution_count": 38,
   "id": "0fd1328c-a4a4-4cbf-8401-cd7560b53544",
   "metadata": {},
   "outputs": [
    {
     "data": {
      "text/html": [
       "<style>#sk-container-id-1 {color: black;background-color: white;}#sk-container-id-1 pre{padding: 0;}#sk-container-id-1 div.sk-toggleable {background-color: white;}#sk-container-id-1 label.sk-toggleable__label {cursor: pointer;display: block;width: 100%;margin-bottom: 0;padding: 0.3em;box-sizing: border-box;text-align: center;}#sk-container-id-1 label.sk-toggleable__label-arrow:before {content: \"▸\";float: left;margin-right: 0.25em;color: #696969;}#sk-container-id-1 label.sk-toggleable__label-arrow:hover:before {color: black;}#sk-container-id-1 div.sk-estimator:hover label.sk-toggleable__label-arrow:before {color: black;}#sk-container-id-1 div.sk-toggleable__content {max-height: 0;max-width: 0;overflow: hidden;text-align: left;background-color: #f0f8ff;}#sk-container-id-1 div.sk-toggleable__content pre {margin: 0.2em;color: black;border-radius: 0.25em;background-color: #f0f8ff;}#sk-container-id-1 input.sk-toggleable__control:checked~div.sk-toggleable__content {max-height: 200px;max-width: 100%;overflow: auto;}#sk-container-id-1 input.sk-toggleable__control:checked~label.sk-toggleable__label-arrow:before {content: \"▾\";}#sk-container-id-1 div.sk-estimator input.sk-toggleable__control:checked~label.sk-toggleable__label {background-color: #d4ebff;}#sk-container-id-1 div.sk-label input.sk-toggleable__control:checked~label.sk-toggleable__label {background-color: #d4ebff;}#sk-container-id-1 input.sk-hidden--visually {border: 0;clip: rect(1px 1px 1px 1px);clip: rect(1px, 1px, 1px, 1px);height: 1px;margin: -1px;overflow: hidden;padding: 0;position: absolute;width: 1px;}#sk-container-id-1 div.sk-estimator {font-family: monospace;background-color: #f0f8ff;border: 1px dotted black;border-radius: 0.25em;box-sizing: border-box;margin-bottom: 0.5em;}#sk-container-id-1 div.sk-estimator:hover {background-color: #d4ebff;}#sk-container-id-1 div.sk-parallel-item::after {content: \"\";width: 100%;border-bottom: 1px solid gray;flex-grow: 1;}#sk-container-id-1 div.sk-label:hover label.sk-toggleable__label {background-color: #d4ebff;}#sk-container-id-1 div.sk-serial::before {content: \"\";position: absolute;border-left: 1px solid gray;box-sizing: border-box;top: 0;bottom: 0;left: 50%;z-index: 0;}#sk-container-id-1 div.sk-serial {display: flex;flex-direction: column;align-items: center;background-color: white;padding-right: 0.2em;padding-left: 0.2em;position: relative;}#sk-container-id-1 div.sk-item {position: relative;z-index: 1;}#sk-container-id-1 div.sk-parallel {display: flex;align-items: stretch;justify-content: center;background-color: white;position: relative;}#sk-container-id-1 div.sk-item::before, #sk-container-id-1 div.sk-parallel-item::before {content: \"\";position: absolute;border-left: 1px solid gray;box-sizing: border-box;top: 0;bottom: 0;left: 50%;z-index: -1;}#sk-container-id-1 div.sk-parallel-item {display: flex;flex-direction: column;z-index: 1;position: relative;background-color: white;}#sk-container-id-1 div.sk-parallel-item:first-child::after {align-self: flex-end;width: 50%;}#sk-container-id-1 div.sk-parallel-item:last-child::after {align-self: flex-start;width: 50%;}#sk-container-id-1 div.sk-parallel-item:only-child::after {width: 0;}#sk-container-id-1 div.sk-dashed-wrapped {border: 1px dashed gray;margin: 0 0.4em 0.5em 0.4em;box-sizing: border-box;padding-bottom: 0.4em;background-color: white;}#sk-container-id-1 div.sk-label label {font-family: monospace;font-weight: bold;display: inline-block;line-height: 1.2em;}#sk-container-id-1 div.sk-label-container {text-align: center;}#sk-container-id-1 div.sk-container {/* jupyter's `normalize.less` sets `[hidden] { display: none; }` but bootstrap.min.css set `[hidden] { display: none !important; }` so we also need the `!important` here to be able to override the default hidden behavior on the sphinx rendered scikit-learn.org. See: https://github.com/scikit-learn/scikit-learn/issues/21755 */display: inline-block !important;position: relative;}#sk-container-id-1 div.sk-text-repr-fallback {display: none;}</style><div id=\"sk-container-id-1\" class=\"sk-top-container\"><div class=\"sk-text-repr-fallback\"><pre>XGBClassifier(base_score=None, booster=None, callbacks=None,\n",
       "              colsample_bylevel=None, colsample_bynode=None,\n",
       "              colsample_bytree=None, device=None, early_stopping_rounds=None,\n",
       "              enable_categorical=False, eval_metric=&#x27;logloss&#x27;,\n",
       "              feature_types=None, gamma=None, grow_policy=None,\n",
       "              importance_type=None, interaction_constraints=None,\n",
       "              learning_rate=0.1, max_bin=None, max_cat_threshold=None,\n",
       "              max_cat_to_onehot=None, max_delta_step=None, max_depth=8,\n",
       "              max_leaves=None, min_child_weight=None, missing=nan,\n",
       "              monotone_constraints=None, multi_strategy=None, n_estimators=100,\n",
       "              n_jobs=None, num_parallel_tree=None, random_state=None, ...)</pre><b>In a Jupyter environment, please rerun this cell to show the HTML representation or trust the notebook. <br />On GitHub, the HTML representation is unable to render, please try loading this page with nbviewer.org.</b></div><div class=\"sk-container\" hidden><div class=\"sk-item\"><div class=\"sk-estimator sk-toggleable\"><input class=\"sk-toggleable__control sk-hidden--visually\" id=\"sk-estimator-id-1\" type=\"checkbox\" checked><label for=\"sk-estimator-id-1\" class=\"sk-toggleable__label sk-toggleable__label-arrow\">XGBClassifier</label><div class=\"sk-toggleable__content\"><pre>XGBClassifier(base_score=None, booster=None, callbacks=None,\n",
       "              colsample_bylevel=None, colsample_bynode=None,\n",
       "              colsample_bytree=None, device=None, early_stopping_rounds=None,\n",
       "              enable_categorical=False, eval_metric=&#x27;logloss&#x27;,\n",
       "              feature_types=None, gamma=None, grow_policy=None,\n",
       "              importance_type=None, interaction_constraints=None,\n",
       "              learning_rate=0.1, max_bin=None, max_cat_threshold=None,\n",
       "              max_cat_to_onehot=None, max_delta_step=None, max_depth=8,\n",
       "              max_leaves=None, min_child_weight=None, missing=nan,\n",
       "              monotone_constraints=None, multi_strategy=None, n_estimators=100,\n",
       "              n_jobs=None, num_parallel_tree=None, random_state=None, ...)</pre></div></div></div></div></div>"
      ],
      "text/plain": [
       "XGBClassifier(base_score=None, booster=None, callbacks=None,\n",
       "              colsample_bylevel=None, colsample_bynode=None,\n",
       "              colsample_bytree=None, device=None, early_stopping_rounds=None,\n",
       "              enable_categorical=False, eval_metric='logloss',\n",
       "              feature_types=None, gamma=None, grow_policy=None,\n",
       "              importance_type=None, interaction_constraints=None,\n",
       "              learning_rate=0.1, max_bin=None, max_cat_threshold=None,\n",
       "              max_cat_to_onehot=None, max_delta_step=None, max_depth=8,\n",
       "              max_leaves=None, min_child_weight=None, missing=nan,\n",
       "              monotone_constraints=None, multi_strategy=None, n_estimators=100,\n",
       "              n_jobs=None, num_parallel_tree=None, random_state=None, ...)"
      ]
     },
     "execution_count": 38,
     "metadata": {},
     "output_type": "execute_result"
    }
   ],
   "source": [
    "xgb_classifier = XGBClassifier(objective = 'binary:logistic', \n",
    "                               eval_metric = 'logloss', \n",
    "                               learning_rate = 0.1,\n",
    "                               max_depth = 8,\n",
    "                               #alpha = 25,\n",
    "                               n_estimators = 100,\n",
    "                               scale_pos_weight=1.908\n",
    "                               )\n",
    "\n",
    "xgb_classifier.fit(X_train, y_train)"
   ]
  },
  {
   "cell_type": "markdown",
   "id": "f4b1795b-c381-4d3c-b8d4-63f91afd62e6",
   "metadata": {},
   "source": [
    "# Test the model"
   ]
  },
  {
   "cell_type": "code",
   "execution_count": 39,
   "id": "8c75b7e5-e921-4cb8-b056-d31c9b2bddf1",
   "metadata": {},
   "outputs": [
    {
     "name": "stdout",
     "output_type": "stream",
     "text": [
      "\n"
     ]
    },
    {
     "data": {
      "application/vnd.jupyter.widget-view+json": {
       "model_id": "088f87550b9a4781aab3c69ff24098dd",
       "version_major": 2,
       "version_minor": 0
      },
      "text/plain": [
       "HBox(children=(Output(), Output()), layout=Layout(display='flex', flex_flow='row', justify_content='flex-start…"
      ]
     },
     "metadata": {},
     "output_type": "display_data"
    },
    {
     "data": {
      "application/vnd.jupyter.widget-view+json": {
       "model_id": "40054fc903dd4372bbfa388e18201e3b",
       "version_major": 2,
       "version_minor": 0
      },
      "text/plain": [
       "HBox(children=(Output(), Output()), layout=Layout(display='flex', flex_flow='row', justify_content='flex-start…"
      ]
     },
     "metadata": {},
     "output_type": "display_data"
    }
   ],
   "source": [
    "print_classification_metrics(xgb_classifier, X_train, y_train, X_test, y_test)"
   ]
  },
  {
   "cell_type": "code",
   "execution_count": 40,
   "id": "b12b72d5-5e1f-4664-8ea3-b627ce5e8419",
   "metadata": {},
   "outputs": [
    {
     "data": {
      "image/png": "[encoded data removed]",
      "text/plain": [
       "<Figure size 640x480 with 2 Axes>"
      ]
     },
     "metadata": {},
     "output_type": "display_data"
    }
   ],
   "source": [
    "# print the confusion matrix\n",
    "cm = confusion_matrix(y_test, xgb_classifier.predict(X_test))\n",
    "\n",
    "sns.set_context('talk')\n",
    "\n",
    "sns.heatmap(cm, fmt = 'd', annot = True, cmap = 'RdGy')\n",
    "\n",
    "plt.savefig('img/conf_mat_diabetes.png')\n"
   ]
  },
  {
   "cell_type": "markdown",
   "id": "26ba547b-dd57-4836-8265-8b4ee322f8a5",
   "metadata": {},
   "source": [
    "## Re-train the model on the scaled set"
   ]
  },
  {
   "cell_type": "code",
   "execution_count": 40,
   "id": "6da5505c-bc34-4f57-b6de-d47c3839315f",
   "metadata": {},
   "outputs": [
    {
     "name": "stdout",
     "output_type": "stream",
     "text": [
      "\n"
     ]
    },
    {
     "data": {
      "application/vnd.jupyter.widget-view+json": {
       "model_id": "49d805ae1afe44548e5307989905924c",
       "version_major": 2,
       "version_minor": 0
      },
      "text/plain": [
       "HBox(children=(Output(), Output()), layout=Layout(display='flex', flex_flow='row', justify_content='flex-start…"
      ]
     },
     "metadata": {},
     "output_type": "display_data"
    },
    {
     "data": {
      "application/vnd.jupyter.widget-view+json": {
       "model_id": "2a010966af9e4f6e83f45f445541f5ef",
       "version_major": 2,
       "version_minor": 0
      },
      "text/plain": [
       "HBox(children=(Output(), Output()), layout=Layout(display='flex', flex_flow='row', justify_content='flex-start…"
      ]
     },
     "metadata": {},
     "output_type": "display_data"
    },
    {
     "data": {
      "image/png": "[encoded data removed]",
      "text/plain": [
       "<Figure size 640x480 with 2 Axes>"
      ]
     },
     "metadata": {},
     "output_type": "display_data"
    }
   ],
   "source": [
    "xgb_classifier.fit(X_train_scaled, y_train)\n",
    "\n",
    "# predict the performance score of the trained model using the testing dataset\n",
    "\n",
    "print_classification_metrics(xgb_classifier, X_train_scaled, y_train, X_test_scaled, y_test)\n",
    "\n",
    "# Define the confusion matrix\n",
    "cm = confusion_matrix(y_test, xgb_classifier.predict(X_test_scaled))\n",
    "\n",
    "sns.set_context('talk')\n",
    "\n",
    "sns.heatmap(cm, fmt = 'd', annot = True, cmap = 'RdGy')\n",
    "\n",
    "plt.savefig('img/conf_mat_diabetes.png')"
   ]
  },
  {
   "cell_type": "code",
   "execution_count": null,
   "id": "78a4f0ea-c902-4869-869d-e2dec6f20a6e",
   "metadata": {},
   "outputs": [],
   "source": []
  },
  {
   "cell_type": "code",
   "execution_count": 42,
   "id": "0cee8478-c698-48ab-9eb5-e1b485254529",
   "metadata": {},
   "outputs": [],
   "source": [
    "X_train = X_train.drop(columns = \"DiabetesPedigreeFunction\") \n",
    "X_test = X_test.drop(columns = \"DiabetesPedigreeFunction\") "
   ]
  },
  {
   "cell_type": "code",
   "execution_count": 43,
   "id": "3acb539a-2d69-4c9e-b0eb-618fe8b65f15",
   "metadata": {},
   "outputs": [
    {
     "name": "stdout",
     "output_type": "stream",
     "text": [
      "Score List:  [  72.39269054 1056.28510092   36.86501511  146.58377717   14.00526778\n",
      "   87.23393299  122.69623688]\n",
      "\n",
      "Feature list:  Index(['Pregnancies', 'Glucose', 'BloodPressure', 'SkinThickness', 'Insulin',\n",
      "       'BMI', 'Age'],\n",
      "      dtype='object')\n"
     ]
    }
   ],
   "source": [
    "selected_features = SelectKBest(chi2, k = 6).fit(X_train, y_train)\n",
    "\n",
    "print('Score List: ', selected_features.scores_)\n",
    "print()\n",
    "print('Feature list: ', X_train.columns)"
   ]
  },
  {
   "cell_type": "code",
   "execution_count": 46,
   "id": "ec74d1a1-e782-4245-9f9b-75f5f2f802fc",
   "metadata": {},
   "outputs": [],
   "source": [
    "X_train_2 = selected_features.transform(X_train)\n",
    "\n",
    "X_test_2 = selected_features.transform(X_test)\n",
    "\n",
    "xgb_classifier_2 = XGBClassifier(objective = 'binary:logistic', \n",
    "                                 eval_metric = 'logloss', \n",
    "                                 learning_rate = 0.02,\n",
    "                                 max_depth = 8,\n",
    "                                 alpha = 17,\n",
    "                                 n_estimators = 230,                \n",
    "                                 min_child_weight = 1,                                 \n",
    "                                 scale_pos_weight = 1.908,\n",
    "                                 use_label_encoder = False,\n",
    "                                 seed = 21).fit(X_train_2, y_train, verbose = 0)"
   ]
  },
  {
   "cell_type": "code",
   "execution_count": 47,
   "id": "336cda43-1f6a-488d-a589-4a28491df09c",
   "metadata": {},
   "outputs": [
    {
     "name": "stdout",
     "output_type": "stream",
     "text": [
      "\u001b[1mClassification metrics\u001b[0m\n",
      "\n",
      "              precision    recall  f1-score   support\n",
      "\n",
      "           0     0.8707    0.8533    0.8620       150\n",
      "           1     0.7381    0.7654    0.7515        81\n",
      "\n",
      "    accuracy                         0.8225       231\n",
      "   macro avg     0.8044    0.8094    0.8067       231\n",
      "weighted avg     0.8242    0.8225    0.8232       231\n",
      "\n",
      "Accuracy: 0.8225\n",
      "\n",
      "Positive Recall: 0.7654\n",
      "\n",
      "Log Loss: 0.4453\n",
      "\n",
      "ROC AUC: 0.8894\n",
      "\n",
      "AUPRC: 0.7865\n",
      "\n"
     ]
    }
   ],
   "source": [
    "print_classification_metrics(xgb_classifier_2, X_test_2, y_test)"
   ]
  },
  {
   "cell_type": "code",
   "execution_count": 48,
   "id": "344dad46-afef-4576-b978-de020ab82c78",
   "metadata": {},
   "outputs": [
    {
     "data": {
      "text/plain": [
       "<Axes: >"
      ]
     },
     "execution_count": 48,
     "metadata": {},
     "output_type": "execute_result"
    },
    {
     "data": {
      "image/png": "[encoded data removed]",
      "text/plain": [
       "<Figure size 640x480 with 2 Axes>"
      ]
     },
     "metadata": {},
     "output_type": "display_data"
    }
   ],
   "source": [
    "cm_2 = confusion_matrix(y_test, xgb_classifier_2.predict(X_test_2))\n",
    "\n",
    "sns.heatmap(cm_2, annot = True, fmt = 'd')"
   ]
  },
  {
   "cell_type": "code",
   "execution_count": 49,
   "id": "b6200c79-2013-4907-8038-8549f6641f27",
   "metadata": {},
   "outputs": [
    {
     "data": {
      "text/html": [
       "<div>\n",
       "<style scoped>\n",
       "    .dataframe tbody tr th:only-of-type {\n",
       "        vertical-align: middle;\n",
       "    }\n",
       "\n",
       "    .dataframe tbody tr th {\n",
       "        vertical-align: top;\n",
       "    }\n",
       "\n",
       "    .dataframe thead th {\n",
       "        text-align: right;\n",
       "    }\n",
       "</style>\n",
       "<table border=\"1\" class=\"dataframe\">\n",
       "  <thead>\n",
       "    <tr style=\"text-align: right;\">\n",
       "      <th></th>\n",
       "      <th>0</th>\n",
       "      <th>1</th>\n",
       "      <th>2</th>\n",
       "      <th>3</th>\n",
       "      <th>4</th>\n",
       "      <th>5</th>\n",
       "    </tr>\n",
       "  </thead>\n",
       "  <tbody>\n",
       "    <tr>\n",
       "      <th>0</th>\n",
       "      <td>0.0</td>\n",
       "      <td>91.0</td>\n",
       "      <td>68.0</td>\n",
       "      <td>32.0</td>\n",
       "      <td>39.9</td>\n",
       "      <td>25.0</td>\n",
       "    </tr>\n",
       "    <tr>\n",
       "      <th>1</th>\n",
       "      <td>9.0</td>\n",
       "      <td>152.0</td>\n",
       "      <td>78.0</td>\n",
       "      <td>34.0</td>\n",
       "      <td>34.2</td>\n",
       "      <td>33.0</td>\n",
       "    </tr>\n",
       "    <tr>\n",
       "      <th>2</th>\n",
       "      <td>0.0</td>\n",
       "      <td>161.0</td>\n",
       "      <td>50.0</td>\n",
       "      <td>21.0</td>\n",
       "      <td>21.9</td>\n",
       "      <td>65.0</td>\n",
       "    </tr>\n",
       "    <tr>\n",
       "      <th>3</th>\n",
       "      <td>0.0</td>\n",
       "      <td>98.0</td>\n",
       "      <td>82.0</td>\n",
       "      <td>15.0</td>\n",
       "      <td>25.2</td>\n",
       "      <td>22.0</td>\n",
       "    </tr>\n",
       "    <tr>\n",
       "      <th>4</th>\n",
       "      <td>1.0</td>\n",
       "      <td>168.0</td>\n",
       "      <td>88.0</td>\n",
       "      <td>29.0</td>\n",
       "      <td>35.0</td>\n",
       "      <td>52.0</td>\n",
       "    </tr>\n",
       "  </tbody>\n",
       "</table>\n",
       "</div>"
      ],
      "text/plain": [
       "     0      1     2     3     4     5\n",
       "0  0.0   91.0  68.0  32.0  39.9  25.0\n",
       "1  9.0  152.0  78.0  34.0  34.2  33.0\n",
       "2  0.0  161.0  50.0  21.0  21.9  65.0\n",
       "3  0.0   98.0  82.0  15.0  25.2  22.0\n",
       "4  1.0  168.0  88.0  29.0  35.0  52.0"
      ]
     },
     "metadata": {},
     "output_type": "display_data"
    },
    {
     "data": {
      "text/html": [
       "<div>\n",
       "<style scoped>\n",
       "    .dataframe tbody tr th:only-of-type {\n",
       "        vertical-align: middle;\n",
       "    }\n",
       "\n",
       "    .dataframe tbody tr th {\n",
       "        vertical-align: top;\n",
       "    }\n",
       "\n",
       "    .dataframe thead th {\n",
       "        text-align: right;\n",
       "    }\n",
       "</style>\n",
       "<table border=\"1\" class=\"dataframe\">\n",
       "  <thead>\n",
       "    <tr style=\"text-align: right;\">\n",
       "      <th></th>\n",
       "      <th>Pregnancies</th>\n",
       "      <th>Glucose</th>\n",
       "      <th>BloodPressure</th>\n",
       "      <th>SkinThickness</th>\n",
       "      <th>Insulin</th>\n",
       "      <th>BMI</th>\n",
       "      <th>Age</th>\n",
       "    </tr>\n",
       "  </thead>\n",
       "  <tbody>\n",
       "    <tr>\n",
       "      <th>452</th>\n",
       "      <td>0</td>\n",
       "      <td>91</td>\n",
       "      <td>68</td>\n",
       "      <td>32</td>\n",
       "      <td>210</td>\n",
       "      <td>39.9</td>\n",
       "      <td>25</td>\n",
       "    </tr>\n",
       "    <tr>\n",
       "      <th>338</th>\n",
       "      <td>9</td>\n",
       "      <td>152</td>\n",
       "      <td>78</td>\n",
       "      <td>34</td>\n",
       "      <td>79</td>\n",
       "      <td>34.2</td>\n",
       "      <td>33</td>\n",
       "    </tr>\n",
       "    <tr>\n",
       "      <th>294</th>\n",
       "      <td>0</td>\n",
       "      <td>161</td>\n",
       "      <td>50</td>\n",
       "      <td>21</td>\n",
       "      <td>30</td>\n",
       "      <td>21.9</td>\n",
       "      <td>65</td>\n",
       "    </tr>\n",
       "    <tr>\n",
       "      <th>376</th>\n",
       "      <td>0</td>\n",
       "      <td>98</td>\n",
       "      <td>82</td>\n",
       "      <td>15</td>\n",
       "      <td>84</td>\n",
       "      <td>25.2</td>\n",
       "      <td>22</td>\n",
       "    </tr>\n",
       "    <tr>\n",
       "      <th>702</th>\n",
       "      <td>1</td>\n",
       "      <td>168</td>\n",
       "      <td>88</td>\n",
       "      <td>29</td>\n",
       "      <td>79</td>\n",
       "      <td>35.0</td>\n",
       "      <td>52</td>\n",
       "    </tr>\n",
       "  </tbody>\n",
       "</table>\n",
       "</div>"
      ],
      "text/plain": [
       "     Pregnancies  Glucose  BloodPressure  SkinThickness  Insulin   BMI  Age\n",
       "452            0       91             68             32      210  39.9   25\n",
       "338            9      152             78             34       79  34.2   33\n",
       "294            0      161             50             21       30  21.9   65\n",
       "376            0       98             82             15       84  25.2   22\n",
       "702            1      168             88             29       79  35.0   52"
      ]
     },
     "metadata": {},
     "output_type": "display_data"
    }
   ],
   "source": [
    "display(pd.DataFrame(X_train_2).head())\n",
    "display(X_train.head())"
   ]
  },
  {
   "cell_type": "code",
   "execution_count": 47,
   "id": "826ef01a-0b02-49b8-8096-f9d3b998b599",
   "metadata": {},
   "outputs": [
    {
     "name": "stdout",
     "output_type": "stream",
     "text": [
      "Accuracy: 97.76% (2.53%)\n"
     ]
    }
   ],
   "source": [
    "# stratified k-fold cross validation evaluation of xgboost model\n",
    "import xgboost\n",
    "from sklearn.model_selection import StratifiedKFold\n",
    "from sklearn.model_selection import cross_val_score\n",
    "\n",
    "# CV model\n",
    "model = xgboost.XGBClassifier(objective = 'binary:logistic', \n",
    "                                 eval_metric = 'logloss', \n",
    "                                 learning_rate = 0.0045,\n",
    "                                 max_depth = 10,\n",
    "                                 alpha = 17,\n",
    "                                 n_estimators = 200,                \n",
    "                                 min_child_weight = 1,                                 \n",
    "                                 scale_pos_weight = 1.853,\n",
    "                                 use_label_encoder = False,\n",
    "                                 seed = 21)\n",
    "kfold = StratifiedKFold(n_splits=15, shuffle = True, random_state=21)\n",
    "results = cross_val_score(model, X_train, y_train, cv=kfold)\n",
    "print(\"Accuracy: %.2f%% (%.2f%%)\" % (results.mean()*100, results.std()*100))"
   ]
  },
  {
   "cell_type": "code",
   "execution_count": 48,
   "id": "0c42acd3-dbcf-4dbe-95c7-5a0efd68aee7",
   "metadata": {},
   "outputs": [],
   "source": [
    "xgb_classifier_3 = XGBClassifier(objective = 'binary:logistic', \n",
    "                                 eval_metric = 'logloss', \n",
    "                                 learning_rate = 0.0045,\n",
    "                                 max_depth = 10,\n",
    "                                 alpha = 17,\n",
    "                                 n_estimators = 200,                \n",
    "                                 min_child_weight = 1,                                 \n",
    "                                 scale_pos_weight = 1.853,\n",
    "                                 use_label_encoder = False,\n",
    "                                 seed = 21\n",
    "                               )\n",
    "\n",
    "xgb_classifier_3.fit(X_train, y_train)\n",
    "\n",
    "# predict the performance score of the trained model using the testing dataset\n",
    "\n",
    "result3 = xgb_classifier_3.score(X_test, y_test)\n",
    "\n",
    "y_pred_3 = xgb_classifier_3.predict(X_test)"
   ]
  },
  {
   "cell_type": "code",
   "execution_count": 49,
   "id": "80b5741c-1efe-4d6e-aa7a-557a8bebd13e",
   "metadata": {},
   "outputs": [
    {
     "name": "stdout",
     "output_type": "stream",
     "text": [
      "\n",
      "              precision    recall  f1-score   support\n",
      "\n",
      "           0       0.94      0.99      0.97       150\n",
      "           1       0.99      0.89      0.94        81\n",
      "\n",
      "    accuracy                           0.96       231\n",
      "   macro avg       0.96      0.94      0.95       231\n",
      "weighted avg       0.96      0.96      0.96       231\n",
      "\n",
      "\n",
      "Accuracy: 0.9567\n",
      "\n",
      "Log Loss: 0.3504\n",
      "\n",
      "ROC AUC: 0.9798\n",
      "\n"
     ]
    },
    {
     "data": {
      "image/png": "[encoded data removed]",
      "text/plain": [
       "<Figure size 640x480 with 2 Axes>"
      ]
     },
     "metadata": {},
     "output_type": "display_data"
    }
   ],
   "source": [
    "cm_3 = confusion_matrix(y_test, y_pred_3)\n",
    "\n",
    "sns.heatmap(cm_3, annot = True, fmt = 'd')\n",
    "\n",
    "print()\n",
    "print(classification_report(y_test, y_pred_3))\n",
    "\n",
    "print()\n",
    "print(\"Accuracy: {}\".format(round(result3, 4)))\n",
    "\n",
    "print()\n",
    "# Calculate log loss\n",
    "log_loss_3 = log_loss(y_test, xgb_classifier_3.predict_proba(X_test))\n",
    "\n",
    "print(\"Log Loss: {}\".format(round(log_loss_3, 4)))\n",
    "\n",
    "print()\n",
    "\n",
    "# Calculate ROC AUC\n",
    "roc_auc_3 = roc_auc_score(y_test, xgb_classifier_3.predict_proba(X_test)[:, 1])\n",
    "\n",
    "print(\"ROC AUC: {}\".format(round(roc_auc_3, 4)))\n",
    "\n",
    "print()"
   ]
  },
  {
   "cell_type": "code",
   "execution_count": 50,
   "id": "fe5ed79e-022f-4ca3-a4aa-75c5b209f46a",
   "metadata": {
    "editable": true,
    "slideshow": {
     "slide_type": ""
    },
    "tags": []
   },
   "outputs": [
    {
     "name": "stdout",
     "output_type": "stream",
     "text": [
      "\n",
      "Score List:  [  73.26705568 1133.453192     35.58452494  157.98292606   14.51321865\n",
      "   92.68393996  128.83147192]\n",
      "\n",
      "Feature list:  Index(['Pregnancies', 'Glucose', 'BloodPressure', 'SkinThickness', 'Insulin',\n",
      "       'BMI', 'Age'],\n",
      "      dtype='object')\n",
      "\n",
      "Reduced features array\n"
     ]
    },
    {
     "data": {
      "text/html": [
       "<div>\n",
       "<style scoped>\n",
       "    .dataframe tbody tr th:only-of-type {\n",
       "        vertical-align: middle;\n",
       "    }\n",
       "\n",
       "    .dataframe tbody tr th {\n",
       "        vertical-align: top;\n",
       "    }\n",
       "\n",
       "    .dataframe thead th {\n",
       "        text-align: right;\n",
       "    }\n",
       "</style>\n",
       "<table border=\"1\" class=\"dataframe\">\n",
       "  <thead>\n",
       "    <tr style=\"text-align: right;\">\n",
       "      <th></th>\n",
       "      <th>0</th>\n",
       "      <th>1</th>\n",
       "      <th>2</th>\n",
       "      <th>3</th>\n",
       "      <th>4</th>\n",
       "      <th>5</th>\n",
       "    </tr>\n",
       "  </thead>\n",
       "  <tbody>\n",
       "    <tr>\n",
       "      <th>0</th>\n",
       "      <td>14.0</td>\n",
       "      <td>100.0</td>\n",
       "      <td>78.0</td>\n",
       "      <td>25.0</td>\n",
       "      <td>36.6</td>\n",
       "      <td>46.0</td>\n",
       "    </tr>\n",
       "    <tr>\n",
       "      <th>1</th>\n",
       "      <td>12.0</td>\n",
       "      <td>106.0</td>\n",
       "      <td>80.0</td>\n",
       "      <td>21.0</td>\n",
       "      <td>23.6</td>\n",
       "      <td>44.0</td>\n",
       "    </tr>\n",
       "    <tr>\n",
       "      <th>2</th>\n",
       "      <td>2.0</td>\n",
       "      <td>110.0</td>\n",
       "      <td>74.0</td>\n",
       "      <td>29.0</td>\n",
       "      <td>32.4</td>\n",
       "      <td>27.0</td>\n",
       "    </tr>\n",
       "    <tr>\n",
       "      <th>3</th>\n",
       "      <td>10.0</td>\n",
       "      <td>122.0</td>\n",
       "      <td>68.0</td>\n",
       "      <td>21.0</td>\n",
       "      <td>31.2</td>\n",
       "      <td>41.0</td>\n",
       "    </tr>\n",
       "    <tr>\n",
       "      <th>4</th>\n",
       "      <td>1.0</td>\n",
       "      <td>102.0</td>\n",
       "      <td>74.0</td>\n",
       "      <td>27.0</td>\n",
       "      <td>39.5</td>\n",
       "      <td>42.0</td>\n",
       "    </tr>\n",
       "  </tbody>\n",
       "</table>\n",
       "</div>"
      ],
      "text/plain": [
       "      0      1     2     3     4     5\n",
       "0  14.0  100.0  78.0  25.0  36.6  46.0\n",
       "1  12.0  106.0  80.0  21.0  23.6  44.0\n",
       "2   2.0  110.0  74.0  29.0  32.4  27.0\n",
       "3  10.0  122.0  68.0  21.0  31.2  41.0\n",
       "4   1.0  102.0  74.0  27.0  39.5  42.0"
      ]
     },
     "metadata": {},
     "output_type": "display_data"
    },
    {
     "name": "stdout",
     "output_type": "stream",
     "text": [
      "\n",
      "Original training set\n"
     ]
    },
    {
     "data": {
      "text/html": [
       "<div>\n",
       "<style scoped>\n",
       "    .dataframe tbody tr th:only-of-type {\n",
       "        vertical-align: middle;\n",
       "    }\n",
       "\n",
       "    .dataframe tbody tr th {\n",
       "        vertical-align: top;\n",
       "    }\n",
       "\n",
       "    .dataframe thead th {\n",
       "        text-align: right;\n",
       "    }\n",
       "</style>\n",
       "<table border=\"1\" class=\"dataframe\">\n",
       "  <thead>\n",
       "    <tr style=\"text-align: right;\">\n",
       "      <th></th>\n",
       "      <th>Pregnancies</th>\n",
       "      <th>Glucose</th>\n",
       "      <th>BloodPressure</th>\n",
       "      <th>SkinThickness</th>\n",
       "      <th>Insulin</th>\n",
       "      <th>BMI</th>\n",
       "      <th>Age</th>\n",
       "    </tr>\n",
       "  </thead>\n",
       "  <tbody>\n",
       "    <tr>\n",
       "      <th>298</th>\n",
       "      <td>14</td>\n",
       "      <td>100</td>\n",
       "      <td>78</td>\n",
       "      <td>25</td>\n",
       "      <td>79</td>\n",
       "      <td>36.6</td>\n",
       "      <td>46</td>\n",
       "    </tr>\n",
       "    <tr>\n",
       "      <th>333</th>\n",
       "      <td>12</td>\n",
       "      <td>106</td>\n",
       "      <td>80</td>\n",
       "      <td>21</td>\n",
       "      <td>30</td>\n",
       "      <td>23.6</td>\n",
       "      <td>44</td>\n",
       "    </tr>\n",
       "    <tr>\n",
       "      <th>85</th>\n",
       "      <td>2</td>\n",
       "      <td>110</td>\n",
       "      <td>74</td>\n",
       "      <td>29</td>\n",
       "      <td>125</td>\n",
       "      <td>32.4</td>\n",
       "      <td>27</td>\n",
       "    </tr>\n",
       "    <tr>\n",
       "      <th>246</th>\n",
       "      <td>10</td>\n",
       "      <td>122</td>\n",
       "      <td>68</td>\n",
       "      <td>21</td>\n",
       "      <td>30</td>\n",
       "      <td>31.2</td>\n",
       "      <td>41</td>\n",
       "    </tr>\n",
       "    <tr>\n",
       "      <th>739</th>\n",
       "      <td>1</td>\n",
       "      <td>102</td>\n",
       "      <td>74</td>\n",
       "      <td>27</td>\n",
       "      <td>79</td>\n",
       "      <td>39.5</td>\n",
       "      <td>42</td>\n",
       "    </tr>\n",
       "  </tbody>\n",
       "</table>\n",
       "</div>"
      ],
      "text/plain": [
       "     Pregnancies  Glucose  BloodPressure  SkinThickness  Insulin   BMI  Age\n",
       "298           14      100             78             25       79  36.6   46\n",
       "333           12      106             80             21       30  23.6   44\n",
       "85             2      110             74             29      125  32.4   27\n",
       "246           10      122             68             21       30  31.2   41\n",
       "739            1      102             74             27       79  39.5   42"
      ]
     },
     "metadata": {},
     "output_type": "display_data"
    }
   ],
   "source": [
    "df_less_features = df.drop(columns = [\"DiabetesPedigreeFunction\"])\n",
    "\n",
    "# split data into X and y\n",
    "y_less = df_less_features[\"Outcome\"] # target\n",
    "X_less = df_less_features.drop(columns = [\"Outcome\"]) # features\n",
    "\n",
    "X_less_train, X_less_test, y_less_train, y_less_test = train_test_split(X_less, y_less, test_size = 0.23, random_state = 21, stratify = y)\n",
    "\n",
    "selected_features = SelectKBest(chi2, k = 6).fit(X_less_train, y_less_train)\n",
    "\n",
    "print()\n",
    "print('Score List: ', selected_features.scores_)\n",
    "print()\n",
    "print('Feature list: ', X_train.columns)\n",
    "print()\n",
    "X_train_4 = selected_features.transform(X_less_train)\n",
    "\n",
    "X_test_4 = selected_features.transform(X_less_test)\n",
    "\n",
    "#Compare the transformed and original array\n",
    "print(\"Reduced features array\")\n",
    "\n",
    "display(pd.DataFrame(X_train_4).head())\n",
    "\n",
    "print()\n",
    "print(\"Original training set\")\n",
    "\n",
    "display(pd.DataFrame(X_less_train).head())\n"
   ]
  },
  {
   "cell_type": "code",
   "execution_count": 51,
   "id": "6a4c6bed-9417-404b-9968-2d7821c511c4",
   "metadata": {
    "editable": true,
    "slideshow": {
     "slide_type": ""
    },
    "tags": []
   },
   "outputs": [],
   "source": [
    "#Return the transformed arrays to a dataframe with the corresponding column names to keep consistent with the test set\n",
    "X_train_4 = pd.DataFrame(X_train_4, columns = [\"Pregnancies\", \"Glucose\", \"BloodPressure\", \"SkinThickness\", \"BMI\", \"Age\"])\n",
    "X_test_4 = pd.DataFrame(X_test_4, columns = [\"Pregnancies\", \"Glucose\", \"BloodPressure\", \"SkinThickness\", \"BMI\", \"Age\"])"
   ]
  },
  {
   "cell_type": "code",
   "execution_count": 52,
   "id": "8801ce63-c11e-4b93-beec-1e0a3f948588",
   "metadata": {},
   "outputs": [],
   "source": [
    "xgb_classifier_4 = XGBClassifier(objective = 'binary:logistic',                                   \n",
    "                                 learning_rate = 0.0045,\n",
    "                                 max_depth = 10,\n",
    "                                 alpha = 17,\n",
    "                                 n_estimators = 200,                \n",
    "                                 min_child_weight = 1,                                 \n",
    "                                 scale_pos_weight = 1.853,\n",
    "                                 use_label_encoder = False,\n",
    "                                 seed = 21).fit(X_train_4, y_less_train, verbose = 0)\n",
    "\n",
    "result4 = xgb_classifier_4.score(X_test_4, y_less_test)\n",
    "\n",
    "y_pred_4 = xgb_classifier_4.predict(X_test_4) \n",
    "\n",
    "y_pred_proba_4 = xgb_classifier_4.predict_proba(X_test_4)"
   ]
  },
  {
   "cell_type": "code",
   "execution_count": 53,
   "id": "73d0a0c6-fb4b-4dab-b456-9e162435ca84",
   "metadata": {
    "editable": true,
    "jupyterlab-hide-cells:hidden": true,
    "slideshow": {
     "slide_type": ""
    },
    "tags": []
   },
   "outputs": [
    {
     "name": "stdout",
     "output_type": "stream",
     "text": [
      "\n",
      "              precision    recall  f1-score   support\n",
      "\n",
      "           0     0.8829    0.8522    0.8673       115\n",
      "           1     0.7424    0.7903    0.7656        62\n",
      "\n",
      "    accuracy                         0.8305       177\n",
      "   macro avg     0.8127    0.8212    0.8164       177\n",
      "weighted avg     0.8337    0.8305    0.8317       177\n",
      "\n",
      "\n",
      "Accuracy: 0.8305\n",
      "\n",
      "Log Loss: 0.5399\n",
      "\n",
      "ROC AUC: 0.8804\n",
      "\n",
      "AUPRC: 0.7776\n",
      "\n"
     ]
    }
   ],
   "source": [
    "# cm_4 = confusion_matrix(y_less_test, y_pred_4)\n",
    "\n",
    "# sns.heatmap(cm_4, annot = True, fmt = 'd')\n",
    "\n",
    "print()\n",
    "print(classification_report(y_less_test, y_pred_4, digits = 4))\n",
    "\n",
    "print()\n",
    "print(\"Accuracy: {}\".format(round(result4, 4)))\n",
    "\n",
    "print()\n",
    "# Calculate log loss\n",
    "log_loss_4 = log_loss(y_less_test, y_pred_proba_4)\n",
    "\n",
    "print(\"Log Loss: {}\".format(round(log_loss_4, 4)))\n",
    "\n",
    "print()\n",
    "\n",
    "# Calculate ROC AUC\n",
    "roc_auc_4 = roc_auc_score(y_less_test, y_pred_proba_4[:, 1])\n",
    "\n",
    "print(\"ROC AUC: {}\".format(round(roc_auc_4, 4)))\n",
    "\n",
    "print()\n",
    "\n",
    "# Calculate Precision-Recall curve\n",
    "precision, recall, thresholds = precision_recall_curve(y_less_test, y_pred_proba_4[:, 1])\n",
    "\n",
    "# Define recall levels for interpolation\n",
    "recall_levels = np.linspace(0, 1, 100)\n",
    "\n",
    "# Interpolate precision values for each recall level\n",
    "interp_precision = np.interp(recall_levels, recall[::-1], precision[::-1])\n",
    "\n",
    "# Calculate AUPRC using the trapezoidal rule\n",
    "auprc = np.trapz(interp_precision, recall_levels)\n",
    "\n",
    "print(\"AUPRC: {}\".format(round(auprc, 4)))\n",
    "\n",
    "print()"
   ]
  },
  {
   "cell_type": "code",
   "execution_count": 54,
   "id": "b6765b5c-ac32-4ce9-9085-17757a5bc459",
   "metadata": {
    "editable": true,
    "slideshow": {
     "slide_type": ""
    },
    "tags": []
   },
   "outputs": [
    {
     "name": "stderr",
     "output_type": "stream",
     "text": [
      "[I 2024-04-27 03:47:55,086] A new study created in memory with name: no-name-f0f8e5c3-fc01-4c6d-a508-dd8f998dc489\n"
     ]
    },
    {
     "data": {
      "application/vnd.jupyter.widget-view+json": {
       "model_id": "670c600fcacf4902ab034c55a753ac96",
       "version_major": 2,
       "version_minor": 0
      },
      "text/plain": [
       "  0%|          | 0/100 [00:00<?, ?it/s]"
      ]
     },
     "metadata": {},
     "output_type": "display_data"
    }
   ],
   "source": [
    "from sklearn.model_selection import StratifiedKFold\n",
    "\n",
    "# Create a StratifiedKFold object with 3 splits\n",
    "skf = StratifiedKFold(n_splits=5, shuffle=True, random_state=21)\n",
    "\n",
    "X_train_4 = pd.DataFrame(X_train_4)\n",
    "\n",
    "def strat_objective(trial):    \n",
    "    # Define the hyperparameter search space\n",
    "    max_depth = trial.suggest_int('max_depth', 3, 10)\n",
    "    n_estimators = trial.suggest_int('n_estimators', 100, 1000)\n",
    "    learning_rate = trial.suggest_float('learning_rate', 0.0, 5e-1, log=False)\n",
    "    max_leaves = trial.suggest_int('max_leaves', 0, 64)\n",
    "    min_child_weight = trial.suggest_int('min_child_weight', 1, 10)    \n",
    "    subsample = trial.suggest_float('subsample', 0.5, 1.0)\n",
    "    colsample_bytree = trial.suggest_float('colsample_bytree', 0.5, 1.0)\n",
    "    reg_alpha = trial.suggest_float('reg_alpha', 1e-8, 100, log=False)\n",
    "    reg_lambda = trial.suggest_float('reg_lambda', 1e-8, 100, log=False)\n",
    "    scale_pos_weight = trial.suggest_float('scale_pos_weight', 1.853, 1.870)  \n",
    "\n",
    "    # Create the XGBClassifier with the sampled hyperparameters\n",
    "    classifier = XGBClassifier(\n",
    "        max_depth = max_depth,\n",
    "        n_estimators = n_estimators,\n",
    "        learning_rate = learning_rate,\n",
    "        max_leaves = max_leaves,\n",
    "        min_child_weight=min_child_weight,        \n",
    "        subsample = subsample,\n",
    "        colsample_bytree = colsample_bytree,\n",
    "        reg_alpha = reg_alpha,\n",
    "        reg_lambda = reg_lambda,\n",
    "        scale_pos_weight = scale_pos_weight,\n",
    "        objective = 'binary:logistic',        \n",
    "        grow_policy = 'lossguide',\n",
    "        use_label_encoder = False,\n",
    "        seed = 21,\n",
    "        n_jobs = -1,        \n",
    "    )\n",
    "    \n",
    "    scores = cross_val_score(classifier, X_train_4, y_less_train, cv=skf, scoring='neg_log_loss', verbose = False, n_jobs=-1)\n",
    "    return -scores.mean()\n",
    "\n",
    "# Create an Optuna study\n",
    "study = optuna.create_study(direction='minimize')\n",
    "\n",
    "# Optimize the objective function\n",
    "optuna.logging.set_verbosity(optuna.logging.WARNING)\n",
    "study.optimize(strat_objective, n_trials=100, timeout = 600, show_progress_bar = True)"
   ]
  },
  {
   "cell_type": "code",
   "execution_count": 55,
   "id": "a90f28c6-96d3-4c46-99c9-64f497f9b8f2",
   "metadata": {},
   "outputs": [
    {
     "name": "stdout",
     "output_type": "stream",
     "text": [
      "\n",
      "Best hyperparameters:  {'max_depth': 3, 'n_estimators': 186, 'learning_rate': 0.2339397434664296, 'max_leaves': 59, 'min_child_weight': 1, 'subsample': 0.9985500202256661, 'colsample_bytree': 0.7022402448149299, 'reg_alpha': 2.799687377154972, 'reg_lambda': 42.24531121863919, 'scale_pos_weight': 1.8684627298901}\n",
      "\n",
      "Best score (Minimum loss):  0.3952462272475493\n",
      "\n"
     ]
    }
   ],
   "source": [
    "# Print the best hyperparameters and the corresponding score\n",
    "print()\n",
    "print('Best hyperparameters: ', study.best_params)\n",
    "print()\n",
    "print('Best score (Minimum loss): ', study.best_value)\n",
    "print()"
   ]
  },
  {
   "cell_type": "code",
   "execution_count": 56,
   "id": "e6cf0662-ab7d-403a-b8c3-d573fcd4a30a",
   "metadata": {
    "scrolled": true
   },
   "outputs": [],
   "source": [
    "best_params = study.best_params\n",
    "xgb_classifier_opt = XGBClassifier(**best_params,\n",
    "                                   objective = 'binary:logistic',\n",
    "                                   grow_policy = 'lossguide',\n",
    "                                   use_label_encoder = False,\n",
    "                                   seed = 21,\n",
    "                                   n_jobs = -1).fit(X_train_4, y_less_train, verbose = 0)\n",
    "\n",
    "result_opt = xgb_classifier_opt.score(X_test_4, y_less_test)\n",
    "\n",
    "y_pred_opt = xgb_classifier_opt.predict(X_test_4) \n",
    "\n",
    "y_pred_proba_opt = xgb_classifier_opt.predict_proba(X_test_4)"
   ]
  },
  {
   "cell_type": "code",
   "execution_count": 57,
   "id": "44fe07c4-5c39-4bb7-9808-93e74b1cbbae",
   "metadata": {},
   "outputs": [
    {
     "name": "stdout",
     "output_type": "stream",
     "text": [
      "\n",
      "              precision    recall  f1-score   support\n",
      "\n",
      "           0       0.88      0.87      0.87       115\n",
      "           1       0.76      0.77      0.77        62\n",
      "\n",
      "    accuracy                           0.84       177\n",
      "   macro avg       0.82      0.82      0.82       177\n",
      "weighted avg       0.84      0.84      0.84       177\n",
      "\n",
      "\n",
      "Accuracy: 0.8362\n",
      "\n",
      "Log Loss: 0.3672\n",
      "\n",
      "ROC AUC: 0.9125\n",
      "\n",
      "AUPRC: 0.8115\n",
      "\n"
     ]
    }
   ],
   "source": [
    "\n",
    "print()\n",
    "print(classification_report(y_less_test, y_pred_opt))\n",
    "\n",
    "print()\n",
    "print(\"Accuracy: {}\".format(round(result_opt, 4)))\n",
    "\n",
    "print()\n",
    "# Calculate log loss\n",
    "log_loss_opt = log_loss(y_less_test, y_pred_proba_opt)\n",
    "\n",
    "print(\"Log Loss: {}\".format(round(log_loss_opt, 4)))\n",
    "\n",
    "print()\n",
    "\n",
    "# Calculate ROC AUC\n",
    "roc_auc_opt = roc_auc_score(y_less_test, y_pred_proba_opt[:, 1])\n",
    "\n",
    "print(\"ROC AUC: {}\".format(round(roc_auc_opt, 4)))\n",
    "\n",
    "print()\n",
    "\n",
    "# Calculate ROC curve\n",
    "fpr, tpr, thresholds = roc_curve(y_less_test, y_pred_proba_opt[:, 1])\n",
    "\n",
    "# Calculate Precision-Recall curve\n",
    "precision, recall, thresholds = precision_recall_curve(y_less_test, y_pred_proba_opt[:, 1])\n",
    "\n",
    "# Define recall levels for interpolation\n",
    "recall_levels = np.linspace(0, 1, 100)\n",
    "\n",
    "# Interpolate precision values for each recall level\n",
    "interp_precision_opt = np.interp(recall_levels, recall[::-1], precision[::-1])\n",
    "\n",
    "# Calculate AUPRC using the trapezoidal rule\n",
    "auprc_opt = np.trapz(interp_precision_opt, recall_levels)\n",
    "\n",
    "print(\"AUPRC: {}\".format(round(auprc_opt, 4)))\n",
    "\n",
    "print()"
   ]
  },
  {
   "cell_type": "code",
   "execution_count": 58,
   "id": "d0fbb71a-e672-472d-82ed-8e82feb6a4bd",
   "metadata": {},
   "outputs": [
    {
     "name": "stdout",
     "output_type": "stream",
     "text": [
      "\n",
      "              precision    recall  f1-score   support\n",
      "\n",
      "           0       0.94      0.82      0.87       115\n",
      "           1       0.73      0.90      0.81        62\n",
      "\n",
      "    accuracy                           0.85       177\n",
      "   macro avg       0.83      0.86      0.84       177\n",
      "weighted avg       0.87      0.85      0.85       177\n",
      "\n",
      "\n",
      "Accuracy: 0.8475\n",
      "\n",
      "Log Loss: 0.3885\n",
      "\n",
      "ROC AUC: 0.9151\n",
      "\n",
      "AUPRC: 0.8043\n"
     ]
    }
   ],
   "source": [
    "from imblearn.over_sampling import SMOTE\n",
    "\n",
    "smote = SMOTE()\n",
    "X_resampled, y_resampled = smote.fit_resample(X_train_4, y_less_train)\n",
    "\n",
    "xgb_classifier_resampled = XGBClassifier(**best_params,\n",
    "                                         objective = 'binary:logistic',\n",
    "                                         grow_policy = 'lossguide',\n",
    "                                         use_label_encoder = False,\n",
    "                                         seed = 21,\n",
    "                                         n_jobs = -1).fit(X_resampled, y_resampled, verbose = 0)\n",
    "\n",
    "result_resampled = xgb_classifier_resampled.score(X_test_4, y_less_test)\n",
    "\n",
    "y_pred_resampled = xgb_classifier_resampled.predict(X_test_4) \n",
    "\n",
    "y_pred_proba_resampled = xgb_classifier_resampled.predict_proba(X_test_4)\n",
    "\n",
    "print()\n",
    "print(classification_report(y_less_test, y_pred_resampled))\n",
    "\n",
    "print()\n",
    "print(\"Accuracy: {}\".format(round(result_resampled, 4)))\n",
    "\n",
    "print()\n",
    "# Calculate log loss\n",
    "log_loss_resampled = log_loss(y_less_test, y_pred_proba_resampled)\n",
    "\n",
    "print(\"Log Loss: {}\".format(round(log_loss_resampled, 4)))\n",
    "\n",
    "print()\n",
    "\n",
    "# Calculate ROC AUC\n",
    "roc_auc_resampled = roc_auc_score(y_less_test, y_pred_proba_resampled[:, 1])\n",
    "\n",
    "print(\"ROC AUC: {}\".format(round(roc_auc_resampled, 4)))\n",
    "\n",
    "print()\n",
    "\n",
    "# Calculate ROC curve\n",
    "fpr, tpr, thresholds = roc_curve(y_less_test, y_pred_proba_resampled[:, 1])\n",
    "\n",
    "# Calculate Precision-Recall curve\n",
    "precision, recall, thresholds = precision_recall_curve(y_less_test, y_pred_proba_resampled[:, 1])\n",
    "\n",
    "# Define recall levels for interpolation\n",
    "recall_levels = np.linspace(0, 1, 100)\n",
    "\n",
    "# Interpolate precision values for each recall level\n",
    "interp_precision = np.interp(recall_levels, recall[::-1], precision[::-1])\n",
    "\n",
    "# Calculate AUPRC using the trapezoidal rule\n",
    "auprc = np.trapz(interp_precision, recall_levels)\n",
    "\n",
    "print(\"AUPRC: {}\".format(round(auprc, 4)))"
   ]
  },
  {
   "cell_type": "code",
   "execution_count": 59,
   "id": "6612f29e-982f-4442-94ab-1fcfb69f8abe",
   "metadata": {},
   "outputs": [
    {
     "data": {
      "application/vnd.jupyter.widget-view+json": {
       "model_id": "d305209d3a934fb8911bbf815d819612",
       "version_major": 2,
       "version_minor": 0
      },
      "text/plain": [
       "  0%|          | 0/100 [00:00<?, ?it/s]"
      ]
     },
     "metadata": {},
     "output_type": "display_data"
    }
   ],
   "source": [
    "import optuna\n",
    "from xgboost import XGBClassifier\n",
    "from sklearn.model_selection import cross_val_score\n",
    "\n",
    "# Create a StratifiedKFold object with 3 splits\n",
    "skf = StratifiedKFold(n_splits=5, shuffle=True, random_state=21)\n",
    "\n",
    "# Define the objective function to optimize\n",
    "def objective(trial):    \n",
    "    # Define the hyperparameter search space\n",
    "    max_depth = trial.suggest_int('max_depth', 3, 10)\n",
    "    n_estimators = trial.suggest_int('n_estimators', 100, 1000)\n",
    "    learning_rate = trial.suggest_float('learning_rate', 0.0, 5e-1, log=False)\n",
    "    max_leaves = trial.suggest_int('max_leaves', 0, 64)\n",
    "    min_child_weight = trial.suggest_int('min_child_weight', 1, 10)    \n",
    "    subsample = trial.suggest_float('subsample', 0.5, 1.0)\n",
    "    colsample_bytree = trial.suggest_float('colsample_bytree', 0.5, 1.0)\n",
    "    reg_alpha = trial.suggest_float('reg_alpha', 1e-8, 100, log=False)\n",
    "    reg_lambda = trial.suggest_float('reg_lambda', 1e-8, 100, log=False)\n",
    "    \n",
    "\n",
    "    # Create the XGBClassifier with the sampled hyperparameters\n",
    "    classifier = XGBClassifier(\n",
    "        max_depth=max_depth,\n",
    "        n_estimators=n_estimators,\n",
    "        learning_rate=learning_rate,\n",
    "        max_leaves = max_leaves,\n",
    "        min_child_weight=min_child_weight,        \n",
    "        subsample=subsample,\n",
    "        colsample_bytree=colsample_bytree,\n",
    "        reg_alpha=reg_alpha,\n",
    "        reg_lambda=reg_lambda,        \n",
    "        objective='binary:logistic',        \n",
    "        grow_policy = 'lossguide',\n",
    "        use_label_encoder=False,\n",
    "        seed=21,\n",
    "        n_jobs=-1,\n",
    "    )\n",
    "\n",
    "    # Perform cross-validation and return the negative mean score\n",
    "    score = cross_val_score(classifier, X_resampled, y_resampled, cv=skf, scoring='neg_log_loss', verbose = False, n_jobs=-1)\n",
    "    return -score.mean()\n",
    "\n",
    "# Create an Optuna study\n",
    "study = optuna.create_study(direction='minimize')\n",
    "\n",
    "# Optimize the objective function\n",
    "optuna.logging.set_verbosity(optuna.logging.WARNING)\n",
    "study.optimize(objective, n_trials=100, timeout = 600, show_progress_bar = True)"
   ]
  },
  {
   "cell_type": "code",
   "execution_count": 60,
   "id": "7cbd2bc7-f2f0-47de-9a72-09685c7829fc",
   "metadata": {},
   "outputs": [
    {
     "name": "stdout",
     "output_type": "stream",
     "text": [
      "\n",
      "Best hyperparameters:  {'max_depth': 6, 'n_estimators': 440, 'learning_rate': 0.2970033915853359, 'max_leaves': 35, 'min_child_weight': 1, 'subsample': 0.6864536922541724, 'colsample_bytree': 0.9560723573615916, 'reg_alpha': 2.81340182662163, 'reg_lambda': 92.85845384372581}\n",
      "\n",
      "Best score (Minimum loss):  0.3746949746442011\n",
      "\n"
     ]
    }
   ],
   "source": [
    "# Print the best hyperparameters and the corresponding score\n",
    "print()\n",
    "print('Best hyperparameters: ', study.best_params)\n",
    "print()\n",
    "print('Best score (Minimum loss): ', study.best_value)\n",
    "print()"
   ]
  },
  {
   "cell_type": "code",
   "execution_count": 61,
   "id": "8ed1d168-975f-490c-84e4-25b5ac541651",
   "metadata": {},
   "outputs": [
    {
     "name": "stdout",
     "output_type": "stream",
     "text": [
      "\n",
      "              precision    recall  f1-score   support\n",
      "\n",
      "           0       0.88      0.90      0.89       115\n",
      "           1       0.80      0.77      0.79        62\n",
      "\n",
      "    accuracy                           0.85       177\n",
      "   macro avg       0.84      0.83      0.84       177\n",
      "weighted avg       0.85      0.85      0.85       177\n",
      "\n",
      "\n",
      "Accuracy: 0.8531\n",
      "\n",
      "Log Loss: 0.3617\n",
      "\n",
      "ROC AUC: 0.9111\n",
      "\n",
      "AUPRC: 0.7883\n",
      "\n"
     ]
    }
   ],
   "source": [
    "best_params = study.best_params\n",
    "\n",
    "xgb_classifier_resampled = XGBClassifier(**best_params,\n",
    "                                         objective = 'binary:logistic', \n",
    "                                         grow_policy = 'lossguide',\n",
    "                                         use_label_encoder=False,\n",
    "                                         seed=21,\n",
    "                                         n_jobs=-1,).fit(X_resampled, y_resampled, verbose = 0)\n",
    "\n",
    "result_resampled = xgb_classifier_resampled.score(X_test_4, y_less_test)\n",
    "\n",
    "y_pred_resampled = xgb_classifier_resampled.predict(X_test_4) \n",
    "\n",
    "y_pred_proba_resampled = xgb_classifier_resampled.predict_proba(X_test_4)\n",
    "\n",
    "\n",
    "print()\n",
    "print(classification_report(y_less_test, y_pred_resampled))\n",
    "\n",
    "print()\n",
    "print(\"Accuracy: {}\".format(round(result_resampled, 4)))\n",
    "\n",
    "print()\n",
    "# Calculate log loss\n",
    "log_loss_resampled = log_loss(y_less_test, y_pred_proba_resampled)\n",
    "\n",
    "print(\"Log Loss: {}\".format(round(log_loss_resampled, 4)))\n",
    "\n",
    "print()\n",
    "\n",
    "# Calculate ROC AUC\n",
    "roc_auc_resampled = roc_auc_score(y_less_test, y_pred_proba_resampled[:, 1])\n",
    "\n",
    "print(\"ROC AUC: {}\".format(round(roc_auc_resampled, 4)))\n",
    "\n",
    "print()\n",
    "\n",
    "# Calculate ROC curve\n",
    "fpr, tpr, thresholds = roc_curve(y_less_test, y_pred_proba_resampled[:, 1])\n",
    "\n",
    "# Calculate Precision-Recall curve\n",
    "precision, recall, thresholds = precision_recall_curve(y_less_test, y_pred_proba_resampled[:, 1])\n",
    "\n",
    "# Define recall levels for interpolation\n",
    "recall_levels = np.linspace(0, 1, 100)\n",
    "\n",
    "# Interpolate precision values for each recall level\n",
    "interp_precision = np.interp(recall_levels, recall[::-1], precision[::-1])\n",
    "\n",
    "# Calculate AUPRC using the trapezoidal rule\n",
    "auprc = np.trapz(interp_precision, recall_levels)\n",
    "\n",
    "print(\"AUPRC: {}\".format(round(auprc, 4)))\n",
    "\n",
    "print()"
   ]
  },
  {
   "cell_type": "code",
   "execution_count": 62,
   "id": "b82c656f-8a1a-419a-8e97-6023e1063441",
   "metadata": {},
   "outputs": [
    {
     "name": "stdout",
     "output_type": "stream",
     "text": [
      "100%|███████| 100/100 [00:25<00:00,  3.99trial/s, best loss: 0.4003722277054608]\n"
     ]
    }
   ],
   "source": [
    "from hyperopt import hp, fmin, tpe, STATUS_OK, Trials\n",
    "from sklearn.model_selection import cross_val_score\n",
    "\n",
    "# Define the hyperparameter search space\n",
    "space = {\n",
    "    'max_depth': hp.quniform('max_depth', 2, 10, 1),\n",
    "    'n_estimators': hp.quniform('n_estimators', 100, 1000, 1),\n",
    "    'learning_rate': hp.uniform('learning_rate', 1e-3, 5e-1),\n",
    "    'max_leaves': hp.choice('max_leaves', np.arange(10, 65, dtype = int)),\n",
    "    'subsample': hp.uniform('subsample', 0.5, 1.0),\n",
    "    'min_child_weight': hp.quniform('min_child_weight', 1, 10, 1),    \n",
    "    'colsample_bytree': hp.uniform('colsample_bytree', 0.5, 1.0),\n",
    "    'reg_alpha': hp.uniform('reg_alpha', 1e-8, 1.0),\n",
    "    'reg_lambda': hp.uniform('reg_lambda', 1e-8, 1.0),\n",
    "}\n",
    "\n",
    "# Define the objective function to optimize\n",
    "def objective(params):\n",
    "    classifier = XGBClassifier(\n",
    "        max_depth = int(params['max_depth']),\n",
    "        n_estimators = int(params['n_estimators']),\n",
    "        learning_rate = params['learning_rate'],\n",
    "        max_leaves = int(params['max_leaves']),\n",
    "        min_child_weight = int(params['min_child_weight']),        \n",
    "        subsample = params['subsample'],\n",
    "        colsample_bytree = params['colsample_bytree'],\n",
    "        reg_alpha = params['reg_alpha'],\n",
    "        reg_lambda = params['reg_lambda'],\n",
    "        objective = 'binary:logistic',        \n",
    "        use_label_encoder = False,\n",
    "        seed = 21,\n",
    "        n_jobs = -1,\n",
    "    )\n",
    "\n",
    "    score = cross_val_score(classifier, X_train_4, y_less_train, cv=5, scoring='neg_log_loss', n_jobs=-1)\n",
    "    return {'loss': -score.mean(), 'status': STATUS_OK}\n",
    "\n",
    "# Create a Trials object to track the optimization process\n",
    "trials = Trials()\n",
    "\n",
    "# Optimize the objective function using fmin\n",
    "best = fmin(\n",
    "    fn=objective,\n",
    "    space=space,\n",
    "    algo=tpe.suggest,\n",
    "    max_evals=100,\n",
    "    trials=trials,\n",
    "    rstate=np.random.default_rng(21)\n",
    ")"
   ]
  },
  {
   "cell_type": "code",
   "execution_count": 63,
   "id": "9ae3d7fb-aa39-4905-bedd-8c16b5fa23be",
   "metadata": {},
   "outputs": [
    {
     "name": "stdout",
     "output_type": "stream",
     "text": [
      "\n",
      "Best hyperparameters: {'colsample_bytree': 0.5360865122560667, 'learning_rate': 0.02910184929387938, 'max_depth': 3.0, 'max_leaves': 6, 'min_child_weight': 2.0, 'n_estimators': 262.0, 'reg_alpha': 0.5769008154522706, 'reg_lambda': 0.5124464195926614, 'subsample': 0.6226806251167117}\n",
      "\n",
      "Best score: 0.4003722277054608\n"
     ]
    }
   ],
   "source": [
    "# Print the best hyperparameters and the corresponding score\n",
    "print()\n",
    "print(\"Best hyperparameters:\", best)\n",
    "print()\n",
    "print(\"Best score:\", trials.best_trial['result']['loss'])"
   ]
  },
  {
   "cell_type": "code",
   "execution_count": 64,
   "id": "67a97e9a-ed2f-45dd-9329-7958a6cbf173",
   "metadata": {},
   "outputs": [
    {
     "name": "stdout",
     "output_type": "stream",
     "text": [
      "\n",
      "              precision    recall  f1-score   support\n",
      "\n",
      "           0     0.8839    0.8609    0.8722       115\n",
      "           1     0.7538    0.7903    0.7717        62\n",
      "\n",
      "    accuracy                         0.8362       177\n",
      "   macro avg     0.8189    0.8256    0.8220       177\n",
      "weighted avg     0.8384    0.8362    0.8370       177\n",
      "\n",
      "\n",
      "Accuracy: 0.8362\n",
      "\n",
      "Log Loss: 0.354\n",
      "\n",
      "ROC AUC: 0.9181\n",
      "\n",
      "AUPRC: 0.8007\n",
      "\n"
     ]
    }
   ],
   "source": [
    "# Retrieve the best hyperparameters\n",
    "best_params = trials.best_trial['misc']['vals']\n",
    "\n",
    "# Extract scalar values from the lists\n",
    "max_depth = int(best_params['max_depth'][0])\n",
    "n_estimators = int(best_params['n_estimators'][0])\n",
    "learning_rate = best_params['learning_rate'][0]\n",
    "min_child_weight = int(best_params['min_child_weight'][0])\n",
    "max_leaves = best_params['max_leaves'][0]\n",
    "colsample_bytree = best_params['colsample_bytree'][0]\n",
    "subsample = best_params['subsample'][0]\n",
    "reg_alpha = best_params['reg_alpha'][0]\n",
    "reg_lambda = best_params['reg_lambda'][0]\n",
    "\n",
    "xgb_classifier_hyp = XGBClassifier(objective = 'binary:logistic',                                     \n",
    "                                   learning_rate = learning_rate,\n",
    "                                   max_depth = max_depth,\n",
    "                                   max_leaves = max_leaves,\n",
    "                                   n_estimators = n_estimators,                \n",
    "                                   min_child_weight = min_child_weight,\n",
    "                                   subsample = subsample,\n",
    "                                   colsample_bytree = colsample_bytree,\n",
    "                                   reg_alpha = reg_alpha,\n",
    "                                   reg_lambda = reg_lambda,                                 \n",
    "                                   scale_pos_weight = 1.853,\n",
    "                                   use_label_encoder = False,\n",
    "                                   seed = 21).fit(X_train_4, y_less_train, verbose = 0)\n",
    "\n",
    "result_hyp = xgb_classifier_hyp.score(X_test_4, y_less_test)\n",
    "\n",
    "y_pred_hyp = xgb_classifier_hyp.predict(X_test_4) \n",
    "\n",
    "y_pred_proba_hyp = xgb_classifier_hyp.predict_proba(X_test_4)\n",
    "\n",
    "\n",
    "print()\n",
    "print(classification_report(y_less_test, y_pred_hyp, digits = 4))\n",
    "\n",
    "print()\n",
    "print(\"Accuracy: {}\".format(round(result_hyp, 4)))\n",
    "\n",
    "print()\n",
    "# Calculate log loss\n",
    "log_loss_hyp = log_loss(y_less_test, y_pred_proba_hyp)\n",
    "\n",
    "print(\"Log Loss: {}\".format(round(log_loss_hyp, 4)))\n",
    "\n",
    "print()\n",
    "\n",
    "# Calculate ROC AUC\n",
    "roc_auc_hyp = roc_auc_score(y_less_test, y_pred_proba_hyp[:, 1])\n",
    "\n",
    "print(\"ROC AUC: {}\".format(round(roc_auc_hyp, 4)))\n",
    "\n",
    "print()\n",
    "\n",
    "# Calculate ROC curve\n",
    "fpr, tpr, thresholds = roc_curve(y_less_test, y_pred_proba_hyp[:, 1])\n",
    "\n",
    "# Calculate Precision-Recall curve\n",
    "precision, recall, thresholds = precision_recall_curve(y_less_test, y_pred_proba_hyp[:, 1])\n",
    "\n",
    "# Define recall levels for interpolation\n",
    "recall_levels = np.linspace(0, 1, 100)\n",
    "\n",
    "# Interpolate precision values for each recall level\n",
    "interp_precision = np.interp(recall_levels, recall[::-1], precision[::-1])\n",
    "\n",
    "# Calculate AUPRC using the trapezoidal rule\n",
    "auprc = np.trapz(interp_precision, recall_levels)\n",
    "\n",
    "print(\"AUPRC: {}\".format(round(auprc, 4)))\n",
    "\n",
    "print()"
   ]
  },
  {
   "cell_type": "code",
   "execution_count": 65,
   "id": "99652d0a-74e1-4cda-9e56-63e0263bda07",
   "metadata": {},
   "outputs": [
    {
     "data": {
      "application/vnd.jupyter.widget-view+json": {
       "model_id": "338e7629fc3f4f9f8fd2a95f8e2190ab",
       "version_major": 2,
       "version_minor": 0
      },
      "text/plain": [
       "  0%|          | 0/100 [00:00<?, ?it/s]"
      ]
     },
     "metadata": {},
     "output_type": "display_data"
    }
   ],
   "source": [
    "import lightgbm as lgb\n",
    "from sklearn.model_selection import StratifiedKFold, cross_val_score\n",
    "from sklearn.metrics import average_precision_score\n",
    "\n",
    "# LightGBM with Stratified K-Fold Cross-Validation\n",
    "skf = StratifiedKFold(n_splits=5, shuffle=True, random_state=21)\n",
    "\n",
    "# Define the objective function for LightGBM\n",
    "def lgb_objective(trial):\n",
    "    params = {        \n",
    "        'objective': 'binary',        \n",
    "        'max_depth': trial.suggest_int('max_depth', 2, 10),\n",
    "        'num_leaves': trial.suggest_int('num_leaves', 10, 64),\n",
    "        'n_estimators': trial.suggest_int('n_estimators', 100, 1000),\n",
    "        'learning_rate': trial.suggest_float('learning_rate', 1e-3, 5e-1, log=False),\n",
    "        'min_child_weight': trial.suggest_int('min_child_weight', 1, 11),\n",
    "        'min_child_samples': trial.suggest_int('min_child_samples', 5, 100),\n",
    "        'reg_alpha': trial.suggest_float('reg_alpha', 1e-8, 1.0, log=False),\n",
    "        'reg_lambda': trial.suggest_float('reg_lambda', 1e-8, 1.0, log=False),\n",
    "        'colsample_bytree': trial.suggest_float('colsample_bytree', 0.5, 1.0),\n",
    "        'subsample': trial.suggest_float('subsample', 0.5, 1.0),\n",
    "        'random_state': 21,\n",
    "        'n_jobs': -1, \n",
    "        'verbosity': -1,\n",
    "    }\n",
    "\n",
    "    scores = cross_val_score(lgb.LGBMClassifier(**params), X_train_4, y_less_train, cv=skf, scoring='neg_log_loss', n_jobs=-1)\n",
    "    return -scores.mean()\n",
    "\n",
    "# Create an Optuna study\n",
    "study = optuna.create_study(direction='minimize')\n",
    "\n",
    "# Optimize the objective function\n",
    "optuna.logging.set_verbosity(optuna.logging.WARNING)\n",
    "study.optimize(lgb_objective, n_trials=100, timeout = 600, show_progress_bar = True)"
   ]
  },
  {
   "cell_type": "code",
   "execution_count": 66,
   "id": "63ba65bd-2e7e-442d-a0ff-699bf201056d",
   "metadata": {},
   "outputs": [
    {
     "name": "stdout",
     "output_type": "stream",
     "text": [
      "\n",
      "Best hyperparameters: {'max_depth': 5, 'num_leaves': 61, 'n_estimators': 385, 'learning_rate': 0.013037251158093894, 'min_child_weight': 5, 'min_child_samples': 30, 'reg_alpha': 0.38759976711323335, 'reg_lambda': 0.7428853200945168, 'colsample_bytree': 0.5954688213107281, 'subsample': 0.8385158875359536}\n",
      "\n",
      "Best score (Minimum loss): 0.3812955341024845\n",
      "\n"
     ]
    }
   ],
   "source": [
    "# Print the best hyperparameters and the corresponding score\n",
    "print()\n",
    "print(\"Best hyperparameters:\", study.best_params)\n",
    "print()\n",
    "print(\"Best score (Minimum loss):\", study.best_value)\n",
    "print()"
   ]
  },
  {
   "cell_type": "code",
   "execution_count": 67,
   "id": "03cbcf82-feb7-431c-9f23-539c44a3c3b4",
   "metadata": {},
   "outputs": [
    {
     "name": "stdout",
     "output_type": "stream",
     "text": [
      "\n",
      "              precision    recall  f1-score   support\n",
      "\n",
      "           0     0.8770    0.9304    0.9030       115\n",
      "           1     0.8545    0.7581    0.8034        62\n",
      "\n",
      "    accuracy                         0.8701       177\n",
      "   macro avg     0.8658    0.8442    0.8532       177\n",
      "weighted avg     0.8692    0.8701    0.8681       177\n",
      "\n",
      "\n",
      "Accuracy: 0.8701\n",
      "\n",
      "Log Loss: 0.3392\n",
      "\n",
      "ROC AUC (LightGBM): 0.9257\n",
      "\n",
      "AUPRC (LightGBM): 0.8551\n"
     ]
    }
   ],
   "source": [
    "# Train the LightGBM model with the best hyperparameters\n",
    "best_params = study.best_params\n",
    "lgb_model = lgb.LGBMClassifier(**best_params, verbosity = -1)\n",
    "lgb_model.fit(X_train_4, y_less_train)\n",
    "\n",
    "# Evaluate the model on the test set\n",
    "result_lgb = lgb_model.score(X_test_4, y_less_test)\n",
    "y_pred_lgb = lgb_model.predict(X_test_4) \n",
    "y_pred_proba_lgb = lgb_model.predict_proba(X_test_4)[:, 1]\n",
    "roc_auc_lgb = roc_auc_score(y_less_test, y_pred_proba_lgb)\n",
    "auprc_lgb = average_precision_score(y_less_test, y_pred_proba_lgb)\n",
    "\n",
    "print()\n",
    "print(classification_report(y_less_test, y_pred_lgb, digits = 4))\n",
    "\n",
    "print()\n",
    "print(\"Accuracy: {}\".format(round(result_lgb, 4)))\n",
    "\n",
    "# Calculate log loss\n",
    "log_loss_lgb = log_loss(y_less_test, y_pred_proba_lgb)\n",
    "print()\n",
    "print(\"Log Loss: {}\".format(round(log_loss_lgb, 4)))\n",
    "print()\n",
    "print(\"ROC AUC (LightGBM):\", round(roc_auc_lgb, 4))\n",
    "print()\n",
    "print(\"AUPRC (LightGBM):\", round(auprc_lgb, 4))"
   ]
  },
  {
   "cell_type": "code",
   "execution_count": 68,
   "id": "ed9f1b7f-5f74-49c9-86c4-b5a50e7cef73",
   "metadata": {},
   "outputs": [
    {
     "name": "stdout",
     "output_type": "stream",
     "text": [
      "100%|███████| 100/100 [03:54<00:00,  2.35s/trial, best loss: 0.3907418874541598]\n"
     ]
    }
   ],
   "source": [
    "import lightgbm as lgb\n",
    "import warnings\n",
    "from hyperopt import hp, fmin, tpe, STATUS_OK, Trials\n",
    "from sklearn.model_selection import StratifiedKFold, cross_val_score\n",
    "from sklearn.metrics import average_precision_score\n",
    "import sklearn\n",
    "\n",
    "# LightGBM with Stratified K-Fold Cross-Validation\n",
    "skf = StratifiedKFold(n_splits=5, shuffle=True, random_state=21)\n",
    "\n",
    "# Define the hyperparameter search space\n",
    "space = {        \n",
    "    'max_depth': hp.choice('max_depth', np.arange(2, 11, dtype = int)),\n",
    "    'n_estimators': hp.choice('n_estimators', np.arange(100, 1001, dtype = int)),\n",
    "    'learning_rate': hp.uniform('learning_rate', 1e-3, 5e-1),\n",
    "    'min_child_weight': hp.choice('min_child_weight', np.arange(1, 11, dtype = int)),\n",
    "    'num_leaves': hp.choice('num_leaves', np.arange(10, 65, dtype = int)),\n",
    "    'subsample': hp.uniform('subsample', 0.5, 1.0),\n",
    "    'min_child_samples': hp.choice('min_child_samples', np.arange(5, 101, dtype = int)),\n",
    "    'colsample_bytree': hp.uniform('colsample_bytree', 0.5, 1.0),\n",
    "    'reg_alpha': hp.uniform('reg_alpha', 1e-8, 1.0),\n",
    "    'reg_lambda': hp.uniform('reg_lambda', 1e-8, 1.0),\n",
    "}\n",
    "\n",
    "# Define the objective function to optimize\n",
    "def objective(params):    \n",
    "    classifier = lgb.LGBMClassifier(        \n",
    "        objective = 'binary',\n",
    "        max_depth = int(params['max_depth']),\n",
    "        n_estimators = int(params['n_estimators']),\n",
    "        learning_rate = params['learning_rate'],\n",
    "        min_child_weight = int(params['min_child_weight']),        \n",
    "        subsample = params['subsample'],\n",
    "        colsample_bytree = params['colsample_bytree'],\n",
    "        reg_alpha = params['reg_alpha'],\n",
    "        reg_lambda = params['reg_lambda'],\n",
    "        is_unbalance = True,                \n",
    "        seed = 21,\n",
    "        n_jobs = -1,\n",
    "        verbosity = -1,\n",
    "    )\n",
    "    \n",
    "    score = cross_val_score(classifier, X_train_4, y_less_train, cv=skf, scoring='neg_log_loss', n_jobs=-1)\n",
    "    return {'loss': -score.mean(), 'status': STATUS_OK}\n",
    "\n",
    "# Create a Trials object to track the optimization process\n",
    "trials = Trials()\n",
    "\n",
    "# Optimize the objective function using fmin\n",
    "best = fmin(\n",
    "    fn=objective,\n",
    "    space=space,\n",
    "    algo=tpe.suggest,\n",
    "    max_evals=100,\n",
    "    trials=trials,\n",
    "    rstate=np.random.default_rng(21)\n",
    ")"
   ]
  },
  {
   "cell_type": "code",
   "execution_count": 69,
   "id": "fea2ecac-a449-4bb3-961c-b82c2f6b7d24",
   "metadata": {},
   "outputs": [
    {
     "name": "stdout",
     "output_type": "stream",
     "text": [
      "\n",
      "Best hyperparameters: {'colsample_bytree': 0.5602545930207754, 'learning_rate': 0.013539405456631598, 'max_depth': 3, 'min_child_samples': 44, 'min_child_weight': 5, 'n_estimators': 445, 'num_leaves': 45, 'reg_alpha': 0.6845321663815306, 'reg_lambda': 0.6729222705168496, 'subsample': 0.5009234874826936}\n",
      "\n",
      "Best score (Minimum loss): 0.3907418874541598\n"
     ]
    }
   ],
   "source": [
    "# Print the best hyperparameters and the corresponding score\n",
    "print()\n",
    "print(\"Best hyperparameters:\", best)\n",
    "print()\n",
    "print(\"Best score (Minimum loss):\", trials.best_trial['result']['loss'])"
   ]
  },
  {
   "cell_type": "code",
   "execution_count": 70,
   "id": "ca613a77-62eb-487d-aead-452d77d7a4df",
   "metadata": {},
   "outputs": [
    {
     "name": "stdout",
     "output_type": "stream",
     "text": [
      "\n",
      "              precision    recall  f1-score   support\n",
      "\n",
      "           0     0.9000    0.8609    0.8800       115\n",
      "           1     0.7612    0.8226    0.7907        62\n",
      "\n",
      "    accuracy                         0.8475       177\n",
      "   macro avg     0.8306    0.8417    0.8353       177\n",
      "weighted avg     0.8514    0.8475    0.8487       177\n",
      "\n",
      "\n",
      "Accuracy: 0.8475\n",
      "\n",
      "Log Loss: 0.3553\n",
      "\n",
      "ROC AUC: 0.9215\n",
      "\n",
      "AUPRC: 0.8326\n",
      "\n"
     ]
    }
   ],
   "source": [
    "# Retrieve the best hyperparameters\n",
    "best_params = trials.best_trial['misc']['vals']\n",
    "\n",
    "# Extract scalar values from the lists\n",
    "max_depth = int(best_params['max_depth'][0])\n",
    "n_estimators = int(best_params['n_estimators'][0])\n",
    "learning_rate = best_params['learning_rate'][0]\n",
    "min_child_weight = int(best_params['min_child_weight'][0])\n",
    "min_child_samples = int(best_params['min_child_samples'][0])\n",
    "num_leaves = int(best_params['num_leaves'][0]) \n",
    "colsample_bytree = best_params['colsample_bytree'][0]\n",
    "subsample = best_params['subsample'][0]\n",
    "reg_alpha = best_params['reg_alpha'][0]\n",
    "reg_lambda = best_params['reg_lambda'][0]\n",
    "\n",
    "\n",
    "lgb_classifier_hyp = lgb.LGBMClassifier(objective = 'binary',\n",
    "                                        max_depth = max_depth,\n",
    "                                        n_estimators = n_estimators,\n",
    "                                        learning_rate = learning_rate,\n",
    "                                        min_child_weight = min_child_weight,\n",
    "                                        min_child_samples = min_child_samples,\n",
    "                                        num_eaves = num_leaves,\n",
    "                                        colsample_bytree = colsample_bytree,\n",
    "                                        subsample = subsample,\n",
    "                                        reg_alpha = reg_alpha,\n",
    "                                        reg_lambda = reg_lambda,                    \n",
    "                                        is_unbalance = True,                                      \n",
    "                                        seed=21,\n",
    "                                        n_jobs=-1, \n",
    "                                        verbosity = -1).fit(X_train_4, y_less_train)\n",
    "        \n",
    "result_hyp = lgb_classifier_hyp.score(X_test_4, y_less_test)\n",
    "\n",
    "y_pred_hyp = lgb_classifier_hyp.predict(X_test_4) \n",
    "\n",
    "y_pred_proba_hyp = lgb_classifier_hyp.predict_proba(X_test_4)\n",
    "\n",
    "\n",
    "print()\n",
    "print(classification_report(y_less_test, y_pred_hyp, digits = 4))\n",
    "\n",
    "print()\n",
    "print(\"Accuracy: {}\".format(round(result_hyp, 4)))\n",
    "\n",
    "print()\n",
    "# Calculate log loss\n",
    "log_loss_hyp = log_loss(y_less_test, y_pred_proba_hyp)\n",
    "\n",
    "print(\"Log Loss: {}\".format(round(log_loss_hyp, 4)))\n",
    "\n",
    "print()\n",
    "\n",
    "# Calculate ROC AUC\n",
    "roc_auc_hyp = roc_auc_score(y_less_test, y_pred_proba_hyp[:, 1])\n",
    "\n",
    "print(\"ROC AUC: {}\".format(round(roc_auc_hyp, 4)))\n",
    "\n",
    "print()\n",
    "\n",
    "# Calculate ROC curve\n",
    "fpr, tpr, thresholds = roc_curve(y_less_test, y_pred_proba_hyp[:, 1])\n",
    "\n",
    "# Calculate Precision-Recall curve\n",
    "precision, recall, thresholds = precision_recall_curve(y_less_test, y_pred_proba_hyp[:, 1])\n",
    "\n",
    "# Define recall levels for interpolation\n",
    "recall_levels = np.linspace(0, 1, 100)\n",
    "\n",
    "# Interpolate precision values for each recall level\n",
    "interp_precision = np.interp(recall_levels, recall[::-1], precision[::-1])\n",
    "\n",
    "# Calculate AUPRC using the trapezoidal rule\n",
    "auprc = np.trapz(interp_precision, recall_levels)\n",
    "\n",
    "print(\"AUPRC: {}\".format(round(auprc, 4)))\n",
    "\n",
    "print() "
   ]
  },
  {
   "cell_type": "code",
   "execution_count": 71,
   "id": "f5f928d5-48e8-4d2b-a4d3-ca1cb7bf315d",
   "metadata": {},
   "outputs": [
    {
     "data": {
      "application/vnd.jupyter.widget-view+json": {
       "model_id": "1b6ed3819ee04276be55ac9f47b2ea17",
       "version_major": 2,
       "version_minor": 0
      },
      "text/plain": [
       "  0%|          | 0/100 [00:00<?, ?it/s]"
      ]
     },
     "metadata": {},
     "output_type": "display_data"
    }
   ],
   "source": [
    "from catboost import CatBoostClassifier\n",
    "from sklearn.model_selection import StratifiedShuffleSplit, cross_val_score\n",
    "import optuna\n",
    "import catboost\n",
    "from optuna_integration import CatBoostPruningCallback\n",
    "\n",
    "\n",
    "# Consider StratifiedShuffleSplit for imbalanced classes\n",
    "skf = StratifiedShuffleSplit(n_splits=5, random_state=21)\n",
    "\n",
    "# Define the objective function with early stopping\n",
    "def catboost_objective(trial):\n",
    "    params = {\n",
    "        'objective': 'Logloss',  \n",
    "        'colsample_bylevel': trial.suggest_float('colsample_bylevel', 0.5, 1.0),\n",
    "        'depth': trial.suggest_int('max_depth', 2, 10), \n",
    "        'learning_rate': trial.suggest_float('learning_rate', 1e-3, 5e-1, log=False),        \n",
    "        'num_leaves': trial.suggest_int('num_leaves', 10, 64),\n",
    "        'min_data_in_leaf': trial.suggest_int('min_data_in_leaf', 5, 100),\n",
    "        'l2_leaf_reg': trial.suggest_float('l2_leaf_reg', 1e-8, 100.0, log=False),\n",
    "        'n_estimators': trial.suggest_int('n_estimators', 100, 1000),\n",
    "        'random_strength': trial.suggest_int('random_strength', 1, 100),\n",
    "        'subsample': trial.suggest_float(\"subsample\", 0.5, 1.0, log=False),\n",
    "        'random_seed': 21,\n",
    "        'grow_policy': 'Lossguide',\n",
    "        'boosting_type': 'Plain',\n",
    "        'used_ram_limit': '4gb',        \n",
    "        'silent':True,\n",
    "        'scale_pos_weight': trial.suggest_float('scale_pos_weight', 1.852, 1.870)        \n",
    "    }\n",
    "\n",
    "    scores = cross_val_score(CatBoostClassifier(**params), X_train_4, y_less_train, cv=skf, scoring='neg_log_loss', n_jobs=-1)\n",
    "    return -scores.mean()\n",
    "\n",
    "    \n",
    "\n",
    "# Create an Optuna study\n",
    "study = optuna.create_study(pruner=optuna.pruners.MedianPruner(n_warmup_steps=5),\n",
    "                            direction='minimize')\n",
    "\n",
    "# Optimize the objective function\n",
    "optuna.logging.set_verbosity(optuna.logging.WARNING)\n",
    "study.optimize(catboost_objective, n_trials=100, timeout=600, show_progress_bar = True)"
   ]
  },
  {
   "cell_type": "code",
   "execution_count": 72,
   "id": "23ed12fa-5705-4b81-be47-1adfcaddca82",
   "metadata": {},
   "outputs": [
    {
     "name": "stdout",
     "output_type": "stream",
     "text": [
      "\n",
      "Best hyperparameters: {'colsample_bylevel': 0.6632064502625165, 'max_depth': 9, 'learning_rate': 0.3007438687444517, 'num_leaves': 31, 'min_data_in_leaf': 96, 'l2_leaf_reg': 85.91471254349037, 'n_estimators': 131, 'random_strength': 7, 'subsample': 0.7793255637626639, 'scale_pos_weight': 1.858721428270166}\n",
      "\n",
      "Best score (Minimum loss): 0.3924896272584978\n",
      "\n"
     ]
    }
   ],
   "source": [
    "# Print the best hyperparameters and the corresponding score\n",
    "print()\n",
    "print(\"Best hyperparameters:\", study.best_params)\n",
    "print()\n",
    "print(\"Best score (Minimum loss):\", study.best_value)\n",
    "print()"
   ]
  },
  {
   "cell_type": "code",
   "execution_count": 73,
   "id": "78ef5da7-9cb5-48ea-8bc6-50e0f0306d63",
   "metadata": {},
   "outputs": [
    {
     "name": "stdout",
     "output_type": "stream",
     "text": [
      "\n",
      "              precision    recall  f1-score   support\n",
      "\n",
      "           0     0.8972    0.8348    0.8649       115\n",
      "           1     0.7286    0.8226    0.7727        62\n",
      "\n",
      "    accuracy                         0.8305       177\n",
      "   macro avg     0.8129    0.8287    0.8188       177\n",
      "weighted avg     0.8381    0.8305    0.8326       177\n",
      "\n",
      "\n",
      "Accuracy (CatBoost): 0.8305\n",
      "\n",
      "Log Loss (CatBoost): 0.3629\n",
      "\n",
      "ROC AUC (CatBoost): 0.9189340813464235\n",
      "\n",
      "AUPRC (CatBoost): 0.8514562615427981\n"
     ]
    }
   ],
   "source": [
    "# Train the CatBoost model with the best hyperparameters\n",
    "best_params = study.best_params\n",
    "catboost_model = CatBoostClassifier(**best_params,\n",
    "                                    objective = 'Logloss',\n",
    "                                    grow_policy = 'Lossguide',\n",
    "                                    silent = True,\n",
    "                                    boosting_type = 'Plain',\n",
    "                                    random_seed = 21,                                    \n",
    ")\n",
    "\n",
    "catboost_model.fit(X_train_4, y_less_train)\n",
    "\n",
    "# Evaluate the model on the test set\n",
    "result_cat = catboost_model.score(X_test_4, y_less_test)\n",
    "y_pred_cat = catboost_model.predict(X_test_4) \n",
    "y_pred_proba_cat = catboost_model.predict_proba(X_test_4)[:, 1]\n",
    "roc_auc_cat = roc_auc_score(y_less_test, y_pred_proba_cat)\n",
    "auprc_cat = average_precision_score(y_less_test, y_pred_proba_cat)\n",
    "\n",
    "print()\n",
    "print(classification_report(y_less_test, y_pred_cat, digits = 4))\n",
    "print()\n",
    "print(\"Accuracy (CatBoost): {}\".format(round(result_cat, 4)))\n",
    "\n",
    "# Calculate log loss\n",
    "log_loss_cat = log_loss(y_less_test, y_pred_proba_cat)\n",
    "print()\n",
    "print(\"Log Loss (CatBoost): {}\".format(round(log_loss_cat, 4)))\n",
    "print()\n",
    "print(\"ROC AUC (CatBoost):\", roc_auc_cat)\n",
    "print()\n",
    "print(\"AUPRC (CatBoost):\", auprc_cat)"
   ]
  },
  {
   "cell_type": "code",
   "execution_count": 74,
   "id": "774cb2b3-74a9-445e-af53-863e09a7c533",
   "metadata": {},
   "outputs": [
    {
     "name": "stdout",
     "output_type": "stream",
     "text": [
      "100%|██████| 100/100 [03:47<00:00,  2.28s/trial, best loss: 0.38426521319803114]\n"
     ]
    }
   ],
   "source": [
    "from catboost import CatBoostClassifier\n",
    "from hyperopt import hp, fmin, tpe, STATUS_OK, Trials\n",
    "from sklearn.model_selection import StratifiedShuffleSplit, cross_val_score\n",
    "import numpy as np\n",
    "import sklearn\n",
    "\n",
    "# Consider StratifiedShuffleSplit for imbalanced classes\n",
    "skf = StratifiedShuffleSplit(n_splits=5, random_state=21)\n",
    "\n",
    "# Define the hyperparameter search space\n",
    "space = {\n",
    "    'depth': hp.quniform('depth', 2, 10, 1), \n",
    "    'n_estimators': hp.choice('n_estimators', np.arange(100, 1001, dtype = int)),\n",
    "    'learning_rate': hp.uniform('learning_rate', 0.0, 1.0),\n",
    "    'max_leaves': hp.uniform('max_leaves', 10, 64),\n",
    "    'l2_leaf_reg': hp.uniform('l2_leaf_reg', 0, 100),\n",
    "    'colsample_bylevel': hp.uniform('colsample_bylevel', 0.5, 1.0),\n",
    "    'min_data_in_leaf': hp.uniform(\"min_data_in_leaf\", 5, 100), \n",
    "    'subsample': hp.uniform('subsample', 0.5, 1.0),\n",
    "    'random_strength': hp.quniform('random_strength', 1, 100, 1),\n",
    "    }\n",
    "\n",
    "# Define the objective function with early stopping\n",
    "def catboost_objective(params):\n",
    "    classifier = CatBoostClassifier(        \n",
    "        objective = 'Logloss',        \n",
    "        depth = int(params['depth']),\n",
    "        iterations = int(params['n_estimators']),\n",
    "        learning_rate = params['learning_rate'],\n",
    "        max_leaves = int(params['max_leaves']),\n",
    "        l2_leaf_reg = params['l2_leaf_reg'],\n",
    "        colsample_bylevel = params['colsample_bylevel'],\n",
    "        min_data_in_leaf = params['min_data_in_leaf'],\n",
    "        subsample = params['subsample'],\n",
    "        random_strength = int(params['random_strength']),        \n",
    "        random_state = 21,\n",
    "        grow_policy = 'Lossguide',\n",
    "        boosting_type = 'Plain',\n",
    "        silent = True,\n",
    "        thread_count = -1,  # Enable GPU if available\n",
    "\n",
    "    )\n",
    "\n",
    "    score = cross_val_score(classifier, X_train_4, y_less_train, cv=skf, scoring='neg_log_loss', n_jobs=-1)\n",
    "    return {'loss': -score.mean(), 'status': STATUS_OK}\n",
    "    \n",
    "# Create a Trials object to track the optimization process\n",
    "trials = Trials()\n",
    "\n",
    "# Optimize the objective function using fmin\n",
    "best = fmin(\n",
    "    fn=catboost_objective,\n",
    "    space=space,\n",
    "    algo=tpe.suggest,\n",
    "    max_evals=100,\n",
    "    trials=trials,\n",
    "    rstate=np.random.default_rng(21)\n",
    ")"
   ]
  },
  {
   "cell_type": "code",
   "execution_count": 75,
   "id": "5906759a-79dc-4407-9246-802cabcdde86",
   "metadata": {},
   "outputs": [
    {
     "name": "stdout",
     "output_type": "stream",
     "text": [
      "\n",
      "Best hyperparameters: {'colsample_bylevel': 0.8209874253435848, 'depth': 3.0, 'l2_leaf_reg': 37.720530722536225, 'learning_rate': 0.2683713789497887, 'max_leaves': 25.285893778894792, 'min_data_in_leaf': 24.252497146081907, 'n_estimators': 77, 'random_strength': 51.0, 'subsample': 0.7536717850112031}\n",
      "\n",
      "Best score: 0.38426521319803114\n"
     ]
    }
   ],
   "source": [
    "# Print the best hyperparameters and the corresponding score\n",
    "print()\n",
    "print(\"Best hyperparameters:\", best)\n",
    "print()\n",
    "print(\"Best score:\", trials.best_trial['result']['loss'])"
   ]
  },
  {
   "cell_type": "code",
   "execution_count": 76,
   "id": "d7c35a26-9c8b-40f6-b5c2-e5ab261669c2",
   "metadata": {},
   "outputs": [
    {
     "name": "stdout",
     "output_type": "stream",
     "text": [
      "\n",
      "              precision    recall  f1-score   support\n",
      "\n",
      "           0     0.8430    0.8870    0.8644       115\n",
      "           1     0.7679    0.6935    0.7288        62\n",
      "\n",
      "    accuracy                         0.8192       177\n",
      "   macro avg     0.8054    0.7903    0.7966       177\n",
      "weighted avg     0.8167    0.8192    0.8169       177\n",
      "\n",
      "\n",
      "Accuracy (CatBoost): 0.8192\n",
      "\n",
      "Log Loss (CatBoost): 0.3837\n",
      "\n",
      "ROC AUC (CatBoost): 0.9043478260869565\n",
      "\n",
      "AUPRC (CatBoost): 0.8083315307276265\n"
     ]
    }
   ],
   "source": [
    "# Retrieve the best hyperparameters\n",
    "best_params = trials.best_trial['misc']['vals']\n",
    "\n",
    "# Extract scalar values from the lists\n",
    "colsample_bylevel = best_params['colsample_bylevel'][0]\n",
    "depth = int(best_params['depth'][0])\n",
    "learning_rate = best_params['learning_rate'][0]\n",
    "max_leaves = int(best_params['max_leaves'][0])\n",
    "min_data_in_leaf = int(best_params['min_data_in_leaf'][0])\n",
    "l2_leaf_reg = best_params['l2_leaf_reg'][0]\n",
    "n_estimators = best_params['n_estimators'][0]\n",
    "random_strength = int(best_params['random_strength'][0])\n",
    "subsample = best_params['subsample'][0]\n",
    "\n",
    "\n",
    "# Create a new CatBoostClassifier instance with the best hyperparameters\n",
    "best_model = CatBoostClassifier(\n",
    "    objective='Logloss',\n",
    "    colsample_bylevel=colsample_bylevel,\n",
    "    depth=depth,\n",
    "    learning_rate=learning_rate,\n",
    "    max_leaves = max_leaves,\n",
    "    min_data_in_leaf = min_data_in_leaf,\n",
    "    l2_leaf_reg=l2_leaf_reg,\n",
    "    n_estimators = n_estimators,    \n",
    "    random_strength=random_strength,\n",
    "    subsample=subsample,\n",
    "    random_state=21,\n",
    "    grow_policy = 'Lossguide',\n",
    "    boosting_type = 'Plain',\n",
    "    silent = True,\n",
    "    thread_count=-1,    \n",
    ")\n",
    "\n",
    "# Train the best model on the resampled data\n",
    "best_model.fit(X_train_4, y_less_train)\n",
    "\n",
    "# Evaluate the model on the test set\n",
    "result_catboost = best_model.score(X_test_4, y_less_test)\n",
    "y_pred_catboost = best_model.predict(X_test_4)\n",
    "y_pred_proba_catboost = best_model.predict_proba(X_test_4)[:, 1]\n",
    "roc_auc_catboost = roc_auc_score(y_less_test, y_pred_proba_catboost)\n",
    "auprc_catboost = average_precision_score(y_less_test, y_pred_proba_catboost)\n",
    "\n",
    "print()\n",
    "print(classification_report(y_less_test, y_pred_catboost, digits = 4))\n",
    "print()\n",
    "print(\"Accuracy (CatBoost): {}\".format(round(result_catboost, 4)))\n",
    "\n",
    "# Calculate log loss\n",
    "log_loss_catboost = log_loss(y_less_test, y_pred_proba_catboost)\n",
    "print()\n",
    "print(\"Log Loss (CatBoost): {}\".format(round(log_loss_catboost, 4)))\n",
    "print()\n",
    "print(\"ROC AUC (CatBoost):\", roc_auc_catboost)\n",
    "print()\n",
    "print(\"AUPRC (CatBoost):\", auprc_catboost)"
   ]
  },
  {
   "cell_type": "code",
   "execution_count": null,
   "id": "99ed12c7-2fb2-44b1-9886-7983b3867590",
   "metadata": {},
   "outputs": [],
   "source": []
  }
 ],
 "metadata": {
  "kernelspec": {
   "display_name": "Python 3 (ipykernel)",
   "language": "python",
   "name": "python3"
  },
  "language_info": {
   "codemirror_mode": {
    "name": "ipython",
    "version": 3
   },
   "file_extension": ".py",
   "mimetype": "text/x-python",
   "name": "python",
   "nbconvert_exporter": "python",
   "pygments_lexer": "ipython3",
   "version": "3.11.8"
  },
  "widgets": {
   "application/vnd.jupyter.widget-state+json": {
    "state": {
     "021a8df3339c47a1b432798d0c7f9371": {
      "model_module": "@jupyter-widgets/base",
      "model_module_version": "2.0.0",
      "model_name": "LayoutModel",
      "state": {}
     },
     "033da7370d354302ad29a9b37920baa3": {
      "model_module": "@jupyter-widgets/base",
      "model_module_version": "2.0.0",
      "model_name": "LayoutModel",
      "state": {}
     },
     "0653d9bc3e7240b1806b118316abdcb5": {
      "model_module": "@jupyter-widgets/output",
      "model_module_version": "1.0.0",
      "model_name": "OutputModel",
      "state": {
       "layout": "IPY_MODEL_4c6b4241866e49e0baabe1c43436d8f5",
       "outputs": [
        {
         "data": {
          "text/html": "<b>Summary of BMI (Class 0)</b>",
          "text/plain": "<IPython.core.display.HTML object>"
         },
         "metadata": {},
         "output_type": "display_data"
        },
        {
         "data": {
          "text/html": "<div>\n<style scoped>\n    .dataframe tbody tr th:only-of-type {\n        vertical-align: middle;\n    }\n\n    .dataframe tbody tr th {\n        vertical-align: top;\n    }\n\n    .dataframe thead th {\n        text-align: right;\n    }\n</style>\n<table border=\"1\" class=\"dataframe\">\n  <thead>\n    <tr style=\"text-align: right;\">\n      <th></th>\n      <th>BMI</th>\n    </tr>\n  </thead>\n  <tbody>\n    <tr>\n      <th>count</th>\n      <td>500.000000</td>\n    </tr>\n    <tr>\n      <th>mean</th>\n      <td>30.845100</td>\n    </tr>\n    <tr>\n      <th>std</th>\n      <td>6.502196</td>\n    </tr>\n    <tr>\n      <th>min</th>\n      <td>18.200000</td>\n    </tr>\n    <tr>\n      <th>25%</th>\n      <td>25.750000</td>\n    </tr>\n    <tr>\n      <th>50%</th>\n      <td>30.075000</td>\n    </tr>\n    <tr>\n      <th>75%</th>\n      <td>35.300000</td>\n    </tr>\n    <tr>\n      <th>max</th>\n      <td>57.300000</td>\n    </tr>\n  </tbody>\n</table>\n</div>",
          "text/plain": "              BMI\ncount  500.000000\nmean    30.845100\nstd      6.502196\nmin     18.200000\n25%     25.750000\n50%     30.075000\n75%     35.300000\nmax     57.300000"
         },
         "metadata": {},
         "output_type": "display_data"
        }
       ]
      }
     },
     "073572de0f8f47be8401f5e882263bb8": {
      "model_module": "@jupyter-widgets/base",
      "model_module_version": "2.0.0",
      "model_name": "LayoutModel",
      "state": {}
     },
     "088f87550b9a4781aab3c69ff24098dd": {
      "model_module": "@jupyter-widgets/controls",
      "model_module_version": "2.0.0",
      "model_name": "HBoxModel",
      "state": {
       "children": [
        "IPY_MODEL_0eacc9c640ba45c4b8c6e8a23ff55739",
        "IPY_MODEL_0fab95f4948a49e390beecbb83191099"
       ],
       "layout": "IPY_MODEL_fbcf8668d1ef421b81984f572bd2f5b3"
      }
     },
     "08f8cb2dea48469dbcf03ac1805d5a66": {
      "model_module": "@jupyter-widgets/output",
      "model_module_version": "1.0.0",
      "model_name": "OutputModel",
      "state": {
       "layout": "IPY_MODEL_a8623572e6c14368b132053663cbdb80",
       "outputs": [
        {
         "data": {
          "text/html": "<b>Test set performance</b>",
          "text/plain": "<IPython.core.display.HTML object>"
         },
         "metadata": {},
         "output_type": "display_data"
        },
        {
         "data": {
          "text/html": "<div>\n<style scoped>\n    .dataframe tbody tr th:only-of-type {\n        vertical-align: middle;\n    }\n\n    .dataframe tbody tr th {\n        vertical-align: top;\n    }\n\n    .dataframe thead th {\n        text-align: right;\n    }\n</style>\n<table border=\"1\" class=\"dataframe\">\n  <thead>\n    <tr style=\"text-align: right;\">\n      <th></th>\n      <th>precision</th>\n      <th>recall</th>\n      <th>f1-score</th>\n      <th>support</th>\n    </tr>\n  </thead>\n  <tbody>\n    <tr>\n      <th>0</th>\n      <td>0.95</td>\n      <td>0.99</td>\n      <td>0.97</td>\n      <td>150.00</td>\n    </tr>\n    <tr>\n      <th>1</th>\n      <td>0.97</td>\n      <td>0.91</td>\n      <td>0.94</td>\n      <td>81.00</td>\n    </tr>\n    <tr>\n      <th>accuracy</th>\n      <td>0.96</td>\n      <td>0.96</td>\n      <td>0.96</td>\n      <td>0.96</td>\n    </tr>\n    <tr>\n      <th>macro avg</th>\n      <td>0.96</td>\n      <td>0.95</td>\n      <td>0.96</td>\n      <td>231.00</td>\n    </tr>\n    <tr>\n      <th>weighted avg</th>\n      <td>0.96</td>\n      <td>0.96</td>\n      <td>0.96</td>\n      <td>231.00</td>\n    </tr>\n  </tbody>\n</table>\n</div>",
          "text/plain": "             precision recall f1-score support\n0                 0.95   0.99     0.97  150.00\n1                 0.97   0.91     0.94   81.00\naccuracy          0.96   0.96     0.96    0.96\nmacro avg         0.96   0.95     0.96  231.00\nweighted avg      0.96   0.96     0.96  231.00"
         },
         "metadata": {},
         "output_type": "display_data"
        }
       ]
      }
     },
     "0ba82bf5c1d04c0f8d07e5f84fb6c988": {
      "model_module": "@jupyter-widgets/output",
      "model_module_version": "1.0.0",
      "model_name": "OutputModel",
      "state": {
       "layout": "IPY_MODEL_83511793341a47d09460daa2db696e4a",
       "outputs": [
        {
         "data": {
          "text/html": "<b>Summary of Skin Thickness (Total)</b>",
          "text/plain": "<IPython.core.display.HTML object>"
         },
         "metadata": {},
         "output_type": "display_data"
        },
        {
         "data": {
          "text/html": "<div>\n<style scoped>\n    .dataframe tbody tr th:only-of-type {\n        vertical-align: middle;\n    }\n\n    .dataframe tbody tr th {\n        vertical-align: top;\n    }\n\n    .dataframe thead th {\n        text-align: right;\n    }\n</style>\n<table border=\"1\" class=\"dataframe\">\n  <thead>\n    <tr style=\"text-align: right;\">\n      <th></th>\n      <th>SkinThickness</th>\n    </tr>\n  </thead>\n  <tbody>\n    <tr>\n      <th>count</th>\n      <td>768.000000</td>\n    </tr>\n    <tr>\n      <th>mean</th>\n      <td>20.536458</td>\n    </tr>\n    <tr>\n      <th>std</th>\n      <td>15.952218</td>\n    </tr>\n    <tr>\n      <th>min</th>\n      <td>0.000000</td>\n    </tr>\n    <tr>\n      <th>25%</th>\n      <td>0.000000</td>\n    </tr>\n    <tr>\n      <th>50%</th>\n      <td>23.000000</td>\n    </tr>\n    <tr>\n      <th>75%</th>\n      <td>32.000000</td>\n    </tr>\n    <tr>\n      <th>max</th>\n      <td>99.000000</td>\n    </tr>\n  </tbody>\n</table>\n</div>",
          "text/plain": "       SkinThickness\ncount     768.000000\nmean       20.536458\nstd        15.952218\nmin         0.000000\n25%         0.000000\n50%        23.000000\n75%        32.000000\nmax        99.000000"
         },
         "metadata": {},
         "output_type": "display_data"
        }
       ]
      }
     },
     "0eacc9c640ba45c4b8c6e8a23ff55739": {
      "model_module": "@jupyter-widgets/output",
      "model_module_version": "1.0.0",
      "model_name": "OutputModel",
      "state": {
       "layout": "IPY_MODEL_5deeead4af2749d7a2a9333f0d4e7b93",
       "outputs": [
        {
         "data": {
          "text/html": "<b>Training set performance</b>",
          "text/plain": "<IPython.core.display.HTML object>"
         },
         "metadata": {},
         "output_type": "display_data"
        },
        {
         "data": {
          "text/html": "<div>\n<style scoped>\n    .dataframe tbody tr th:only-of-type {\n        vertical-align: middle;\n    }\n\n    .dataframe tbody tr th {\n        vertical-align: top;\n    }\n\n    .dataframe thead th {\n        text-align: right;\n    }\n</style>\n<table border=\"1\" class=\"dataframe\">\n  <thead>\n    <tr style=\"text-align: right;\">\n      <th></th>\n      <th>precision</th>\n      <th>recall</th>\n      <th>f1-score</th>\n      <th>support</th>\n    </tr>\n  </thead>\n  <tbody>\n    <tr>\n      <th>0</th>\n      <td>1.00</td>\n      <td>1.00</td>\n      <td>1.00</td>\n      <td>350.00</td>\n    </tr>\n    <tr>\n      <th>1</th>\n      <td>0.99</td>\n      <td>1.00</td>\n      <td>1.00</td>\n      <td>187.00</td>\n    </tr>\n    <tr>\n      <th>accuracy</th>\n      <td>1.00</td>\n      <td>1.00</td>\n      <td>1.00</td>\n      <td>1.00</td>\n    </tr>\n    <tr>\n      <th>macro avg</th>\n      <td>1.00</td>\n      <td>1.00</td>\n      <td>1.00</td>\n      <td>537.00</td>\n    </tr>\n    <tr>\n      <th>weighted avg</th>\n      <td>1.00</td>\n      <td>1.00</td>\n      <td>1.00</td>\n      <td>537.00</td>\n    </tr>\n  </tbody>\n</table>\n</div>",
          "text/plain": "             precision recall f1-score support\n0                 1.00   1.00     1.00  350.00\n1                 0.99   1.00     1.00  187.00\naccuracy          1.00   1.00     1.00    1.00\nmacro avg         1.00   1.00     1.00  537.00\nweighted avg      1.00   1.00     1.00  537.00"
         },
         "metadata": {},
         "output_type": "display_data"
        }
       ]
      }
     },
     "0fab95f4948a49e390beecbb83191099": {
      "model_module": "@jupyter-widgets/output",
      "model_module_version": "1.0.0",
      "model_name": "OutputModel",
      "state": {
       "layout": "IPY_MODEL_313c648e5e3d43c88b99349c33270fe7",
       "outputs": [
        {
         "data": {
          "text/html": "<b>Test set performance</b>",
          "text/plain": "<IPython.core.display.HTML object>"
         },
         "metadata": {},
         "output_type": "display_data"
        },
        {
         "data": {
          "text/html": "<div>\n<style scoped>\n    .dataframe tbody tr th:only-of-type {\n        vertical-align: middle;\n    }\n\n    .dataframe tbody tr th {\n        vertical-align: top;\n    }\n\n    .dataframe thead th {\n        text-align: right;\n    }\n</style>\n<table border=\"1\" class=\"dataframe\">\n  <thead>\n    <tr style=\"text-align: right;\">\n      <th></th>\n      <th>precision</th>\n      <th>recall</th>\n      <th>f1-score</th>\n      <th>support</th>\n    </tr>\n  </thead>\n  <tbody>\n    <tr>\n      <th>0</th>\n      <td>0.95</td>\n      <td>0.99</td>\n      <td>0.97</td>\n      <td>150.00</td>\n    </tr>\n    <tr>\n      <th>1</th>\n      <td>0.97</td>\n      <td>0.91</td>\n      <td>0.94</td>\n      <td>81.00</td>\n    </tr>\n    <tr>\n      <th>accuracy</th>\n      <td>0.96</td>\n      <td>0.96</td>\n      <td>0.96</td>\n      <td>0.96</td>\n    </tr>\n    <tr>\n      <th>macro avg</th>\n      <td>0.96</td>\n      <td>0.95</td>\n      <td>0.96</td>\n      <td>231.00</td>\n    </tr>\n    <tr>\n      <th>weighted avg</th>\n      <td>0.96</td>\n      <td>0.96</td>\n      <td>0.96</td>\n      <td>231.00</td>\n    </tr>\n  </tbody>\n</table>\n</div>",
          "text/plain": "             precision recall f1-score support\n0                 0.95   0.99     0.97  150.00\n1                 0.97   0.91     0.94   81.00\naccuracy          0.96   0.96     0.96    0.96\nmacro avg         0.96   0.95     0.96  231.00\nweighted avg      0.96   0.96     0.96  231.00"
         },
         "metadata": {},
         "output_type": "display_data"
        }
       ]
      }
     },
     "15ae6e54e93848eca70a1f67aceef20b": {
      "model_module": "@jupyter-widgets/base",
      "model_module_version": "2.0.0",
      "model_name": "LayoutModel",
      "state": {}
     },
     "15c7488f63804e4bb08908bfd8ac43ca": {
      "model_module": "@jupyter-widgets/output",
      "model_module_version": "1.0.0",
      "model_name": "OutputModel",
      "state": {
       "layout": "IPY_MODEL_a655bec9fe0e463ab6c048720460f6db",
       "outputs": [
        {
         "data": {
          "text/html": "<b>Summary of Skin Thickness (Total)</b>",
          "text/plain": "<IPython.core.display.HTML object>"
         },
         "metadata": {},
         "output_type": "display_data"
        },
        {
         "data": {
          "text/html": "<div>\n<style scoped>\n    .dataframe tbody tr th:only-of-type {\n        vertical-align: middle;\n    }\n\n    .dataframe tbody tr th {\n        vertical-align: top;\n    }\n\n    .dataframe thead th {\n        text-align: right;\n    }\n</style>\n<table border=\"1\" class=\"dataframe\">\n  <thead>\n    <tr style=\"text-align: right;\">\n      <th></th>\n      <th>SkinThickness</th>\n    </tr>\n  </thead>\n  <tbody>\n    <tr>\n      <th>count</th>\n      <td>768.00000</td>\n    </tr>\n    <tr>\n      <th>mean</th>\n      <td>27.43099</td>\n    </tr>\n    <tr>\n      <th>std</th>\n      <td>9.32146</td>\n    </tr>\n    <tr>\n      <th>min</th>\n      <td>7.00000</td>\n    </tr>\n    <tr>\n      <th>25%</th>\n      <td>21.00000</td>\n    </tr>\n    <tr>\n      <th>50%</th>\n      <td>27.00000</td>\n    </tr>\n    <tr>\n      <th>75%</th>\n      <td>32.00000</td>\n    </tr>\n    <tr>\n      <th>max</th>\n      <td>99.00000</td>\n    </tr>\n  </tbody>\n</table>\n</div>",
          "text/plain": "       SkinThickness\ncount      768.00000\nmean        27.43099\nstd          9.32146\nmin          7.00000\n25%         21.00000\n50%         27.00000\n75%         32.00000\nmax         99.00000"
         },
         "metadata": {},
         "output_type": "display_data"
        }
       ]
      }
     },
     "1ad6e98effc74bbebc5c945d60454e55": {
      "model_module": "@jupyter-widgets/base",
      "model_module_version": "2.0.0",
      "model_name": "LayoutModel",
      "state": {
       "display": "flex",
       "flex_flow": "row",
       "justify_content": "flex-start",
       "width": "auto"
      }
     },
     "1fb674be1f794eeda8bfcc02d9f10f00": {
      "model_module": "@jupyter-widgets/output",
      "model_module_version": "1.0.0",
      "model_name": "OutputModel",
      "state": {
       "layout": "IPY_MODEL_073572de0f8f47be8401f5e882263bb8",
       "outputs": [
        {
         "data": {
          "text/html": "<b>Summary of Skin Thickness (Class 0)</b>",
          "text/plain": "<IPython.core.display.HTML object>"
         },
         "metadata": {},
         "output_type": "display_data"
        },
        {
         "data": {
          "text/html": "<div>\n<style scoped>\n    .dataframe tbody tr th:only-of-type {\n        vertical-align: middle;\n    }\n\n    .dataframe tbody tr th {\n        vertical-align: top;\n    }\n\n    .dataframe thead th {\n        text-align: right;\n    }\n</style>\n<table border=\"1\" class=\"dataframe\">\n  <thead>\n    <tr style=\"text-align: right;\">\n      <th></th>\n      <th>SkinThickness</th>\n    </tr>\n  </thead>\n  <tbody>\n    <tr>\n      <th>count</th>\n      <td>500.000000</td>\n    </tr>\n    <tr>\n      <th>mean</th>\n      <td>25.502000</td>\n    </tr>\n    <tr>\n      <th>std</th>\n      <td>8.963631</td>\n    </tr>\n    <tr>\n      <th>min</th>\n      <td>7.000000</td>\n    </tr>\n    <tr>\n      <th>25%</th>\n      <td>21.000000</td>\n    </tr>\n    <tr>\n      <th>50%</th>\n      <td>21.000000</td>\n    </tr>\n    <tr>\n      <th>75%</th>\n      <td>31.000000</td>\n    </tr>\n    <tr>\n      <th>max</th>\n      <td>60.000000</td>\n    </tr>\n  </tbody>\n</table>\n</div>",
          "text/plain": "       SkinThickness\ncount     500.000000\nmean       25.502000\nstd         8.963631\nmin         7.000000\n25%        21.000000\n50%        21.000000\n75%        31.000000\nmax        60.000000"
         },
         "metadata": {},
         "output_type": "display_data"
        }
       ]
      }
     },
     "22b2ee0fa06e4934b8c4b1ac6e7b1fd0": {
      "model_module": "@jupyter-widgets/base",
      "model_module_version": "2.0.0",
      "model_name": "LayoutModel",
      "state": {}
     },
     "2a010966af9e4f6e83f45f445541f5ef": {
      "model_module": "@jupyter-widgets/controls",
      "model_module_version": "2.0.0",
      "model_name": "HBoxModel",
      "state": {
       "children": [
        "IPY_MODEL_77e032d3dc8f4b2b841a951c699d3963",
        "IPY_MODEL_ae9546c9a1e546c48d1f21d81b87dfa3"
       ],
       "layout": "IPY_MODEL_b44e443e5cb54a8aabe44caea9038474"
      }
     },
     "313c648e5e3d43c88b99349c33270fe7": {
      "model_module": "@jupyter-widgets/base",
      "model_module_version": "2.0.0",
      "model_name": "LayoutModel",
      "state": {}
     },
     "34e854b339f04982b3f4161ec7c959f3": {
      "model_module": "@jupyter-widgets/output",
      "model_module_version": "1.0.0",
      "model_name": "OutputModel",
      "state": {
       "layout": "IPY_MODEL_ecababacd6f048849b98bf20fd8bd15b",
       "outputs": [
        {
         "data": {
          "text/html": "<b>Summary of Insulin (Class 1)</b>",
          "text/plain": "<IPython.core.display.HTML object>"
         },
         "metadata": {},
         "output_type": "display_data"
        },
        {
         "data": {
          "text/html": "<div>\n<style scoped>\n    .dataframe tbody tr th:only-of-type {\n        vertical-align: middle;\n    }\n\n    .dataframe tbody tr th {\n        vertical-align: top;\n    }\n\n    .dataframe thead th {\n        text-align: right;\n    }\n</style>\n<table border=\"1\" class=\"dataframe\">\n  <thead>\n    <tr style=\"text-align: right;\">\n      <th></th>\n      <th>Insulin</th>\n    </tr>\n  </thead>\n  <tbody>\n    <tr>\n      <th>count</th>\n      <td>268.000000</td>\n    </tr>\n    <tr>\n      <th>mean</th>\n      <td>100.335821</td>\n    </tr>\n    <tr>\n      <th>std</th>\n      <td>138.689125</td>\n    </tr>\n    <tr>\n      <th>min</th>\n      <td>0.000000</td>\n    </tr>\n    <tr>\n      <th>25%</th>\n      <td>0.000000</td>\n    </tr>\n    <tr>\n      <th>50%</th>\n      <td>0.000000</td>\n    </tr>\n    <tr>\n      <th>75%</th>\n      <td>167.250000</td>\n    </tr>\n    <tr>\n      <th>max</th>\n      <td>846.000000</td>\n    </tr>\n  </tbody>\n</table>\n</div>",
          "text/plain": "          Insulin\ncount  268.000000\nmean   100.335821\nstd    138.689125\nmin      0.000000\n25%      0.000000\n50%      0.000000\n75%    167.250000\nmax    846.000000"
         },
         "metadata": {},
         "output_type": "display_data"
        }
       ]
      }
     },
     "362ee42d5008449499d619754bed3dbe": {
      "model_module": "@jupyter-widgets/output",
      "model_module_version": "1.0.0",
      "model_name": "OutputModel",
      "state": {
       "layout": "IPY_MODEL_15ae6e54e93848eca70a1f67aceef20b",
       "outputs": [
        {
         "data": {
          "text/html": "<b>Summary of Blood Pressure (Class 0)</b>",
          "text/plain": "<IPython.core.display.HTML object>"
         },
         "metadata": {},
         "output_type": "display_data"
        },
        {
         "data": {
          "text/html": "<div>\n<style scoped>\n    .dataframe tbody tr th:only-of-type {\n        vertical-align: middle;\n    }\n\n    .dataframe tbody tr th {\n        vertical-align: top;\n    }\n\n    .dataframe thead th {\n        text-align: right;\n    }\n</style>\n<table border=\"1\" class=\"dataframe\">\n  <thead>\n    <tr style=\"text-align: right;\">\n      <th></th>\n      <th>BloodPressure</th>\n    </tr>\n  </thead>\n  <tbody>\n    <tr>\n      <th>count</th>\n      <td>500.000000</td>\n    </tr>\n    <tr>\n      <th>mean</th>\n      <td>70.844000</td>\n    </tr>\n    <tr>\n      <th>std</th>\n      <td>11.928631</td>\n    </tr>\n    <tr>\n      <th>min</th>\n      <td>24.000000</td>\n    </tr>\n    <tr>\n      <th>25%</th>\n      <td>63.500000</td>\n    </tr>\n    <tr>\n      <th>50%</th>\n      <td>70.000000</td>\n    </tr>\n    <tr>\n      <th>75%</th>\n      <td>78.000000</td>\n    </tr>\n    <tr>\n      <th>max</th>\n      <td>122.000000</td>\n    </tr>\n  </tbody>\n</table>\n</div>",
          "text/plain": "       BloodPressure\ncount     500.000000\nmean       70.844000\nstd        11.928631\nmin        24.000000\n25%        63.500000\n50%        70.000000\n75%        78.000000\nmax       122.000000"
         },
         "metadata": {},
         "output_type": "display_data"
        }
       ]
      }
     },
     "39952572a6b5415bb5794b887645d8fe": {
      "model_module": "@jupyter-widgets/base",
      "model_module_version": "2.0.0",
      "model_name": "LayoutModel",
      "state": {}
     },
     "3ba13169912e4ae98e7d9fd7c7803392": {
      "model_module": "@jupyter-widgets/output",
      "model_module_version": "1.0.0",
      "model_name": "OutputModel",
      "state": {
       "layout": "IPY_MODEL_f31ee765bce248438279197114882ec5",
       "outputs": [
        {
         "data": {
          "text/html": "<b>Summary of Glucose (Class 0)</b>",
          "text/plain": "<IPython.core.display.HTML object>"
         },
         "metadata": {},
         "output_type": "display_data"
        },
        {
         "data": {
          "text/html": "<div>\n<style scoped>\n    .dataframe tbody tr th:only-of-type {\n        vertical-align: middle;\n    }\n\n    .dataframe tbody tr th {\n        vertical-align: top;\n    }\n\n    .dataframe thead th {\n        text-align: right;\n    }\n</style>\n<table border=\"1\" class=\"dataframe\">\n  <thead>\n    <tr style=\"text-align: right;\">\n      <th></th>\n      <th>Glucose</th>\n    </tr>\n  </thead>\n  <tbody>\n    <tr>\n      <th>count</th>\n      <td>500.0000</td>\n    </tr>\n    <tr>\n      <th>mean</th>\n      <td>109.9800</td>\n    </tr>\n    <tr>\n      <th>std</th>\n      <td>26.1412</td>\n    </tr>\n    <tr>\n      <th>min</th>\n      <td>0.0000</td>\n    </tr>\n    <tr>\n      <th>25%</th>\n      <td>93.0000</td>\n    </tr>\n    <tr>\n      <th>50%</th>\n      <td>107.0000</td>\n    </tr>\n    <tr>\n      <th>75%</th>\n      <td>125.0000</td>\n    </tr>\n    <tr>\n      <th>max</th>\n      <td>197.0000</td>\n    </tr>\n  </tbody>\n</table>\n</div>",
          "text/plain": "        Glucose\ncount  500.0000\nmean   109.9800\nstd     26.1412\nmin      0.0000\n25%     93.0000\n50%    107.0000\n75%    125.0000\nmax    197.0000"
         },
         "metadata": {},
         "output_type": "display_data"
        }
       ]
      }
     },
     "3ba260337a2d4cc297715a430883d220": {
      "model_module": "@jupyter-widgets/base",
      "model_module_version": "2.0.0",
      "model_name": "LayoutModel",
      "state": {
       "display": "flex",
       "flex_flow": "row",
       "justify_content": "flex-start",
       "width": "auto"
      }
     },
     "40054fc903dd4372bbfa388e18201e3b": {
      "model_module": "@jupyter-widgets/controls",
      "model_module_version": "2.0.0",
      "model_name": "HBoxModel",
      "state": {
       "children": [
        "IPY_MODEL_d4a41a7035d64efaa0be81376103ae43",
        "IPY_MODEL_46ad0065e54048e38a0283ce7fce73c5"
       ],
       "layout": "IPY_MODEL_9dbb99896f0f436fbf1706d97a9e9c9c"
      }
     },
     "4098787e2f974f7cb9d4108dc919aef8": {
      "model_module": "@jupyter-widgets/base",
      "model_module_version": "2.0.0",
      "model_name": "LayoutModel",
      "state": {}
     },
     "419daa4cdfbf4c10848a333856f3cbc4": {
      "model_module": "@jupyter-widgets/base",
      "model_module_version": "2.0.0",
      "model_name": "LayoutModel",
      "state": {}
     },
     "43372623f5a94c16abe5a74b78676165": {
      "model_module": "@jupyter-widgets/base",
      "model_module_version": "2.0.0",
      "model_name": "LayoutModel",
      "state": {}
     },
     "45dc95ffb27746178a736f96b65f1bc5": {
      "model_module": "@jupyter-widgets/base",
      "model_module_version": "2.0.0",
      "model_name": "LayoutModel",
      "state": {}
     },
     "45f303ebf71f4f2fa54a0381948a3777": {
      "model_module": "@jupyter-widgets/output",
      "model_module_version": "1.0.0",
      "model_name": "OutputModel",
      "state": {
       "layout": "IPY_MODEL_fbfa2a58a1db4bfab5c4aa2e7695987c",
       "outputs": [
        {
         "data": {
          "text/html": "<b>Summary of Skin Thickness (Class 0)</b>",
          "text/plain": "<IPython.core.display.HTML object>"
         },
         "metadata": {},
         "output_type": "display_data"
        },
        {
         "data": {
          "text/html": "<div>\n<style scoped>\n    .dataframe tbody tr th:only-of-type {\n        vertical-align: middle;\n    }\n\n    .dataframe tbody tr th {\n        vertical-align: top;\n    }\n\n    .dataframe thead th {\n        text-align: right;\n    }\n</style>\n<table border=\"1\" class=\"dataframe\">\n  <thead>\n    <tr style=\"text-align: right;\">\n      <th></th>\n      <th>SkinThickness</th>\n    </tr>\n  </thead>\n  <tbody>\n    <tr>\n      <th>count</th>\n      <td>500.000000</td>\n    </tr>\n    <tr>\n      <th>mean</th>\n      <td>19.664000</td>\n    </tr>\n    <tr>\n      <th>std</th>\n      <td>14.889947</td>\n    </tr>\n    <tr>\n      <th>min</th>\n      <td>0.000000</td>\n    </tr>\n    <tr>\n      <th>25%</th>\n      <td>0.000000</td>\n    </tr>\n    <tr>\n      <th>50%</th>\n      <td>21.000000</td>\n    </tr>\n    <tr>\n      <th>75%</th>\n      <td>31.000000</td>\n    </tr>\n    <tr>\n      <th>max</th>\n      <td>60.000000</td>\n    </tr>\n  </tbody>\n</table>\n</div>",
          "text/plain": "       SkinThickness\ncount     500.000000\nmean       19.664000\nstd        14.889947\nmin         0.000000\n25%         0.000000\n50%        21.000000\n75%        31.000000\nmax        60.000000"
         },
         "metadata": {},
         "output_type": "display_data"
        }
       ]
      }
     },
     "46ad0065e54048e38a0283ce7fce73c5": {
      "model_module": "@jupyter-widgets/output",
      "model_module_version": "1.0.0",
      "model_name": "OutputModel",
      "state": {
       "layout": "IPY_MODEL_98ac79291a9e4e23b86413335c5b9ce2",
       "outputs": [
        {
         "data": {
          "text/html": "<b>(Log Loss, ROC Curve, Precission-Recall)</b>",
          "text/plain": "<IPython.core.display.HTML object>"
         },
         "metadata": {},
         "output_type": "display_data"
        },
        {
         "data": {
          "text/html": "<div>\n<style scoped>\n    .dataframe tbody tr th:only-of-type {\n        vertical-align: middle;\n    }\n\n    .dataframe tbody tr th {\n        vertical-align: top;\n    }\n\n    .dataframe thead th {\n        text-align: right;\n    }\n</style>\n<table border=\"1\" class=\"dataframe\">\n  <thead>\n    <tr style=\"text-align: right;\">\n      <th></th>\n      <th>Test Score</th>\n    </tr>\n  </thead>\n  <tbody>\n    <tr>\n      <th>Log Loss</th>\n      <td>0.1099</td>\n    </tr>\n    <tr>\n      <th>ROC AUC</th>\n      <td>0.9933</td>\n    </tr>\n    <tr>\n      <th>AUPRC</th>\n      <td>0.9872</td>\n    </tr>\n  </tbody>\n</table>\n</div>",
          "text/plain": "          Test Score\nLog Loss      0.1099\nROC AUC       0.9933\nAUPRC         0.9872"
         },
         "metadata": {},
         "output_type": "display_data"
        }
       ]
      }
     },
     "48ed2f7b80ac468ab67586a13c1189a5": {
      "model_module": "@jupyter-widgets/base",
      "model_module_version": "2.0.0",
      "model_name": "LayoutModel",
      "state": {}
     },
     "49d805ae1afe44548e5307989905924c": {
      "model_module": "@jupyter-widgets/controls",
      "model_module_version": "2.0.0",
      "model_name": "HBoxModel",
      "state": {
       "children": [
        "IPY_MODEL_d1e1578ea3be4923931d0c3612ab4348",
        "IPY_MODEL_08f8cb2dea48469dbcf03ac1805d5a66"
       ],
       "layout": "IPY_MODEL_9bbedc74945844059ba152eab3200d6d"
      }
     },
     "4a4ba59d0f24446089bd62a4d9469eac": {
      "model_module": "@jupyter-widgets/controls",
      "model_module_version": "2.0.0",
      "model_name": "HBoxModel",
      "state": {
       "children": [
        "IPY_MODEL_91b4569a5ec94082901d33e3013e0a6e",
        "IPY_MODEL_8a9d3f4deaa645c08b26411efa4ee861",
        "IPY_MODEL_62df22e1c4c54adbb255194a938f80be",
        "IPY_MODEL_54154cee1f254935ae97a526d9bebaa2",
        "IPY_MODEL_da9246836ca245e3bbce3414a05fa9f7",
        "IPY_MODEL_bbdd0d98563843d4a5918c5831f6f3b9"
       ],
       "layout": "IPY_MODEL_e20d6644341f474588ed2b13aab60bb3"
      }
     },
     "4ab0662aa615436fb55a023d2388caa8": {
      "model_module": "@jupyter-widgets/output",
      "model_module_version": "1.0.0",
      "model_name": "OutputModel",
      "state": {
       "layout": "IPY_MODEL_033da7370d354302ad29a9b37920baa3",
       "outputs": [
        {
         "data": {
          "text/html": "<b>Summary of Insulin (Class 0)</b>",
          "text/plain": "<IPython.core.display.HTML object>"
         },
         "metadata": {},
         "output_type": "display_data"
        },
        {
         "data": {
          "text/html": "<div>\n<style scoped>\n    .dataframe tbody tr th:only-of-type {\n        vertical-align: middle;\n    }\n\n    .dataframe tbody tr th {\n        vertical-align: top;\n    }\n\n    .dataframe thead th {\n        text-align: right;\n    }\n</style>\n<table border=\"1\" class=\"dataframe\">\n  <thead>\n    <tr style=\"text-align: right;\">\n      <th></th>\n      <th>Insulin</th>\n    </tr>\n  </thead>\n  <tbody>\n    <tr>\n      <th>count</th>\n      <td>500.000000</td>\n    </tr>\n    <tr>\n      <th>mean</th>\n      <td>68.792000</td>\n    </tr>\n    <tr>\n      <th>std</th>\n      <td>98.865289</td>\n    </tr>\n    <tr>\n      <th>min</th>\n      <td>0.000000</td>\n    </tr>\n    <tr>\n      <th>25%</th>\n      <td>0.000000</td>\n    </tr>\n    <tr>\n      <th>50%</th>\n      <td>39.000000</td>\n    </tr>\n    <tr>\n      <th>75%</th>\n      <td>105.000000</td>\n    </tr>\n    <tr>\n      <th>max</th>\n      <td>744.000000</td>\n    </tr>\n  </tbody>\n</table>\n</div>",
          "text/plain": "          Insulin\ncount  500.000000\nmean    68.792000\nstd     98.865289\nmin      0.000000\n25%      0.000000\n50%     39.000000\n75%    105.000000\nmax    744.000000"
         },
         "metadata": {},
         "output_type": "display_data"
        }
       ]
      }
     },
     "4bb45523a60f4cc4bc44da0c6628eba4": {
      "model_module": "@jupyter-widgets/output",
      "model_module_version": "1.0.0",
      "model_name": "OutputModel",
      "state": {
       "layout": "IPY_MODEL_53ddb2847a33466eb13b7d5e47a8e924",
       "outputs": [
        {
         "data": {
          "text/html": "<b>Summary of Insulin (Class 1)</b>",
          "text/plain": "<IPython.core.display.HTML object>"
         },
         "metadata": {},
         "output_type": "display_data"
        },
        {
         "data": {
          "text/html": "<div>\n<style scoped>\n    .dataframe tbody tr th:only-of-type {\n        vertical-align: middle;\n    }\n\n    .dataframe tbody tr th {\n        vertical-align: top;\n    }\n\n    .dataframe thead th {\n        text-align: right;\n    }\n</style>\n<table border=\"1\" class=\"dataframe\">\n  <thead>\n    <tr style=\"text-align: right;\">\n      <th></th>\n      <th>Insulin</th>\n    </tr>\n  </thead>\n  <tbody>\n    <tr>\n      <th>count</th>\n      <td>268.000000</td>\n    </tr>\n    <tr>\n      <th>mean</th>\n      <td>85.414179</td>\n    </tr>\n    <tr>\n      <th>std</th>\n      <td>40.150607</td>\n    </tr>\n    <tr>\n      <th>min</th>\n      <td>29.000000</td>\n    </tr>\n    <tr>\n      <th>25%</th>\n      <td>79.000000</td>\n    </tr>\n    <tr>\n      <th>50%</th>\n      <td>79.000000</td>\n    </tr>\n    <tr>\n      <th>75%</th>\n      <td>79.000000</td>\n    </tr>\n    <tr>\n      <th>max</th>\n      <td>600.000000</td>\n    </tr>\n  </tbody>\n</table>\n</div>",
          "text/plain": "          Insulin\ncount  268.000000\nmean    85.414179\nstd     40.150607\nmin     29.000000\n25%     79.000000\n50%     79.000000\n75%     79.000000\nmax    600.000000"
         },
         "metadata": {},
         "output_type": "display_data"
        }
       ]
      }
     },
     "4c6b4241866e49e0baabe1c43436d8f5": {
      "model_module": "@jupyter-widgets/base",
      "model_module_version": "2.0.0",
      "model_name": "LayoutModel",
      "state": {}
     },
     "4e23c37aa1b3400e8708fcd5e4b0553b": {
      "model_module": "@jupyter-widgets/base",
      "model_module_version": "2.0.0",
      "model_name": "LayoutModel",
      "state": {}
     },
     "53ddb2847a33466eb13b7d5e47a8e924": {
      "model_module": "@jupyter-widgets/base",
      "model_module_version": "2.0.0",
      "model_name": "LayoutModel",
      "state": {}
     },
     "54154cee1f254935ae97a526d9bebaa2": {
      "model_module": "@jupyter-widgets/output",
      "model_module_version": "1.0.0",
      "model_name": "OutputModel",
      "state": {
       "layout": "IPY_MODEL_48ed2f7b80ac468ab67586a13c1189a5",
       "outputs": [
        {
         "data": {
          "text/html": "<b>Summary of Blood Pressure (Class 0)</b>",
          "text/plain": "<IPython.core.display.HTML object>"
         },
         "metadata": {},
         "output_type": "display_data"
        },
        {
         "data": {
          "text/html": "<div>\n<style scoped>\n    .dataframe tbody tr th:only-of-type {\n        vertical-align: middle;\n    }\n\n    .dataframe tbody tr th {\n        vertical-align: top;\n    }\n\n    .dataframe thead th {\n        text-align: right;\n    }\n</style>\n<table border=\"1\" class=\"dataframe\">\n  <thead>\n    <tr style=\"text-align: right;\">\n      <th></th>\n      <th>BloodPressure</th>\n    </tr>\n  </thead>\n  <tbody>\n    <tr>\n      <th>count</th>\n      <td>500.000000</td>\n    </tr>\n    <tr>\n      <th>mean</th>\n      <td>68.184000</td>\n    </tr>\n    <tr>\n      <th>std</th>\n      <td>18.063075</td>\n    </tr>\n    <tr>\n      <th>min</th>\n      <td>0.000000</td>\n    </tr>\n    <tr>\n      <th>25%</th>\n      <td>62.000000</td>\n    </tr>\n    <tr>\n      <th>50%</th>\n      <td>70.000000</td>\n    </tr>\n    <tr>\n      <th>75%</th>\n      <td>78.000000</td>\n    </tr>\n    <tr>\n      <th>max</th>\n      <td>122.000000</td>\n    </tr>\n  </tbody>\n</table>\n</div>",
          "text/plain": "       BloodPressure\ncount     500.000000\nmean       68.184000\nstd        18.063075\nmin         0.000000\n25%        62.000000\n50%        70.000000\n75%        78.000000\nmax       122.000000"
         },
         "metadata": {},
         "output_type": "display_data"
        }
       ]
      }
     },
     "54ef1993eabe4958aa325a16f4785d02": {
      "model_module": "@jupyter-widgets/output",
      "model_module_version": "1.0.0",
      "model_name": "OutputModel",
      "state": {
       "layout": "IPY_MODEL_a3d87527028547a4a5de30e9b612bae8",
       "outputs": [
        {
         "data": {
          "text/html": "<b>Summary of Glucose (Class 1)</b>",
          "text/plain": "<IPython.core.display.HTML object>"
         },
         "metadata": {},
         "output_type": "display_data"
        },
        {
         "data": {
          "text/html": "<div>\n<style scoped>\n    .dataframe tbody tr th:only-of-type {\n        vertical-align: middle;\n    }\n\n    .dataframe tbody tr th {\n        vertical-align: top;\n    }\n\n    .dataframe thead th {\n        text-align: right;\n    }\n</style>\n<table border=\"1\" class=\"dataframe\">\n  <thead>\n    <tr style=\"text-align: right;\">\n      <th></th>\n      <th>Glucose</th>\n    </tr>\n  </thead>\n  <tbody>\n    <tr>\n      <th>count</th>\n      <td>268.000000</td>\n    </tr>\n    <tr>\n      <th>mean</th>\n      <td>141.257463</td>\n    </tr>\n    <tr>\n      <th>std</th>\n      <td>31.939622</td>\n    </tr>\n    <tr>\n      <th>min</th>\n      <td>0.000000</td>\n    </tr>\n    <tr>\n      <th>25%</th>\n      <td>119.000000</td>\n    </tr>\n    <tr>\n      <th>50%</th>\n      <td>140.000000</td>\n    </tr>\n    <tr>\n      <th>75%</th>\n      <td>167.000000</td>\n    </tr>\n    <tr>\n      <th>max</th>\n      <td>199.000000</td>\n    </tr>\n  </tbody>\n</table>\n</div>",
          "text/plain": "          Glucose\ncount  268.000000\nmean   141.257463\nstd     31.939622\nmin      0.000000\n25%    119.000000\n50%    140.000000\n75%    167.000000\nmax    199.000000"
         },
         "metadata": {},
         "output_type": "display_data"
        }
       ]
      }
     },
     "5772f8e8b79a4843ac9090ba1d1d3c3f": {
      "model_module": "@jupyter-widgets/base",
      "model_module_version": "2.0.0",
      "model_name": "LayoutModel",
      "state": {}
     },
     "57b438e671b14c4dbaa07d30867642da": {
      "model_module": "@jupyter-widgets/output",
      "model_module_version": "1.0.0",
      "model_name": "OutputModel",
      "state": {
       "layout": "IPY_MODEL_021a8df3339c47a1b432798d0c7f9371",
       "outputs": [
        {
         "data": {
          "text/html": "<b>Summary of Glucose (Total)</b>",
          "text/plain": "<IPython.core.display.HTML object>"
         },
         "metadata": {},
         "output_type": "display_data"
        },
        {
         "data": {
          "text/html": "<div>\n<style scoped>\n    .dataframe tbody tr th:only-of-type {\n        vertical-align: middle;\n    }\n\n    .dataframe tbody tr th {\n        vertical-align: top;\n    }\n\n    .dataframe thead th {\n        text-align: right;\n    }\n</style>\n<table border=\"1\" class=\"dataframe\">\n  <thead>\n    <tr style=\"text-align: right;\">\n      <th></th>\n      <th>Glucose</th>\n    </tr>\n  </thead>\n  <tbody>\n    <tr>\n      <th>count</th>\n      <td>768.000000</td>\n    </tr>\n    <tr>\n      <th>mean</th>\n      <td>121.677083</td>\n    </tr>\n    <tr>\n      <th>std</th>\n      <td>30.464161</td>\n    </tr>\n    <tr>\n      <th>min</th>\n      <td>44.000000</td>\n    </tr>\n    <tr>\n      <th>25%</th>\n      <td>99.750000</td>\n    </tr>\n    <tr>\n      <th>50%</th>\n      <td>117.000000</td>\n    </tr>\n    <tr>\n      <th>75%</th>\n      <td>140.250000</td>\n    </tr>\n    <tr>\n      <th>max</th>\n      <td>199.000000</td>\n    </tr>\n  </tbody>\n</table>\n</div>",
          "text/plain": "          Glucose\ncount  768.000000\nmean   121.677083\nstd     30.464161\nmin     44.000000\n25%     99.750000\n50%    117.000000\n75%    140.250000\nmax    199.000000"
         },
         "metadata": {},
         "output_type": "display_data"
        }
       ]
      }
     },
     "5c546270a6624ce2b7f125e2cff1793c": {
      "model_module": "@jupyter-widgets/controls",
      "model_module_version": "2.0.0",
      "model_name": "HBoxModel",
      "state": {
       "children": [
        "IPY_MODEL_4ab0662aa615436fb55a023d2388caa8",
        "IPY_MODEL_34e854b339f04982b3f4161ec7c959f3",
        "IPY_MODEL_d0ccb772b48d41628b714ad16c88090e"
       ],
       "layout": "IPY_MODEL_9fb5748e44d94d74b0cf54bffd118e7c"
      }
     },
     "5d38122dbe2a49e3ba11695f44b4d36a": {
      "model_module": "@jupyter-widgets/base",
      "model_module_version": "2.0.0",
      "model_name": "LayoutModel",
      "state": {}
     },
     "5deeead4af2749d7a2a9333f0d4e7b93": {
      "model_module": "@jupyter-widgets/base",
      "model_module_version": "2.0.0",
      "model_name": "LayoutModel",
      "state": {}
     },
     "62df22e1c4c54adbb255194a938f80be": {
      "model_module": "@jupyter-widgets/output",
      "model_module_version": "1.0.0",
      "model_name": "OutputModel",
      "state": {
       "layout": "IPY_MODEL_bdec2ede60cd4d7bab3dd26eac08504a",
       "outputs": [
        {
         "data": {
          "text/html": "<b>Summary of BMI (Total)</b>",
          "text/plain": "<IPython.core.display.HTML object>"
         },
         "metadata": {},
         "output_type": "display_data"
        },
        {
         "data": {
          "text/html": "<div>\n<style scoped>\n    .dataframe tbody tr th:only-of-type {\n        vertical-align: middle;\n    }\n\n    .dataframe tbody tr th {\n        vertical-align: top;\n    }\n\n    .dataframe thead th {\n        text-align: right;\n    }\n</style>\n<table border=\"1\" class=\"dataframe\">\n  <thead>\n    <tr style=\"text-align: right;\">\n      <th></th>\n      <th>BMI</th>\n    </tr>\n  </thead>\n  <tbody>\n    <tr>\n      <th>count</th>\n      <td>768.000000</td>\n    </tr>\n    <tr>\n      <th>mean</th>\n      <td>31.992578</td>\n    </tr>\n    <tr>\n      <th>std</th>\n      <td>7.884160</td>\n    </tr>\n    <tr>\n      <th>min</th>\n      <td>0.000000</td>\n    </tr>\n    <tr>\n      <th>25%</th>\n      <td>27.300000</td>\n    </tr>\n    <tr>\n      <th>50%</th>\n      <td>32.000000</td>\n    </tr>\n    <tr>\n      <th>75%</th>\n      <td>36.600000</td>\n    </tr>\n    <tr>\n      <th>max</th>\n      <td>67.100000</td>\n    </tr>\n  </tbody>\n</table>\n</div>",
          "text/plain": "              BMI\ncount  768.000000\nmean    31.992578\nstd      7.884160\nmin      0.000000\n25%     27.300000\n50%     32.000000\n75%     36.600000\nmax     67.100000"
         },
         "metadata": {},
         "output_type": "display_data"
        }
       ]
      }
     },
     "6a89305c58df4b6ab0acb318f87c8ae7": {
      "model_module": "@jupyter-widgets/output",
      "model_module_version": "1.0.0",
      "model_name": "OutputModel",
      "state": {
       "layout": "IPY_MODEL_801ab11f20bf4aa29a8925bac6c07f32",
       "outputs": [
        {
         "data": {
          "text/html": "<b>Summary of BMI (Total)</b>",
          "text/plain": "<IPython.core.display.HTML object>"
         },
         "metadata": {},
         "output_type": "display_data"
        },
        {
         "data": {
          "text/html": "<div>\n<style scoped>\n    .dataframe tbody tr th:only-of-type {\n        vertical-align: middle;\n    }\n\n    .dataframe tbody tr th {\n        vertical-align: top;\n    }\n\n    .dataframe thead th {\n        text-align: right;\n    }\n</style>\n<table border=\"1\" class=\"dataframe\">\n  <thead>\n    <tr style=\"text-align: right;\">\n      <th></th>\n      <th>BMI</th>\n    </tr>\n  </thead>\n  <tbody>\n    <tr>\n      <th>count</th>\n      <td>768.000000</td>\n    </tr>\n    <tr>\n      <th>mean</th>\n      <td>32.433919</td>\n    </tr>\n    <tr>\n      <th>std</th>\n      <td>6.880664</td>\n    </tr>\n    <tr>\n      <th>min</th>\n      <td>18.200000</td>\n    </tr>\n    <tr>\n      <th>25%</th>\n      <td>27.500000</td>\n    </tr>\n    <tr>\n      <th>50%</th>\n      <td>32.050000</td>\n    </tr>\n    <tr>\n      <th>75%</th>\n      <td>36.600000</td>\n    </tr>\n    <tr>\n      <th>max</th>\n      <td>67.100000</td>\n    </tr>\n  </tbody>\n</table>\n</div>",
          "text/plain": "              BMI\ncount  768.000000\nmean    32.433919\nstd      6.880664\nmin     18.200000\n25%     27.500000\n50%     32.050000\n75%     36.600000\nmax     67.100000"
         },
         "metadata": {},
         "output_type": "display_data"
        }
       ]
      }
     },
     "77e032d3dc8f4b2b841a951c699d3963": {
      "model_module": "@jupyter-widgets/output",
      "model_module_version": "1.0.0",
      "model_name": "OutputModel",
      "state": {
       "layout": "IPY_MODEL_f0a54c49543b4f19beaae15cae5839ac",
       "outputs": [
        {
         "data": {
          "text/html": "<b>Additional metrics</b>",
          "text/plain": "<IPython.core.display.HTML object>"
         },
         "metadata": {},
         "output_type": "display_data"
        },
        {
         "data": {
          "text/html": "<div>\n<style scoped>\n    .dataframe tbody tr th:only-of-type {\n        vertical-align: middle;\n    }\n\n    .dataframe tbody tr th {\n        vertical-align: top;\n    }\n\n    .dataframe thead th {\n        text-align: right;\n    }\n</style>\n<table border=\"1\" class=\"dataframe\">\n  <thead>\n    <tr style=\"text-align: right;\">\n      <th></th>\n      <th>Train Score</th>\n    </tr>\n  </thead>\n  <tbody>\n    <tr>\n      <th>Log Loss</th>\n      <td>0.0104</td>\n    </tr>\n    <tr>\n      <th>ROC AUC</th>\n      <td>1.0000</td>\n    </tr>\n    <tr>\n      <th>AUPRC</th>\n      <td>0.9967</td>\n    </tr>\n  </tbody>\n</table>\n</div>",
          "text/plain": "          Train Score\nLog Loss       0.0104\nROC AUC        1.0000\nAUPRC          0.9967"
         },
         "metadata": {},
         "output_type": "display_data"
        }
       ]
      }
     },
     "801ab11f20bf4aa29a8925bac6c07f32": {
      "model_module": "@jupyter-widgets/base",
      "model_module_version": "2.0.0",
      "model_name": "LayoutModel",
      "state": {}
     },
     "83511793341a47d09460daa2db696e4a": {
      "model_module": "@jupyter-widgets/base",
      "model_module_version": "2.0.0",
      "model_name": "LayoutModel",
      "state": {}
     },
     "852435d7b6fb40bd9986d96ecccf3d9b": {
      "model_module": "@jupyter-widgets/output",
      "model_module_version": "1.0.0",
      "model_name": "OutputModel",
      "state": {
       "layout": "IPY_MODEL_8f89543ec676412f9aaf02add8cf20c6",
       "outputs": [
        {
         "data": {
          "text/html": "<b>Summary of BMI (Class 1)</b>",
          "text/plain": "<IPython.core.display.HTML object>"
         },
         "metadata": {},
         "output_type": "display_data"
        },
        {
         "data": {
          "text/html": "<div>\n<style scoped>\n    .dataframe tbody tr th:only-of-type {\n        vertical-align: middle;\n    }\n\n    .dataframe tbody tr th {\n        vertical-align: top;\n    }\n\n    .dataframe thead th {\n        text-align: right;\n    }\n</style>\n<table border=\"1\" class=\"dataframe\">\n  <thead>\n    <tr style=\"text-align: right;\">\n      <th></th>\n      <th>BMI</th>\n    </tr>\n  </thead>\n  <tbody>\n    <tr>\n      <th>count</th>\n      <td>268.000000</td>\n    </tr>\n    <tr>\n      <th>mean</th>\n      <td>35.398134</td>\n    </tr>\n    <tr>\n      <th>std</th>\n      <td>6.590915</td>\n    </tr>\n    <tr>\n      <th>min</th>\n      <td>22.900000</td>\n    </tr>\n    <tr>\n      <th>25%</th>\n      <td>30.900000</td>\n    </tr>\n    <tr>\n      <th>50%</th>\n      <td>34.275000</td>\n    </tr>\n    <tr>\n      <th>75%</th>\n      <td>38.775000</td>\n    </tr>\n    <tr>\n      <th>max</th>\n      <td>67.100000</td>\n    </tr>\n  </tbody>\n</table>\n</div>",
          "text/plain": "              BMI\ncount  268.000000\nmean    35.398134\nstd      6.590915\nmin     22.900000\n25%     30.900000\n50%     34.275000\n75%     38.775000\nmax     67.100000"
         },
         "metadata": {},
         "output_type": "display_data"
        }
       ]
      }
     },
     "8a9d3f4deaa645c08b26411efa4ee861": {
      "model_module": "@jupyter-widgets/output",
      "model_module_version": "1.0.0",
      "model_name": "OutputModel",
      "state": {
       "layout": "IPY_MODEL_22b2ee0fa06e4934b8c4b1ac6e7b1fd0",
       "outputs": [
        {
         "data": {
          "text/html": "<b>Summary of BMI (Class 1)</b>",
          "text/plain": "<IPython.core.display.HTML object>"
         },
         "metadata": {},
         "output_type": "display_data"
        },
        {
         "data": {
          "text/html": "<div>\n<style scoped>\n    .dataframe tbody tr th:only-of-type {\n        vertical-align: middle;\n    }\n\n    .dataframe tbody tr th {\n        vertical-align: top;\n    }\n\n    .dataframe thead th {\n        text-align: right;\n    }\n</style>\n<table border=\"1\" class=\"dataframe\">\n  <thead>\n    <tr style=\"text-align: right;\">\n      <th></th>\n      <th>BMI</th>\n    </tr>\n  </thead>\n  <tbody>\n    <tr>\n      <th>count</th>\n      <td>268.000000</td>\n    </tr>\n    <tr>\n      <th>mean</th>\n      <td>35.142537</td>\n    </tr>\n    <tr>\n      <th>std</th>\n      <td>7.262967</td>\n    </tr>\n    <tr>\n      <th>min</th>\n      <td>0.000000</td>\n    </tr>\n    <tr>\n      <th>25%</th>\n      <td>30.800000</td>\n    </tr>\n    <tr>\n      <th>50%</th>\n      <td>34.250000</td>\n    </tr>\n    <tr>\n      <th>75%</th>\n      <td>38.775000</td>\n    </tr>\n    <tr>\n      <th>max</th>\n      <td>67.100000</td>\n    </tr>\n  </tbody>\n</table>\n</div>",
          "text/plain": "              BMI\ncount  268.000000\nmean    35.142537\nstd      7.262967\nmin      0.000000\n25%     30.800000\n50%     34.250000\n75%     38.775000\nmax     67.100000"
         },
         "metadata": {},
         "output_type": "display_data"
        }
       ]
      }
     },
     "8b356f7f255b4f639eeee04445cbb1a6": {
      "model_module": "@jupyter-widgets/output",
      "model_module_version": "1.0.0",
      "model_name": "OutputModel",
      "state": {
       "layout": "IPY_MODEL_43372623f5a94c16abe5a74b78676165",
       "outputs": [
        {
         "data": {
          "text/html": "<b>Summary of Skin Thickness (Class 1)</b>",
          "text/plain": "<IPython.core.display.HTML object>"
         },
         "metadata": {},
         "output_type": "display_data"
        },
        {
         "data": {
          "text/html": "<div>\n<style scoped>\n    .dataframe tbody tr th:only-of-type {\n        vertical-align: middle;\n    }\n\n    .dataframe tbody tr th {\n        vertical-align: top;\n    }\n\n    .dataframe thead th {\n        text-align: right;\n    }\n</style>\n<table border=\"1\" class=\"dataframe\">\n  <thead>\n    <tr style=\"text-align: right;\">\n      <th></th>\n      <th>SkinThickness</th>\n    </tr>\n  </thead>\n  <tbody>\n    <tr>\n      <th>count</th>\n      <td>268.000000</td>\n    </tr>\n    <tr>\n      <th>mean</th>\n      <td>31.029851</td>\n    </tr>\n    <tr>\n      <th>std</th>\n      <td>8.914862</td>\n    </tr>\n    <tr>\n      <th>min</th>\n      <td>7.000000</td>\n    </tr>\n    <tr>\n      <th>25%</th>\n      <td>27.000000</td>\n    </tr>\n    <tr>\n      <th>50%</th>\n      <td>27.000000</td>\n    </tr>\n    <tr>\n      <th>75%</th>\n      <td>36.000000</td>\n    </tr>\n    <tr>\n      <th>max</th>\n      <td>99.000000</td>\n    </tr>\n  </tbody>\n</table>\n</div>",
          "text/plain": "       SkinThickness\ncount     268.000000\nmean       31.029851\nstd         8.914862\nmin         7.000000\n25%        27.000000\n50%        27.000000\n75%        36.000000\nmax        99.000000"
         },
         "metadata": {},
         "output_type": "display_data"
        }
       ]
      }
     },
     "8f89543ec676412f9aaf02add8cf20c6": {
      "model_module": "@jupyter-widgets/base",
      "model_module_version": "2.0.0",
      "model_name": "LayoutModel",
      "state": {}
     },
     "91b4569a5ec94082901d33e3013e0a6e": {
      "model_module": "@jupyter-widgets/output",
      "model_module_version": "1.0.0",
      "model_name": "OutputModel",
      "state": {
       "layout": "IPY_MODEL_5772f8e8b79a4843ac9090ba1d1d3c3f",
       "outputs": [
        {
         "data": {
          "text/html": "<b>Summary of BMI (Class 0)</b>",
          "text/plain": "<IPython.core.display.HTML object>"
         },
         "metadata": {},
         "output_type": "display_data"
        },
        {
         "data": {
          "text/html": "<div>\n<style scoped>\n    .dataframe tbody tr th:only-of-type {\n        vertical-align: middle;\n    }\n\n    .dataframe tbody tr th {\n        vertical-align: top;\n    }\n\n    .dataframe thead th {\n        text-align: right;\n    }\n</style>\n<table border=\"1\" class=\"dataframe\">\n  <thead>\n    <tr style=\"text-align: right;\">\n      <th></th>\n      <th>BMI</th>\n    </tr>\n  </thead>\n  <tbody>\n    <tr>\n      <th>count</th>\n      <td>500.000000</td>\n    </tr>\n    <tr>\n      <th>mean</th>\n      <td>30.304200</td>\n    </tr>\n    <tr>\n      <th>std</th>\n      <td>7.689855</td>\n    </tr>\n    <tr>\n      <th>min</th>\n      <td>0.000000</td>\n    </tr>\n    <tr>\n      <th>25%</th>\n      <td>25.400000</td>\n    </tr>\n    <tr>\n      <th>50%</th>\n      <td>30.050000</td>\n    </tr>\n    <tr>\n      <th>75%</th>\n      <td>35.300000</td>\n    </tr>\n    <tr>\n      <th>max</th>\n      <td>57.300000</td>\n    </tr>\n  </tbody>\n</table>\n</div>",
          "text/plain": "              BMI\ncount  500.000000\nmean    30.304200\nstd      7.689855\nmin      0.000000\n25%     25.400000\n50%     30.050000\n75%     35.300000\nmax     57.300000"
         },
         "metadata": {},
         "output_type": "display_data"
        }
       ]
      }
     },
     "926586a2d36149c4a6e49fbb2c675a0c": {
      "model_module": "@jupyter-widgets/controls",
      "model_module_version": "2.0.0",
      "model_name": "HBoxModel",
      "state": {
       "children": [
        "IPY_MODEL_0653d9bc3e7240b1806b118316abdcb5",
        "IPY_MODEL_852435d7b6fb40bd9986d96ecccf3d9b",
        "IPY_MODEL_6a89305c58df4b6ab0acb318f87c8ae7",
        "IPY_MODEL_362ee42d5008449499d619754bed3dbe",
        "IPY_MODEL_c9c0b08090b04b9cb78d4a9b4d94eea4",
        "IPY_MODEL_d172bfb01d904f729a97d9cf58a1b1a5"
       ],
       "layout": "IPY_MODEL_3ba260337a2d4cc297715a430883d220"
      }
     },
     "9464da235afb46c0a02fbbeb09fe9e2a": {
      "model_module": "@jupyter-widgets/output",
      "model_module_version": "1.0.0",
      "model_name": "OutputModel",
      "state": {
       "layout": "IPY_MODEL_9928e5d498ac4dcc939a45ec623cf12d",
       "outputs": [
        {
         "data": {
          "text/html": "<b>Summary of Glucose (Class 0)</b>",
          "text/plain": "<IPython.core.display.HTML object>"
         },
         "metadata": {},
         "output_type": "display_data"
        },
        {
         "data": {
          "text/html": "<div>\n<style scoped>\n    .dataframe tbody tr th:only-of-type {\n        vertical-align: middle;\n    }\n\n    .dataframe tbody tr th {\n        vertical-align: top;\n    }\n\n    .dataframe thead th {\n        text-align: right;\n    }\n</style>\n<table border=\"1\" class=\"dataframe\">\n  <thead>\n    <tr style=\"text-align: right;\">\n      <th></th>\n      <th>Glucose</th>\n    </tr>\n  </thead>\n  <tbody>\n    <tr>\n      <th>count</th>\n      <td>500.00000</td>\n    </tr>\n    <tr>\n      <th>mean</th>\n      <td>110.62200</td>\n    </tr>\n    <tr>\n      <th>std</th>\n      <td>24.70392</td>\n    </tr>\n    <tr>\n      <th>min</th>\n      <td>44.00000</td>\n    </tr>\n    <tr>\n      <th>25%</th>\n      <td>93.00000</td>\n    </tr>\n    <tr>\n      <th>50%</th>\n      <td>107.00000</td>\n    </tr>\n    <tr>\n      <th>75%</th>\n      <td>125.00000</td>\n    </tr>\n    <tr>\n      <th>max</th>\n      <td>197.00000</td>\n    </tr>\n  </tbody>\n</table>\n</div>",
          "text/plain": "         Glucose\ncount  500.00000\nmean   110.62200\nstd     24.70392\nmin     44.00000\n25%     93.00000\n50%    107.00000\n75%    125.00000\nmax    197.00000"
         },
         "metadata": {},
         "output_type": "display_data"
        }
       ]
      }
     },
     "98ac79291a9e4e23b86413335c5b9ce2": {
      "model_module": "@jupyter-widgets/base",
      "model_module_version": "2.0.0",
      "model_name": "LayoutModel",
      "state": {}
     },
     "9928e5d498ac4dcc939a45ec623cf12d": {
      "model_module": "@jupyter-widgets/base",
      "model_module_version": "2.0.0",
      "model_name": "LayoutModel",
      "state": {}
     },
     "99ea467f65cf47879bcdd06519c69108": {
      "model_module": "@jupyter-widgets/controls",
      "model_module_version": "2.0.0",
      "model_name": "HBoxModel",
      "state": {
       "children": [
        "IPY_MODEL_9464da235afb46c0a02fbbeb09fe9e2a",
        "IPY_MODEL_a66625ea0d94473c9a006551554051e0",
        "IPY_MODEL_57b438e671b14c4dbaa07d30867642da",
        "IPY_MODEL_1fb674be1f794eeda8bfcc02d9f10f00",
        "IPY_MODEL_8b356f7f255b4f639eeee04445cbb1a6",
        "IPY_MODEL_15c7488f63804e4bb08908bfd8ac43ca"
       ],
       "layout": "IPY_MODEL_cce38523ea9242ad8ee4eec3a89f6eac"
      }
     },
     "9aed9c3d70d04060970c3ac09285df77": {
      "model_module": "@jupyter-widgets/base",
      "model_module_version": "2.0.0",
      "model_name": "LayoutModel",
      "state": {}
     },
     "9bbedc74945844059ba152eab3200d6d": {
      "model_module": "@jupyter-widgets/base",
      "model_module_version": "2.0.0",
      "model_name": "LayoutModel",
      "state": {
       "display": "flex",
       "flex_flow": "row",
       "justify_content": "flex-start",
       "width": "auto"
      }
     },
     "9dbb99896f0f436fbf1706d97a9e9c9c": {
      "model_module": "@jupyter-widgets/base",
      "model_module_version": "2.0.0",
      "model_name": "LayoutModel",
      "state": {
       "display": "flex",
       "flex_flow": "row",
       "justify_content": "flex-start",
       "width": "auto"
      }
     },
     "9fb5748e44d94d74b0cf54bffd118e7c": {
      "model_module": "@jupyter-widgets/base",
      "model_module_version": "2.0.0",
      "model_name": "LayoutModel",
      "state": {
       "display": "flex",
       "flex_flow": "row",
       "justify_content": "flex-start",
       "width": "auto"
      }
     },
     "a3d87527028547a4a5de30e9b612bae8": {
      "model_module": "@jupyter-widgets/base",
      "model_module_version": "2.0.0",
      "model_name": "LayoutModel",
      "state": {}
     },
     "a655bec9fe0e463ab6c048720460f6db": {
      "model_module": "@jupyter-widgets/base",
      "model_module_version": "2.0.0",
      "model_name": "LayoutModel",
      "state": {}
     },
     "a66625ea0d94473c9a006551554051e0": {
      "model_module": "@jupyter-widgets/output",
      "model_module_version": "1.0.0",
      "model_name": "OutputModel",
      "state": {
       "layout": "IPY_MODEL_bb60e663fff84a54aa4f765cc3cd1bdd",
       "outputs": [
        {
         "data": {
          "text/html": "<b>Summary of Glucose (Class 1)</b>",
          "text/plain": "<IPython.core.display.HTML object>"
         },
         "metadata": {},
         "output_type": "display_data"
        },
        {
         "data": {
          "text/html": "<div>\n<style scoped>\n    .dataframe tbody tr th:only-of-type {\n        vertical-align: middle;\n    }\n\n    .dataframe tbody tr th {\n        vertical-align: top;\n    }\n\n    .dataframe thead th {\n        text-align: right;\n    }\n</style>\n<table border=\"1\" class=\"dataframe\">\n  <thead>\n    <tr style=\"text-align: right;\">\n      <th></th>\n      <th>Glucose</th>\n    </tr>\n  </thead>\n  <tbody>\n    <tr>\n      <th>count</th>\n      <td>268.000000</td>\n    </tr>\n    <tr>\n      <th>mean</th>\n      <td>142.302239</td>\n    </tr>\n    <tr>\n      <th>std</th>\n      <td>29.488811</td>\n    </tr>\n    <tr>\n      <th>min</th>\n      <td>78.000000</td>\n    </tr>\n    <tr>\n      <th>25%</th>\n      <td>119.000000</td>\n    </tr>\n    <tr>\n      <th>50%</th>\n      <td>140.000000</td>\n    </tr>\n    <tr>\n      <th>75%</th>\n      <td>167.000000</td>\n    </tr>\n    <tr>\n      <th>max</th>\n      <td>199.000000</td>\n    </tr>\n  </tbody>\n</table>\n</div>",
          "text/plain": "          Glucose\ncount  268.000000\nmean   142.302239\nstd     29.488811\nmin     78.000000\n25%    119.000000\n50%    140.000000\n75%    167.000000\nmax    199.000000"
         },
         "metadata": {},
         "output_type": "display_data"
        }
       ]
      }
     },
     "a6d3e5a922414b5da7222796432313c6": {
      "model_module": "@jupyter-widgets/base",
      "model_module_version": "2.0.0",
      "model_name": "LayoutModel",
      "state": {}
     },
     "a8623572e6c14368b132053663cbdb80": {
      "model_module": "@jupyter-widgets/base",
      "model_module_version": "2.0.0",
      "model_name": "LayoutModel",
      "state": {}
     },
     "ae9546c9a1e546c48d1f21d81b87dfa3": {
      "model_module": "@jupyter-widgets/output",
      "model_module_version": "1.0.0",
      "model_name": "OutputModel",
      "state": {
       "layout": "IPY_MODEL_45dc95ffb27746178a736f96b65f1bc5",
       "outputs": [
        {
         "data": {
          "text/html": "<b>(Log Loss, ROC Curve, Precission-Recall)</b>",
          "text/plain": "<IPython.core.display.HTML object>"
         },
         "metadata": {},
         "output_type": "display_data"
        },
        {
         "data": {
          "text/html": "<div>\n<style scoped>\n    .dataframe tbody tr th:only-of-type {\n        vertical-align: middle;\n    }\n\n    .dataframe tbody tr th {\n        vertical-align: top;\n    }\n\n    .dataframe thead th {\n        text-align: right;\n    }\n</style>\n<table border=\"1\" class=\"dataframe\">\n  <thead>\n    <tr style=\"text-align: right;\">\n      <th></th>\n      <th>Test Score</th>\n    </tr>\n  </thead>\n  <tbody>\n    <tr>\n      <th>Log Loss</th>\n      <td>0.1099</td>\n    </tr>\n    <tr>\n      <th>ROC AUC</th>\n      <td>0.9933</td>\n    </tr>\n    <tr>\n      <th>AUPRC</th>\n      <td>0.9872</td>\n    </tr>\n  </tbody>\n</table>\n</div>",
          "text/plain": "          Test Score\nLog Loss      0.1099\nROC AUC       0.9933\nAUPRC         0.9872"
         },
         "metadata": {},
         "output_type": "display_data"
        }
       ]
      }
     },
     "b44e443e5cb54a8aabe44caea9038474": {
      "model_module": "@jupyter-widgets/base",
      "model_module_version": "2.0.0",
      "model_name": "LayoutModel",
      "state": {
       "display": "flex",
       "flex_flow": "row",
       "justify_content": "flex-start",
       "width": "auto"
      }
     },
     "ba65bcc7204e43d9afcd9c1a9dfc9dc8": {
      "model_module": "@jupyter-widgets/base",
      "model_module_version": "2.0.0",
      "model_name": "LayoutModel",
      "state": {}
     },
     "ba90de2d10ce48e68a81010c53dcd74e": {
      "model_module": "@jupyter-widgets/controls",
      "model_module_version": "2.0.0",
      "model_name": "HBoxModel",
      "state": {
       "children": [
        "IPY_MODEL_3ba13169912e4ae98e7d9fd7c7803392",
        "IPY_MODEL_54ef1993eabe4958aa325a16f4785d02",
        "IPY_MODEL_df98549209d74fe4815458706acb7637",
        "IPY_MODEL_45f303ebf71f4f2fa54a0381948a3777",
        "IPY_MODEL_c836c4421b7e4d39a7dc3436ba0e9d1e",
        "IPY_MODEL_0ba82bf5c1d04c0f8d07e5f84fb6c988"
       ],
       "layout": "IPY_MODEL_f43e473b0cbc423aa721418d41a6b0e5"
      }
     },
     "bb60e663fff84a54aa4f765cc3cd1bdd": {
      "model_module": "@jupyter-widgets/base",
      "model_module_version": "2.0.0",
      "model_name": "LayoutModel",
      "state": {}
     },
     "bbdd0d98563843d4a5918c5831f6f3b9": {
      "model_module": "@jupyter-widgets/output",
      "model_module_version": "1.0.0",
      "model_name": "OutputModel",
      "state": {
       "layout": "IPY_MODEL_5d38122dbe2a49e3ba11695f44b4d36a",
       "outputs": [
        {
         "data": {
          "text/html": "<b>Summary of Blood Pressure (Total)</b>",
          "text/plain": "<IPython.core.display.HTML object>"
         },
         "metadata": {},
         "output_type": "display_data"
        },
        {
         "data": {
          "text/html": "<div>\n<style scoped>\n    .dataframe tbody tr th:only-of-type {\n        vertical-align: middle;\n    }\n\n    .dataframe tbody tr th {\n        vertical-align: top;\n    }\n\n    .dataframe thead th {\n        text-align: right;\n    }\n</style>\n<table border=\"1\" class=\"dataframe\">\n  <thead>\n    <tr style=\"text-align: right;\">\n      <th></th>\n      <th>BloodPressure</th>\n    </tr>\n  </thead>\n  <tbody>\n    <tr>\n      <th>count</th>\n      <td>768.000000</td>\n    </tr>\n    <tr>\n      <th>mean</th>\n      <td>69.105469</td>\n    </tr>\n    <tr>\n      <th>std</th>\n      <td>19.355807</td>\n    </tr>\n    <tr>\n      <th>min</th>\n      <td>0.000000</td>\n    </tr>\n    <tr>\n      <th>25%</th>\n      <td>62.000000</td>\n    </tr>\n    <tr>\n      <th>50%</th>\n      <td>72.000000</td>\n    </tr>\n    <tr>\n      <th>75%</th>\n      <td>80.000000</td>\n    </tr>\n    <tr>\n      <th>max</th>\n      <td>122.000000</td>\n    </tr>\n  </tbody>\n</table>\n</div>",
          "text/plain": "       BloodPressure\ncount     768.000000\nmean       69.105469\nstd        19.355807\nmin         0.000000\n25%        62.000000\n50%        72.000000\n75%        80.000000\nmax       122.000000"
         },
         "metadata": {},
         "output_type": "display_data"
        }
       ]
      }
     },
     "bdec2ede60cd4d7bab3dd26eac08504a": {
      "model_module": "@jupyter-widgets/base",
      "model_module_version": "2.0.0",
      "model_name": "LayoutModel",
      "state": {}
     },
     "c74efdd1b7694591949756e47a3bf517": {
      "model_module": "@jupyter-widgets/controls",
      "model_module_version": "2.0.0",
      "model_name": "HBoxModel",
      "state": {
       "children": [
        "IPY_MODEL_fc949797ab574ed28e4de0af0aef0764",
        "IPY_MODEL_4bb45523a60f4cc4bc44da0c6628eba4",
        "IPY_MODEL_dace80e436a241769506a16088d96503"
       ],
       "layout": "IPY_MODEL_1ad6e98effc74bbebc5c945d60454e55"
      }
     },
     "c836c4421b7e4d39a7dc3436ba0e9d1e": {
      "model_module": "@jupyter-widgets/output",
      "model_module_version": "1.0.0",
      "model_name": "OutputModel",
      "state": {
       "layout": "IPY_MODEL_cae0425182cd41918c0e75df3eedc7be",
       "outputs": [
        {
         "data": {
          "text/html": "<b>Summary of Skin Thickness (Class 1)</b>",
          "text/plain": "<IPython.core.display.HTML object>"
         },
         "metadata": {},
         "output_type": "display_data"
        },
        {
         "data": {
          "text/html": "<div>\n<style scoped>\n    .dataframe tbody tr th:only-of-type {\n        vertical-align: middle;\n    }\n\n    .dataframe tbody tr th {\n        vertical-align: top;\n    }\n\n    .dataframe thead th {\n        text-align: right;\n    }\n</style>\n<table border=\"1\" class=\"dataframe\">\n  <thead>\n    <tr style=\"text-align: right;\">\n      <th></th>\n      <th>SkinThickness</th>\n    </tr>\n  </thead>\n  <tbody>\n    <tr>\n      <th>count</th>\n      <td>268.000000</td>\n    </tr>\n    <tr>\n      <th>mean</th>\n      <td>22.164179</td>\n    </tr>\n    <tr>\n      <th>std</th>\n      <td>17.679711</td>\n    </tr>\n    <tr>\n      <th>min</th>\n      <td>0.000000</td>\n    </tr>\n    <tr>\n      <th>25%</th>\n      <td>0.000000</td>\n    </tr>\n    <tr>\n      <th>50%</th>\n      <td>27.000000</td>\n    </tr>\n    <tr>\n      <th>75%</th>\n      <td>36.000000</td>\n    </tr>\n    <tr>\n      <th>max</th>\n      <td>99.000000</td>\n    </tr>\n  </tbody>\n</table>\n</div>",
          "text/plain": "       SkinThickness\ncount     268.000000\nmean       22.164179\nstd        17.679711\nmin         0.000000\n25%         0.000000\n50%        27.000000\n75%        36.000000\nmax        99.000000"
         },
         "metadata": {},
         "output_type": "display_data"
        }
       ]
      }
     },
     "c9c0b08090b04b9cb78d4a9b4d94eea4": {
      "model_module": "@jupyter-widgets/output",
      "model_module_version": "1.0.0",
      "model_name": "OutputModel",
      "state": {
       "layout": "IPY_MODEL_4098787e2f974f7cb9d4108dc919aef8",
       "outputs": [
        {
         "data": {
          "text/html": "<b>Summary of Blood Pressure (Class 1)</b>",
          "text/plain": "<IPython.core.display.HTML object>"
         },
         "metadata": {},
         "output_type": "display_data"
        },
        {
         "data": {
          "text/html": "<div>\n<style scoped>\n    .dataframe tbody tr th:only-of-type {\n        vertical-align: middle;\n    }\n\n    .dataframe tbody tr th {\n        vertical-align: top;\n    }\n\n    .dataframe thead th {\n        text-align: right;\n    }\n</style>\n<table border=\"1\" class=\"dataframe\">\n  <thead>\n    <tr style=\"text-align: right;\">\n      <th></th>\n      <th>BloodPressure</th>\n    </tr>\n  </thead>\n  <tbody>\n    <tr>\n      <th>count</th>\n      <td>268.000000</td>\n    </tr>\n    <tr>\n      <th>mean</th>\n      <td>75.242537</td>\n    </tr>\n    <tr>\n      <th>std</th>\n      <td>11.929762</td>\n    </tr>\n    <tr>\n      <th>min</th>\n      <td>30.000000</td>\n    </tr>\n    <tr>\n      <th>25%</th>\n      <td>68.000000</td>\n    </tr>\n    <tr>\n      <th>50%</th>\n      <td>74.000000</td>\n    </tr>\n    <tr>\n      <th>75%</th>\n      <td>82.000000</td>\n    </tr>\n    <tr>\n      <th>max</th>\n      <td>114.000000</td>\n    </tr>\n  </tbody>\n</table>\n</div>",
          "text/plain": "       BloodPressure\ncount     268.000000\nmean       75.242537\nstd        11.929762\nmin        30.000000\n25%        68.000000\n50%        74.000000\n75%        82.000000\nmax       114.000000"
         },
         "metadata": {},
         "output_type": "display_data"
        }
       ]
      }
     },
     "cae0425182cd41918c0e75df3eedc7be": {
      "model_module": "@jupyter-widgets/base",
      "model_module_version": "2.0.0",
      "model_name": "LayoutModel",
      "state": {}
     },
     "cce38523ea9242ad8ee4eec3a89f6eac": {
      "model_module": "@jupyter-widgets/base",
      "model_module_version": "2.0.0",
      "model_name": "LayoutModel",
      "state": {
       "display": "flex",
       "flex_flow": "row",
       "justify_content": "flex-start",
       "width": "auto"
      }
     },
     "d014a17a96ef469b9188f78e9bd458c1": {
      "model_module": "@jupyter-widgets/base",
      "model_module_version": "2.0.0",
      "model_name": "LayoutModel",
      "state": {}
     },
     "d0ccb772b48d41628b714ad16c88090e": {
      "model_module": "@jupyter-widgets/output",
      "model_module_version": "1.0.0",
      "model_name": "OutputModel",
      "state": {
       "layout": "IPY_MODEL_419daa4cdfbf4c10848a333856f3cbc4",
       "outputs": [
        {
         "data": {
          "text/html": "<b>Summary of Insulin (Total)</b>",
          "text/plain": "<IPython.core.display.HTML object>"
         },
         "metadata": {},
         "output_type": "display_data"
        },
        {
         "data": {
          "text/html": "<div>\n<style scoped>\n    .dataframe tbody tr th:only-of-type {\n        vertical-align: middle;\n    }\n\n    .dataframe tbody tr th {\n        vertical-align: top;\n    }\n\n    .dataframe thead th {\n        text-align: right;\n    }\n</style>\n<table border=\"1\" class=\"dataframe\">\n  <thead>\n    <tr style=\"text-align: right;\">\n      <th></th>\n      <th>Insulin</th>\n    </tr>\n  </thead>\n  <tbody>\n    <tr>\n      <th>count</th>\n      <td>768.000000</td>\n    </tr>\n    <tr>\n      <th>mean</th>\n      <td>79.799479</td>\n    </tr>\n    <tr>\n      <th>std</th>\n      <td>115.244002</td>\n    </tr>\n    <tr>\n      <th>min</th>\n      <td>0.000000</td>\n    </tr>\n    <tr>\n      <th>25%</th>\n      <td>0.000000</td>\n    </tr>\n    <tr>\n      <th>50%</th>\n      <td>30.500000</td>\n    </tr>\n    <tr>\n      <th>75%</th>\n      <td>127.250000</td>\n    </tr>\n    <tr>\n      <th>max</th>\n      <td>846.000000</td>\n    </tr>\n  </tbody>\n</table>\n</div>",
          "text/plain": "          Insulin\ncount  768.000000\nmean    79.799479\nstd    115.244002\nmin      0.000000\n25%      0.000000\n50%     30.500000\n75%    127.250000\nmax    846.000000"
         },
         "metadata": {},
         "output_type": "display_data"
        }
       ]
      }
     },
     "d172bfb01d904f729a97d9cf58a1b1a5": {
      "model_module": "@jupyter-widgets/output",
      "model_module_version": "1.0.0",
      "model_name": "OutputModel",
      "state": {
       "layout": "IPY_MODEL_ba65bcc7204e43d9afcd9c1a9dfc9dc8",
       "outputs": [
        {
         "data": {
          "text/html": "<b>Summary of Blood Pressure (Total)</b>",
          "text/plain": "<IPython.core.display.HTML object>"
         },
         "metadata": {},
         "output_type": "display_data"
        },
        {
         "data": {
          "text/html": "<div>\n<style scoped>\n    .dataframe tbody tr th:only-of-type {\n        vertical-align: middle;\n    }\n\n    .dataframe tbody tr th {\n        vertical-align: top;\n    }\n\n    .dataframe thead th {\n        text-align: right;\n    }\n</style>\n<table border=\"1\" class=\"dataframe\">\n  <thead>\n    <tr style=\"text-align: right;\">\n      <th></th>\n      <th>BloodPressure</th>\n    </tr>\n  </thead>\n  <tbody>\n    <tr>\n      <th>count</th>\n      <td>768.000000</td>\n    </tr>\n    <tr>\n      <th>mean</th>\n      <td>72.378906</td>\n    </tr>\n    <tr>\n      <th>std</th>\n      <td>12.104431</td>\n    </tr>\n    <tr>\n      <th>min</th>\n      <td>24.000000</td>\n    </tr>\n    <tr>\n      <th>25%</th>\n      <td>64.000000</td>\n    </tr>\n    <tr>\n      <th>50%</th>\n      <td>72.000000</td>\n    </tr>\n    <tr>\n      <th>75%</th>\n      <td>80.000000</td>\n    </tr>\n    <tr>\n      <th>max</th>\n      <td>122.000000</td>\n    </tr>\n  </tbody>\n</table>\n</div>",
          "text/plain": "       BloodPressure\ncount     768.000000\nmean       72.378906\nstd        12.104431\nmin        24.000000\n25%        64.000000\n50%        72.000000\n75%        80.000000\nmax       122.000000"
         },
         "metadata": {},
         "output_type": "display_data"
        }
       ]
      }
     },
     "d1e1578ea3be4923931d0c3612ab4348": {
      "model_module": "@jupyter-widgets/output",
      "model_module_version": "1.0.0",
      "model_name": "OutputModel",
      "state": {
       "layout": "IPY_MODEL_d014a17a96ef469b9188f78e9bd458c1",
       "outputs": [
        {
         "data": {
          "text/html": "<b>Training set performance</b>",
          "text/plain": "<IPython.core.display.HTML object>"
         },
         "metadata": {},
         "output_type": "display_data"
        },
        {
         "data": {
          "text/html": "<div>\n<style scoped>\n    .dataframe tbody tr th:only-of-type {\n        vertical-align: middle;\n    }\n\n    .dataframe tbody tr th {\n        vertical-align: top;\n    }\n\n    .dataframe thead th {\n        text-align: right;\n    }\n</style>\n<table border=\"1\" class=\"dataframe\">\n  <thead>\n    <tr style=\"text-align: right;\">\n      <th></th>\n      <th>precision</th>\n      <th>recall</th>\n      <th>f1-score</th>\n      <th>support</th>\n    </tr>\n  </thead>\n  <tbody>\n    <tr>\n      <th>0</th>\n      <td>1.00</td>\n      <td>1.00</td>\n      <td>1.00</td>\n      <td>350.00</td>\n    </tr>\n    <tr>\n      <th>1</th>\n      <td>0.99</td>\n      <td>1.00</td>\n      <td>1.00</td>\n      <td>187.00</td>\n    </tr>\n    <tr>\n      <th>accuracy</th>\n      <td>1.00</td>\n      <td>1.00</td>\n      <td>1.00</td>\n      <td>1.00</td>\n    </tr>\n    <tr>\n      <th>macro avg</th>\n      <td>1.00</td>\n      <td>1.00</td>\n      <td>1.00</td>\n      <td>537.00</td>\n    </tr>\n    <tr>\n      <th>weighted avg</th>\n      <td>1.00</td>\n      <td>1.00</td>\n      <td>1.00</td>\n      <td>537.00</td>\n    </tr>\n  </tbody>\n</table>\n</div>",
          "text/plain": "             precision recall f1-score support\n0                 1.00   1.00     1.00  350.00\n1                 0.99   1.00     1.00  187.00\naccuracy          1.00   1.00     1.00    1.00\nmacro avg         1.00   1.00     1.00  537.00\nweighted avg      1.00   1.00     1.00  537.00"
         },
         "metadata": {},
         "output_type": "display_data"
        }
       ]
      }
     },
     "d4a41a7035d64efaa0be81376103ae43": {
      "model_module": "@jupyter-widgets/output",
      "model_module_version": "1.0.0",
      "model_name": "OutputModel",
      "state": {
       "layout": "IPY_MODEL_a6d3e5a922414b5da7222796432313c6",
       "outputs": [
        {
         "data": {
          "text/html": "<b>Additional metrics</b>",
          "text/plain": "<IPython.core.display.HTML object>"
         },
         "metadata": {},
         "output_type": "display_data"
        },
        {
         "data": {
          "text/html": "<div>\n<style scoped>\n    .dataframe tbody tr th:only-of-type {\n        vertical-align: middle;\n    }\n\n    .dataframe tbody tr th {\n        vertical-align: top;\n    }\n\n    .dataframe thead th {\n        text-align: right;\n    }\n</style>\n<table border=\"1\" class=\"dataframe\">\n  <thead>\n    <tr style=\"text-align: right;\">\n      <th></th>\n      <th>Train Score</th>\n    </tr>\n  </thead>\n  <tbody>\n    <tr>\n      <th>Log Loss</th>\n      <td>0.0104</td>\n    </tr>\n    <tr>\n      <th>ROC AUC</th>\n      <td>1.0000</td>\n    </tr>\n    <tr>\n      <th>AUPRC</th>\n      <td>0.9967</td>\n    </tr>\n  </tbody>\n</table>\n</div>",
          "text/plain": "          Train Score\nLog Loss       0.0104\nROC AUC        1.0000\nAUPRC          0.9967"
         },
         "metadata": {},
         "output_type": "display_data"
        }
       ]
      }
     },
     "d66178971e6e44d4be56ad5e3336403a": {
      "model_module": "@jupyter-widgets/base",
      "model_module_version": "2.0.0",
      "model_name": "LayoutModel",
      "state": {}
     },
     "da9246836ca245e3bbce3414a05fa9f7": {
      "model_module": "@jupyter-widgets/output",
      "model_module_version": "1.0.0",
      "model_name": "OutputModel",
      "state": {
       "layout": "IPY_MODEL_39952572a6b5415bb5794b887645d8fe",
       "outputs": [
        {
         "data": {
          "text/html": "<b>Summary of Blood Pressure (Class 1)</b>",
          "text/plain": "<IPython.core.display.HTML object>"
         },
         "metadata": {},
         "output_type": "display_data"
        },
        {
         "data": {
          "text/html": "<div>\n<style scoped>\n    .dataframe tbody tr th:only-of-type {\n        vertical-align: middle;\n    }\n\n    .dataframe tbody tr th {\n        vertical-align: top;\n    }\n\n    .dataframe thead th {\n        text-align: right;\n    }\n</style>\n<table border=\"1\" class=\"dataframe\">\n  <thead>\n    <tr style=\"text-align: right;\">\n      <th></th>\n      <th>BloodPressure</th>\n    </tr>\n  </thead>\n  <tbody>\n    <tr>\n      <th>count</th>\n      <td>268.000000</td>\n    </tr>\n    <tr>\n      <th>mean</th>\n      <td>70.824627</td>\n    </tr>\n    <tr>\n      <th>std</th>\n      <td>21.491812</td>\n    </tr>\n    <tr>\n      <th>min</th>\n      <td>0.000000</td>\n    </tr>\n    <tr>\n      <th>25%</th>\n      <td>66.000000</td>\n    </tr>\n    <tr>\n      <th>50%</th>\n      <td>74.000000</td>\n    </tr>\n    <tr>\n      <th>75%</th>\n      <td>82.000000</td>\n    </tr>\n    <tr>\n      <th>max</th>\n      <td>114.000000</td>\n    </tr>\n  </tbody>\n</table>\n</div>",
          "text/plain": "       BloodPressure\ncount     268.000000\nmean       70.824627\nstd        21.491812\nmin         0.000000\n25%        66.000000\n50%        74.000000\n75%        82.000000\nmax       114.000000"
         },
         "metadata": {},
         "output_type": "display_data"
        }
       ]
      }
     },
     "dace80e436a241769506a16088d96503": {
      "model_module": "@jupyter-widgets/output",
      "model_module_version": "1.0.0",
      "model_name": "OutputModel",
      "state": {
       "layout": "IPY_MODEL_9aed9c3d70d04060970c3ac09285df77",
       "outputs": [
        {
         "data": {
          "text/html": "<b>Summary of Insulin (Total)</b>",
          "text/plain": "<IPython.core.display.HTML object>"
         },
         "metadata": {},
         "output_type": "display_data"
        },
        {
         "data": {
          "text/html": "<div>\n<style scoped>\n    .dataframe tbody tr th:only-of-type {\n        vertical-align: middle;\n    }\n\n    .dataframe tbody tr th {\n        vertical-align: top;\n    }\n\n    .dataframe thead th {\n        text-align: right;\n    }\n</style>\n<table border=\"1\" class=\"dataframe\">\n  <thead>\n    <tr style=\"text-align: right;\">\n      <th></th>\n      <th>Insulin</th>\n    </tr>\n  </thead>\n  <tbody>\n    <tr>\n      <th>count</th>\n      <td>768.000000</td>\n    </tr>\n    <tr>\n      <th>mean</th>\n      <td>83.811198</td>\n    </tr>\n    <tr>\n      <th>std</th>\n      <td>76.143449</td>\n    </tr>\n    <tr>\n      <th>min</th>\n      <td>15.000000</td>\n    </tr>\n    <tr>\n      <th>25%</th>\n      <td>30.000000</td>\n    </tr>\n    <tr>\n      <th>50%</th>\n      <td>79.000000</td>\n    </tr>\n    <tr>\n      <th>75%</th>\n      <td>79.000000</td>\n    </tr>\n    <tr>\n      <th>max</th>\n      <td>744.000000</td>\n    </tr>\n  </tbody>\n</table>\n</div>",
          "text/plain": "          Insulin\ncount  768.000000\nmean    83.811198\nstd     76.143449\nmin     15.000000\n25%     30.000000\n50%     79.000000\n75%     79.000000\nmax    744.000000"
         },
         "metadata": {},
         "output_type": "display_data"
        }
       ]
      }
     },
     "df98549209d74fe4815458706acb7637": {
      "model_module": "@jupyter-widgets/output",
      "model_module_version": "1.0.0",
      "model_name": "OutputModel",
      "state": {
       "layout": "IPY_MODEL_d66178971e6e44d4be56ad5e3336403a",
       "outputs": [
        {
         "data": {
          "text/html": "<b>Summary of Glucose (Total)</b>",
          "text/plain": "<IPython.core.display.HTML object>"
         },
         "metadata": {},
         "output_type": "display_data"
        },
        {
         "data": {
          "text/html": "<div>\n<style scoped>\n    .dataframe tbody tr th:only-of-type {\n        vertical-align: middle;\n    }\n\n    .dataframe tbody tr th {\n        vertical-align: top;\n    }\n\n    .dataframe thead th {\n        text-align: right;\n    }\n</style>\n<table border=\"1\" class=\"dataframe\">\n  <thead>\n    <tr style=\"text-align: right;\">\n      <th></th>\n      <th>Glucose</th>\n    </tr>\n  </thead>\n  <tbody>\n    <tr>\n      <th>count</th>\n      <td>768.000000</td>\n    </tr>\n    <tr>\n      <th>mean</th>\n      <td>120.894531</td>\n    </tr>\n    <tr>\n      <th>std</th>\n      <td>31.972618</td>\n    </tr>\n    <tr>\n      <th>min</th>\n      <td>0.000000</td>\n    </tr>\n    <tr>\n      <th>25%</th>\n      <td>99.000000</td>\n    </tr>\n    <tr>\n      <th>50%</th>\n      <td>117.000000</td>\n    </tr>\n    <tr>\n      <th>75%</th>\n      <td>140.250000</td>\n    </tr>\n    <tr>\n      <th>max</th>\n      <td>199.000000</td>\n    </tr>\n  </tbody>\n</table>\n</div>",
          "text/plain": "          Glucose\ncount  768.000000\nmean   120.894531\nstd     31.972618\nmin      0.000000\n25%     99.000000\n50%    117.000000\n75%    140.250000\nmax    199.000000"
         },
         "metadata": {},
         "output_type": "display_data"
        }
       ]
      }
     },
     "e20d6644341f474588ed2b13aab60bb3": {
      "model_module": "@jupyter-widgets/base",
      "model_module_version": "2.0.0",
      "model_name": "LayoutModel",
      "state": {
       "display": "flex",
       "flex_flow": "row",
       "justify_content": "flex-start",
       "width": "auto"
      }
     },
     "ecababacd6f048849b98bf20fd8bd15b": {
      "model_module": "@jupyter-widgets/base",
      "model_module_version": "2.0.0",
      "model_name": "LayoutModel",
      "state": {}
     },
     "f0a54c49543b4f19beaae15cae5839ac": {
      "model_module": "@jupyter-widgets/base",
      "model_module_version": "2.0.0",
      "model_name": "LayoutModel",
      "state": {}
     },
     "f31ee765bce248438279197114882ec5": {
      "model_module": "@jupyter-widgets/base",
      "model_module_version": "2.0.0",
      "model_name": "LayoutModel",
      "state": {}
     },
     "f43e473b0cbc423aa721418d41a6b0e5": {
      "model_module": "@jupyter-widgets/base",
      "model_module_version": "2.0.0",
      "model_name": "LayoutModel",
      "state": {
       "display": "flex",
       "flex_flow": "row",
       "justify_content": "flex-start",
       "width": "auto"
      }
     },
     "fbcf8668d1ef421b81984f572bd2f5b3": {
      "model_module": "@jupyter-widgets/base",
      "model_module_version": "2.0.0",
      "model_name": "LayoutModel",
      "state": {
       "display": "flex",
       "flex_flow": "row",
       "justify_content": "flex-start",
       "width": "auto"
      }
     },
     "fbfa2a58a1db4bfab5c4aa2e7695987c": {
      "model_module": "@jupyter-widgets/base",
      "model_module_version": "2.0.0",
      "model_name": "LayoutModel",
      "state": {}
     },
     "fc949797ab574ed28e4de0af0aef0764": {
      "model_module": "@jupyter-widgets/output",
      "model_module_version": "1.0.0",
      "model_name": "OutputModel",
      "state": {
       "layout": "IPY_MODEL_4e23c37aa1b3400e8708fcd5e4b0553b",
       "outputs": [
        {
         "data": {
          "text/html": "<b>Summary of Insulin (Class 0)</b>",
          "text/plain": "<IPython.core.display.HTML object>"
         },
         "metadata": {},
         "output_type": "display_data"
        },
        {
         "data": {
          "text/html": "<div>\n<style scoped>\n    .dataframe tbody tr th:only-of-type {\n        vertical-align: middle;\n    }\n\n    .dataframe tbody tr th {\n        vertical-align: top;\n    }\n\n    .dataframe thead th {\n        text-align: right;\n    }\n</style>\n<table border=\"1\" class=\"dataframe\">\n  <thead>\n    <tr style=\"text-align: right;\">\n      <th></th>\n      <th>Insulin</th>\n    </tr>\n  </thead>\n  <tbody>\n    <tr>\n      <th>count</th>\n      <td>500.000000</td>\n    </tr>\n    <tr>\n      <th>mean</th>\n      <td>82.952000</td>\n    </tr>\n    <tr>\n      <th>std</th>\n      <td>89.705048</td>\n    </tr>\n    <tr>\n      <th>min</th>\n      <td>15.000000</td>\n    </tr>\n    <tr>\n      <th>25%</th>\n      <td>30.000000</td>\n    </tr>\n    <tr>\n      <th>50%</th>\n      <td>39.000000</td>\n    </tr>\n    <tr>\n      <th>75%</th>\n      <td>105.000000</td>\n    </tr>\n    <tr>\n      <th>max</th>\n      <td>744.000000</td>\n    </tr>\n  </tbody>\n</table>\n</div>",
          "text/plain": "          Insulin\ncount  500.000000\nmean    82.952000\nstd     89.705048\nmin     15.000000\n25%     30.000000\n50%     39.000000\n75%    105.000000\nmax    744.000000"
         },
         "metadata": {},
         "output_type": "display_data"
        }
       ]
      }
     }
    },
    "version_major": 2,
    "version_minor": 0
   }
  }
 },
 "nbformat": 4,
 "nbformat_minor": 5
}
