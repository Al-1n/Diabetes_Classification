{
 "cells": [
  {
   "cell_type": "code",
   "execution_count": 1,
   "id": "53a74e21-f736-4e54-ac8d-774609ad9c22",
   "metadata": {},
   "outputs": [],
   "source": [
    "#!pip install optuna\n",
    "#!pip install jupyterlab-optuna\n",
    "#!pip install optuna-fast-fanova gunicorn\n",
    "#!pip install imbalanced-learn\n",
    "#!pip install hyperopt\n",
    "#!pip install lightgbm\n",
    "#!pip install catboost\n",
    "#!pip install optuna-integration"
   ]
  },
  {
   "cell_type": "code",
   "execution_count": 2,
   "id": "158ac2d3-1db7-4774-a4cf-84605a80fdf1",
   "metadata": {},
   "outputs": [],
   "source": [
    "import pandas as pd\n",
    "import numpy as np\n",
    "import seaborn as sns\n",
    "import optuna\n",
    "import matplotlib.pyplot as plt\n",
    "from sklearn.feature_selection import SelectKBest\n",
    "from sklearn.feature_selection import chi2\n",
    "from sklearn.model_selection import  cross_val_score\n",
    "from sklearn.metrics import roc_curve, precision_recall_curve, classification_report, log_loss, roc_auc_score, confusion_matrix, recall_score\n",
    "from IPython.display import Markdown, display\n",
    "from ipywidgets import widgets, Layout\n",
    "from IPython import display as disp\n",
    "\n",
    "# Define a function for printing using markdown\n",
    "def printmd(string, color=None):\n",
    "    colorstr = \"<span style='color:{}'>{}</span>\".format(color, string)\n",
    "    display(Markdown(colorstr))\n",
    "\n",
    "#Bold text delimiters\n",
    "start_bold = \"\\033[1m\"\n",
    "end_bold = \"\\033[0;0m\"\n",
    "\n",
    "from xgboost import XGBClassifier\n",
    "from xgboost import XGBRegressor"
   ]
  },
  {
   "cell_type": "code",
   "execution_count": 3,
   "id": "a2610116-3880-44b5-9b41-ab0eb5cb5379",
   "metadata": {},
   "outputs": [
    {
     "data": {
      "text/html": [
       "<div>\n",
       "<style scoped>\n",
       "    .dataframe tbody tr th:only-of-type {\n",
       "        vertical-align: middle;\n",
       "    }\n",
       "\n",
       "    .dataframe tbody tr th {\n",
       "        vertical-align: top;\n",
       "    }\n",
       "\n",
       "    .dataframe thead th {\n",
       "        text-align: right;\n",
       "    }\n",
       "</style>\n",
       "<table border=\"1\" class=\"dataframe\">\n",
       "  <thead>\n",
       "    <tr style=\"text-align: right;\">\n",
       "      <th></th>\n",
       "      <th>Pregnancies</th>\n",
       "      <th>Glucose</th>\n",
       "      <th>BloodPressure</th>\n",
       "      <th>SkinThickness</th>\n",
       "      <th>Insulin</th>\n",
       "      <th>BMI</th>\n",
       "      <th>DiabetesPedigreeFunction</th>\n",
       "      <th>Age</th>\n",
       "      <th>Outcome</th>\n",
       "    </tr>\n",
       "  </thead>\n",
       "  <tbody>\n",
       "    <tr>\n",
       "      <th>0</th>\n",
       "      <td>6</td>\n",
       "      <td>148</td>\n",
       "      <td>72</td>\n",
       "      <td>35</td>\n",
       "      <td>0</td>\n",
       "      <td>33.6</td>\n",
       "      <td>0.627</td>\n",
       "      <td>50</td>\n",
       "      <td>1</td>\n",
       "    </tr>\n",
       "    <tr>\n",
       "      <th>1</th>\n",
       "      <td>1</td>\n",
       "      <td>85</td>\n",
       "      <td>66</td>\n",
       "      <td>29</td>\n",
       "      <td>0</td>\n",
       "      <td>26.6</td>\n",
       "      <td>0.351</td>\n",
       "      <td>31</td>\n",
       "      <td>0</td>\n",
       "    </tr>\n",
       "    <tr>\n",
       "      <th>2</th>\n",
       "      <td>8</td>\n",
       "      <td>183</td>\n",
       "      <td>64</td>\n",
       "      <td>0</td>\n",
       "      <td>0</td>\n",
       "      <td>23.3</td>\n",
       "      <td>0.672</td>\n",
       "      <td>32</td>\n",
       "      <td>1</td>\n",
       "    </tr>\n",
       "    <tr>\n",
       "      <th>3</th>\n",
       "      <td>1</td>\n",
       "      <td>89</td>\n",
       "      <td>66</td>\n",
       "      <td>23</td>\n",
       "      <td>94</td>\n",
       "      <td>28.1</td>\n",
       "      <td>0.167</td>\n",
       "      <td>21</td>\n",
       "      <td>0</td>\n",
       "    </tr>\n",
       "    <tr>\n",
       "      <th>4</th>\n",
       "      <td>0</td>\n",
       "      <td>137</td>\n",
       "      <td>40</td>\n",
       "      <td>35</td>\n",
       "      <td>168</td>\n",
       "      <td>43.1</td>\n",
       "      <td>2.288</td>\n",
       "      <td>33</td>\n",
       "      <td>1</td>\n",
       "    </tr>\n",
       "  </tbody>\n",
       "</table>\n",
       "</div>"
      ],
      "text/plain": [
       "   Pregnancies  Glucose  BloodPressure  SkinThickness  Insulin   BMI  \\\n",
       "0            6      148             72             35        0  33.6   \n",
       "1            1       85             66             29        0  26.6   \n",
       "2            8      183             64              0        0  23.3   \n",
       "3            1       89             66             23       94  28.1   \n",
       "4            0      137             40             35      168  43.1   \n",
       "\n",
       "   DiabetesPedigreeFunction  Age  Outcome  \n",
       "0                     0.627   50        1  \n",
       "1                     0.351   31        0  \n",
       "2                     0.672   32        1  \n",
       "3                     0.167   21        0  \n",
       "4                     2.288   33        1  "
      ]
     },
     "execution_count": 3,
     "metadata": {},
     "output_type": "execute_result"
    }
   ],
   "source": [
    "#load the dataset and preview the first rows\n",
    "df = pd.read_csv(\"./Data/diabetes.csv\", sep = \",\")\n",
    "\n",
    "df.head()"
   ]
  },
  {
   "cell_type": "markdown",
   "id": "96fad3b9-ddc7-4a85-b913-25b2cb363778",
   "metadata": {},
   "source": [
    "# EDA"
   ]
  },
  {
   "cell_type": "code",
   "execution_count": 4,
   "id": "3dd49629-329d-40f8-9c09-15607116b7e8",
   "metadata": {},
   "outputs": [
    {
     "data": {
      "text/plain": [
       "Pregnancies                   int64\n",
       "Glucose                       int64\n",
       "BloodPressure                 int64\n",
       "SkinThickness                 int64\n",
       "Insulin                       int64\n",
       "BMI                         float64\n",
       "DiabetesPedigreeFunction    float64\n",
       "Age                           int64\n",
       "Outcome                       int64\n",
       "dtype: object"
      ]
     },
     "execution_count": 4,
     "metadata": {},
     "output_type": "execute_result"
    }
   ],
   "source": [
    "#Verify that all columns have numeric types\n",
    "df.dtypes"
   ]
  },
  {
   "cell_type": "code",
   "execution_count": 5,
   "id": "093e00e2-c451-4a3e-82a3-3ef3b73edc1d",
   "metadata": {},
   "outputs": [
    {
     "data": {
      "text/plain": [
       "Outcome\n",
       "0    500\n",
       "1    268\n",
       "Name: count, dtype: int64"
      ]
     },
     "execution_count": 5,
     "metadata": {},
     "output_type": "execute_result"
    }
   ],
   "source": [
    "#Check the target variable label values\n",
    "df[\"Outcome\"].value_counts()"
   ]
  },
  {
   "cell_type": "code",
   "execution_count": 6,
   "id": "6474ee6c-0655-43b1-b4a3-b76c8577eb56",
   "metadata": {},
   "outputs": [
    {
     "data": {
      "text/html": [
       "<div>\n",
       "<style scoped>\n",
       "    .dataframe tbody tr th:only-of-type {\n",
       "        vertical-align: middle;\n",
       "    }\n",
       "\n",
       "    .dataframe tbody tr th {\n",
       "        vertical-align: top;\n",
       "    }\n",
       "\n",
       "    .dataframe thead th {\n",
       "        text-align: right;\n",
       "    }\n",
       "</style>\n",
       "<table border=\"1\" class=\"dataframe\">\n",
       "  <thead>\n",
       "    <tr style=\"text-align: right;\">\n",
       "      <th></th>\n",
       "      <th>Pregnancies</th>\n",
       "      <th>Glucose</th>\n",
       "      <th>BloodPressure</th>\n",
       "      <th>SkinThickness</th>\n",
       "      <th>Insulin</th>\n",
       "      <th>BMI</th>\n",
       "      <th>DiabetesPedigreeFunction</th>\n",
       "      <th>Age</th>\n",
       "      <th>Outcome</th>\n",
       "    </tr>\n",
       "  </thead>\n",
       "  <tbody>\n",
       "    <tr>\n",
       "      <th>count</th>\n",
       "      <td>768.000000</td>\n",
       "      <td>768.000000</td>\n",
       "      <td>768.000000</td>\n",
       "      <td>768.000000</td>\n",
       "      <td>768.000000</td>\n",
       "      <td>768.000000</td>\n",
       "      <td>768.000000</td>\n",
       "      <td>768.000000</td>\n",
       "      <td>768.000000</td>\n",
       "    </tr>\n",
       "    <tr>\n",
       "      <th>mean</th>\n",
       "      <td>3.845052</td>\n",
       "      <td>120.894531</td>\n",
       "      <td>69.105469</td>\n",
       "      <td>20.536458</td>\n",
       "      <td>79.799479</td>\n",
       "      <td>31.992578</td>\n",
       "      <td>0.471876</td>\n",
       "      <td>33.240885</td>\n",
       "      <td>0.348958</td>\n",
       "    </tr>\n",
       "    <tr>\n",
       "      <th>std</th>\n",
       "      <td>3.369578</td>\n",
       "      <td>31.972618</td>\n",
       "      <td>19.355807</td>\n",
       "      <td>15.952218</td>\n",
       "      <td>115.244002</td>\n",
       "      <td>7.884160</td>\n",
       "      <td>0.331329</td>\n",
       "      <td>11.760232</td>\n",
       "      <td>0.476951</td>\n",
       "    </tr>\n",
       "    <tr>\n",
       "      <th>min</th>\n",
       "      <td>0.000000</td>\n",
       "      <td>0.000000</td>\n",
       "      <td>0.000000</td>\n",
       "      <td>0.000000</td>\n",
       "      <td>0.000000</td>\n",
       "      <td>0.000000</td>\n",
       "      <td>0.078000</td>\n",
       "      <td>21.000000</td>\n",
       "      <td>0.000000</td>\n",
       "    </tr>\n",
       "    <tr>\n",
       "      <th>25%</th>\n",
       "      <td>1.000000</td>\n",
       "      <td>99.000000</td>\n",
       "      <td>62.000000</td>\n",
       "      <td>0.000000</td>\n",
       "      <td>0.000000</td>\n",
       "      <td>27.300000</td>\n",
       "      <td>0.243750</td>\n",
       "      <td>24.000000</td>\n",
       "      <td>0.000000</td>\n",
       "    </tr>\n",
       "    <tr>\n",
       "      <th>50%</th>\n",
       "      <td>3.000000</td>\n",
       "      <td>117.000000</td>\n",
       "      <td>72.000000</td>\n",
       "      <td>23.000000</td>\n",
       "      <td>30.500000</td>\n",
       "      <td>32.000000</td>\n",
       "      <td>0.372500</td>\n",
       "      <td>29.000000</td>\n",
       "      <td>0.000000</td>\n",
       "    </tr>\n",
       "    <tr>\n",
       "      <th>75%</th>\n",
       "      <td>6.000000</td>\n",
       "      <td>140.250000</td>\n",
       "      <td>80.000000</td>\n",
       "      <td>32.000000</td>\n",
       "      <td>127.250000</td>\n",
       "      <td>36.600000</td>\n",
       "      <td>0.626250</td>\n",
       "      <td>41.000000</td>\n",
       "      <td>1.000000</td>\n",
       "    </tr>\n",
       "    <tr>\n",
       "      <th>max</th>\n",
       "      <td>17.000000</td>\n",
       "      <td>199.000000</td>\n",
       "      <td>122.000000</td>\n",
       "      <td>99.000000</td>\n",
       "      <td>846.000000</td>\n",
       "      <td>67.100000</td>\n",
       "      <td>2.420000</td>\n",
       "      <td>81.000000</td>\n",
       "      <td>1.000000</td>\n",
       "    </tr>\n",
       "  </tbody>\n",
       "</table>\n",
       "</div>"
      ],
      "text/plain": [
       "       Pregnancies     Glucose  BloodPressure  SkinThickness     Insulin  \\\n",
       "count   768.000000  768.000000     768.000000     768.000000  768.000000   \n",
       "mean      3.845052  120.894531      69.105469      20.536458   79.799479   \n",
       "std       3.369578   31.972618      19.355807      15.952218  115.244002   \n",
       "min       0.000000    0.000000       0.000000       0.000000    0.000000   \n",
       "25%       1.000000   99.000000      62.000000       0.000000    0.000000   \n",
       "50%       3.000000  117.000000      72.000000      23.000000   30.500000   \n",
       "75%       6.000000  140.250000      80.000000      32.000000  127.250000   \n",
       "max      17.000000  199.000000     122.000000      99.000000  846.000000   \n",
       "\n",
       "              BMI  DiabetesPedigreeFunction         Age     Outcome  \n",
       "count  768.000000                768.000000  768.000000  768.000000  \n",
       "mean    31.992578                  0.471876   33.240885    0.348958  \n",
       "std      7.884160                  0.331329   11.760232    0.476951  \n",
       "min      0.000000                  0.078000   21.000000    0.000000  \n",
       "25%     27.300000                  0.243750   24.000000    0.000000  \n",
       "50%     32.000000                  0.372500   29.000000    0.000000  \n",
       "75%     36.600000                  0.626250   41.000000    1.000000  \n",
       "max     67.100000                  2.420000   81.000000    1.000000  "
      ]
     },
     "execution_count": 6,
     "metadata": {},
     "output_type": "execute_result"
    }
   ],
   "source": [
    "#Get the summary sttistics for all the columns\n",
    "df.describe()"
   ]
  },
  {
   "cell_type": "code",
   "execution_count": 7,
   "id": "d0010782-8e3b-477b-9275-252f79424d17",
   "metadata": {},
   "outputs": [
    {
     "data": {
      "image/png": "[encoded data removed]",
      "text/plain": [
       "<Figure size 1000x1000 with 9 Axes>"
      ]
     },
     "metadata": {},
     "output_type": "display_data"
    }
   ],
   "source": [
    "df.hist(bins = 30, figsize = (10, 10), color = 'orange')\n",
    "\n",
    "plt.show()"
   ]
  },
  {
   "cell_type": "code",
   "execution_count": null,
   "id": "4712e29e-0195-4720-bb7b-08e39f79b266",
   "metadata": {},
   "outputs": [],
   "source": []
  },
  {
   "cell_type": "markdown",
   "id": "5d6df996-2754-43ff-a50b-a2ce30ae64a8",
   "metadata": {},
   "source": [
    "Insights from the histograms:\n",
    "\n",
    "* There are more young participants.\n",
    "* Zero values for skin thickness, glucose, insulin, blood presure, and bmi indicate missing measurements. A glucose level of zero would mean the patient is in a coma or worse.\n",
    "* There are about twice as many patients without diabetes (outcome = 0) than with diabetes (outcome = 1) resulting in unbalanced target classes.     "
   ]
  },
  {
   "cell_type": "code",
   "execution_count": 8,
   "id": "4df4b363-17e8-496a-a2da-2ba979fa436e",
   "metadata": {},
   "outputs": [],
   "source": [
    "# Define a function to extract information about missing measurements \n",
    "def print_missing_data_summary(df):\n",
    "    '''\n",
    "    This function will scan for missing values for different features and feature combinations at different steps of the imputation process.\n",
    "\n",
    "    Symbol dicionary:\n",
    "    \n",
    "    N_GLU - Number of missing Glucose measurements \n",
    "    N_INS - Number of missing Insulin measurements\n",
    "    N_BMI - Number of missing BMI measurements\n",
    "    N_BPS - Number of missing Blood Pressure measurements\n",
    "    N_STH - Number of missing Skin Thickness measurements     \n",
    "    '''\n",
    "    def printmd(string, color=None):\n",
    "        colorstr = \"<span style='color:{}'>{}</span>\".format(color, string)\n",
    "        display(Markdown(colorstr))  \n",
    "    \n",
    "    display(Markdown('---'))\n",
    "    printmd(f\"**N_GLU**: {df['Glucose'].isna().sum()}\", color=\"#9DC183\")\n",
    "    printmd(f\"**N_INS**: {df['Insulin'].isna().sum()}\", color=\"#9DC183\")\n",
    "    printmd(f\"**N_BMI**: {df['BMI'].isna().sum()}\", color=\"#9DC183\")\n",
    "    printmd(f\"**N_BPS**: {df['BloodPressure'].isna().sum()}\", color=\"#9DC183\")\n",
    "    printmd(f\"**N_STH**: {df['SkinThickness'].isna().sum()}\", color=\"#9DC183\")\n",
    "    display(Markdown('---'))    \n",
    "\n",
    "def render_widgets(num_widgets, titles, objects):\n",
    "    # Create output widgets\n",
    "    widgets_list = [widgets.Output() for _ in range(num_widgets)]\n",
    "    \n",
    "    # Render content in output widgets\n",
    "    for i in range(num_widgets):\n",
    "        with widgets_list[i]:\n",
    "            # Display title in bold format\n",
    "            title_html = \"<b>{}</b>\".format(titles[i])\n",
    "            disp.display(disp.HTML(title_html))\n",
    "            disp.display(objects[i])\n",
    "    \n",
    "    # Add CSS styles to distribute free space\n",
    "    box_layout = Layout(display='flex',\n",
    "                        flex_flow='row',\n",
    "                        justify_content='flex-start',\n",
    "                        width='auto'\n",
    "                       )\n",
    "    \n",
    "    # Create Horizontal Box container\n",
    "    hbox = widgets.HBox(widgets_list, layout=box_layout)\n",
    "    \n",
    "    # Render hbox\n",
    "    disp.display(hbox)\n",
    "\n",
    "#Define a function to summarize the classification metrics\n",
    "def print_classification_metrics(model, x_train, y_train, x_test, y_test):\n",
    "\n",
    "    #Define pointers for bold text formatting\n",
    "    start_bold = \"\\033[1m\"\n",
    "    end_bold = \"\\033[0m\"\n",
    "    \n",
    "    #print(start_bold + \"Classification metrics\" + end_bold)\n",
    "    print()\n",
    "\n",
    "    # performance of the trained model on the training set \n",
    "    train_result = model.score(x_train, y_train)\n",
    "\n",
    "    # performance of the trained model using the testing set\n",
    "    test_result = model.score(x_test, y_test)\n",
    "\n",
    "    # make predictions on the training data\n",
    "    y_train_predict = model.predict(x_train)     \n",
    "\n",
    "    # make predictions on the test data\n",
    "    y_predict = model.predict(x_test)\n",
    "\n",
    "    # predict class probabilities on the training set\n",
    "    y_train_predict_proba = model.predict_proba(x_train)\n",
    "\n",
    "    # predict class probabilities on the test set\n",
    "    y_predict_proba = model.predict_proba(x_test)\n",
    "\n",
    "    # Calculate log loss for the training set\n",
    "    log_loss_train = round(log_loss(y_train, y_train_predict_proba), 4)\n",
    "    \n",
    "    # Calculate log loss for the test set\n",
    "    log_loss_value = round(log_loss(y_test, y_predict_proba), 4)\n",
    "\n",
    "    # Calculate ROC AUC for the training set    \n",
    "    roc_auc_train = roc_auc_score(y_train, y_train_predict_proba[:, 1])\n",
    "\n",
    "    # Calculate ROC AUC for the test set    \n",
    "    roc_auc = roc_auc_score(y_test, y_predict_proba[:, 1])\n",
    "\n",
    "    # Calculate Precision-Recall score for the TRAINING set\n",
    "    precision_train, recall_train, thresholds_train = precision_recall_curve(y_train, y_train_predict_proba[:, 1])\n",
    "\n",
    "    # Define recall levels for interpolation\n",
    "    recall_levels = np.linspace(0, 1, 100)\n",
    "\n",
    "    # Interpolate precision values for each recall level\n",
    "    interp_precision_train = np.interp(recall_levels, recall_train[::-1], precision_train[::-1])\n",
    "\n",
    "    # Calculate AUPRC using the trapezoidal rule\n",
    "    auprc_train = np.trapz(interp_precision_train, recall_levels)    \n",
    "    \n",
    "    # Calculate Precision-Recall score for the TEST set\n",
    "    precision_test, recall_test, thresholds_test = precision_recall_curve(y_test, y_predict_proba[:, 1])\n",
    "\n",
    "    # # Define recall levels for interpolation\n",
    "    # recall_levels = np.linspace(0, 1, 100)\n",
    "\n",
    "    # Interpolate precision values for each recall level\n",
    "    interp_precision_test = np.interp(recall_levels, recall_test[::-1], precision_test[::-1])\n",
    "\n",
    "    # Calculate AUPRC using the trapezoidal rule\n",
    "    auprc_test = np.trapz(interp_precision_test, recall_levels)    \n",
    "\n",
    "    train_report = pd.DataFrame(classification_report(y_train, \n",
    "                                                      y_train_predict,\n",
    "                                                      digits=4,\n",
    "                                                      output_dict = True)).transpose().astype(float).round(4).map(\"{:,.2f}\".format)\n",
    "    \n",
    "    test_report = pd.DataFrame(classification_report(y_test,\n",
    "                                                     y_predict,\n",
    "                                                     digits=4,\n",
    "                                                     output_dict = True)).transpose().astype(float).round(4).map(\"{:,.2f}\".format)    \n",
    "\n",
    "    titles = ['Training set performance', 'Test set performance']\n",
    "    render_widgets(2, titles, [train_report, test_report])\n",
    "\n",
    "    add_train_metrics = pd.DataFrame([{'Log Loss': log_loss_train,\n",
    "                                      'ROC AUC': round(roc_auc_train, 4),\n",
    "                                      'AUPRC': round(auprc_train, 4)}], columns = ['Log Loss',\n",
    "                                                                                   'ROC AUC',\n",
    "                                                                                   'AUPRC']).transpose().rename(columns = {0: 'Train Score'})\n",
    "    add_test_metrics = pd.DataFrame([{'Log Loss': log_loss_value,\n",
    "                                     'ROC AUC': round(roc_auc, 4),\n",
    "                                     'AUPRC': round(auprc_test, 4)}], columns = ['Log Loss',\n",
    "                                                                                 'ROC AUC',\n",
    "                                                                                 'AUPRC']).transpose().rename(columns = {0: 'Test Score'})\n",
    "\n",
    "    titles = ['Additional metrics', '(Log Loss, ROC Curve, Precission-Recall)']\n",
    "    render_widgets(2, titles, [add_train_metrics, add_test_metrics])\n",
    "\n",
    "    # print the confusion matrix\n",
    "    cm = confusion_matrix(y_test, y_predict)\n",
    "\n",
    "    sns.set_context('talk')\n",
    "\n",
    "    sns.heatmap(cm, fmt = 'd', annot = True, cmap = 'RdGy')    "
   ]
  },
  {
   "cell_type": "code",
   "execution_count": 9,
   "id": "c81e1604-5488-4b94-a71e-76d5c893c49b",
   "metadata": {},
   "outputs": [
    {
     "data": {
      "image/png": "[encoded data removed]",
      "text/plain": [
       "<Figure size 1000x1000 with 2 Axes>"
      ]
     },
     "metadata": {},
     "output_type": "display_data"
    }
   ],
   "source": [
    "# Create a correlation matrix\n",
    "corr_matrix = df.corr()\n",
    "\n",
    "# Plot the correlation matrix\n",
    "sns.set_context('talk')\n",
    "\n",
    "plt.figure(figsize = (10, 10))\n",
    "\n",
    "_ = sns.heatmap(corr_matrix, annot = True, fmt = \".3f\", linewidths = .5)\n",
    "\n",
    "plt.show()"
   ]
  },
  {
   "cell_type": "code",
   "execution_count": 10,
   "id": "18252f2e-a275-43ad-8d16-2888c3c520d6",
   "metadata": {},
   "outputs": [
    {
     "data": {
      "text/markdown": [
       "---"
      ],
      "text/plain": [
       "<IPython.core.display.Markdown object>"
      ]
     },
     "metadata": {},
     "output_type": "display_data"
    },
    {
     "data": {
      "text/markdown": [
       "<span style='color:#9DC183'>**N_GLU**: 5</span>"
      ],
      "text/plain": [
       "<IPython.core.display.Markdown object>"
      ]
     },
     "metadata": {},
     "output_type": "display_data"
    },
    {
     "data": {
      "text/markdown": [
       "<span style='color:#9DC183'>**N_INS**: 374</span>"
      ],
      "text/plain": [
       "<IPython.core.display.Markdown object>"
      ]
     },
     "metadata": {},
     "output_type": "display_data"
    },
    {
     "data": {
      "text/markdown": [
       "<span style='color:#9DC183'>**N_BMI**: 11</span>"
      ],
      "text/plain": [
       "<IPython.core.display.Markdown object>"
      ]
     },
     "metadata": {},
     "output_type": "display_data"
    },
    {
     "data": {
      "text/markdown": [
       "<span style='color:#9DC183'>**N_BPS**: 35</span>"
      ],
      "text/plain": [
       "<IPython.core.display.Markdown object>"
      ]
     },
     "metadata": {},
     "output_type": "display_data"
    },
    {
     "data": {
      "text/markdown": [
       "<span style='color:#9DC183'>**N_STH**: 227</span>"
      ],
      "text/plain": [
       "<IPython.core.display.Markdown object>"
      ]
     },
     "metadata": {},
     "output_type": "display_data"
    },
    {
     "data": {
      "text/markdown": [
       "---"
      ],
      "text/plain": [
       "<IPython.core.display.Markdown object>"
      ]
     },
     "metadata": {},
     "output_type": "display_data"
    }
   ],
   "source": [
    "cols = [\"Glucose\",\"Insulin\",\"BMI\",\"BloodPressure\",\"SkinThickness\"]\n",
    "df[cols] = df[cols].replace({0: np.nan})\n",
    "\n",
    "print_missing_data_summary(df)"
   ]
  },
  {
   "cell_type": "code",
   "execution_count": 11,
   "id": "721a2a76-dd3e-4866-8511-a11b6f1cccca",
   "metadata": {},
   "outputs": [
    {
     "name": "stdout",
     "output_type": "stream",
     "text": [
      "(768, 8)\n",
      "(768,)\n"
     ]
    }
   ],
   "source": [
    "# split the dataframe into target and features\n",
    "\n",
    "y = df[\"Outcome\"].copy() # target\n",
    "X = df.drop(columns = [\"Outcome\"]).copy() # features\n",
    "\n",
    "# Verify that the split was performed correctly\n",
    "print(X.shape)\n",
    "print(y.shape)"
   ]
  },
  {
   "cell_type": "code",
   "execution_count": 12,
   "id": "7950ca98-f7ac-4b3e-a876-42d03d547f1c",
   "metadata": {},
   "outputs": [
    {
     "data": {
      "text/markdown": [
       "---"
      ],
      "text/plain": [
       "<IPython.core.display.Markdown object>"
      ]
     },
     "metadata": {},
     "output_type": "display_data"
    },
    {
     "data": {
      "text/markdown": [
       "<span style='color:#9DC183'>**N_GLU**: 0</span>"
      ],
      "text/plain": [
       "<IPython.core.display.Markdown object>"
      ]
     },
     "metadata": {},
     "output_type": "display_data"
    },
    {
     "data": {
      "text/markdown": [
       "<span style='color:#9DC183'>**N_INS**: 374</span>"
      ],
      "text/plain": [
       "<IPython.core.display.Markdown object>"
      ]
     },
     "metadata": {},
     "output_type": "display_data"
    },
    {
     "data": {
      "text/markdown": [
       "<span style='color:#9DC183'>**N_BMI**: 0</span>"
      ],
      "text/plain": [
       "<IPython.core.display.Markdown object>"
      ]
     },
     "metadata": {},
     "output_type": "display_data"
    },
    {
     "data": {
      "text/markdown": [
       "<span style='color:#9DC183'>**N_BPS**: 0</span>"
      ],
      "text/plain": [
       "<IPython.core.display.Markdown object>"
      ]
     },
     "metadata": {},
     "output_type": "display_data"
    },
    {
     "data": {
      "text/markdown": [
       "<span style='color:#9DC183'>**N_STH**: 227</span>"
      ],
      "text/plain": [
       "<IPython.core.display.Markdown object>"
      ]
     },
     "metadata": {},
     "output_type": "display_data"
    },
    {
     "data": {
      "text/markdown": [
       "---"
      ],
      "text/plain": [
       "<IPython.core.display.Markdown object>"
      ]
     },
     "metadata": {},
     "output_type": "display_data"
    }
   ],
   "source": [
    "from sklearn.impute import SimpleImputer\n",
    "\n",
    "imp_mean = SimpleImputer(missing_values=np.nan, strategy='mean', copy = False)\n",
    "\n",
    "cols = [\"Glucose\", \"BMI\", \"BloodPressure\"]\n",
    "X[cols] = imp_mean.fit_transform(X[cols])\n",
    "\n",
    "print_missing_data_summary(X)"
   ]
  },
  {
   "cell_type": "code",
   "execution_count": 17,
   "id": "41551774-cee9-4d93-b5bb-63e4d1928051",
   "metadata": {},
   "outputs": [
    {
     "name": "stdout",
     "output_type": "stream",
     "text": [
      "100%|████████| 100/100 [01:13<00:00,  1.36trial/s, best loss: 9954.992023301867]\n"
     ]
    },
    {
     "data": {
      "text/markdown": [
       "---"
      ],
      "text/plain": [
       "<IPython.core.display.Markdown object>"
      ]
     },
     "metadata": {},
     "output_type": "display_data"
    },
    {
     "data": {
      "text/markdown": [
       "<span style='color:#9DC183'>**N_GLU**: 0</span>"
      ],
      "text/plain": [
       "<IPython.core.display.Markdown object>"
      ]
     },
     "metadata": {},
     "output_type": "display_data"
    },
    {
     "data": {
      "text/markdown": [
       "<span style='color:#9DC183'>**N_INS**: 0</span>"
      ],
      "text/plain": [
       "<IPython.core.display.Markdown object>"
      ]
     },
     "metadata": {},
     "output_type": "display_data"
    },
    {
     "data": {
      "text/markdown": [
       "<span style='color:#9DC183'>**N_BMI**: 0</span>"
      ],
      "text/plain": [
       "<IPython.core.display.Markdown object>"
      ]
     },
     "metadata": {},
     "output_type": "display_data"
    },
    {
     "data": {
      "text/markdown": [
       "<span style='color:#9DC183'>**N_BPS**: 0</span>"
      ],
      "text/plain": [
       "<IPython.core.display.Markdown object>"
      ]
     },
     "metadata": {},
     "output_type": "display_data"
    },
    {
     "data": {
      "text/markdown": [
       "<span style='color:#9DC183'>**N_STH**: 227</span>"
      ],
      "text/plain": [
       "<IPython.core.display.Markdown object>"
      ]
     },
     "metadata": {},
     "output_type": "display_data"
    },
    {
     "data": {
      "text/markdown": [
       "---"
      ],
      "text/plain": [
       "<IPython.core.display.Markdown object>"
      ]
     },
     "metadata": {},
     "output_type": "display_data"
    }
   ],
   "source": [
    "from sklearn.experimental import enable_iterative_imputer\n",
    "from sklearn.impute import IterativeImputer\n",
    "from sklearn.impute import KNNImputer\n",
    "from sklearn.ensemble import RandomForestRegressor\n",
    "from sklearn.ensemble import GradientBoostingRegressor\n",
    "\n",
    "# Instantiate a Gradient Boosting Regressor\n",
    "# gb_imputer = XGBRegressor(n_estimators=100, random_state=21)\n",
    "\n",
    "cols = [\"Glucose\", \"Insulin\"]\n",
    "\n",
    "y_train_imp = X[cols[1]].dropna()\n",
    "X_train_imp = X.loc[y_train_imp.index, cols[0]].values.reshape(-1, 1)\n",
    "\n",
    "from hyperopt import hp, fmin, tpe, STATUS_OK, Trials, space_eval\n",
    "\n",
    "# Define the search space for hyperparameters\n",
    "space = {\n",
    "    'n_estimators': hp.choice('n_estimators', range(100, 1000, 1)),\n",
    "    'learning_rate': hp.loguniform('learning_rate', np.log(0.001), np.log(0.1)),\n",
    "    'max_depth': hp.choice('max_depth', range(3, 11)),\n",
    "    'min_samples_split': hp.choice('min_samples_split', range(2, 21)),\n",
    "    'min_samples_leaf': hp.choice('min_samples_leaf', range(1, 21))\n",
    "}\n",
    "\n",
    "# Define the objective function to minimize (e.g., mean squared error)\n",
    "def objective(params):\n",
    "    # Instantiate a Gradient Boosting Regressor with the specified hyperparameters\n",
    "    gb_imputer = GradientBoostingRegressor(\n",
    "        n_estimators = int(params['n_estimators']),\n",
    "        learning_rate = params['learning_rate'],\n",
    "        max_depth = int(params['max_depth']),\n",
    "        min_samples_split = int(params['min_samples_split']),\n",
    "        min_samples_leaf = int(params['min_samples_leaf']),\n",
    "        random_state=21,\n",
    "    )\n",
    "\n",
    "    score = cross_val_score(gb_imputer,\n",
    "                            X_train_imp,\n",
    "                            y_train_imp,\n",
    "                            cv=5,\n",
    "                            scoring='neg_mean_squared_error',\n",
    "                            n_jobs=-1)\n",
    "    \n",
    "    return {'loss': -score.mean(), 'status': STATUS_OK}\n",
    "    \n",
    "    # # Fit the imputer on your data\n",
    "    # gb_imputer.fit(X_train_imp, y_train_imp)\n",
    "    \n",
    "    # # Predict missing values\n",
    "    # y_predict = gb_imputer.predict(X_new)\n",
    "    \n",
    "    # # Calculate mean squared error (you can use other metrics as well)\n",
    "    # mse = np.mean((y_predict - y_true) ** 2)\n",
    "    \n",
    "    # return mse\n",
    "    \n",
    "# Run hyperparameter optimization\n",
    "trials = Trials()\n",
    "best = fmin(fn=objective, \n",
    "            space=space, \n",
    "            algo=tpe.suggest, \n",
    "            max_evals=100, \n",
    "            trials=trials,\n",
    "            rstate=np.random.default_rng(21)\n",
    "           )\n",
    "\n",
    "# Get the best hyperparameters\n",
    "best_params = space_eval(space, best)\n",
    "\n",
    "# Instantiate a Gradient Boosting Regressor with the best hyperparameters\n",
    "gb_imputer = GradientBoostingRegressor(**best_params, random_state=21)\n",
    "\n",
    "# Fit the imputer on your data\n",
    "gb_imputer.fit(X_train_imp, y_train_imp)\n",
    "\n",
    "y_missing_idx = X[cols[1]].isna()\n",
    "X_new = X.loc[y_missing_idx, cols[0]].values.reshape(-1, 1)\n",
    "\n",
    "# Predict missing values\n",
    "y_predict = gb_imputer.predict(X_new)\n",
    "\n",
    "# Update the original DataFrame with predicted values\n",
    "X.loc[y_missing_idx, cols[1]] = y_predict\n",
    "\n",
    "\n",
    "# gb_imputer.fit(X_train_imp, y_train_imp)\n",
    "\n",
    "\n",
    "\n",
    "# y_predict = gb_imputer.predict(X_new)\n",
    "\n",
    "# # Update the original DataFrame with predicted values\n",
    "# X.loc[y_missing_idx, cols[1]] = y_predict\n",
    "\n",
    "print_missing_data_summary(X)"
   ]
  },
  {
   "cell_type": "code",
   "execution_count": 18,
   "id": "183f0773-f98f-4da6-aadc-15c8e5212f59",
   "metadata": {},
   "outputs": [
    {
     "data": {
      "text/markdown": [
       "---"
      ],
      "text/plain": [
       "<IPython.core.display.Markdown object>"
      ]
     },
     "metadata": {},
     "output_type": "display_data"
    },
    {
     "data": {
      "text/markdown": [
       "<span style='color:#9DC183'>**N_GLU**: 0</span>"
      ],
      "text/plain": [
       "<IPython.core.display.Markdown object>"
      ]
     },
     "metadata": {},
     "output_type": "display_data"
    },
    {
     "data": {
      "text/markdown": [
       "<span style='color:#9DC183'>**N_INS**: 0</span>"
      ],
      "text/plain": [
       "<IPython.core.display.Markdown object>"
      ]
     },
     "metadata": {},
     "output_type": "display_data"
    },
    {
     "data": {
      "text/markdown": [
       "<span style='color:#9DC183'>**N_BMI**: 0</span>"
      ],
      "text/plain": [
       "<IPython.core.display.Markdown object>"
      ]
     },
     "metadata": {},
     "output_type": "display_data"
    },
    {
     "data": {
      "text/markdown": [
       "<span style='color:#9DC183'>**N_BPS**: 0</span>"
      ],
      "text/plain": [
       "<IPython.core.display.Markdown object>"
      ]
     },
     "metadata": {},
     "output_type": "display_data"
    },
    {
     "data": {
      "text/markdown": [
       "<span style='color:#9DC183'>**N_STH**: 0</span>"
      ],
      "text/plain": [
       "<IPython.core.display.Markdown object>"
      ]
     },
     "metadata": {},
     "output_type": "display_data"
    },
    {
     "data": {
      "text/markdown": [
       "---"
      ],
      "text/plain": [
       "<IPython.core.display.Markdown object>"
      ]
     },
     "metadata": {},
     "output_type": "display_data"
    }
   ],
   "source": [
    "# Instantiate a Gradient Boosting Regressor\n",
    "gb_imputer = XGBRegressor(n_estimators=100, random_state=21)\n",
    "\n",
    "cols = [\"BMI\", \"SkinThickness\"]\n",
    "\n",
    "y_train_imp = X[cols[1]].dropna()\n",
    "X_train_imp = X.loc[y_train_imp.index, cols[0]].values.reshape(-1, 1)\n",
    "\n",
    "gb_imputer.fit(X_train_imp, y_train_imp)\n",
    "\n",
    "y_missing_idx = X[cols[1]].isna()\n",
    "X_new = X.loc[y_missing_idx, cols[0]].values.reshape(-1, 1)\n",
    "\n",
    "y_predict = gb_imputer.predict(X_new)\n",
    "\n",
    "# Update the original DataFrame with predicted values\n",
    "X.loc[y_missing_idx, cols[1]] = y_predict\n",
    "\n",
    "print_missing_data_summary(X)"
   ]
  },
  {
   "cell_type": "code",
   "execution_count": 19,
   "id": "5914014c-9080-4362-89a4-9fc64953a623",
   "metadata": {},
   "outputs": [
    {
     "data": {
      "image/png": "[encoded data removed]",
      "text/plain": [
       "<Figure size 1000x1000 with 2 Axes>"
      ]
     },
     "metadata": {},
     "output_type": "display_data"
    }
   ],
   "source": [
    "# Create a correlation matrix\n",
    "corr_matrix = X.corr()\n",
    "\n",
    "# Plot the correlation matrix\n",
    "sns.set_context('talk')\n",
    "\n",
    "plt.figure(figsize = (10, 10))\n",
    "\n",
    "_ = sns.heatmap(corr_matrix, annot = True, fmt = \".3f\", linewidths = .5)\n",
    "\n",
    "plt.show()"
   ]
  },
  {
   "cell_type": "code",
   "execution_count": 20,
   "id": "36a2d149-9846-4303-b068-96b70c517989",
   "metadata": {},
   "outputs": [
    {
     "data": {
      "application/vnd.jupyter.widget-view+json": {
       "model_id": "48cf2d84b0e24af18f12ebe612704dd4",
       "version_major": 2,
       "version_minor": 0
      },
      "text/plain": [
       "HBox(children=(Output(), Output()), layout=Layout(display='flex', flex_flow='row', justify_content='flex-start…"
      ]
     },
     "metadata": {},
     "output_type": "display_data"
    }
   ],
   "source": [
    "df1 = df.dtypes\n",
    "df2 = X.dtypes\n",
    "\n",
    "\n",
    "titles = ['Original dtypes', 'New dtypes' ]\n",
    "render_widgets(2, titles, [df1, df2])"
   ]
  },
  {
   "cell_type": "code",
   "execution_count": 21,
   "id": "74006c1b-06aa-4dc6-894a-dbf54f576301",
   "metadata": {},
   "outputs": [
    {
     "data": {
      "text/plain": [
       "Pregnancies                   int64\n",
       "Glucose                       int64\n",
       "BloodPressure                 int64\n",
       "SkinThickness                 int64\n",
       "Insulin                       int64\n",
       "BMI                         float64\n",
       "DiabetesPedigreeFunction    float64\n",
       "Age                           int64\n",
       "dtype: object"
      ]
     },
     "execution_count": 21,
     "metadata": {},
     "output_type": "execute_result"
    }
   ],
   "source": [
    "cols = ['Glucose', 'BloodPressure', 'SkinThickness', 'Insulin', 'Age']\n",
    "\n",
    "X[cols] = X[cols].astype(int)\n",
    "\n",
    "X.dtypes"
   ]
  },
  {
   "cell_type": "code",
   "execution_count": 22,
   "id": "f44ddd33-342d-45ed-adc5-cea946f3199f",
   "metadata": {},
   "outputs": [],
   "source": [
    "# sns.pairplot(X, \n",
    "#              #hue = 'Outcome',\n",
    "#              kind = 'scatter',\n",
    "#              diag_kind = 'hist')"
   ]
  },
  {
   "cell_type": "code",
   "execution_count": 23,
   "id": "7b107738-ef6f-460f-b3da-22e4e6679eb4",
   "metadata": {},
   "outputs": [
    {
     "name": "stdout",
     "output_type": "stream",
     "text": [
      "Counter({0: 500, 1: 268})\n"
     ]
    }
   ],
   "source": [
    "from collections import Counter\n",
    "\n",
    "counter = Counter(y)\n",
    "print(counter)"
   ]
  },
  {
   "cell_type": "code",
   "execution_count": 24,
   "id": "f15712ba-38fb-4af0-86ca-56b04ff4ef6c",
   "metadata": {},
   "outputs": [
    {
     "name": "stdout",
     "output_type": "stream",
     "text": [
      "Estimate: 1.866\n"
     ]
    }
   ],
   "source": [
    "# estimate scale_pos_weight value\n",
    "estimate = counter[0] / counter[1]\n",
    "print('Estimate: %.3f' % estimate)"
   ]
  },
  {
   "cell_type": "code",
   "execution_count": 25,
   "id": "63c51e31-53c9-4192-9e0c-6c520c54b2b9",
   "metadata": {},
   "outputs": [
    {
     "name": "stdout",
     "output_type": "stream",
     "text": [
      "Training set\n",
      "(514, 8)\n",
      "(514,)\n",
      "\n",
      "Testing set\n",
      "(254, 8)\n",
      "(254,)\n",
      "\n"
     ]
    }
   ],
   "source": [
    "# split the labels and features into training and testing sets\n",
    "\n",
    "from sklearn.model_selection import train_test_split\n",
    "\n",
    "X_train, X_test, y_train, y_test = train_test_split(X, y, test_size = 0.33, random_state = 21, stratify = y)\n",
    "\n",
    "# Verify that the split was performed correctly\n",
    "print('Training set')\n",
    "print(X_train.shape)\n",
    "print(y_train.shape)\n",
    "print()\n",
    "print('Testing set')\n",
    "print(X_test.shape)\n",
    "print(y_test.shape)\n",
    "print()"
   ]
  },
  {
   "cell_type": "code",
   "execution_count": 26,
   "id": "f31691ea-b47c-446a-9cc0-f22b0ccb5bda",
   "metadata": {},
   "outputs": [
    {
     "name": "stdout",
     "output_type": "stream",
     "text": [
      "RangeIndex(start=0, stop=768, step=1)\n",
      "\n",
      "Index([341, 695, 387, 528, 619, 195, 700, 581, 579, 131,\n",
      "       ...\n",
      "       570, 107, 588,   2, 355,  96, 544, 508, 470, 727],\n",
      "      dtype='int64', length=514)\n"
     ]
    }
   ],
   "source": [
    "# Verify that the index has been shuffled\n",
    "print(X.index)\n",
    "print()\n",
    "print(X_train.index)"
   ]
  },
  {
   "cell_type": "code",
   "execution_count": 27,
   "id": "d086760f-a14d-4cc8-bed9-b65aa458d0bc",
   "metadata": {},
   "outputs": [
    {
     "data": {
      "text/plain": [
       "Index(['Pregnancies', 'Glucose', 'BloodPressure', 'SkinThickness', 'Insulin',\n",
       "       'BMI', 'DiabetesPedigreeFunction', 'Age'],\n",
       "      dtype='object')"
      ]
     },
     "execution_count": 27,
     "metadata": {},
     "output_type": "execute_result"
    }
   ],
   "source": [
    "X_train.columns"
   ]
  },
  {
   "cell_type": "code",
   "execution_count": 28,
   "id": "fbff6e84-e86a-40d7-a3e8-825f9e1a76c9",
   "metadata": {},
   "outputs": [
    {
     "data": {
      "text/html": [
       "<div>\n",
       "<style scoped>\n",
       "    .dataframe tbody tr th:only-of-type {\n",
       "        vertical-align: middle;\n",
       "    }\n",
       "\n",
       "    .dataframe tbody tr th {\n",
       "        vertical-align: top;\n",
       "    }\n",
       "\n",
       "    .dataframe thead th {\n",
       "        text-align: right;\n",
       "    }\n",
       "</style>\n",
       "<table border=\"1\" class=\"dataframe\">\n",
       "  <thead>\n",
       "    <tr style=\"text-align: right;\">\n",
       "      <th></th>\n",
       "      <th>Pregnancies</th>\n",
       "      <th>Glucose</th>\n",
       "      <th>BloodPressure</th>\n",
       "      <th>SkinThickness</th>\n",
       "      <th>Insulin</th>\n",
       "      <th>BMI</th>\n",
       "      <th>DiabetesPedigreeFunction</th>\n",
       "      <th>Age</th>\n",
       "    </tr>\n",
       "  </thead>\n",
       "  <tbody>\n",
       "    <tr>\n",
       "      <th>0</th>\n",
       "      <td>0.071429</td>\n",
       "      <td>0.271429</td>\n",
       "      <td>0.523810</td>\n",
       "      <td>0.152174</td>\n",
       "      <td>0.070913</td>\n",
       "      <td>0.154004</td>\n",
       "      <td>0.254056</td>\n",
       "      <td>0.250000</td>\n",
       "    </tr>\n",
       "    <tr>\n",
       "      <th>1</th>\n",
       "      <td>0.500000</td>\n",
       "      <td>0.607143</td>\n",
       "      <td>0.714286</td>\n",
       "      <td>0.184783</td>\n",
       "      <td>0.560096</td>\n",
       "      <td>0.246407</td>\n",
       "      <td>0.021349</td>\n",
       "      <td>0.366667</td>\n",
       "    </tr>\n",
       "    <tr>\n",
       "      <th>2</th>\n",
       "      <td>0.571429</td>\n",
       "      <td>0.342857</td>\n",
       "      <td>0.833333</td>\n",
       "      <td>0.315217</td>\n",
       "      <td>0.138221</td>\n",
       "      <td>0.511294</td>\n",
       "      <td>0.068745</td>\n",
       "      <td>0.400000</td>\n",
       "    </tr>\n",
       "    <tr>\n",
       "      <th>3</th>\n",
       "      <td>0.000000</td>\n",
       "      <td>0.428571</td>\n",
       "      <td>0.428571</td>\n",
       "      <td>0.260870</td>\n",
       "      <td>0.209135</td>\n",
       "      <td>0.254620</td>\n",
       "      <td>0.177199</td>\n",
       "      <td>0.016667</td>\n",
       "    </tr>\n",
       "    <tr>\n",
       "      <th>4</th>\n",
       "      <td>0.000000</td>\n",
       "      <td>0.442857</td>\n",
       "      <td>0.500000</td>\n",
       "      <td>0.173913</td>\n",
       "      <td>0.138221</td>\n",
       "      <td>0.287474</td>\n",
       "      <td>0.026900</td>\n",
       "      <td>0.050000</td>\n",
       "    </tr>\n",
       "  </tbody>\n",
       "</table>\n",
       "</div>"
      ],
      "text/plain": [
       "   Pregnancies   Glucose  BloodPressure  SkinThickness   Insulin       BMI  \\\n",
       "0     0.071429  0.271429       0.523810       0.152174  0.070913  0.154004   \n",
       "1     0.500000  0.607143       0.714286       0.184783  0.560096  0.246407   \n",
       "2     0.571429  0.342857       0.833333       0.315217  0.138221  0.511294   \n",
       "3     0.000000  0.428571       0.428571       0.260870  0.209135  0.254620   \n",
       "4     0.000000  0.442857       0.500000       0.173913  0.138221  0.287474   \n",
       "\n",
       "   DiabetesPedigreeFunction       Age  \n",
       "0                  0.254056  0.250000  \n",
       "1                  0.021349  0.366667  \n",
       "2                  0.068745  0.400000  \n",
       "3                  0.177199  0.016667  \n",
       "4                  0.026900  0.050000  "
      ]
     },
     "metadata": {},
     "output_type": "display_data"
    },
    {
     "name": "stdout",
     "output_type": "stream",
     "text": [
      "\n"
     ]
    },
    {
     "data": {
      "text/html": [
       "<div>\n",
       "<style scoped>\n",
       "    .dataframe tbody tr th:only-of-type {\n",
       "        vertical-align: middle;\n",
       "    }\n",
       "\n",
       "    .dataframe tbody tr th {\n",
       "        vertical-align: top;\n",
       "    }\n",
       "\n",
       "    .dataframe thead th {\n",
       "        text-align: right;\n",
       "    }\n",
       "</style>\n",
       "<table border=\"1\" class=\"dataframe\">\n",
       "  <thead>\n",
       "    <tr style=\"text-align: right;\">\n",
       "      <th></th>\n",
       "      <th>Pregnancies</th>\n",
       "      <th>Glucose</th>\n",
       "      <th>BloodPressure</th>\n",
       "      <th>SkinThickness</th>\n",
       "      <th>Insulin</th>\n",
       "      <th>BMI</th>\n",
       "      <th>DiabetesPedigreeFunction</th>\n",
       "      <th>Age</th>\n",
       "    </tr>\n",
       "  </thead>\n",
       "  <tbody>\n",
       "    <tr>\n",
       "      <th>341</th>\n",
       "      <td>1</td>\n",
       "      <td>95</td>\n",
       "      <td>74</td>\n",
       "      <td>21</td>\n",
       "      <td>73</td>\n",
       "      <td>25.9</td>\n",
       "      <td>0.673</td>\n",
       "      <td>36</td>\n",
       "    </tr>\n",
       "    <tr>\n",
       "      <th>695</th>\n",
       "      <td>7</td>\n",
       "      <td>142</td>\n",
       "      <td>90</td>\n",
       "      <td>24</td>\n",
       "      <td>480</td>\n",
       "      <td>30.4</td>\n",
       "      <td>0.128</td>\n",
       "      <td>43</td>\n",
       "    </tr>\n",
       "    <tr>\n",
       "      <th>387</th>\n",
       "      <td>8</td>\n",
       "      <td>105</td>\n",
       "      <td>100</td>\n",
       "      <td>36</td>\n",
       "      <td>129</td>\n",
       "      <td>43.3</td>\n",
       "      <td>0.239</td>\n",
       "      <td>45</td>\n",
       "    </tr>\n",
       "    <tr>\n",
       "      <th>528</th>\n",
       "      <td>0</td>\n",
       "      <td>117</td>\n",
       "      <td>66</td>\n",
       "      <td>31</td>\n",
       "      <td>188</td>\n",
       "      <td>30.8</td>\n",
       "      <td>0.493</td>\n",
       "      <td>22</td>\n",
       "    </tr>\n",
       "    <tr>\n",
       "      <th>619</th>\n",
       "      <td>0</td>\n",
       "      <td>119</td>\n",
       "      <td>72</td>\n",
       "      <td>23</td>\n",
       "      <td>129</td>\n",
       "      <td>32.4</td>\n",
       "      <td>0.141</td>\n",
       "      <td>24</td>\n",
       "    </tr>\n",
       "  </tbody>\n",
       "</table>\n",
       "</div>"
      ],
      "text/plain": [
       "     Pregnancies  Glucose  BloodPressure  SkinThickness  Insulin   BMI  \\\n",
       "341            1       95             74             21       73  25.9   \n",
       "695            7      142             90             24      480  30.4   \n",
       "387            8      105            100             36      129  43.3   \n",
       "528            0      117             66             31      188  30.8   \n",
       "619            0      119             72             23      129  32.4   \n",
       "\n",
       "     DiabetesPedigreeFunction  Age  \n",
       "341                     0.673   36  \n",
       "695                     0.128   43  \n",
       "387                     0.239   45  \n",
       "528                     0.493   22  \n",
       "619                     0.141   24  "
      ]
     },
     "metadata": {},
     "output_type": "display_data"
    }
   ],
   "source": [
    "from sklearn.preprocessing import MinMaxScaler\n",
    "\n",
    "# Create a StandardScaler object\n",
    "scaler = MinMaxScaler()\n",
    "\n",
    "# Fit and transform the training data\n",
    "X_train_scaled = pd.DataFrame(scaler.fit_transform(X_train), columns = X_train.columns)\n",
    "\n",
    "# Transform the test data (using the same scaling parameters as the training data)\n",
    "X_test_scaled = pd.DataFrame(scaler.transform(X_test), columns = X_test.columns)\n",
    "\n",
    "display(pd.DataFrame(X_train_scaled).head())\n",
    "\n",
    "print()\n",
    "\n",
    "display(X_train.head())"
   ]
  },
  {
   "cell_type": "markdown",
   "id": "be9921ab-8fd3-419f-8352-6ae5d94c9578",
   "metadata": {},
   "source": [
    "# Train a base XGBoost Classifier on the dataset"
   ]
  },
  {
   "cell_type": "code",
   "execution_count": 29,
   "id": "0fd1328c-a4a4-4cbf-8401-cd7560b53544",
   "metadata": {},
   "outputs": [
    {
     "data": {
      "text/html": [
       "<style>#sk-container-id-1 {color: black;background-color: white;}#sk-container-id-1 pre{padding: 0;}#sk-container-id-1 div.sk-toggleable {background-color: white;}#sk-container-id-1 label.sk-toggleable__label {cursor: pointer;display: block;width: 100%;margin-bottom: 0;padding: 0.3em;box-sizing: border-box;text-align: center;}#sk-container-id-1 label.sk-toggleable__label-arrow:before {content: \"▸\";float: left;margin-right: 0.25em;color: #696969;}#sk-container-id-1 label.sk-toggleable__label-arrow:hover:before {color: black;}#sk-container-id-1 div.sk-estimator:hover label.sk-toggleable__label-arrow:before {color: black;}#sk-container-id-1 div.sk-toggleable__content {max-height: 0;max-width: 0;overflow: hidden;text-align: left;background-color: #f0f8ff;}#sk-container-id-1 div.sk-toggleable__content pre {margin: 0.2em;color: black;border-radius: 0.25em;background-color: #f0f8ff;}#sk-container-id-1 input.sk-toggleable__control:checked~div.sk-toggleable__content {max-height: 200px;max-width: 100%;overflow: auto;}#sk-container-id-1 input.sk-toggleable__control:checked~label.sk-toggleable__label-arrow:before {content: \"▾\";}#sk-container-id-1 div.sk-estimator input.sk-toggleable__control:checked~label.sk-toggleable__label {background-color: #d4ebff;}#sk-container-id-1 div.sk-label input.sk-toggleable__control:checked~label.sk-toggleable__label {background-color: #d4ebff;}#sk-container-id-1 input.sk-hidden--visually {border: 0;clip: rect(1px 1px 1px 1px);clip: rect(1px, 1px, 1px, 1px);height: 1px;margin: -1px;overflow: hidden;padding: 0;position: absolute;width: 1px;}#sk-container-id-1 div.sk-estimator {font-family: monospace;background-color: #f0f8ff;border: 1px dotted black;border-radius: 0.25em;box-sizing: border-box;margin-bottom: 0.5em;}#sk-container-id-1 div.sk-estimator:hover {background-color: #d4ebff;}#sk-container-id-1 div.sk-parallel-item::after {content: \"\";width: 100%;border-bottom: 1px solid gray;flex-grow: 1;}#sk-container-id-1 div.sk-label:hover label.sk-toggleable__label {background-color: #d4ebff;}#sk-container-id-1 div.sk-serial::before {content: \"\";position: absolute;border-left: 1px solid gray;box-sizing: border-box;top: 0;bottom: 0;left: 50%;z-index: 0;}#sk-container-id-1 div.sk-serial {display: flex;flex-direction: column;align-items: center;background-color: white;padding-right: 0.2em;padding-left: 0.2em;position: relative;}#sk-container-id-1 div.sk-item {position: relative;z-index: 1;}#sk-container-id-1 div.sk-parallel {display: flex;align-items: stretch;justify-content: center;background-color: white;position: relative;}#sk-container-id-1 div.sk-item::before, #sk-container-id-1 div.sk-parallel-item::before {content: \"\";position: absolute;border-left: 1px solid gray;box-sizing: border-box;top: 0;bottom: 0;left: 50%;z-index: -1;}#sk-container-id-1 div.sk-parallel-item {display: flex;flex-direction: column;z-index: 1;position: relative;background-color: white;}#sk-container-id-1 div.sk-parallel-item:first-child::after {align-self: flex-end;width: 50%;}#sk-container-id-1 div.sk-parallel-item:last-child::after {align-self: flex-start;width: 50%;}#sk-container-id-1 div.sk-parallel-item:only-child::after {width: 0;}#sk-container-id-1 div.sk-dashed-wrapped {border: 1px dashed gray;margin: 0 0.4em 0.5em 0.4em;box-sizing: border-box;padding-bottom: 0.4em;background-color: white;}#sk-container-id-1 div.sk-label label {font-family: monospace;font-weight: bold;display: inline-block;line-height: 1.2em;}#sk-container-id-1 div.sk-label-container {text-align: center;}#sk-container-id-1 div.sk-container {/* jupyter's `normalize.less` sets `[hidden] { display: none; }` but bootstrap.min.css set `[hidden] { display: none !important; }` so we also need the `!important` here to be able to override the default hidden behavior on the sphinx rendered scikit-learn.org. See: https://github.com/scikit-learn/scikit-learn/issues/21755 */display: inline-block !important;position: relative;}#sk-container-id-1 div.sk-text-repr-fallback {display: none;}</style><div id=\"sk-container-id-1\" class=\"sk-top-container\"><div class=\"sk-text-repr-fallback\"><pre>XGBClassifier(base_score=None, booster=None, callbacks=None,\n",
       "              colsample_bylevel=None, colsample_bynode=None,\n",
       "              colsample_bytree=None, device=None, early_stopping_rounds=None,\n",
       "              enable_categorical=False, eval_metric=&#x27;logloss&#x27;,\n",
       "              feature_types=None, gamma=None, grow_policy=None,\n",
       "              importance_type=None, interaction_constraints=None,\n",
       "              learning_rate=None, max_bin=None, max_cat_threshold=None,\n",
       "              max_cat_to_onehot=None, max_delta_step=None, max_depth=None,\n",
       "              max_leaves=None, min_child_weight=None, missing=nan,\n",
       "              monotone_constraints=None, multi_strategy=None, n_estimators=None,\n",
       "              n_jobs=None, num_parallel_tree=None, random_state=None, ...)</pre><b>In a Jupyter environment, please rerun this cell to show the HTML representation or trust the notebook. <br />On GitHub, the HTML representation is unable to render, please try loading this page with nbviewer.org.</b></div><div class=\"sk-container\" hidden><div class=\"sk-item\"><div class=\"sk-estimator sk-toggleable\"><input class=\"sk-toggleable__control sk-hidden--visually\" id=\"sk-estimator-id-1\" type=\"checkbox\" checked><label for=\"sk-estimator-id-1\" class=\"sk-toggleable__label sk-toggleable__label-arrow\">XGBClassifier</label><div class=\"sk-toggleable__content\"><pre>XGBClassifier(base_score=None, booster=None, callbacks=None,\n",
       "              colsample_bylevel=None, colsample_bynode=None,\n",
       "              colsample_bytree=None, device=None, early_stopping_rounds=None,\n",
       "              enable_categorical=False, eval_metric=&#x27;logloss&#x27;,\n",
       "              feature_types=None, gamma=None, grow_policy=None,\n",
       "              importance_type=None, interaction_constraints=None,\n",
       "              learning_rate=None, max_bin=None, max_cat_threshold=None,\n",
       "              max_cat_to_onehot=None, max_delta_step=None, max_depth=None,\n",
       "              max_leaves=None, min_child_weight=None, missing=nan,\n",
       "              monotone_constraints=None, multi_strategy=None, n_estimators=None,\n",
       "              n_jobs=None, num_parallel_tree=None, random_state=None, ...)</pre></div></div></div></div></div>"
      ],
      "text/plain": [
       "XGBClassifier(base_score=None, booster=None, callbacks=None,\n",
       "              colsample_bylevel=None, colsample_bynode=None,\n",
       "              colsample_bytree=None, device=None, early_stopping_rounds=None,\n",
       "              enable_categorical=False, eval_metric='logloss',\n",
       "              feature_types=None, gamma=None, grow_policy=None,\n",
       "              importance_type=None, interaction_constraints=None,\n",
       "              learning_rate=None, max_bin=None, max_cat_threshold=None,\n",
       "              max_cat_to_onehot=None, max_delta_step=None, max_depth=None,\n",
       "              max_leaves=None, min_child_weight=None, missing=nan,\n",
       "              monotone_constraints=None, multi_strategy=None, n_estimators=None,\n",
       "              n_jobs=None, num_parallel_tree=None, random_state=None, ...)"
      ]
     },
     "execution_count": 29,
     "metadata": {},
     "output_type": "execute_result"
    }
   ],
   "source": [
    "#Build a classifier with minimum parameters\n",
    "xgb_classifier = XGBClassifier(objective = 'binary:logistic', \n",
    "                               eval_metric = 'logloss', \n",
    "                               scale_pos_weight = 1.866,\n",
    "                               )\n",
    "#Train the model\n",
    "xgb_classifier.fit(X_train, y_train)"
   ]
  },
  {
   "cell_type": "markdown",
   "id": "f4b1795b-c381-4d3c-b8d4-63f91afd62e6",
   "metadata": {},
   "source": [
    "# Test the model"
   ]
  },
  {
   "cell_type": "code",
   "execution_count": 30,
   "id": "8c75b7e5-e921-4cb8-b056-d31c9b2bddf1",
   "metadata": {},
   "outputs": [
    {
     "name": "stdout",
     "output_type": "stream",
     "text": [
      "\n"
     ]
    },
    {
     "data": {
      "application/vnd.jupyter.widget-view+json": {
       "model_id": "fdc130b25c4a431391c4230b124ad86e",
       "version_major": 2,
       "version_minor": 0
      },
      "text/plain": [
       "HBox(children=(Output(), Output()), layout=Layout(display='flex', flex_flow='row', justify_content='flex-start…"
      ]
     },
     "metadata": {},
     "output_type": "display_data"
    },
    {
     "data": {
      "application/vnd.jupyter.widget-view+json": {
       "model_id": "5595166097cd425aafc2ecc8a0a3e573",
       "version_major": 2,
       "version_minor": 0
      },
      "text/plain": [
       "HBox(children=(Output(), Output()), layout=Layout(display='flex', flex_flow='row', justify_content='flex-start…"
      ]
     },
     "metadata": {},
     "output_type": "display_data"
    },
    {
     "data": {
      "image/png": "[encoded data removed]",
      "text/plain": [
       "<Figure size 640x480 with 2 Axes>"
      ]
     },
     "metadata": {},
     "output_type": "display_data"
    }
   ],
   "source": [
    "print_classification_metrics(xgb_classifier, X_train, y_train, X_test, y_test)"
   ]
  },
  {
   "cell_type": "markdown",
   "id": "26ba547b-dd57-4836-8265-8b4ee322f8a5",
   "metadata": {},
   "source": [
    "## Re-train the model on the scaled set"
   ]
  },
  {
   "cell_type": "code",
   "execution_count": 31,
   "id": "6da5505c-bc34-4f57-b6de-d47c3839315f",
   "metadata": {},
   "outputs": [
    {
     "name": "stdout",
     "output_type": "stream",
     "text": [
      "\n"
     ]
    },
    {
     "data": {
      "application/vnd.jupyter.widget-view+json": {
       "model_id": "0784fe5f6ba848baab5343266dab3b7b",
       "version_major": 2,
       "version_minor": 0
      },
      "text/plain": [
       "HBox(children=(Output(), Output()), layout=Layout(display='flex', flex_flow='row', justify_content='flex-start…"
      ]
     },
     "metadata": {},
     "output_type": "display_data"
    },
    {
     "data": {
      "application/vnd.jupyter.widget-view+json": {
       "model_id": "1b3383a606384f1d8b328728c5f12730",
       "version_major": 2,
       "version_minor": 0
      },
      "text/plain": [
       "HBox(children=(Output(), Output()), layout=Layout(display='flex', flex_flow='row', justify_content='flex-start…"
      ]
     },
     "metadata": {},
     "output_type": "display_data"
    },
    {
     "data": {
      "image/png": "[encoded data removed]",
      "text/plain": [
       "<Figure size 640x480 with 2 Axes>"
      ]
     },
     "metadata": {},
     "output_type": "display_data"
    }
   ],
   "source": [
    "#Build a classifier with minimum parameters\n",
    "xgb_classifier = XGBClassifier(objective = 'binary:logistic', \n",
    "                               eval_metric = 'logloss',\n",
    "                               scale_pos_weight = 1.866,\n",
    "                               )\n",
    "\n",
    "xgb_classifier.fit(X_train_scaled, y_train)\n",
    "\n",
    "# predict the performance score of the trained model using the testing dataset\n",
    "print_classification_metrics(xgb_classifier, X_train_scaled, y_train, X_test_scaled, y_test)"
   ]
  },
  {
   "cell_type": "markdown",
   "id": "82ea3059-0776-45b1-a402-1ca0b0f5fcfb",
   "metadata": {},
   "source": [
    "* For the XGBoost (tree-based) classifier wich is robust to feature scales, scaling is not particularly significant as shown by the scores above. The only improvement over the unscaled set is one less false positive as shown by the confusion matrix.   "
   ]
  },
  {
   "cell_type": "markdown",
   "id": "d530086f-9c86-40d8-a546-cb9b752ac1c1",
   "metadata": {},
   "source": [
    "## Re-train the model on the \"raw\" data"
   ]
  },
  {
   "cell_type": "code",
   "execution_count": 32,
   "id": "44045714-5652-40b8-a758-f15d340c9b04",
   "metadata": {},
   "outputs": [
    {
     "name": "stdout",
     "output_type": "stream",
     "text": [
      "\n"
     ]
    },
    {
     "data": {
      "application/vnd.jupyter.widget-view+json": {
       "model_id": "d33d9875a8c8474db14e241b1d9c3b93",
       "version_major": 2,
       "version_minor": 0
      },
      "text/plain": [
       "HBox(children=(Output(), Output()), layout=Layout(display='flex', flex_flow='row', justify_content='flex-start…"
      ]
     },
     "metadata": {},
     "output_type": "display_data"
    },
    {
     "data": {
      "application/vnd.jupyter.widget-view+json": {
       "model_id": "0ba1582b34f24517ac4c603e0866a285",
       "version_major": 2,
       "version_minor": 0
      },
      "text/plain": [
       "HBox(children=(Output(), Output()), layout=Layout(display='flex', flex_flow='row', justify_content='flex-start…"
      ]
     },
     "metadata": {},
     "output_type": "display_data"
    },
    {
     "data": {
      "image/png": "[encoded data removed]",
      "text/plain": [
       "<Figure size 640x480 with 2 Axes>"
      ]
     },
     "metadata": {},
     "output_type": "display_data"
    }
   ],
   "source": [
    "# Reload the unprocessed dataset\n",
    "df_raw = pd.read_csv(\"./Data/diabetes.csv\", sep = \",\")\n",
    "\n",
    "# split the unprocessed data into target and features\n",
    "\n",
    "y_raw = df_raw[\"Outcome\"] # target\n",
    "X_raw = df_raw.drop(columns = [\"Outcome\"]) # features\n",
    "\n",
    "# split the data into train and test sets\n",
    "X_train_raw, X_test_raw, y_train_raw, y_test_raw = train_test_split(X_raw, y_raw, test_size = 0.33, random_state = 21, stratify = y_raw)\n",
    "\n",
    "#Build a classifier with minimum parameters\n",
    "xgb_classifier = XGBClassifier(objective = 'binary:logistic', \n",
    "                               eval_metric = 'logloss', \n",
    "                               scale_pos_weight = 1.866,\n",
    "                               )\n",
    "\n",
    "#Fit the classifier to the raw data\n",
    "xgb_classifier.fit(X_train_raw, y_train_raw)\n",
    "\n",
    "# predict the performance score of the trained model using the testing dataset\n",
    "print_classification_metrics(xgb_classifier, X_train_raw, y_train_raw, X_test_raw, y_test_raw)"
   ]
  },
  {
   "cell_type": "code",
   "execution_count": null,
   "id": "cd04bc42-2fb4-4223-a45c-48143f881c9c",
   "metadata": {},
   "outputs": [],
   "source": []
  },
  {
   "cell_type": "code",
   "execution_count": null,
   "id": "a1945a5c-7ce1-493c-83b0-4882bf39a753",
   "metadata": {},
   "outputs": [],
   "source": []
  },
  {
   "cell_type": "code",
   "execution_count": null,
   "id": "2aa1ad39-a9c2-40e5-8ba4-ba0684d2c2eb",
   "metadata": {},
   "outputs": [],
   "source": []
  },
  {
   "cell_type": "code",
   "execution_count": null,
   "id": "ed70ec34-4fa1-4f44-b474-e46cfaed1bf7",
   "metadata": {},
   "outputs": [],
   "source": []
  },
  {
   "cell_type": "code",
   "execution_count": 33,
   "id": "9aa06454-2e49-4a37-af74-c10246189425",
   "metadata": {},
   "outputs": [
    {
     "name": "stdout",
     "output_type": "stream",
     "text": [
      "\n",
      "Original dataset shape Counter({0: 335, 1: 179})\n",
      "\n",
      "Resampled dataset shape Counter({0: 335, 1: 335})\n",
      "\n"
     ]
    }
   ],
   "source": [
    "from imblearn.over_sampling import SMOTE\n",
    "from collections import Counter\n",
    "\n",
    "sm = SMOTE(sampling_strategy = 'minority',\n",
    "           random_state = 21,\n",
    "           k_neighbors = 6,\n",
    "           )\n",
    "\n",
    "X_res, y_res = sm.fit_resample(X_train_scaled, y_train)\n",
    "print()\n",
    "print('Original dataset shape %s' % Counter(y_train))\n",
    "print()\n",
    "print('Resampled dataset shape %s' % Counter(y_res))\n",
    "print()"
   ]
  },
  {
   "cell_type": "code",
   "execution_count": 34,
   "id": "3b2b5d46-9753-4e9d-a890-c747c3ac115e",
   "metadata": {},
   "outputs": [
    {
     "name": "stdout",
     "output_type": "stream",
     "text": [
      "\n"
     ]
    },
    {
     "data": {
      "application/vnd.jupyter.widget-view+json": {
       "model_id": "c79ef89731124920a2c6ecba765a1151",
       "version_major": 2,
       "version_minor": 0
      },
      "text/plain": [
       "HBox(children=(Output(), Output()), layout=Layout(display='flex', flex_flow='row', justify_content='flex-start…"
      ]
     },
     "metadata": {},
     "output_type": "display_data"
    },
    {
     "data": {
      "application/vnd.jupyter.widget-view+json": {
       "model_id": "be4218e5a4304d8e85bb1d5ec359572f",
       "version_major": 2,
       "version_minor": 0
      },
      "text/plain": [
       "HBox(children=(Output(), Output()), layout=Layout(display='flex', flex_flow='row', justify_content='flex-start…"
      ]
     },
     "metadata": {},
     "output_type": "display_data"
    },
    {
     "data": {
      "image/png": "[encoded data removed]",
      "text/plain": [
       "<Figure size 640x480 with 2 Axes>"
      ]
     },
     "metadata": {},
     "output_type": "display_data"
    }
   ],
   "source": [
    "#Build a classifier with minimum parameters\n",
    "xgb_classifier = XGBClassifier(objective = 'binary:logistic', \n",
    "                               eval_metric = 'logloss',                            \n",
    "                               )\n",
    "\n",
    "#Fit the classifier to the raw data\n",
    "xgb_classifier.fit(X_res, y_res)\n",
    "\n",
    "# predict the performance score of the trained model using the testing dataset\n",
    "print_classification_metrics(xgb_classifier, X_res, y_res, X_test_scaled, y_test)"
   ]
  },
  {
   "cell_type": "code",
   "execution_count": null,
   "id": "65d41ca2-2382-4b38-9f31-42afb497b2e4",
   "metadata": {},
   "outputs": [],
   "source": []
  },
  {
   "cell_type": "code",
   "execution_count": null,
   "id": "18e6f402-c6f3-4667-8684-a4c43ddc4023",
   "metadata": {},
   "outputs": [],
   "source": []
  },
  {
   "cell_type": "code",
   "execution_count": 35,
   "id": "1e49dd36-82f9-4e68-9883-8f1a2400a028",
   "metadata": {},
   "outputs": [
    {
     "name": "stdout",
     "output_type": "stream",
     "text": [
      "Score List:  [ 5.83763741 16.03643249  0.90011048  1.74851668  5.50447263  5.23829605\n",
      "  3.97772762  5.77470716]\n",
      "\n",
      "Feature list:  Index(['Pregnancies', 'Glucose', 'BloodPressure', 'SkinThickness', 'Insulin',\n",
      "       'BMI', 'DiabetesPedigreeFunction', 'Age'],\n",
      "      dtype='object')\n"
     ]
    }
   ],
   "source": [
    "selected_features = SelectKBest(chi2, k = 6).fit(X_res, y_res)\n",
    "\n",
    "print('Score List: ', selected_features.scores_)\n",
    "print()\n",
    "print('Feature list: ', X_res.columns)"
   ]
  },
  {
   "cell_type": "code",
   "execution_count": 36,
   "id": "07a8185d-3ddf-4eaf-8937-26e943d57938",
   "metadata": {},
   "outputs": [
    {
     "data": {
      "text/html": [
       "<div>\n",
       "<style scoped>\n",
       "    .dataframe tbody tr th:only-of-type {\n",
       "        vertical-align: middle;\n",
       "    }\n",
       "\n",
       "    .dataframe tbody tr th {\n",
       "        vertical-align: top;\n",
       "    }\n",
       "\n",
       "    .dataframe thead th {\n",
       "        text-align: right;\n",
       "    }\n",
       "</style>\n",
       "<table border=\"1\" class=\"dataframe\">\n",
       "  <thead>\n",
       "    <tr style=\"text-align: right;\">\n",
       "      <th></th>\n",
       "      <th>0</th>\n",
       "      <th>1</th>\n",
       "      <th>2</th>\n",
       "      <th>3</th>\n",
       "      <th>4</th>\n",
       "      <th>5</th>\n",
       "    </tr>\n",
       "  </thead>\n",
       "  <tbody>\n",
       "    <tr>\n",
       "      <th>0</th>\n",
       "      <td>0.071429</td>\n",
       "      <td>0.271429</td>\n",
       "      <td>0.070913</td>\n",
       "      <td>0.154004</td>\n",
       "      <td>0.254056</td>\n",
       "      <td>0.250000</td>\n",
       "    </tr>\n",
       "    <tr>\n",
       "      <th>1</th>\n",
       "      <td>0.500000</td>\n",
       "      <td>0.607143</td>\n",
       "      <td>0.560096</td>\n",
       "      <td>0.246407</td>\n",
       "      <td>0.021349</td>\n",
       "      <td>0.366667</td>\n",
       "    </tr>\n",
       "    <tr>\n",
       "      <th>2</th>\n",
       "      <td>0.571429</td>\n",
       "      <td>0.342857</td>\n",
       "      <td>0.138221</td>\n",
       "      <td>0.511294</td>\n",
       "      <td>0.068745</td>\n",
       "      <td>0.400000</td>\n",
       "    </tr>\n",
       "    <tr>\n",
       "      <th>3</th>\n",
       "      <td>0.000000</td>\n",
       "      <td>0.428571</td>\n",
       "      <td>0.209135</td>\n",
       "      <td>0.254620</td>\n",
       "      <td>0.177199</td>\n",
       "      <td>0.016667</td>\n",
       "    </tr>\n",
       "    <tr>\n",
       "      <th>4</th>\n",
       "      <td>0.000000</td>\n",
       "      <td>0.442857</td>\n",
       "      <td>0.138221</td>\n",
       "      <td>0.287474</td>\n",
       "      <td>0.026900</td>\n",
       "      <td>0.050000</td>\n",
       "    </tr>\n",
       "  </tbody>\n",
       "</table>\n",
       "</div>"
      ],
      "text/plain": [
       "          0         1         2         3         4         5\n",
       "0  0.071429  0.271429  0.070913  0.154004  0.254056  0.250000\n",
       "1  0.500000  0.607143  0.560096  0.246407  0.021349  0.366667\n",
       "2  0.571429  0.342857  0.138221  0.511294  0.068745  0.400000\n",
       "3  0.000000  0.428571  0.209135  0.254620  0.177199  0.016667\n",
       "4  0.000000  0.442857  0.138221  0.287474  0.026900  0.050000"
      ]
     },
     "metadata": {},
     "output_type": "display_data"
    },
    {
     "data": {
      "text/html": [
       "<div>\n",
       "<style scoped>\n",
       "    .dataframe tbody tr th:only-of-type {\n",
       "        vertical-align: middle;\n",
       "    }\n",
       "\n",
       "    .dataframe tbody tr th {\n",
       "        vertical-align: top;\n",
       "    }\n",
       "\n",
       "    .dataframe thead th {\n",
       "        text-align: right;\n",
       "    }\n",
       "</style>\n",
       "<table border=\"1\" class=\"dataframe\">\n",
       "  <thead>\n",
       "    <tr style=\"text-align: right;\">\n",
       "      <th></th>\n",
       "      <th>Pregnancies</th>\n",
       "      <th>Glucose</th>\n",
       "      <th>BloodPressure</th>\n",
       "      <th>SkinThickness</th>\n",
       "      <th>Insulin</th>\n",
       "      <th>BMI</th>\n",
       "      <th>DiabetesPedigreeFunction</th>\n",
       "      <th>Age</th>\n",
       "    </tr>\n",
       "  </thead>\n",
       "  <tbody>\n",
       "    <tr>\n",
       "      <th>0</th>\n",
       "      <td>0.071429</td>\n",
       "      <td>0.271429</td>\n",
       "      <td>0.523810</td>\n",
       "      <td>0.152174</td>\n",
       "      <td>0.070913</td>\n",
       "      <td>0.154004</td>\n",
       "      <td>0.254056</td>\n",
       "      <td>0.250000</td>\n",
       "    </tr>\n",
       "    <tr>\n",
       "      <th>1</th>\n",
       "      <td>0.500000</td>\n",
       "      <td>0.607143</td>\n",
       "      <td>0.714286</td>\n",
       "      <td>0.184783</td>\n",
       "      <td>0.560096</td>\n",
       "      <td>0.246407</td>\n",
       "      <td>0.021349</td>\n",
       "      <td>0.366667</td>\n",
       "    </tr>\n",
       "    <tr>\n",
       "      <th>2</th>\n",
       "      <td>0.571429</td>\n",
       "      <td>0.342857</td>\n",
       "      <td>0.833333</td>\n",
       "      <td>0.315217</td>\n",
       "      <td>0.138221</td>\n",
       "      <td>0.511294</td>\n",
       "      <td>0.068745</td>\n",
       "      <td>0.400000</td>\n",
       "    </tr>\n",
       "    <tr>\n",
       "      <th>3</th>\n",
       "      <td>0.000000</td>\n",
       "      <td>0.428571</td>\n",
       "      <td>0.428571</td>\n",
       "      <td>0.260870</td>\n",
       "      <td>0.209135</td>\n",
       "      <td>0.254620</td>\n",
       "      <td>0.177199</td>\n",
       "      <td>0.016667</td>\n",
       "    </tr>\n",
       "    <tr>\n",
       "      <th>4</th>\n",
       "      <td>0.000000</td>\n",
       "      <td>0.442857</td>\n",
       "      <td>0.500000</td>\n",
       "      <td>0.173913</td>\n",
       "      <td>0.138221</td>\n",
       "      <td>0.287474</td>\n",
       "      <td>0.026900</td>\n",
       "      <td>0.050000</td>\n",
       "    </tr>\n",
       "  </tbody>\n",
       "</table>\n",
       "</div>"
      ],
      "text/plain": [
       "   Pregnancies   Glucose  BloodPressure  SkinThickness   Insulin       BMI  \\\n",
       "0     0.071429  0.271429       0.523810       0.152174  0.070913  0.154004   \n",
       "1     0.500000  0.607143       0.714286       0.184783  0.560096  0.246407   \n",
       "2     0.571429  0.342857       0.833333       0.315217  0.138221  0.511294   \n",
       "3     0.000000  0.428571       0.428571       0.260870  0.209135  0.254620   \n",
       "4     0.000000  0.442857       0.500000       0.173913  0.138221  0.287474   \n",
       "\n",
       "   DiabetesPedigreeFunction       Age  \n",
       "0                  0.254056  0.250000  \n",
       "1                  0.021349  0.366667  \n",
       "2                  0.068745  0.400000  \n",
       "3                  0.177199  0.016667  \n",
       "4                  0.026900  0.050000  "
      ]
     },
     "metadata": {},
     "output_type": "display_data"
    }
   ],
   "source": [
    "X_train_best = pd.DataFrame(selected_features.transform(X_res))\n",
    "\n",
    "X_test_best = pd.DataFrame(selected_features.transform(X_test_scaled))\n",
    "\n",
    "display(X_train_best.head())\n",
    "display(X_train_scaled.head())"
   ]
  },
  {
   "cell_type": "code",
   "execution_count": null,
   "id": "439e44fc-112f-48f9-857b-a9af0e1e5bef",
   "metadata": {},
   "outputs": [],
   "source": []
  },
  {
   "cell_type": "code",
   "execution_count": null,
   "id": "5c8f890b-ed48-496d-9419-c30b84c6b79d",
   "metadata": {},
   "outputs": [],
   "source": []
  },
  {
   "cell_type": "code",
   "execution_count": null,
   "id": "b4780b58-e4f6-4c6d-a6ef-db8c7a0aecb9",
   "metadata": {},
   "outputs": [],
   "source": []
  },
  {
   "cell_type": "code",
   "execution_count": null,
   "id": "502f348c-88b7-4df8-a8c0-50069277a6b9",
   "metadata": {},
   "outputs": [],
   "source": []
  },
  {
   "cell_type": "code",
   "execution_count": null,
   "id": "dd37e498-262a-4879-9c65-c78f8bbfe158",
   "metadata": {},
   "outputs": [],
   "source": []
  },
  {
   "cell_type": "code",
   "execution_count": null,
   "id": "e6e2eb6e-7cc9-4334-9dcc-fa47f3ea4ac2",
   "metadata": {},
   "outputs": [],
   "source": []
  },
  {
   "cell_type": "code",
   "execution_count": null,
   "id": "868de1d5-2741-4fdb-9c50-ea92302d9877",
   "metadata": {},
   "outputs": [],
   "source": []
  },
  {
   "cell_type": "code",
   "execution_count": 37,
   "id": "27b1820b-f6b7-4a21-9e13-a1be2f4d6675",
   "metadata": {},
   "outputs": [
    {
     "name": "stdout",
     "output_type": "stream",
     "text": [
      "\n"
     ]
    },
    {
     "data": {
      "application/vnd.jupyter.widget-view+json": {
       "model_id": "c684faf09d18469a951ddf176b1d143b",
       "version_major": 2,
       "version_minor": 0
      },
      "text/plain": [
       "HBox(children=(Output(), Output()), layout=Layout(display='flex', flex_flow='row', justify_content='flex-start…"
      ]
     },
     "metadata": {},
     "output_type": "display_data"
    },
    {
     "data": {
      "application/vnd.jupyter.widget-view+json": {
       "model_id": "79ec177fd993487294e17e9773ccec3a",
       "version_major": 2,
       "version_minor": 0
      },
      "text/plain": [
       "HBox(children=(Output(), Output()), layout=Layout(display='flex', flex_flow='row', justify_content='flex-start…"
      ]
     },
     "metadata": {},
     "output_type": "display_data"
    },
    {
     "data": {
      "image/png": "[encoded data removed]",
      "text/plain": [
       "<Figure size 640x480 with 2 Axes>"
      ]
     },
     "metadata": {},
     "output_type": "display_data"
    }
   ],
   "source": [
    "X_train_best = X_train_best.rename(columns = {0: 'Pregnancies', 1: 'Glucose', 2: 'Insulin', 3: 'BMI', 4: 'DPF', 5: 'Age'})\n",
    "X_test_best = X_test_best.rename(columns = {0: 'Pregnancies', 1: 'Glucose', 2: 'Insulin', 3: 'BMI', 4: 'DPF', 5: 'Age'})\n",
    "\n",
    "#Build a classifier with minimum parameters\n",
    "xgb_classifier = XGBClassifier(objective = 'binary:logistic', \n",
    "                               eval_metric = 'logloss',                                                           \n",
    "                               )\n",
    "\n",
    "#Fit the classifier to the raw data\n",
    "xgb_classifier.fit(X_train_best, y_res)\n",
    "\n",
    "# predict the performance score of the trained model using the testing dataset\n",
    "print_classification_metrics(xgb_classifier, X_train_best, y_res, X_test_best, y_test)"
   ]
  },
  {
   "cell_type": "code",
   "execution_count": 38,
   "id": "e6a25477-4e1b-41e9-a4ab-016b3c704184",
   "metadata": {},
   "outputs": [
    {
     "name": "stderr",
     "output_type": "stream",
     "text": [
      "[I 2024-05-09 23:21:30,192] A new study created in memory with name: no-name-20afb04b-545d-49bc-9433-c38e606db000\n"
     ]
    },
    {
     "data": {
      "application/vnd.jupyter.widget-view+json": {
       "model_id": "a5bdadd9b580445f9148b1c728966db9",
       "version_major": 2,
       "version_minor": 0
      },
      "text/plain": [
       "  0%|          | 0/100 [00:00<?, ?it/s]"
      ]
     },
     "metadata": {},
     "output_type": "display_data"
    },
    {
     "name": "stdout",
     "output_type": "stream",
     "text": [
      "\n",
      "Best hyperparameters:                            0\n",
      "max_depth                 7\n",
      "n_estimators            856\n",
      "learning_rate      0.398421\n",
      "max_leaves               45\n",
      "min_child_weight          1\n",
      "subsample          0.534027\n",
      "colsample_bytree   0.757407\n",
      "reg_alpha          0.272977\n",
      "reg_lambda        95.880972\n",
      "eval_metric           error\n",
      "scale_pos_weight   1.620401\n",
      "\n",
      "Best score (Minimum loss):  0.8679376848901837\n",
      "\n"
     ]
    }
   ],
   "source": [
    "from sklearn.model_selection import StratifiedKFold\n",
    "\n",
    "# Create a StratifiedKFold object\n",
    "# skf = StratifiedKFold(n_splits=5,\n",
    "#                       shuffle=True,\n",
    "#                       random_state=21)\n",
    "\n",
    "def strat_objective(trial):    \n",
    "    # Define the hyperparameter search space\n",
    "    max_depth = trial.suggest_int('max_depth', 3, 10)\n",
    "    n_estimators = trial.suggest_int('n_estimators', 100, 1000)\n",
    "    learning_rate = trial.suggest_float('learning_rate', 0.0, 5e-1, log=False)\n",
    "    max_leaves = trial.suggest_int('max_leaves', 0, 64)\n",
    "    min_child_weight = trial.suggest_int('min_child_weight', 1, 10)    \n",
    "    subsample = trial.suggest_float('subsample', 0.5, 1.0)\n",
    "    colsample_bytree = trial.suggest_float('colsample_bytree', 0.5, 1.0)\n",
    "    reg_alpha = trial.suggest_float('reg_alpha', 1e-8, 100, log=False)\n",
    "    reg_lambda = trial.suggest_float('reg_lambda', 1e-8, 100, log=False)\n",
    "    eval_metric = trial.suggest_categorical(\"eval_metric\", ['logloss',\"error\", \"aucpr\", 'error@0.6'])\n",
    "    scale_pos_weight = trial.suggest_float('scale_pos_weight', 1.0, 1.870)  \n",
    "\n",
    "    # Create the XGBClassifier with the sampled hyperparameters\n",
    "    classifier = XGBClassifier(\n",
    "        max_depth = max_depth,\n",
    "        n_estimators = n_estimators,\n",
    "        learning_rate = learning_rate,\n",
    "        max_leaves = max_leaves,\n",
    "        min_child_weight=min_child_weight,        \n",
    "        subsample = subsample,\n",
    "        colsample_bytree = colsample_bytree,\n",
    "        reg_alpha = reg_alpha,\n",
    "        reg_lambda = reg_lambda,\n",
    "        scale_pos_weight = scale_pos_weight,\n",
    "        eval_metric = eval_metric,\n",
    "        objective = 'binary:logistic',        \n",
    "        grow_policy = 'lossguide',        \n",
    "        use_label_encoder = False,\n",
    "        seed = 21,\n",
    "        n_jobs = -1,        \n",
    "    )\n",
    "    \n",
    "    scores = cross_val_score(classifier, \n",
    "                             X_train_best, \n",
    "                             y_res,\n",
    "                             cv=5,\n",
    "                             scoring='average_precision',\n",
    "                             verbose = False, n_jobs=-1)\n",
    "    #return -scores.mean()\n",
    "    return scores.mean()\n",
    "\n",
    "# Create an Optuna study\n",
    "study = optuna.create_study(direction='maximize')\n",
    "\n",
    "# Optimize the objective function\n",
    "optuna.logging.set_verbosity(optuna.logging.WARNING)\n",
    "study.optimize(strat_objective, n_trials=100, timeout = 600, show_progress_bar = True)\n",
    "\n",
    "# Print the best hyperparameters and the corresponding score\n",
    "print()\n",
    "print('Best hyperparameters: ', pd.DataFrame([study.best_params]).transpose())\n",
    "print()\n",
    "print('Best score (Minimum loss): ', study.best_value)\n",
    "print()"
   ]
  },
  {
   "cell_type": "code",
   "execution_count": 39,
   "id": "12c13896-3fbb-4bb0-a9bb-f0ae4a04f380",
   "metadata": {},
   "outputs": [
    {
     "name": "stdout",
     "output_type": "stream",
     "text": [
      "\n"
     ]
    },
    {
     "data": {
      "application/vnd.jupyter.widget-view+json": {
       "model_id": "7147fd691e76405eb2bc0470fd10a7c9",
       "version_major": 2,
       "version_minor": 0
      },
      "text/plain": [
       "HBox(children=(Output(), Output()), layout=Layout(display='flex', flex_flow='row', justify_content='flex-start…"
      ]
     },
     "metadata": {},
     "output_type": "display_data"
    },
    {
     "data": {
      "application/vnd.jupyter.widget-view+json": {
       "model_id": "a19c3cde3ef04d75a2c95f6836e14af3",
       "version_major": 2,
       "version_minor": 0
      },
      "text/plain": [
       "HBox(children=(Output(), Output()), layout=Layout(display='flex', flex_flow='row', justify_content='flex-start…"
      ]
     },
     "metadata": {},
     "output_type": "display_data"
    },
    {
     "data": {
      "image/png": "[encoded data removed]",
      "text/plain": [
       "<Figure size 640x480 with 2 Axes>"
      ]
     },
     "metadata": {},
     "output_type": "display_data"
    }
   ],
   "source": [
    "best_params = study.best_params\n",
    "\n",
    "xgb_classifier_opt = XGBClassifier(**best_params,\n",
    "                                   objective = 'binary:logistic',\n",
    "                                   grow_policy = 'lossguide',\n",
    "                                   use_label_encoder = False,\n",
    "                                   seed = 21,\n",
    "                                   n_jobs = -1).fit(X_train_best, y_res, verbose = 0)\n",
    "\n",
    "print_classification_metrics(xgb_classifier_opt, X_train_best, y_res, X_test_best, y_test)"
   ]
  },
  {
   "cell_type": "markdown",
   "id": "99ab37ad-8813-47ff-a5f4-a0459285a0e7",
   "metadata": {},
   "source": [
    "# Optimize an XGBoost classifier using hyperopt"
   ]
  },
  {
   "cell_type": "code",
   "execution_count": 40,
   "id": "b82c656f-8a1a-419a-8e97-6023e1063441",
   "metadata": {},
   "outputs": [
    {
     "name": "stdout",
     "output_type": "stream",
     "text": [
      "100%|██████| 100/100 [01:03<00:00,  1.58trial/s, best loss: 0.45082736531844336]\n",
      "\n",
      "Best hyperparameters:                            0\n",
      "colsample_bytree    0.785023\n",
      "learning_rate       0.008773\n",
      "max_depth          10.000000\n",
      "max_leaves         31.000000\n",
      "min_child_weight    1.000000\n",
      "n_estimators      540.000000\n",
      "reg_alpha           0.418885\n",
      "reg_lambda          0.592475\n",
      "subsample           0.537759\n",
      "\n",
      "Best score (Minimum loss): 0.45082736531844336\n"
     ]
    }
   ],
   "source": [
    "from hyperopt import hp, fmin, tpe, STATUS_OK, Trials\n",
    "from sklearn.model_selection import cross_val_score\n",
    "\n",
    "# Define the hyperparameter search space\n",
    "space = {\n",
    "    'max_depth': hp.quniform('max_depth', 2, 10, 1),\n",
    "    'n_estimators': hp.quniform('n_estimators', 100, 1000, 1),\n",
    "    'learning_rate': hp.uniform('learning_rate', 1e-3, 5e-1),\n",
    "    'max_leaves': hp.choice('max_leaves', np.arange(10, 65, dtype = int)),\n",
    "    'subsample': hp.uniform('subsample', 0.5, 1.0),\n",
    "    'min_child_weight': hp.quniform('min_child_weight', 1, 10, 1),    \n",
    "    'colsample_bytree': hp.uniform('colsample_bytree', 0.5, 1.0),\n",
    "    'reg_alpha': hp.uniform('reg_alpha', 1e-8, 1.0),\n",
    "    'reg_lambda': hp.uniform('reg_lambda', 1e-8, 1.0),\n",
    "}\n",
    "\n",
    "# Define the objective function to optimize\n",
    "def objective(params):\n",
    "    classifier = XGBClassifier(\n",
    "        max_depth = int(params['max_depth']),\n",
    "        n_estimators = int(params['n_estimators']),\n",
    "        learning_rate = params['learning_rate'],\n",
    "        max_leaves = int(params['max_leaves']),\n",
    "        min_child_weight = int(params['min_child_weight']),        \n",
    "        subsample = params['subsample'],\n",
    "        colsample_bytree = params['colsample_bytree'],\n",
    "        reg_alpha = params['reg_alpha'],\n",
    "        reg_lambda = params['reg_lambda'],\n",
    "        objective = 'binary:logistic',        \n",
    "        use_label_encoder = False,\n",
    "        seed = 21,\n",
    "        n_jobs = -1,\n",
    "    )\n",
    "\n",
    "    score = cross_val_score(classifier, X_train_best, y_res, cv=5, scoring='neg_log_loss', n_jobs=-1)\n",
    "    return {'loss': -score.mean(), 'status': STATUS_OK}\n",
    "\n",
    "# Create a Trials object to track the optimization process\n",
    "trials = Trials()\n",
    "\n",
    "# Optimize the objective function using fmin\n",
    "best = fmin(\n",
    "    fn=objective,\n",
    "    space=space,\n",
    "    algo=tpe.suggest,\n",
    "    max_evals=100,\n",
    "    trials=trials,\n",
    "    rstate=np.random.default_rng(21)\n",
    ")\n",
    "\n",
    "# Print the best hyperparameters and the corresponding score\n",
    "print()\n",
    "print(\"Best hyperparameters:\", pd.DataFrame([best]).transpose())\n",
    "print()\n",
    "print(\"Best score (Minimum loss):\", trials.best_trial['result']['loss'])"
   ]
  },
  {
   "cell_type": "code",
   "execution_count": 41,
   "id": "67a97e9a-ed2f-45dd-9329-7958a6cbf173",
   "metadata": {},
   "outputs": [
    {
     "name": "stdout",
     "output_type": "stream",
     "text": [
      "\n"
     ]
    },
    {
     "data": {
      "application/vnd.jupyter.widget-view+json": {
       "model_id": "97fc6f2b70524dd9bb28d18699f4ba94",
       "version_major": 2,
       "version_minor": 0
      },
      "text/plain": [
       "HBox(children=(Output(), Output()), layout=Layout(display='flex', flex_flow='row', justify_content='flex-start…"
      ]
     },
     "metadata": {},
     "output_type": "display_data"
    },
    {
     "data": {
      "application/vnd.jupyter.widget-view+json": {
       "model_id": "8c9b28f087f44d40bcafd4d8d4ca21db",
       "version_major": 2,
       "version_minor": 0
      },
      "text/plain": [
       "HBox(children=(Output(), Output()), layout=Layout(display='flex', flex_flow='row', justify_content='flex-start…"
      ]
     },
     "metadata": {},
     "output_type": "display_data"
    },
    {
     "data": {
      "image/png": "[encoded data removed]",
      "text/plain": [
       "<Figure size 640x480 with 2 Axes>"
      ]
     },
     "metadata": {},
     "output_type": "display_data"
    }
   ],
   "source": [
    "# Retrieve the best hyperparameters\n",
    "best_params = trials.best_trial['misc']['vals']\n",
    "\n",
    "# Extract scalar values from the lists\n",
    "max_depth = int(best_params['max_depth'][0])\n",
    "n_estimators = int(best_params['n_estimators'][0])\n",
    "learning_rate = best_params['learning_rate'][0]\n",
    "min_child_weight = int(best_params['min_child_weight'][0])\n",
    "max_leaves = best_params['max_leaves'][0]\n",
    "colsample_bytree = best_params['colsample_bytree'][0]\n",
    "subsample = best_params['subsample'][0]\n",
    "reg_alpha = best_params['reg_alpha'][0]\n",
    "reg_lambda = best_params['reg_lambda'][0]\n",
    "\n",
    "xgb_classifier_hyp = XGBClassifier(objective = 'binary:logistic',                                     \n",
    "                                   learning_rate = learning_rate,\n",
    "                                   max_depth = max_depth,\n",
    "                                   max_leaves = max_leaves,\n",
    "                                   n_estimators = n_estimators,                \n",
    "                                   min_child_weight = min_child_weight,\n",
    "                                   subsample = subsample,\n",
    "                                   colsample_bytree = colsample_bytree,\n",
    "                                   reg_alpha = reg_alpha,\n",
    "                                   reg_lambda = reg_lambda,                                 \n",
    "                                   scale_pos_weight = 1.853,\n",
    "                                   use_label_encoder = False,\n",
    "                                   seed = 21).fit(X_train_best, y_res, verbose = 0)\n",
    "\n",
    "print_classification_metrics(xgb_classifier_hyp, X_train_best, y_res, X_test_best, y_test)"
   ]
  },
  {
   "cell_type": "markdown",
   "id": "3d445773-d0ab-4d88-80c7-092613ba0f3a",
   "metadata": {},
   "source": [
    "# Optimize a LightGBM model using optuna"
   ]
  },
  {
   "cell_type": "code",
   "execution_count": 42,
   "id": "99652d0a-74e1-4cda-9e56-63e0263bda07",
   "metadata": {},
   "outputs": [
    {
     "data": {
      "application/vnd.jupyter.widget-view+json": {
       "model_id": "92a043d1a0c449b892d47da781060ab9",
       "version_major": 2,
       "version_minor": 0
      },
      "text/plain": [
       "  0%|          | 0/100 [00:00<?, ?it/s]"
      ]
     },
     "metadata": {},
     "output_type": "display_data"
    },
    {
     "name": "stdout",
     "output_type": "stream",
     "text": [
      "\n",
      "Best hyperparameters:                             0\n",
      "max_depth            7.000000\n",
      "num_leaves          63.000000\n",
      "n_estimators       248.000000\n",
      "learning_rate        0.043795\n",
      "min_child_weight     2.000000\n",
      "min_child_samples   16.000000\n",
      "reg_alpha            0.974824\n",
      "reg_lambda           0.895272\n",
      "colsample_bytree     0.869913\n",
      "subsample            0.714301\n",
      "\n",
      "Best score (Minimum loss): 0.45389176490554617\n",
      "\n"
     ]
    }
   ],
   "source": [
    "import lightgbm as lgb\n",
    "from sklearn.model_selection import StratifiedKFold, cross_val_score\n",
    "from sklearn.metrics import average_precision_score\n",
    "\n",
    "# LightGBM with Stratified K-Fold Cross-Validation\n",
    "skf = StratifiedKFold(n_splits=5, shuffle=True, random_state=21)\n",
    "\n",
    "# Define the objective function for LightGBM\n",
    "def lgb_objective(trial):\n",
    "    params = {        \n",
    "        'objective': 'binary',        \n",
    "        'max_depth': trial.suggest_int('max_depth', 2, 10),\n",
    "        'num_leaves': trial.suggest_int('num_leaves', 10, 64),\n",
    "        'n_estimators': trial.suggest_int('n_estimators', 100, 1000),\n",
    "        'learning_rate': trial.suggest_float('learning_rate', 1e-3, 5e-1, log=False),\n",
    "        'min_child_weight': trial.suggest_int('min_child_weight', 1, 11),\n",
    "        'min_child_samples': trial.suggest_int('min_child_samples', 5, 100),\n",
    "        'reg_alpha': trial.suggest_float('reg_alpha', 1e-8, 1.0, log=False),\n",
    "        'reg_lambda': trial.suggest_float('reg_lambda', 1e-8, 1.0, log=False),\n",
    "        'colsample_bytree': trial.suggest_float('colsample_bytree', 0.5, 1.0),\n",
    "        'subsample': trial.suggest_float('subsample', 0.5, 1.0),\n",
    "        'random_state': 21,\n",
    "        'n_jobs': -1, \n",
    "        'verbosity': -1,\n",
    "    }\n",
    "\n",
    "    scores = cross_val_score(lgb.LGBMClassifier(**params), X_train_best, y_res, cv=skf, scoring='neg_log_loss', n_jobs=-1)\n",
    "    return -scores.mean()\n",
    "\n",
    "# Create an Optuna study\n",
    "study = optuna.create_study(direction='minimize')\n",
    "\n",
    "# Optimize the objective function\n",
    "optuna.logging.set_verbosity(optuna.logging.WARNING)\n",
    "study.optimize(lgb_objective, n_trials=100, timeout = 600, show_progress_bar = True)\n",
    "\n",
    "# Print the best hyperparameters and the corresponding score\n",
    "print()\n",
    "print(\"Best hyperparameters:\", pd.DataFrame([study.best_params]).transpose())\n",
    "print()\n",
    "print(\"Best score (Minimum loss):\", study.best_value)\n",
    "print()"
   ]
  },
  {
   "cell_type": "markdown",
   "id": "8b9ea8e1-11a6-457d-91ae-9bd8f0dfa8b3",
   "metadata": {},
   "source": [
    "# Train and test a LightGBM model using optimized hyperparameters"
   ]
  },
  {
   "cell_type": "code",
   "execution_count": 43,
   "id": "03cbcf82-feb7-431c-9f23-539c44a3c3b4",
   "metadata": {},
   "outputs": [
    {
     "name": "stdout",
     "output_type": "stream",
     "text": [
      "\n"
     ]
    },
    {
     "data": {
      "application/vnd.jupyter.widget-view+json": {
       "model_id": "cc5766891ef947c4810c65a535fb56c3",
       "version_major": 2,
       "version_minor": 0
      },
      "text/plain": [
       "HBox(children=(Output(), Output()), layout=Layout(display='flex', flex_flow='row', justify_content='flex-start…"
      ]
     },
     "metadata": {},
     "output_type": "display_data"
    },
    {
     "data": {
      "application/vnd.jupyter.widget-view+json": {
       "model_id": "64af73a5993f46a1892c464cd0c53cc2",
       "version_major": 2,
       "version_minor": 0
      },
      "text/plain": [
       "HBox(children=(Output(), Output()), layout=Layout(display='flex', flex_flow='row', justify_content='flex-start…"
      ]
     },
     "metadata": {},
     "output_type": "display_data"
    },
    {
     "data": {
      "image/png": "[encoded data removed]",
      "text/plain": [
       "<Figure size 640x480 with 2 Axes>"
      ]
     },
     "metadata": {},
     "output_type": "display_data"
    }
   ],
   "source": [
    "# Train the LightGBM model with the best hyperparameters\n",
    "best_params = study.best_params\n",
    "lgb_model = lgb.LGBMClassifier(**best_params, verbosity = -1)\n",
    "lgb_model.fit(X_train_best, y_res)\n",
    "\n",
    "print_classification_metrics(lgb_model, X_train_best, y_res, X_test_best, y_test)"
   ]
  },
  {
   "cell_type": "code",
   "execution_count": 44,
   "id": "ed9f1b7f-5f74-49c9-86c4-b5a50e7cef73",
   "metadata": {},
   "outputs": [
    {
     "name": "stdout",
     "output_type": "stream",
     "text": [
      "100%|██████| 100/100 [08:42<00:00,  5.22s/trial, best loss: 0.45713157179255665]\n",
      "\n",
      "Best hyperparameters:                             0\n",
      "colsample_bytree     0.836810\n",
      "learning_rate        0.013925\n",
      "max_depth            7.000000\n",
      "min_child_samples   94.000000\n",
      "min_child_weight     1.000000\n",
      "n_estimators       445.000000\n",
      "num_leaves          41.000000\n",
      "reg_alpha            0.068036\n",
      "reg_lambda           0.817143\n",
      "subsample            0.824479\n",
      "\n",
      "Best score (Minimum loss): 0.45713157179255665\n"
     ]
    }
   ],
   "source": [
    "import lightgbm as lgb\n",
    "import warnings\n",
    "from hyperopt import hp, fmin, tpe, STATUS_OK, Trials\n",
    "from sklearn.model_selection import StratifiedKFold, cross_val_score\n",
    "from sklearn.metrics import average_precision_score\n",
    "import sklearn\n",
    "\n",
    "# LightGBM with Stratified K-Fold Cross-Validation\n",
    "skf = StratifiedKFold(n_splits=5, shuffle=True, random_state=21)\n",
    "\n",
    "# Define the hyperparameter search space\n",
    "space = {        \n",
    "    'max_depth': hp.choice('max_depth', np.arange(2, 11, dtype = int)),\n",
    "    'n_estimators': hp.choice('n_estimators', np.arange(100, 1001, dtype = int)),\n",
    "    'learning_rate': hp.uniform('learning_rate', 1e-3, 5e-1),\n",
    "    'min_child_weight': hp.choice('min_child_weight', np.arange(1, 11, dtype = int)),\n",
    "    'num_leaves': hp.choice('num_leaves', np.arange(10, 65, dtype = int)),\n",
    "    'subsample': hp.uniform('subsample', 0.5, 1.0),\n",
    "    'min_child_samples': hp.choice('min_child_samples', np.arange(5, 101, dtype = int)),\n",
    "    'colsample_bytree': hp.uniform('colsample_bytree', 0.5, 1.0),\n",
    "    'reg_alpha': hp.uniform('reg_alpha', 1e-8, 1.0),\n",
    "    'reg_lambda': hp.uniform('reg_lambda', 1e-8, 1.0),\n",
    "}\n",
    "\n",
    "# Define the objective function to optimize\n",
    "def objective(params):    \n",
    "    classifier = lgb.LGBMClassifier(        \n",
    "        objective = 'binary',\n",
    "        max_depth = int(params['max_depth']),\n",
    "        n_estimators = int(params['n_estimators']),\n",
    "        learning_rate = params['learning_rate'],\n",
    "        min_child_weight = int(params['min_child_weight']),        \n",
    "        subsample = params['subsample'],\n",
    "        colsample_bytree = params['colsample_bytree'],\n",
    "        reg_alpha = params['reg_alpha'],\n",
    "        reg_lambda = params['reg_lambda'],\n",
    "        is_unbalance = True,                \n",
    "        seed = 21,\n",
    "        n_jobs = -1,\n",
    "        verbosity = -1,\n",
    "    )\n",
    "    \n",
    "    score = cross_val_score(classifier, X_train_best, y_res, cv=skf, scoring='neg_log_loss', n_jobs=-1)\n",
    "    return {'loss': -score.mean(), 'status': STATUS_OK}\n",
    "\n",
    "# Create a Trials object to track the optimization process\n",
    "trials = Trials()\n",
    "\n",
    "# Optimize the objective function using fmin\n",
    "best = fmin(\n",
    "    fn=objective,\n",
    "    space=space,\n",
    "    algo=tpe.suggest,\n",
    "    max_evals=100,\n",
    "    trials=trials,\n",
    "    rstate=np.random.default_rng(21)\n",
    ")\n",
    "\n",
    "# Print the best hyperparameters and the corresponding score\n",
    "print()\n",
    "print(\"Best hyperparameters:\", pd.DataFrame([best]).transpose())\n",
    "print()\n",
    "print(\"Best score (Minimum loss):\", trials.best_trial['result']['loss'])"
   ]
  },
  {
   "cell_type": "code",
   "execution_count": 45,
   "id": "ca613a77-62eb-487d-aead-452d77d7a4df",
   "metadata": {},
   "outputs": [
    {
     "name": "stdout",
     "output_type": "stream",
     "text": [
      "\n"
     ]
    },
    {
     "data": {
      "application/vnd.jupyter.widget-view+json": {
       "model_id": "02bb1e7eaa744fd18a720886505c05c0",
       "version_major": 2,
       "version_minor": 0
      },
      "text/plain": [
       "HBox(children=(Output(), Output()), layout=Layout(display='flex', flex_flow='row', justify_content='flex-start…"
      ]
     },
     "metadata": {},
     "output_type": "display_data"
    },
    {
     "data": {
      "application/vnd.jupyter.widget-view+json": {
       "model_id": "4022e086f1f84724907d96196e2882c7",
       "version_major": 2,
       "version_minor": 0
      },
      "text/plain": [
       "HBox(children=(Output(), Output()), layout=Layout(display='flex', flex_flow='row', justify_content='flex-start…"
      ]
     },
     "metadata": {},
     "output_type": "display_data"
    },
    {
     "data": {
      "image/png": "[encoded data removed]",
      "text/plain": [
       "<Figure size 640x480 with 2 Axes>"
      ]
     },
     "metadata": {},
     "output_type": "display_data"
    }
   ],
   "source": [
    "# Retrieve the best hyperparameters\n",
    "best_params = trials.best_trial['misc']['vals']\n",
    "\n",
    "# Extract scalar values from the lists\n",
    "max_depth = int(best_params['max_depth'][0])\n",
    "n_estimators = int(best_params['n_estimators'][0])\n",
    "learning_rate = best_params['learning_rate'][0]\n",
    "min_child_weight = int(best_params['min_child_weight'][0])\n",
    "min_child_samples = int(best_params['min_child_samples'][0])\n",
    "num_leaves = int(best_params['num_leaves'][0]) \n",
    "colsample_bytree = best_params['colsample_bytree'][0]\n",
    "subsample = best_params['subsample'][0]\n",
    "reg_alpha = best_params['reg_alpha'][0]\n",
    "reg_lambda = best_params['reg_lambda'][0]\n",
    "\n",
    "\n",
    "lgb_classifier_hyp = lgb.LGBMClassifier(objective = 'binary',\n",
    "                                        max_depth = max_depth,\n",
    "                                        n_estimators = n_estimators,\n",
    "                                        learning_rate = learning_rate,\n",
    "                                        min_child_weight = min_child_weight,\n",
    "                                        min_child_samples = min_child_samples,\n",
    "                                        num_eaves = num_leaves,\n",
    "                                        colsample_bytree = colsample_bytree,\n",
    "                                        subsample = subsample,\n",
    "                                        reg_alpha = reg_alpha,\n",
    "                                        reg_lambda = reg_lambda,                    \n",
    "                                        is_unbalance = True,                                      \n",
    "                                        seed=21,\n",
    "                                        n_jobs=-1, \n",
    "                                        verbosity = -1).fit(X_train_best, y_res)\n",
    "        \n",
    "print_classification_metrics(lgb_classifier_hyp, X_train_best, y_res, X_test_best, y_test)"
   ]
  },
  {
   "cell_type": "code",
   "execution_count": 46,
   "id": "f5f928d5-48e8-4d2b-a4d3-ca1cb7bf315d",
   "metadata": {},
   "outputs": [
    {
     "data": {
      "application/vnd.jupyter.widget-view+json": {
       "model_id": "2bba90d030764fa3b656d064be94e3df",
       "version_major": 2,
       "version_minor": 0
      },
      "text/plain": [
       "  0%|          | 0/100 [00:00<?, ?it/s]"
      ]
     },
     "metadata": {},
     "output_type": "display_data"
    }
   ],
   "source": [
    "from catboost import CatBoostClassifier\n",
    "from sklearn.model_selection import StratifiedShuffleSplit, cross_val_score\n",
    "import optuna\n",
    "import catboost\n",
    "from optuna_integration import CatBoostPruningCallback\n",
    "\n",
    "\n",
    "# Consider StratifiedShuffleSplit for imbalanced classes\n",
    "skf = StratifiedShuffleSplit(n_splits=5, random_state=21)\n",
    "\n",
    "# Define the objective function with early stopping\n",
    "def catboost_objective(trial):\n",
    "    params = {\n",
    "        'objective': 'Logloss',  \n",
    "        'colsample_bylevel': trial.suggest_float('colsample_bylevel', 0.5, 1.0),\n",
    "        'depth': trial.suggest_int('max_depth', 2, 10), \n",
    "        'learning_rate': trial.suggest_float('learning_rate', 1e-3, 5e-1, log=False),        \n",
    "        'num_leaves': trial.suggest_int('num_leaves', 10, 64),\n",
    "        'min_data_in_leaf': trial.suggest_int('min_data_in_leaf', 5, 100),\n",
    "        'l2_leaf_reg': trial.suggest_float('l2_leaf_reg', 1e-8, 100.0, log=False),\n",
    "        'n_estimators': trial.suggest_int('n_estimators', 100, 1000),\n",
    "        'random_strength': trial.suggest_int('random_strength', 1, 100),\n",
    "        'subsample': trial.suggest_float(\"subsample\", 0.5, 1.0, log=False),\n",
    "        'random_seed': 21,\n",
    "        'grow_policy': 'Lossguide',\n",
    "        'boosting_type': 'Plain',\n",
    "        'used_ram_limit': '4gb',        \n",
    "        'silent':True,\n",
    "        'scale_pos_weight': trial.suggest_float('scale_pos_weight', 1.852, 1.870)        \n",
    "    }\n",
    "\n",
    "    scores = cross_val_score(CatBoostClassifier(**params), X_train_best, y_res, cv=skf, scoring='neg_log_loss', n_jobs=-1)\n",
    "    return -scores.mean()\n",
    "\n",
    "    \n",
    "\n",
    "# Create an Optuna study\n",
    "study = optuna.create_study(pruner=optuna.pruners.MedianPruner(n_warmup_steps=5),\n",
    "                            direction='minimize')\n",
    "\n",
    "# Optimize the objective function\n",
    "optuna.logging.set_verbosity(optuna.logging.WARNING)\n",
    "study.optimize(catboost_objective, n_trials=100, timeout=600, show_progress_bar = True)"
   ]
  },
  {
   "cell_type": "code",
   "execution_count": 47,
   "id": "23ed12fa-5705-4b81-be47-1adfcaddca82",
   "metadata": {},
   "outputs": [
    {
     "name": "stdout",
     "output_type": "stream",
     "text": [
      "\n",
      "Best hyperparameters: {'colsample_bylevel': 0.8965380629888664, 'max_depth': 10, 'learning_rate': 0.08072176367042053, 'num_leaves': 59, 'min_data_in_leaf': 7, 'l2_leaf_reg': 54.22632265396168, 'n_estimators': 218, 'random_strength': 71, 'subsample': 0.5367937993003857, 'scale_pos_weight': 1.8538872967233588}\n",
      "\n",
      "Best score (Minimum loss): 0.42053154409849014\n",
      "\n"
     ]
    }
   ],
   "source": [
    "# Print the best hyperparameters and the corresponding score\n",
    "print()\n",
    "print(\"Best hyperparameters:\", study.best_params)\n",
    "print()\n",
    "print(\"Best score (Minimum loss):\", study.best_value)\n",
    "print()"
   ]
  },
  {
   "cell_type": "code",
   "execution_count": 48,
   "id": "78ef5da7-9cb5-48ea-8bc6-50e0f0306d63",
   "metadata": {},
   "outputs": [
    {
     "name": "stdout",
     "output_type": "stream",
     "text": [
      "\n"
     ]
    },
    {
     "data": {
      "application/vnd.jupyter.widget-view+json": {
       "model_id": "4c28be4252a14931a2ff118d6cb6b8cb",
       "version_major": 2,
       "version_minor": 0
      },
      "text/plain": [
       "HBox(children=(Output(), Output()), layout=Layout(display='flex', flex_flow='row', justify_content='flex-start…"
      ]
     },
     "metadata": {},
     "output_type": "display_data"
    },
    {
     "data": {
      "application/vnd.jupyter.widget-view+json": {
       "model_id": "4b3f3ca3ca0e4b92b0049fc33bf2de20",
       "version_major": 2,
       "version_minor": 0
      },
      "text/plain": [
       "HBox(children=(Output(), Output()), layout=Layout(display='flex', flex_flow='row', justify_content='flex-start…"
      ]
     },
     "metadata": {},
     "output_type": "display_data"
    },
    {
     "data": {
      "image/png": "[encoded data removed]",
      "text/plain": [
       "<Figure size 640x480 with 2 Axes>"
      ]
     },
     "metadata": {},
     "output_type": "display_data"
    }
   ],
   "source": [
    "# Train the CatBoost model with the best hyperparameters\n",
    "best_params = study.best_params\n",
    "catboost_model = CatBoostClassifier(**best_params,\n",
    "                                    objective = 'Logloss',\n",
    "                                    grow_policy = 'Lossguide',\n",
    "                                    silent = True,\n",
    "                                    boosting_type = 'Plain',\n",
    "                                    random_seed = 21,                                    \n",
    ")\n",
    "\n",
    "catboost_model.fit(X_train_best, y_res)\n",
    "\n",
    "print_classification_metrics(catboost_model, X_train_best, y_res, X_test_best, y_test)"
   ]
  },
  {
   "cell_type": "code",
   "execution_count": 49,
   "id": "774cb2b3-74a9-445e-af53-863e09a7c533",
   "metadata": {},
   "outputs": [
    {
     "name": "stdout",
     "output_type": "stream",
     "text": [
      "  0%|                                   | 0/100 [00:00<?, ?trial/s, best loss=?]"
     ]
    },
    {
     "name": "stderr",
     "output_type": "stream",
     "text": [
      "job exception: name 'X_train_4' is not defined\n",
      "\n"
     ]
    },
    {
     "name": "stdout",
     "output_type": "stream",
     "text": [
      "  0%|                                   | 0/100 [00:00<?, ?trial/s, best loss=?]\n"
     ]
    },
    {
     "ename": "NameError",
     "evalue": "name 'X_train_4' is not defined",
     "output_type": "error",
     "traceback": [
      "\u001b[0;31m---------------------------------------------------------------------------\u001b[0m",
      "\u001b[0;31mNameError\u001b[0m                                 Traceback (most recent call last)",
      "Cell \u001b[0;32mIn[49], line 51\u001b[0m\n\u001b[1;32m     48\u001b[0m trials \u001b[38;5;241m=\u001b[39m Trials()\n\u001b[1;32m     50\u001b[0m \u001b[38;5;66;03m# Optimize the objective function using fmin\u001b[39;00m\n\u001b[0;32m---> 51\u001b[0m best \u001b[38;5;241m=\u001b[39m fmin(\n\u001b[1;32m     52\u001b[0m     fn\u001b[38;5;241m=\u001b[39mcatboost_objective,\n\u001b[1;32m     53\u001b[0m     space\u001b[38;5;241m=\u001b[39mspace,\n\u001b[1;32m     54\u001b[0m     algo\u001b[38;5;241m=\u001b[39mtpe\u001b[38;5;241m.\u001b[39msuggest,\n\u001b[1;32m     55\u001b[0m     max_evals\u001b[38;5;241m=\u001b[39m\u001b[38;5;241m100\u001b[39m,\n\u001b[1;32m     56\u001b[0m     trials\u001b[38;5;241m=\u001b[39mtrials,\n\u001b[1;32m     57\u001b[0m     rstate\u001b[38;5;241m=\u001b[39mnp\u001b[38;5;241m.\u001b[39mrandom\u001b[38;5;241m.\u001b[39mdefault_rng(\u001b[38;5;241m21\u001b[39m)\n\u001b[1;32m     58\u001b[0m )\n",
      "File \u001b[0;32m~/anaconda3/lib/python3.11/site-packages/hyperopt/fmin.py:540\u001b[0m, in \u001b[0;36mfmin\u001b[0;34m(fn, space, algo, max_evals, timeout, loss_threshold, trials, rstate, allow_trials_fmin, pass_expr_memo_ctrl, catch_eval_exceptions, verbose, return_argmin, points_to_evaluate, max_queue_len, show_progressbar, early_stop_fn, trials_save_file)\u001b[0m\n\u001b[1;32m    537\u001b[0m     fn \u001b[38;5;241m=\u001b[39m __objective_fmin_wrapper(fn)\n\u001b[1;32m    539\u001b[0m \u001b[38;5;28;01mif\u001b[39;00m allow_trials_fmin \u001b[38;5;129;01mand\u001b[39;00m \u001b[38;5;28mhasattr\u001b[39m(trials, \u001b[38;5;124m\"\u001b[39m\u001b[38;5;124mfmin\u001b[39m\u001b[38;5;124m\"\u001b[39m):\n\u001b[0;32m--> 540\u001b[0m     \u001b[38;5;28;01mreturn\u001b[39;00m trials\u001b[38;5;241m.\u001b[39mfmin(\n\u001b[1;32m    541\u001b[0m         fn,\n\u001b[1;32m    542\u001b[0m         space,\n\u001b[1;32m    543\u001b[0m         algo\u001b[38;5;241m=\u001b[39malgo,\n\u001b[1;32m    544\u001b[0m         max_evals\u001b[38;5;241m=\u001b[39mmax_evals,\n\u001b[1;32m    545\u001b[0m         timeout\u001b[38;5;241m=\u001b[39mtimeout,\n\u001b[1;32m    546\u001b[0m         loss_threshold\u001b[38;5;241m=\u001b[39mloss_threshold,\n\u001b[1;32m    547\u001b[0m         max_queue_len\u001b[38;5;241m=\u001b[39mmax_queue_len,\n\u001b[1;32m    548\u001b[0m         rstate\u001b[38;5;241m=\u001b[39mrstate,\n\u001b[1;32m    549\u001b[0m         pass_expr_memo_ctrl\u001b[38;5;241m=\u001b[39mpass_expr_memo_ctrl,\n\u001b[1;32m    550\u001b[0m         verbose\u001b[38;5;241m=\u001b[39mverbose,\n\u001b[1;32m    551\u001b[0m         catch_eval_exceptions\u001b[38;5;241m=\u001b[39mcatch_eval_exceptions,\n\u001b[1;32m    552\u001b[0m         return_argmin\u001b[38;5;241m=\u001b[39mreturn_argmin,\n\u001b[1;32m    553\u001b[0m         show_progressbar\u001b[38;5;241m=\u001b[39mshow_progressbar,\n\u001b[1;32m    554\u001b[0m         early_stop_fn\u001b[38;5;241m=\u001b[39mearly_stop_fn,\n\u001b[1;32m    555\u001b[0m         trials_save_file\u001b[38;5;241m=\u001b[39mtrials_save_file,\n\u001b[1;32m    556\u001b[0m     )\n\u001b[1;32m    558\u001b[0m \u001b[38;5;28;01mif\u001b[39;00m trials \u001b[38;5;129;01mis\u001b[39;00m \u001b[38;5;28;01mNone\u001b[39;00m:\n\u001b[1;32m    559\u001b[0m     \u001b[38;5;28;01mif\u001b[39;00m os\u001b[38;5;241m.\u001b[39mpath\u001b[38;5;241m.\u001b[39mexists(trials_save_file):\n",
      "File \u001b[0;32m~/anaconda3/lib/python3.11/site-packages/hyperopt/base.py:671\u001b[0m, in \u001b[0;36mTrials.fmin\u001b[0;34m(self, fn, space, algo, max_evals, timeout, loss_threshold, max_queue_len, rstate, verbose, pass_expr_memo_ctrl, catch_eval_exceptions, return_argmin, show_progressbar, early_stop_fn, trials_save_file)\u001b[0m\n\u001b[1;32m    666\u001b[0m \u001b[38;5;66;03m# -- Stop-gap implementation!\u001b[39;00m\n\u001b[1;32m    667\u001b[0m \u001b[38;5;66;03m#    fmin should have been a Trials method in the first place\u001b[39;00m\n\u001b[1;32m    668\u001b[0m \u001b[38;5;66;03m#    but for now it's still sitting in another file.\u001b[39;00m\n\u001b[1;32m    669\u001b[0m \u001b[38;5;28;01mfrom\u001b[39;00m \u001b[38;5;21;01m.\u001b[39;00m\u001b[38;5;21;01mfmin\u001b[39;00m \u001b[38;5;28;01mimport\u001b[39;00m fmin\n\u001b[0;32m--> 671\u001b[0m \u001b[38;5;28;01mreturn\u001b[39;00m fmin(\n\u001b[1;32m    672\u001b[0m     fn,\n\u001b[1;32m    673\u001b[0m     space,\n\u001b[1;32m    674\u001b[0m     algo\u001b[38;5;241m=\u001b[39malgo,\n\u001b[1;32m    675\u001b[0m     max_evals\u001b[38;5;241m=\u001b[39mmax_evals,\n\u001b[1;32m    676\u001b[0m     timeout\u001b[38;5;241m=\u001b[39mtimeout,\n\u001b[1;32m    677\u001b[0m     loss_threshold\u001b[38;5;241m=\u001b[39mloss_threshold,\n\u001b[1;32m    678\u001b[0m     trials\u001b[38;5;241m=\u001b[39m\u001b[38;5;28mself\u001b[39m,\n\u001b[1;32m    679\u001b[0m     rstate\u001b[38;5;241m=\u001b[39mrstate,\n\u001b[1;32m    680\u001b[0m     verbose\u001b[38;5;241m=\u001b[39mverbose,\n\u001b[1;32m    681\u001b[0m     max_queue_len\u001b[38;5;241m=\u001b[39mmax_queue_len,\n\u001b[1;32m    682\u001b[0m     allow_trials_fmin\u001b[38;5;241m=\u001b[39m\u001b[38;5;28;01mFalse\u001b[39;00m,  \u001b[38;5;66;03m# -- prevent recursion\u001b[39;00m\n\u001b[1;32m    683\u001b[0m     pass_expr_memo_ctrl\u001b[38;5;241m=\u001b[39mpass_expr_memo_ctrl,\n\u001b[1;32m    684\u001b[0m     catch_eval_exceptions\u001b[38;5;241m=\u001b[39mcatch_eval_exceptions,\n\u001b[1;32m    685\u001b[0m     return_argmin\u001b[38;5;241m=\u001b[39mreturn_argmin,\n\u001b[1;32m    686\u001b[0m     show_progressbar\u001b[38;5;241m=\u001b[39mshow_progressbar,\n\u001b[1;32m    687\u001b[0m     early_stop_fn\u001b[38;5;241m=\u001b[39mearly_stop_fn,\n\u001b[1;32m    688\u001b[0m     trials_save_file\u001b[38;5;241m=\u001b[39mtrials_save_file,\n\u001b[1;32m    689\u001b[0m )\n",
      "File \u001b[0;32m~/anaconda3/lib/python3.11/site-packages/hyperopt/fmin.py:586\u001b[0m, in \u001b[0;36mfmin\u001b[0;34m(fn, space, algo, max_evals, timeout, loss_threshold, trials, rstate, allow_trials_fmin, pass_expr_memo_ctrl, catch_eval_exceptions, verbose, return_argmin, points_to_evaluate, max_queue_len, show_progressbar, early_stop_fn, trials_save_file)\u001b[0m\n\u001b[1;32m    583\u001b[0m rval\u001b[38;5;241m.\u001b[39mcatch_eval_exceptions \u001b[38;5;241m=\u001b[39m catch_eval_exceptions\n\u001b[1;32m    585\u001b[0m \u001b[38;5;66;03m# next line is where the fmin is actually executed\u001b[39;00m\n\u001b[0;32m--> 586\u001b[0m rval\u001b[38;5;241m.\u001b[39mexhaust()\n\u001b[1;32m    588\u001b[0m \u001b[38;5;28;01mif\u001b[39;00m return_argmin:\n\u001b[1;32m    589\u001b[0m     \u001b[38;5;28;01mif\u001b[39;00m \u001b[38;5;28mlen\u001b[39m(trials\u001b[38;5;241m.\u001b[39mtrials) \u001b[38;5;241m==\u001b[39m \u001b[38;5;241m0\u001b[39m:\n",
      "File \u001b[0;32m~/anaconda3/lib/python3.11/site-packages/hyperopt/fmin.py:364\u001b[0m, in \u001b[0;36mFMinIter.exhaust\u001b[0;34m(self)\u001b[0m\n\u001b[1;32m    362\u001b[0m \u001b[38;5;28;01mdef\u001b[39;00m \u001b[38;5;21mexhaust\u001b[39m(\u001b[38;5;28mself\u001b[39m):\n\u001b[1;32m    363\u001b[0m     n_done \u001b[38;5;241m=\u001b[39m \u001b[38;5;28mlen\u001b[39m(\u001b[38;5;28mself\u001b[39m\u001b[38;5;241m.\u001b[39mtrials)\n\u001b[0;32m--> 364\u001b[0m     \u001b[38;5;28mself\u001b[39m\u001b[38;5;241m.\u001b[39mrun(\u001b[38;5;28mself\u001b[39m\u001b[38;5;241m.\u001b[39mmax_evals \u001b[38;5;241m-\u001b[39m n_done, block_until_done\u001b[38;5;241m=\u001b[39m\u001b[38;5;28mself\u001b[39m\u001b[38;5;241m.\u001b[39masynchronous)\n\u001b[1;32m    365\u001b[0m     \u001b[38;5;28mself\u001b[39m\u001b[38;5;241m.\u001b[39mtrials\u001b[38;5;241m.\u001b[39mrefresh()\n\u001b[1;32m    366\u001b[0m     \u001b[38;5;28;01mreturn\u001b[39;00m \u001b[38;5;28mself\u001b[39m\n",
      "File \u001b[0;32m~/anaconda3/lib/python3.11/site-packages/hyperopt/fmin.py:300\u001b[0m, in \u001b[0;36mFMinIter.run\u001b[0;34m(self, N, block_until_done)\u001b[0m\n\u001b[1;32m    297\u001b[0m     time\u001b[38;5;241m.\u001b[39msleep(\u001b[38;5;28mself\u001b[39m\u001b[38;5;241m.\u001b[39mpoll_interval_secs)\n\u001b[1;32m    298\u001b[0m \u001b[38;5;28;01melse\u001b[39;00m:\n\u001b[1;32m    299\u001b[0m     \u001b[38;5;66;03m# -- loop over trials and do the jobs directly\u001b[39;00m\n\u001b[0;32m--> 300\u001b[0m     \u001b[38;5;28mself\u001b[39m\u001b[38;5;241m.\u001b[39mserial_evaluate()\n\u001b[1;32m    302\u001b[0m \u001b[38;5;28mself\u001b[39m\u001b[38;5;241m.\u001b[39mtrials\u001b[38;5;241m.\u001b[39mrefresh()\n\u001b[1;32m    303\u001b[0m \u001b[38;5;28;01mif\u001b[39;00m \u001b[38;5;28mself\u001b[39m\u001b[38;5;241m.\u001b[39mtrials_save_file \u001b[38;5;241m!=\u001b[39m \u001b[38;5;124m\"\u001b[39m\u001b[38;5;124m\"\u001b[39m:\n",
      "File \u001b[0;32m~/anaconda3/lib/python3.11/site-packages/hyperopt/fmin.py:178\u001b[0m, in \u001b[0;36mFMinIter.serial_evaluate\u001b[0;34m(self, N)\u001b[0m\n\u001b[1;32m    176\u001b[0m ctrl \u001b[38;5;241m=\u001b[39m base\u001b[38;5;241m.\u001b[39mCtrl(\u001b[38;5;28mself\u001b[39m\u001b[38;5;241m.\u001b[39mtrials, current_trial\u001b[38;5;241m=\u001b[39mtrial)\n\u001b[1;32m    177\u001b[0m \u001b[38;5;28;01mtry\u001b[39;00m:\n\u001b[0;32m--> 178\u001b[0m     result \u001b[38;5;241m=\u001b[39m \u001b[38;5;28mself\u001b[39m\u001b[38;5;241m.\u001b[39mdomain\u001b[38;5;241m.\u001b[39mevaluate(spec, ctrl)\n\u001b[1;32m    179\u001b[0m \u001b[38;5;28;01mexcept\u001b[39;00m \u001b[38;5;167;01mException\u001b[39;00m \u001b[38;5;28;01mas\u001b[39;00m e:\n\u001b[1;32m    180\u001b[0m     logger\u001b[38;5;241m.\u001b[39merror(\u001b[38;5;124m\"\u001b[39m\u001b[38;5;124mjob exception: \u001b[39m\u001b[38;5;132;01m%s\u001b[39;00m\u001b[38;5;124m\"\u001b[39m \u001b[38;5;241m%\u001b[39m \u001b[38;5;28mstr\u001b[39m(e))\n",
      "File \u001b[0;32m~/anaconda3/lib/python3.11/site-packages/hyperopt/base.py:892\u001b[0m, in \u001b[0;36mDomain.evaluate\u001b[0;34m(self, config, ctrl, attach_attachments)\u001b[0m\n\u001b[1;32m    883\u001b[0m \u001b[38;5;28;01melse\u001b[39;00m:\n\u001b[1;32m    884\u001b[0m     \u001b[38;5;66;03m# -- the \"work\" of evaluating `config` can be written\u001b[39;00m\n\u001b[1;32m    885\u001b[0m     \u001b[38;5;66;03m#    either into the pyll part (self.expr)\u001b[39;00m\n\u001b[1;32m    886\u001b[0m     \u001b[38;5;66;03m#    or the normal Python part (self.fn)\u001b[39;00m\n\u001b[1;32m    887\u001b[0m     pyll_rval \u001b[38;5;241m=\u001b[39m pyll\u001b[38;5;241m.\u001b[39mrec_eval(\n\u001b[1;32m    888\u001b[0m         \u001b[38;5;28mself\u001b[39m\u001b[38;5;241m.\u001b[39mexpr,\n\u001b[1;32m    889\u001b[0m         memo\u001b[38;5;241m=\u001b[39mmemo,\n\u001b[1;32m    890\u001b[0m         print_node_on_error\u001b[38;5;241m=\u001b[39m\u001b[38;5;28mself\u001b[39m\u001b[38;5;241m.\u001b[39mrec_eval_print_node_on_error,\n\u001b[1;32m    891\u001b[0m     )\n\u001b[0;32m--> 892\u001b[0m     rval \u001b[38;5;241m=\u001b[39m \u001b[38;5;28mself\u001b[39m\u001b[38;5;241m.\u001b[39mfn(pyll_rval)\n\u001b[1;32m    894\u001b[0m \u001b[38;5;28;01mif\u001b[39;00m \u001b[38;5;28misinstance\u001b[39m(rval, (\u001b[38;5;28mfloat\u001b[39m, \u001b[38;5;28mint\u001b[39m, np\u001b[38;5;241m.\u001b[39mnumber)):\n\u001b[1;32m    895\u001b[0m     dict_rval \u001b[38;5;241m=\u001b[39m {\u001b[38;5;124m\"\u001b[39m\u001b[38;5;124mloss\u001b[39m\u001b[38;5;124m\"\u001b[39m: \u001b[38;5;28mfloat\u001b[39m(rval), \u001b[38;5;124m\"\u001b[39m\u001b[38;5;124mstatus\u001b[39m\u001b[38;5;124m\"\u001b[39m: STATUS_OK}\n",
      "Cell \u001b[0;32mIn[49], line 44\u001b[0m, in \u001b[0;36mcatboost_objective\u001b[0;34m(params)\u001b[0m\n\u001b[1;32m     24\u001b[0m \u001b[38;5;28;01mdef\u001b[39;00m \u001b[38;5;21mcatboost_objective\u001b[39m(params):\n\u001b[1;32m     25\u001b[0m     classifier \u001b[38;5;241m=\u001b[39m CatBoostClassifier(        \n\u001b[1;32m     26\u001b[0m         objective \u001b[38;5;241m=\u001b[39m \u001b[38;5;124m'\u001b[39m\u001b[38;5;124mLogloss\u001b[39m\u001b[38;5;124m'\u001b[39m,        \n\u001b[1;32m     27\u001b[0m         depth \u001b[38;5;241m=\u001b[39m \u001b[38;5;28mint\u001b[39m(params[\u001b[38;5;124m'\u001b[39m\u001b[38;5;124mdepth\u001b[39m\u001b[38;5;124m'\u001b[39m]),\n\u001b[0;32m   (...)\u001b[0m\n\u001b[1;32m     41\u001b[0m \n\u001b[1;32m     42\u001b[0m     )\n\u001b[0;32m---> 44\u001b[0m     score \u001b[38;5;241m=\u001b[39m cross_val_score(classifier, X_train_4, y_less_train, cv\u001b[38;5;241m=\u001b[39mskf, scoring\u001b[38;5;241m=\u001b[39m\u001b[38;5;124m'\u001b[39m\u001b[38;5;124mneg_log_loss\u001b[39m\u001b[38;5;124m'\u001b[39m, n_jobs\u001b[38;5;241m=\u001b[39m\u001b[38;5;241m-\u001b[39m\u001b[38;5;241m1\u001b[39m)\n\u001b[1;32m     45\u001b[0m     \u001b[38;5;28;01mreturn\u001b[39;00m {\u001b[38;5;124m'\u001b[39m\u001b[38;5;124mloss\u001b[39m\u001b[38;5;124m'\u001b[39m: \u001b[38;5;241m-\u001b[39mscore\u001b[38;5;241m.\u001b[39mmean(), \u001b[38;5;124m'\u001b[39m\u001b[38;5;124mstatus\u001b[39m\u001b[38;5;124m'\u001b[39m: STATUS_OK}\n",
      "\u001b[0;31mNameError\u001b[0m: name 'X_train_4' is not defined"
     ]
    }
   ],
   "source": [
    "from catboost import CatBoostClassifier\n",
    "from hyperopt import hp, fmin, tpe, STATUS_OK, Trials\n",
    "from sklearn.model_selection import StratifiedShuffleSplit, cross_val_score\n",
    "import numpy as np\n",
    "import sklearn\n",
    "\n",
    "# Consider StratifiedShuffleSplit for imbalanced classes\n",
    "skf = StratifiedShuffleSplit(n_splits=5, random_state=21)\n",
    "\n",
    "# Define the hyperparameter search space\n",
    "space = {\n",
    "    'depth': hp.quniform('depth', 2, 10, 1), \n",
    "    'n_estimators': hp.choice('n_estimators', np.arange(100, 1001, dtype = int)),\n",
    "    'learning_rate': hp.uniform('learning_rate', 0.0, 1.0),\n",
    "    'max_leaves': hp.uniform('max_leaves', 10, 64),\n",
    "    'l2_leaf_reg': hp.uniform('l2_leaf_reg', 0, 100),\n",
    "    'colsample_bylevel': hp.uniform('colsample_bylevel', 0.5, 1.0),\n",
    "    'min_data_in_leaf': hp.uniform(\"min_data_in_leaf\", 5, 100), \n",
    "    'subsample': hp.uniform('subsample', 0.5, 1.0),\n",
    "    'random_strength': hp.quniform('random_strength', 1, 100, 1),\n",
    "    }\n",
    "\n",
    "# Define the objective function with early stopping\n",
    "def catboost_objective(params):\n",
    "    classifier = CatBoostClassifier(        \n",
    "        objective = 'Logloss',        \n",
    "        depth = int(params['depth']),\n",
    "        iterations = int(params['n_estimators']),\n",
    "        learning_rate = params['learning_rate'],\n",
    "        max_leaves = int(params['max_leaves']),\n",
    "        l2_leaf_reg = params['l2_leaf_reg'],\n",
    "        colsample_bylevel = params['colsample_bylevel'],\n",
    "        min_data_in_leaf = params['min_data_in_leaf'],\n",
    "        subsample = params['subsample'],\n",
    "        random_strength = int(params['random_strength']),        \n",
    "        random_state = 21,\n",
    "        grow_policy = 'Lossguide',\n",
    "        boosting_type = 'Plain',\n",
    "        silent = True,\n",
    "        thread_count = -1,  # Enable GPU if available\n",
    "\n",
    "    )\n",
    "\n",
    "    score = cross_val_score(classifier, X_train_4, y_less_train, cv=skf, scoring='neg_log_loss', n_jobs=-1)\n",
    "    return {'loss': -score.mean(), 'status': STATUS_OK}\n",
    "    \n",
    "# Create a Trials object to track the optimization process\n",
    "trials = Trials()\n",
    "\n",
    "# Optimize the objective function using fmin\n",
    "best = fmin(\n",
    "    fn=catboost_objective,\n",
    "    space=space,\n",
    "    algo=tpe.suggest,\n",
    "    max_evals=100,\n",
    "    trials=trials,\n",
    "    rstate=np.random.default_rng(21)\n",
    ")"
   ]
  },
  {
   "cell_type": "code",
   "execution_count": null,
   "id": "5906759a-79dc-4407-9246-802cabcdde86",
   "metadata": {},
   "outputs": [],
   "source": [
    "# Print the best hyperparameters and the corresponding score\n",
    "print()\n",
    "print(\"Best hyperparameters:\", best)\n",
    "print()\n",
    "print(\"Best score:\", trials.best_trial['result']['loss'])"
   ]
  },
  {
   "cell_type": "code",
   "execution_count": null,
   "id": "d7c35a26-9c8b-40f6-b5c2-e5ab261669c2",
   "metadata": {},
   "outputs": [],
   "source": [
    "# Retrieve the best hyperparameters\n",
    "best_params = trials.best_trial['misc']['vals']\n",
    "\n",
    "# Extract scalar values from the lists\n",
    "colsample_bylevel = best_params['colsample_bylevel'][0]\n",
    "depth = int(best_params['depth'][0])\n",
    "learning_rate = best_params['learning_rate'][0]\n",
    "max_leaves = int(best_params['max_leaves'][0])\n",
    "min_data_in_leaf = int(best_params['min_data_in_leaf'][0])\n",
    "l2_leaf_reg = best_params['l2_leaf_reg'][0]\n",
    "n_estimators = best_params['n_estimators'][0]\n",
    "random_strength = int(best_params['random_strength'][0])\n",
    "subsample = best_params['subsample'][0]\n",
    "\n",
    "\n",
    "# Create a new CatBoostClassifier instance with the best hyperparameters\n",
    "best_model = CatBoostClassifier(\n",
    "    objective='Logloss',\n",
    "    colsample_bylevel=colsample_bylevel,\n",
    "    depth=depth,\n",
    "    learning_rate=learning_rate,\n",
    "    max_leaves = max_leaves,\n",
    "    min_data_in_leaf = min_data_in_leaf,\n",
    "    l2_leaf_reg=l2_leaf_reg,\n",
    "    n_estimators = n_estimators,    \n",
    "    random_strength=random_strength,\n",
    "    subsample=subsample,\n",
    "    random_state=21,\n",
    "    grow_policy = 'Lossguide',\n",
    "    boosting_type = 'Plain',\n",
    "    silent = True,\n",
    "    thread_count=-1,    \n",
    ")\n",
    "\n",
    "# Train the best model on the resampled data\n",
    "best_model.fit(X_train_4, y_less_train)\n",
    "\n",
    "# Evaluate the model on the test set\n",
    "result_catboost = best_model.score(X_test_4, y_less_test)\n",
    "y_pred_catboost = best_model.predict(X_test_4)\n",
    "y_pred_proba_catboost = best_model.predict_proba(X_test_4)[:, 1]\n",
    "roc_auc_catboost = roc_auc_score(y_less_test, y_pred_proba_catboost)\n",
    "auprc_catboost = average_precision_score(y_less_test, y_pred_proba_catboost)\n",
    "\n",
    "print()\n",
    "print(classification_report(y_less_test, y_pred_catboost, digits = 4))\n",
    "print()\n",
    "print(\"Accuracy (CatBoost): {}\".format(round(result_catboost, 4)))\n",
    "\n",
    "# Calculate log loss\n",
    "log_loss_catboost = log_loss(y_less_test, y_pred_proba_catboost)\n",
    "print()\n",
    "print(\"Log Loss (CatBoost): {}\".format(round(log_loss_catboost, 4)))\n",
    "print()\n",
    "print(\"ROC AUC (CatBoost):\", roc_auc_catboost)\n",
    "print()\n",
    "print(\"AUPRC (CatBoost):\", auprc_catboost)"
   ]
  },
  {
   "cell_type": "code",
   "execution_count": null,
   "id": "99ed12c7-2fb2-44b1-9886-7983b3867590",
   "metadata": {},
   "outputs": [],
   "source": []
  }
 ],
 "metadata": {
  "kernelspec": {
   "display_name": "Python 3 (ipykernel)",
   "language": "python",
   "name": "python3"
  },
  "language_info": {
   "codemirror_mode": {
    "name": "ipython",
    "version": 3
   },
   "file_extension": ".py",
   "mimetype": "text/x-python",
   "name": "python",
   "nbconvert_exporter": "python",
   "pygments_lexer": "ipython3",
   "version": "3.11.8"
  },
  "widgets": {
   "application/vnd.jupyter.widget-state+json": {
    "state": {
     "02bb1e7eaa744fd18a720886505c05c0": {
      "model_module": "@jupyter-widgets/controls",
      "model_module_version": "2.0.0",
      "model_name": "HBoxModel",
      "state": {
       "children": [
        "IPY_MODEL_36d405a8c90e42b986db9965cb36b608",
        "IPY_MODEL_0b64ab44de9e429e89fe4b1e9fdfc5b5"
       ],
       "layout": "IPY_MODEL_76a766bce00a4f3095079098e3371017"
      }
     },
     "0408f4d401df42a2b9935bc1ac5cc0f0": {
      "model_module": "@jupyter-widgets/output",
      "model_module_version": "1.0.0",
      "model_name": "OutputModel",
      "state": {
       "layout": "IPY_MODEL_72b5803f934f414e86e2235a9b9172ff",
       "outputs": [
        {
         "data": {
          "text/html": "<b>Additional metrics</b>",
          "text/plain": "<IPython.core.display.HTML object>"
         },
         "metadata": {},
         "output_type": "display_data"
        },
        {
         "data": {
          "text/html": "<div>\n<style scoped>\n    .dataframe tbody tr th:only-of-type {\n        vertical-align: middle;\n    }\n\n    .dataframe tbody tr th {\n        vertical-align: top;\n    }\n\n    .dataframe thead th {\n        text-align: right;\n    }\n</style>\n<table border=\"1\" class=\"dataframe\">\n  <thead>\n    <tr style=\"text-align: right;\">\n      <th></th>\n      <th>Train Score</th>\n    </tr>\n  </thead>\n  <tbody>\n    <tr>\n      <th>Log Loss</th>\n      <td>0.1939</td>\n    </tr>\n    <tr>\n      <th>ROC AUC</th>\n      <td>0.9965</td>\n    </tr>\n    <tr>\n      <th>AUPRC</th>\n      <td>0.9948</td>\n    </tr>\n  </tbody>\n</table>\n</div>",
          "text/plain": "          Train Score\nLog Loss       0.1939\nROC AUC        0.9965\nAUPRC          0.9948"
         },
         "metadata": {},
         "output_type": "display_data"
        }
       ]
      }
     },
     "0784fe5f6ba848baab5343266dab3b7b": {
      "model_module": "@jupyter-widgets/controls",
      "model_module_version": "2.0.0",
      "model_name": "HBoxModel",
      "state": {
       "children": [
        "IPY_MODEL_cb95bbd35d5444dd985139a89678db8a",
        "IPY_MODEL_db7c5bc7cd01448f97dfd5e0601dd1da"
       ],
       "layout": "IPY_MODEL_e3333fd276fe4c439f42bbcf0c7dcc8f"
      }
     },
     "07a72ed373704546b73478c424ffa2be": {
      "model_module": "@jupyter-widgets/base",
      "model_module_version": "2.0.0",
      "model_name": "LayoutModel",
      "state": {}
     },
     "080be6abfe514116971ff1e6a59ffdda": {
      "model_module": "@jupyter-widgets/base",
      "model_module_version": "2.0.0",
      "model_name": "LayoutModel",
      "state": {}
     },
     "09b0a105ee1645928135c5c7f80502eb": {
      "model_module": "@jupyter-widgets/base",
      "model_module_version": "2.0.0",
      "model_name": "LayoutModel",
      "state": {
       "display": "flex",
       "flex_flow": "row",
       "justify_content": "flex-start",
       "width": "auto"
      }
     },
     "0b64ab44de9e429e89fe4b1e9fdfc5b5": {
      "model_module": "@jupyter-widgets/output",
      "model_module_version": "1.0.0",
      "model_name": "OutputModel",
      "state": {
       "layout": "IPY_MODEL_446a4517287649309fe9b27e4cb07cd0",
       "outputs": [
        {
         "data": {
          "text/html": "<b>Test set performance</b>",
          "text/plain": "<IPython.core.display.HTML object>"
         },
         "metadata": {},
         "output_type": "display_data"
        },
        {
         "data": {
          "text/html": "<div>\n<style scoped>\n    .dataframe tbody tr th:only-of-type {\n        vertical-align: middle;\n    }\n\n    .dataframe tbody tr th {\n        vertical-align: top;\n    }\n\n    .dataframe thead th {\n        text-align: right;\n    }\n</style>\n<table border=\"1\" class=\"dataframe\">\n  <thead>\n    <tr style=\"text-align: right;\">\n      <th></th>\n      <th>precision</th>\n      <th>recall</th>\n      <th>f1-score</th>\n      <th>support</th>\n    </tr>\n  </thead>\n  <tbody>\n    <tr>\n      <th>0</th>\n      <td>0.83</td>\n      <td>0.82</td>\n      <td>0.83</td>\n      <td>165.00</td>\n    </tr>\n    <tr>\n      <th>1</th>\n      <td>0.68</td>\n      <td>0.69</td>\n      <td>0.68</td>\n      <td>89.00</td>\n    </tr>\n    <tr>\n      <th>accuracy</th>\n      <td>0.78</td>\n      <td>0.78</td>\n      <td>0.78</td>\n      <td>0.78</td>\n    </tr>\n    <tr>\n      <th>macro avg</th>\n      <td>0.75</td>\n      <td>0.75</td>\n      <td>0.75</td>\n      <td>254.00</td>\n    </tr>\n    <tr>\n      <th>weighted avg</th>\n      <td>0.78</td>\n      <td>0.78</td>\n      <td>0.78</td>\n      <td>254.00</td>\n    </tr>\n  </tbody>\n</table>\n</div>",
          "text/plain": "             precision recall f1-score support\n0                 0.83   0.82     0.83  165.00\n1                 0.68   0.69     0.68   89.00\naccuracy          0.78   0.78     0.78    0.78\nmacro avg         0.75   0.75     0.75  254.00\nweighted avg      0.78   0.78     0.78  254.00"
         },
         "metadata": {},
         "output_type": "display_data"
        }
       ]
      }
     },
     "0ba1582b34f24517ac4c603e0866a285": {
      "model_module": "@jupyter-widgets/controls",
      "model_module_version": "2.0.0",
      "model_name": "HBoxModel",
      "state": {
       "children": [
        "IPY_MODEL_a8d539a9ed4549ba93f172a93caeea66",
        "IPY_MODEL_e4a776867d4241db95d16a179da21751"
       ],
       "layout": "IPY_MODEL_c1816c1809a34b2d8dca81154a819338"
      }
     },
     "0c59e260bf1a4ec78edd92f3e59c63df": {
      "model_module": "@jupyter-widgets/output",
      "model_module_version": "1.0.0",
      "model_name": "OutputModel",
      "state": {
       "layout": "IPY_MODEL_d9ebe8cea3f541a7b844c5553a8586d6",
       "outputs": [
        {
         "data": {
          "text/html": "<b>Training set performance</b>",
          "text/plain": "<IPython.core.display.HTML object>"
         },
         "metadata": {},
         "output_type": "display_data"
        },
        {
         "data": {
          "text/html": "<div>\n<style scoped>\n    .dataframe tbody tr th:only-of-type {\n        vertical-align: middle;\n    }\n\n    .dataframe tbody tr th {\n        vertical-align: top;\n    }\n\n    .dataframe thead th {\n        text-align: right;\n    }\n</style>\n<table border=\"1\" class=\"dataframe\">\n  <thead>\n    <tr style=\"text-align: right;\">\n      <th></th>\n      <th>precision</th>\n      <th>recall</th>\n      <th>f1-score</th>\n      <th>support</th>\n    </tr>\n  </thead>\n  <tbody>\n    <tr>\n      <th>0</th>\n      <td>1.00</td>\n      <td>0.99</td>\n      <td>0.99</td>\n      <td>335.00</td>\n    </tr>\n    <tr>\n      <th>1</th>\n      <td>0.99</td>\n      <td>1.00</td>\n      <td>0.99</td>\n      <td>335.00</td>\n    </tr>\n    <tr>\n      <th>accuracy</th>\n      <td>0.99</td>\n      <td>0.99</td>\n      <td>0.99</td>\n      <td>0.99</td>\n    </tr>\n    <tr>\n      <th>macro avg</th>\n      <td>0.99</td>\n      <td>0.99</td>\n      <td>0.99</td>\n      <td>670.00</td>\n    </tr>\n    <tr>\n      <th>weighted avg</th>\n      <td>0.99</td>\n      <td>0.99</td>\n      <td>0.99</td>\n      <td>670.00</td>\n    </tr>\n  </tbody>\n</table>\n</div>",
          "text/plain": "             precision recall f1-score support\n0                 1.00   0.99     0.99  335.00\n1                 0.99   1.00     0.99  335.00\naccuracy          0.99   0.99     0.99    0.99\nmacro avg         0.99   0.99     0.99  670.00\nweighted avg      0.99   0.99     0.99  670.00"
         },
         "metadata": {},
         "output_type": "display_data"
        }
       ]
      }
     },
     "0cea794b8143492daf0d54bff0cdd1ca": {
      "model_module": "@jupyter-widgets/controls",
      "model_module_version": "2.0.0",
      "model_name": "HTMLModel",
      "state": {
       "layout": "IPY_MODEL_12ce14dac71a4c829f2d772923622db3",
       "style": "IPY_MODEL_69204a21871b48f9b85882240c286023",
       "value": "Best trial: 92. Best value: 0.867938: 100%"
      }
     },
     "0df7c974268a4e4f881e254477dd32d3": {
      "model_module": "@jupyter-widgets/controls",
      "model_module_version": "2.0.0",
      "model_name": "HTMLStyleModel",
      "state": {
       "description_width": "",
       "font_size": null,
       "text_color": null
      }
     },
     "0fbe7803394340d2ad746da324509642": {
      "model_module": "@jupyter-widgets/base",
      "model_module_version": "2.0.0",
      "model_name": "LayoutModel",
      "state": {}
     },
     "117e639de1004065b8981c866252ceda": {
      "model_module": "@jupyter-widgets/base",
      "model_module_version": "2.0.0",
      "model_name": "LayoutModel",
      "state": {
       "display": "flex",
       "flex_flow": "row",
       "justify_content": "flex-start",
       "width": "auto"
      }
     },
     "11aa4f3620624d0883b2035daba82067": {
      "model_module": "@jupyter-widgets/output",
      "model_module_version": "1.0.0",
      "model_name": "OutputModel",
      "state": {
       "layout": "IPY_MODEL_1b98aad1f39140e7a73290ad1b434835",
       "outputs": [
        {
         "data": {
          "text/html": "<b>(Log Loss, ROC Curve, Precission-Recall)</b>",
          "text/plain": "<IPython.core.display.HTML object>"
         },
         "metadata": {},
         "output_type": "display_data"
        },
        {
         "data": {
          "text/html": "<div>\n<style scoped>\n    .dataframe tbody tr th:only-of-type {\n        vertical-align: middle;\n    }\n\n    .dataframe tbody tr th {\n        vertical-align: top;\n    }\n\n    .dataframe thead th {\n        text-align: right;\n    }\n</style>\n<table border=\"1\" class=\"dataframe\">\n  <thead>\n    <tr style=\"text-align: right;\">\n      <th></th>\n      <th>Test Score</th>\n    </tr>\n  </thead>\n  <tbody>\n    <tr>\n      <th>Log Loss</th>\n      <td>0.7832</td>\n    </tr>\n    <tr>\n      <th>ROC AUC</th>\n      <td>0.7902</td>\n    </tr>\n    <tr>\n      <th>AUPRC</th>\n      <td>0.6241</td>\n    </tr>\n  </tbody>\n</table>\n</div>",
          "text/plain": "          Test Score\nLog Loss      0.7832\nROC AUC       0.7902\nAUPRC         0.6241"
         },
         "metadata": {},
         "output_type": "display_data"
        }
       ]
      }
     },
     "12ce14dac71a4c829f2d772923622db3": {
      "model_module": "@jupyter-widgets/base",
      "model_module_version": "2.0.0",
      "model_name": "LayoutModel",
      "state": {}
     },
     "167942616fe44042a21d11d2f7ac7608": {
      "model_module": "@jupyter-widgets/output",
      "model_module_version": "1.0.0",
      "model_name": "OutputModel",
      "state": {
       "layout": "IPY_MODEL_24ea999b4f0b428a8971c89f2a0c23e3",
       "outputs": [
        {
         "data": {
          "text/html": "<b>Training set performance</b>",
          "text/plain": "<IPython.core.display.HTML object>"
         },
         "metadata": {},
         "output_type": "display_data"
        },
        {
         "data": {
          "text/html": "<div>\n<style scoped>\n    .dataframe tbody tr th:only-of-type {\n        vertical-align: middle;\n    }\n\n    .dataframe tbody tr th {\n        vertical-align: top;\n    }\n\n    .dataframe thead th {\n        text-align: right;\n    }\n</style>\n<table border=\"1\" class=\"dataframe\">\n  <thead>\n    <tr style=\"text-align: right;\">\n      <th></th>\n      <th>precision</th>\n      <th>recall</th>\n      <th>f1-score</th>\n      <th>support</th>\n    </tr>\n  </thead>\n  <tbody>\n    <tr>\n      <th>0</th>\n      <td>1.00</td>\n      <td>1.00</td>\n      <td>1.00</td>\n      <td>335.00</td>\n    </tr>\n    <tr>\n      <th>1</th>\n      <td>1.00</td>\n      <td>1.00</td>\n      <td>1.00</td>\n      <td>179.00</td>\n    </tr>\n    <tr>\n      <th>accuracy</th>\n      <td>1.00</td>\n      <td>1.00</td>\n      <td>1.00</td>\n      <td>1.00</td>\n    </tr>\n    <tr>\n      <th>macro avg</th>\n      <td>1.00</td>\n      <td>1.00</td>\n      <td>1.00</td>\n      <td>514.00</td>\n    </tr>\n    <tr>\n      <th>weighted avg</th>\n      <td>1.00</td>\n      <td>1.00</td>\n      <td>1.00</td>\n      <td>514.00</td>\n    </tr>\n  </tbody>\n</table>\n</div>",
          "text/plain": "             precision recall f1-score support\n0                 1.00   1.00     1.00  335.00\n1                 1.00   1.00     1.00  179.00\naccuracy          1.00   1.00     1.00    1.00\nmacro avg         1.00   1.00     1.00  514.00\nweighted avg      1.00   1.00     1.00  514.00"
         },
         "metadata": {},
         "output_type": "display_data"
        }
       ]
      }
     },
     "1b3383a606384f1d8b328728c5f12730": {
      "model_module": "@jupyter-widgets/controls",
      "model_module_version": "2.0.0",
      "model_name": "HBoxModel",
      "state": {
       "children": [
        "IPY_MODEL_c8ed80c1c61e4331be06d2dda300306f",
        "IPY_MODEL_72db47c7865546acbec3ed4b2ab03006"
       ],
       "layout": "IPY_MODEL_d3637b62ca8f49759ac47456c86d2c96"
      }
     },
     "1b98aad1f39140e7a73290ad1b434835": {
      "model_module": "@jupyter-widgets/base",
      "model_module_version": "2.0.0",
      "model_name": "LayoutModel",
      "state": {}
     },
     "1bf549c1a418400689dfc142281b9a87": {
      "model_module": "@jupyter-widgets/output",
      "model_module_version": "1.0.0",
      "model_name": "OutputModel",
      "state": {
       "layout": "IPY_MODEL_f1d9f36eda75403d9fa25b111b238518",
       "outputs": [
        {
         "data": {
          "text/html": "<b>New dtypes</b>",
          "text/plain": "<IPython.core.display.HTML object>"
         },
         "metadata": {},
         "output_type": "display_data"
        },
        {
         "data": {
          "text/plain": "Pregnancies                   int64\nGlucose                     float64\nBloodPressure               float64\nSkinThickness               float64\nInsulin                     float64\nBMI                         float64\nDiabetesPedigreeFunction    float64\nAge                           int64\ndtype: object"
         },
         "metadata": {},
         "output_type": "display_data"
        }
       ]
      }
     },
     "2046bb2a183a476897093967044af866": {
      "model_module": "@jupyter-widgets/controls",
      "model_module_version": "2.0.0",
      "model_name": "HTMLModel",
      "state": {
       "layout": "IPY_MODEL_c0baf565325a40e79064b7f637528581",
       "style": "IPY_MODEL_6c35182be36447e1952e84ac3f9b66a0",
       "value": " 100/100 [07:18&lt;00:00,  2.93s/it, 438.71/600 seconds]"
      }
     },
     "23649708a83a493288d82181d6788a5d": {
      "model_module": "@jupyter-widgets/base",
      "model_module_version": "2.0.0",
      "model_name": "LayoutModel",
      "state": {}
     },
     "249ecdbff4bc4b50b9b4003e3e10bc0d": {
      "model_module": "@jupyter-widgets/output",
      "model_module_version": "1.0.0",
      "model_name": "OutputModel",
      "state": {
       "layout": "IPY_MODEL_be1f019056a047dea92d72a3ba093ff9",
       "outputs": [
        {
         "data": {
          "text/html": "<b>Training set performance</b>",
          "text/plain": "<IPython.core.display.HTML object>"
         },
         "metadata": {},
         "output_type": "display_data"
        },
        {
         "data": {
          "text/html": "<div>\n<style scoped>\n    .dataframe tbody tr th:only-of-type {\n        vertical-align: middle;\n    }\n\n    .dataframe tbody tr th {\n        vertical-align: top;\n    }\n\n    .dataframe thead th {\n        text-align: right;\n    }\n</style>\n<table border=\"1\" class=\"dataframe\">\n  <thead>\n    <tr style=\"text-align: right;\">\n      <th></th>\n      <th>precision</th>\n      <th>recall</th>\n      <th>f1-score</th>\n      <th>support</th>\n    </tr>\n  </thead>\n  <tbody>\n    <tr>\n      <th>0</th>\n      <td>1.00</td>\n      <td>1.00</td>\n      <td>1.00</td>\n      <td>335.00</td>\n    </tr>\n    <tr>\n      <th>1</th>\n      <td>1.00</td>\n      <td>1.00</td>\n      <td>1.00</td>\n      <td>179.00</td>\n    </tr>\n    <tr>\n      <th>accuracy</th>\n      <td>1.00</td>\n      <td>1.00</td>\n      <td>1.00</td>\n      <td>1.00</td>\n    </tr>\n    <tr>\n      <th>macro avg</th>\n      <td>1.00</td>\n      <td>1.00</td>\n      <td>1.00</td>\n      <td>514.00</td>\n    </tr>\n    <tr>\n      <th>weighted avg</th>\n      <td>1.00</td>\n      <td>1.00</td>\n      <td>1.00</td>\n      <td>514.00</td>\n    </tr>\n  </tbody>\n</table>\n</div>",
          "text/plain": "             precision recall f1-score support\n0                 1.00   1.00     1.00  335.00\n1                 1.00   1.00     1.00  179.00\naccuracy          1.00   1.00     1.00    1.00\nmacro avg         1.00   1.00     1.00  514.00\nweighted avg      1.00   1.00     1.00  514.00"
         },
         "metadata": {},
         "output_type": "display_data"
        }
       ]
      }
     },
     "24ea999b4f0b428a8971c89f2a0c23e3": {
      "model_module": "@jupyter-widgets/base",
      "model_module_version": "2.0.0",
      "model_name": "LayoutModel",
      "state": {}
     },
     "2533526f0b604a3285296ff49b746a3a": {
      "model_module": "@jupyter-widgets/controls",
      "model_module_version": "2.0.0",
      "model_name": "HTMLModel",
      "state": {
       "layout": "IPY_MODEL_4db0e9921395485881365e8a3f4c3d45",
       "style": "IPY_MODEL_797afed61ae3440e9a05aff030c8bd19",
       "value": " 100/100 [00:56&lt;00:00,  1.07it/s, 56.17/600 seconds]"
      }
     },
     "26046f36068848de8f4d8cc73a7e2807": {
      "model_module": "@jupyter-widgets/output",
      "model_module_version": "1.0.0",
      "model_name": "OutputModel",
      "state": {
       "layout": "IPY_MODEL_4014dd98c03248e7b8f0815e8f1c49e3",
       "outputs": [
        {
         "data": {
          "text/html": "<b>Test set performance</b>",
          "text/plain": "<IPython.core.display.HTML object>"
         },
         "metadata": {},
         "output_type": "display_data"
        },
        {
         "data": {
          "text/html": "<div>\n<style scoped>\n    .dataframe tbody tr th:only-of-type {\n        vertical-align: middle;\n    }\n\n    .dataframe tbody tr th {\n        vertical-align: top;\n    }\n\n    .dataframe thead th {\n        text-align: right;\n    }\n</style>\n<table border=\"1\" class=\"dataframe\">\n  <thead>\n    <tr style=\"text-align: right;\">\n      <th></th>\n      <th>precision</th>\n      <th>recall</th>\n      <th>f1-score</th>\n      <th>support</th>\n    </tr>\n  </thead>\n  <tbody>\n    <tr>\n      <th>0</th>\n      <td>0.84</td>\n      <td>0.79</td>\n      <td>0.81</td>\n      <td>165.00</td>\n    </tr>\n    <tr>\n      <th>1</th>\n      <td>0.65</td>\n      <td>0.73</td>\n      <td>0.69</td>\n      <td>89.00</td>\n    </tr>\n    <tr>\n      <th>accuracy</th>\n      <td>0.77</td>\n      <td>0.77</td>\n      <td>0.77</td>\n      <td>0.77</td>\n    </tr>\n    <tr>\n      <th>macro avg</th>\n      <td>0.75</td>\n      <td>0.76</td>\n      <td>0.75</td>\n      <td>254.00</td>\n    </tr>\n    <tr>\n      <th>weighted avg</th>\n      <td>0.78</td>\n      <td>0.77</td>\n      <td>0.77</td>\n      <td>254.00</td>\n    </tr>\n  </tbody>\n</table>\n</div>",
          "text/plain": "             precision recall f1-score support\n0                 0.84   0.79     0.81  165.00\n1                 0.65   0.73     0.69   89.00\naccuracy          0.77   0.77     0.77    0.77\nmacro avg         0.75   0.76     0.75  254.00\nweighted avg      0.78   0.77     0.77  254.00"
         },
         "metadata": {},
         "output_type": "display_data"
        }
       ]
      }
     },
     "298f58e2542d47a185684727516a7268": {
      "model_module": "@jupyter-widgets/output",
      "model_module_version": "1.0.0",
      "model_name": "OutputModel",
      "state": {
       "layout": "IPY_MODEL_9f7a9929500d49e0b65792031e3994af",
       "outputs": [
        {
         "data": {
          "text/html": "<b>(Log Loss, ROC Curve, Precission-Recall)</b>",
          "text/plain": "<IPython.core.display.HTML object>"
         },
         "metadata": {},
         "output_type": "display_data"
        },
        {
         "data": {
          "text/html": "<div>\n<style scoped>\n    .dataframe tbody tr th:only-of-type {\n        vertical-align: middle;\n    }\n\n    .dataframe tbody tr th {\n        vertical-align: top;\n    }\n\n    .dataframe thead th {\n        text-align: right;\n    }\n</style>\n<table border=\"1\" class=\"dataframe\">\n  <thead>\n    <tr style=\"text-align: right;\">\n      <th></th>\n      <th>Test Score</th>\n    </tr>\n  </thead>\n  <tbody>\n    <tr>\n      <th>Log Loss</th>\n      <td>0.5671</td>\n    </tr>\n    <tr>\n      <th>ROC AUC</th>\n      <td>0.7971</td>\n    </tr>\n    <tr>\n      <th>AUPRC</th>\n      <td>0.6363</td>\n    </tr>\n  </tbody>\n</table>\n</div>",
          "text/plain": "          Test Score\nLog Loss      0.5671\nROC AUC       0.7971\nAUPRC         0.6363"
         },
         "metadata": {},
         "output_type": "display_data"
        }
       ]
      }
     },
     "2bba90d030764fa3b656d064be94e3df": {
      "model_module": "@jupyter-widgets/controls",
      "model_module_version": "2.0.0",
      "model_name": "HBoxModel",
      "state": {
       "children": [
        "IPY_MODEL_91688c2028434fc8af792bde11f47ef5",
        "IPY_MODEL_9a27e64ef429473fbf19c648c8714340",
        "IPY_MODEL_fb60426099a44d7782a23d6c0a55eba9"
       ],
       "layout": "IPY_MODEL_ba4fe1e4039946a5bf1c95f7f2b2d9eb"
      }
     },
     "2fbfc64b5fbf44f59527de697f00a3c9": {
      "model_module": "@jupyter-widgets/base",
      "model_module_version": "2.0.0",
      "model_name": "LayoutModel",
      "state": {}
     },
     "3113ef7cfe714d90b4faae94c5131242": {
      "model_module": "@jupyter-widgets/controls",
      "model_module_version": "2.0.0",
      "model_name": "HTMLStyleModel",
      "state": {
       "description_width": "",
       "font_size": null,
       "text_color": null
      }
     },
     "31b90e5ede5345b88cdf96f67f7e00b2": {
      "model_module": "@jupyter-widgets/base",
      "model_module_version": "2.0.0",
      "model_name": "LayoutModel",
      "state": {}
     },
     "3216c93b52c14b63aa545544bf30ed9b": {
      "model_module": "@jupyter-widgets/output",
      "model_module_version": "1.0.0",
      "model_name": "OutputModel",
      "state": {
       "layout": "IPY_MODEL_37321b040f054ea795e86b25328737c3",
       "outputs": [
        {
         "data": {
          "text/html": "<b>(Log Loss, ROC Curve, Precission-Recall)</b>",
          "text/plain": "<IPython.core.display.HTML object>"
         },
         "metadata": {},
         "output_type": "display_data"
        },
        {
         "data": {
          "text/html": "<div>\n<style scoped>\n    .dataframe tbody tr th:only-of-type {\n        vertical-align: middle;\n    }\n\n    .dataframe tbody tr th {\n        vertical-align: top;\n    }\n\n    .dataframe thead th {\n        text-align: right;\n    }\n</style>\n<table border=\"1\" class=\"dataframe\">\n  <thead>\n    <tr style=\"text-align: right;\">\n      <th></th>\n      <th>Test Score</th>\n    </tr>\n  </thead>\n  <tbody>\n    <tr>\n      <th>Log Loss</th>\n      <td>0.4744</td>\n    </tr>\n    <tr>\n      <th>ROC AUC</th>\n      <td>0.8410</td>\n    </tr>\n    <tr>\n      <th>AUPRC</th>\n      <td>0.7006</td>\n    </tr>\n  </tbody>\n</table>\n</div>",
          "text/plain": "          Test Score\nLog Loss      0.4744\nROC AUC       0.8410\nAUPRC         0.7006"
         },
         "metadata": {},
         "output_type": "display_data"
        }
       ]
      }
     },
     "32408c3ae0c04caf9ba6f78adfd52296": {
      "model_module": "@jupyter-widgets/controls",
      "model_module_version": "2.0.0",
      "model_name": "HTMLModel",
      "state": {
       "layout": "IPY_MODEL_75b33b09ac4a4cb6afedf25d676d3d89",
       "style": "IPY_MODEL_0df7c974268a4e4f881e254477dd32d3",
       "value": "Best trial: 93. Best value: 0.453892: 100%"
      }
     },
     "32bc3887448e48f99200380724345d10": {
      "model_module": "@jupyter-widgets/base",
      "model_module_version": "2.0.0",
      "model_name": "LayoutModel",
      "state": {}
     },
     "341eb9646826423aa605e9fe8bb8a9f6": {
      "model_module": "@jupyter-widgets/base",
      "model_module_version": "2.0.0",
      "model_name": "LayoutModel",
      "state": {}
     },
     "3517f07629434bf5bda275c4d24d1569": {
      "model_module": "@jupyter-widgets/base",
      "model_module_version": "2.0.0",
      "model_name": "LayoutModel",
      "state": {}
     },
     "36d405a8c90e42b986db9965cb36b608": {
      "model_module": "@jupyter-widgets/output",
      "model_module_version": "1.0.0",
      "model_name": "OutputModel",
      "state": {
       "layout": "IPY_MODEL_b1b6d9fbfe6f49ee8262096ff5ca28ff",
       "outputs": [
        {
         "data": {
          "text/html": "<b>Training set performance</b>",
          "text/plain": "<IPython.core.display.HTML object>"
         },
         "metadata": {},
         "output_type": "display_data"
        },
        {
         "data": {
          "text/html": "<div>\n<style scoped>\n    .dataframe tbody tr th:only-of-type {\n        vertical-align: middle;\n    }\n\n    .dataframe tbody tr th {\n        vertical-align: top;\n    }\n\n    .dataframe thead th {\n        text-align: right;\n    }\n</style>\n<table border=\"1\" class=\"dataframe\">\n  <thead>\n    <tr style=\"text-align: right;\">\n      <th></th>\n      <th>precision</th>\n      <th>recall</th>\n      <th>f1-score</th>\n      <th>support</th>\n    </tr>\n  </thead>\n  <tbody>\n    <tr>\n      <th>0</th>\n      <td>0.85</td>\n      <td>0.81</td>\n      <td>0.83</td>\n      <td>335.00</td>\n    </tr>\n    <tr>\n      <th>1</th>\n      <td>0.82</td>\n      <td>0.85</td>\n      <td>0.84</td>\n      <td>335.00</td>\n    </tr>\n    <tr>\n      <th>accuracy</th>\n      <td>0.83</td>\n      <td>0.83</td>\n      <td>0.83</td>\n      <td>0.83</td>\n    </tr>\n    <tr>\n      <th>macro avg</th>\n      <td>0.83</td>\n      <td>0.83</td>\n      <td>0.83</td>\n      <td>670.00</td>\n    </tr>\n    <tr>\n      <th>weighted avg</th>\n      <td>0.83</td>\n      <td>0.83</td>\n      <td>0.83</td>\n      <td>670.00</td>\n    </tr>\n  </tbody>\n</table>\n</div>",
          "text/plain": "             precision recall f1-score support\n0                 0.85   0.81     0.83  335.00\n1                 0.82   0.85     0.84  335.00\naccuracy          0.83   0.83     0.83    0.83\nmacro avg         0.83   0.83     0.83  670.00\nweighted avg      0.83   0.83     0.83  670.00"
         },
         "metadata": {},
         "output_type": "display_data"
        }
       ]
      }
     },
     "37321b040f054ea795e86b25328737c3": {
      "model_module": "@jupyter-widgets/base",
      "model_module_version": "2.0.0",
      "model_name": "LayoutModel",
      "state": {}
     },
     "3856deed91db4c228c1de94597dc0b6b": {
      "model_module": "@jupyter-widgets/output",
      "model_module_version": "1.0.0",
      "model_name": "OutputModel",
      "state": {
       "layout": "IPY_MODEL_3517f07629434bf5bda275c4d24d1569",
       "outputs": [
        {
         "data": {
          "text/html": "<b>Training set performance</b>",
          "text/plain": "<IPython.core.display.HTML object>"
         },
         "metadata": {},
         "output_type": "display_data"
        },
        {
         "data": {
          "text/html": "<div>\n<style scoped>\n    .dataframe tbody tr th:only-of-type {\n        vertical-align: middle;\n    }\n\n    .dataframe tbody tr th {\n        vertical-align: top;\n    }\n\n    .dataframe thead th {\n        text-align: right;\n    }\n</style>\n<table border=\"1\" class=\"dataframe\">\n  <thead>\n    <tr style=\"text-align: right;\">\n      <th></th>\n      <th>precision</th>\n      <th>recall</th>\n      <th>f1-score</th>\n      <th>support</th>\n    </tr>\n  </thead>\n  <tbody>\n    <tr>\n      <th>0</th>\n      <td>0.97</td>\n      <td>0.98</td>\n      <td>0.97</td>\n      <td>335.00</td>\n    </tr>\n    <tr>\n      <th>1</th>\n      <td>0.98</td>\n      <td>0.97</td>\n      <td>0.97</td>\n      <td>335.00</td>\n    </tr>\n    <tr>\n      <th>accuracy</th>\n      <td>0.97</td>\n      <td>0.97</td>\n      <td>0.97</td>\n      <td>0.97</td>\n    </tr>\n    <tr>\n      <th>macro avg</th>\n      <td>0.97</td>\n      <td>0.97</td>\n      <td>0.97</td>\n      <td>670.00</td>\n    </tr>\n    <tr>\n      <th>weighted avg</th>\n      <td>0.97</td>\n      <td>0.97</td>\n      <td>0.97</td>\n      <td>670.00</td>\n    </tr>\n  </tbody>\n</table>\n</div>",
          "text/plain": "             precision recall f1-score support\n0                 0.97   0.98     0.97  335.00\n1                 0.98   0.97     0.97  335.00\naccuracy          0.97   0.97     0.97    0.97\nmacro avg         0.97   0.97     0.97  670.00\nweighted avg      0.97   0.97     0.97  670.00"
         },
         "metadata": {},
         "output_type": "display_data"
        }
       ]
      }
     },
     "3ad4ea63edf74889b039b9e2bfa4b799": {
      "model_module": "@jupyter-widgets/base",
      "model_module_version": "2.0.0",
      "model_name": "LayoutModel",
      "state": {}
     },
     "4014dd98c03248e7b8f0815e8f1c49e3": {
      "model_module": "@jupyter-widgets/base",
      "model_module_version": "2.0.0",
      "model_name": "LayoutModel",
      "state": {}
     },
     "4022e086f1f84724907d96196e2882c7": {
      "model_module": "@jupyter-widgets/controls",
      "model_module_version": "2.0.0",
      "model_name": "HBoxModel",
      "state": {
       "children": [
        "IPY_MODEL_fe9f9db2378f4f6d91a95f9a7f329b48",
        "IPY_MODEL_3216c93b52c14b63aa545544bf30ed9b"
       ],
       "layout": "IPY_MODEL_09b0a105ee1645928135c5c7f80502eb"
      }
     },
     "41454899ea264c5da0d34b7ab2a5a77e": {
      "model_module": "@jupyter-widgets/output",
      "model_module_version": "1.0.0",
      "model_name": "OutputModel",
      "state": {
       "layout": "IPY_MODEL_c489dda5c4704c7c8f1042db9c5d7df5",
       "outputs": [
        {
         "data": {
          "text/html": "<b>Additional metrics</b>",
          "text/plain": "<IPython.core.display.HTML object>"
         },
         "metadata": {},
         "output_type": "display_data"
        },
        {
         "data": {
          "text/html": "<div>\n<style scoped>\n    .dataframe tbody tr th:only-of-type {\n        vertical-align: middle;\n    }\n\n    .dataframe tbody tr th {\n        vertical-align: top;\n    }\n\n    .dataframe thead th {\n        text-align: right;\n    }\n</style>\n<table border=\"1\" class=\"dataframe\">\n  <thead>\n    <tr style=\"text-align: right;\">\n      <th></th>\n      <th>Train Score</th>\n    </tr>\n  </thead>\n  <tbody>\n    <tr>\n      <th>Log Loss</th>\n      <td>0.0218</td>\n    </tr>\n    <tr>\n      <th>ROC AUC</th>\n      <td>1.0000</td>\n    </tr>\n    <tr>\n      <th>AUPRC</th>\n      <td>0.9967</td>\n    </tr>\n  </tbody>\n</table>\n</div>",
          "text/plain": "          Train Score\nLog Loss       0.0218\nROC AUC        1.0000\nAUPRC          0.9967"
         },
         "metadata": {},
         "output_type": "display_data"
        }
       ]
      }
     },
     "416d341a5e8c43ba87bcdee25a5e44fb": {
      "model_module": "@jupyter-widgets/base",
      "model_module_version": "2.0.0",
      "model_name": "LayoutModel",
      "state": {
       "display": "flex",
       "flex_flow": "row",
       "justify_content": "flex-start",
       "width": "auto"
      }
     },
     "446a4517287649309fe9b27e4cb07cd0": {
      "model_module": "@jupyter-widgets/base",
      "model_module_version": "2.0.0",
      "model_name": "LayoutModel",
      "state": {}
     },
     "46dbc0449e16476a97eb4e87c1552f0c": {
      "model_module": "@jupyter-widgets/base",
      "model_module_version": "2.0.0",
      "model_name": "LayoutModel",
      "state": {}
     },
     "4806b845185f4fe39c79b63b3fdbbcf9": {
      "model_module": "@jupyter-widgets/base",
      "model_module_version": "2.0.0",
      "model_name": "LayoutModel",
      "state": {
       "display": "flex",
       "flex_flow": "row",
       "justify_content": "flex-start",
       "width": "auto"
      }
     },
     "48cf2d84b0e24af18f12ebe612704dd4": {
      "model_module": "@jupyter-widgets/controls",
      "model_module_version": "2.0.0",
      "model_name": "HBoxModel",
      "state": {
       "children": [
        "IPY_MODEL_fe783666b400454d866c3df5602808c6",
        "IPY_MODEL_1bf549c1a418400689dfc142281b9a87"
       ],
       "layout": "IPY_MODEL_54f559e75edc45518df603384c9311ac"
      }
     },
     "48e8afcf42fc4f52987331372a41b04f": {
      "model_module": "@jupyter-widgets/output",
      "model_module_version": "1.0.0",
      "model_name": "OutputModel",
      "state": {
       "layout": "IPY_MODEL_961ee67b394d4808955acb8963f08874",
       "outputs": [
        {
         "data": {
          "text/html": "<b>Test set performance</b>",
          "text/plain": "<IPython.core.display.HTML object>"
         },
         "metadata": {},
         "output_type": "display_data"
        },
        {
         "data": {
          "text/html": "<div>\n<style scoped>\n    .dataframe tbody tr th:only-of-type {\n        vertical-align: middle;\n    }\n\n    .dataframe tbody tr th {\n        vertical-align: top;\n    }\n\n    .dataframe thead th {\n        text-align: right;\n    }\n</style>\n<table border=\"1\" class=\"dataframe\">\n  <thead>\n    <tr style=\"text-align: right;\">\n      <th></th>\n      <th>precision</th>\n      <th>recall</th>\n      <th>f1-score</th>\n      <th>support</th>\n    </tr>\n  </thead>\n  <tbody>\n    <tr>\n      <th>0</th>\n      <td>0.78</td>\n      <td>0.82</td>\n      <td>0.80</td>\n      <td>165.00</td>\n    </tr>\n    <tr>\n      <th>1</th>\n      <td>0.62</td>\n      <td>0.56</td>\n      <td>0.59</td>\n      <td>89.00</td>\n    </tr>\n    <tr>\n      <th>accuracy</th>\n      <td>0.73</td>\n      <td>0.73</td>\n      <td>0.73</td>\n      <td>0.73</td>\n    </tr>\n    <tr>\n      <th>macro avg</th>\n      <td>0.70</td>\n      <td>0.69</td>\n      <td>0.69</td>\n      <td>254.00</td>\n    </tr>\n    <tr>\n      <th>weighted avg</th>\n      <td>0.72</td>\n      <td>0.73</td>\n      <td>0.72</td>\n      <td>254.00</td>\n    </tr>\n  </tbody>\n</table>\n</div>",
          "text/plain": "             precision recall f1-score support\n0                 0.78   0.82     0.80  165.00\n1                 0.62   0.56     0.59   89.00\naccuracy          0.73   0.73     0.73    0.73\nmacro avg         0.70   0.69     0.69  254.00\nweighted avg      0.72   0.73     0.72  254.00"
         },
         "metadata": {},
         "output_type": "display_data"
        }
       ]
      }
     },
     "4b3f3ca3ca0e4b92b0049fc33bf2de20": {
      "model_module": "@jupyter-widgets/controls",
      "model_module_version": "2.0.0",
      "model_name": "HBoxModel",
      "state": {
       "children": [
        "IPY_MODEL_e50f47cee29a400d89df2791bb3f14a1",
        "IPY_MODEL_aa96b7b6b4e445f6ac152981bcd4b9dc"
       ],
       "layout": "IPY_MODEL_f4d267e4f1404cfc9b0e1294f236bf7e"
      }
     },
     "4c28be4252a14931a2ff118d6cb6b8cb": {
      "model_module": "@jupyter-widgets/controls",
      "model_module_version": "2.0.0",
      "model_name": "HBoxModel",
      "state": {
       "children": [
        "IPY_MODEL_6f41bf6fc9dd4a9da64add5ece8dc71f",
        "IPY_MODEL_26046f36068848de8f4d8cc73a7e2807"
       ],
       "layout": "IPY_MODEL_117e639de1004065b8981c866252ceda"
      }
     },
     "4db0e9921395485881365e8a3f4c3d45": {
      "model_module": "@jupyter-widgets/base",
      "model_module_version": "2.0.0",
      "model_name": "LayoutModel",
      "state": {}
     },
     "4ef86be3434e4b78a8091f0afcc4b066": {
      "model_module": "@jupyter-widgets/base",
      "model_module_version": "2.0.0",
      "model_name": "LayoutModel",
      "state": {}
     },
     "4fabdfc9d4ae493d98500b7a5bd23df2": {
      "model_module": "@jupyter-widgets/base",
      "model_module_version": "2.0.0",
      "model_name": "LayoutModel",
      "state": {}
     },
     "503039be56f34f3ea8da9030891fc5e8": {
      "model_module": "@jupyter-widgets/output",
      "model_module_version": "1.0.0",
      "model_name": "OutputModel",
      "state": {
       "layout": "IPY_MODEL_81d320e4c89e4a56918aa1052f79f699",
       "outputs": [
        {
         "data": {
          "text/html": "<b>(Log Loss, ROC Curve, Precission-Recall)</b>",
          "text/plain": "<IPython.core.display.HTML object>"
         },
         "metadata": {},
         "output_type": "display_data"
        },
        {
         "data": {
          "text/html": "<div>\n<style scoped>\n    .dataframe tbody tr th:only-of-type {\n        vertical-align: middle;\n    }\n\n    .dataframe tbody tr th {\n        vertical-align: top;\n    }\n\n    .dataframe thead th {\n        text-align: right;\n    }\n</style>\n<table border=\"1\" class=\"dataframe\">\n  <thead>\n    <tr style=\"text-align: right;\">\n      <th></th>\n      <th>Test Score</th>\n    </tr>\n  </thead>\n  <tbody>\n    <tr>\n      <th>Log Loss</th>\n      <td>0.7472</td>\n    </tr>\n    <tr>\n      <th>ROC AUC</th>\n      <td>0.7898</td>\n    </tr>\n    <tr>\n      <th>AUPRC</th>\n      <td>0.6344</td>\n    </tr>\n  </tbody>\n</table>\n</div>",
          "text/plain": "          Test Score\nLog Loss      0.7472\nROC AUC       0.7898\nAUPRC         0.6344"
         },
         "metadata": {},
         "output_type": "display_data"
        }
       ]
      }
     },
     "50d5230d480047389b3d4e8b3c497e05": {
      "model_module": "@jupyter-widgets/base",
      "model_module_version": "2.0.0",
      "model_name": "LayoutModel",
      "state": {}
     },
     "513e55b33ad54f51aa89636387431d6f": {
      "model_module": "@jupyter-widgets/controls",
      "model_module_version": "2.0.0",
      "model_name": "ProgressStyleModel",
      "state": {
       "description_width": ""
      }
     },
     "51530fff699a4f4999ea4a9f4ae9c8e7": {
      "model_module": "@jupyter-widgets/controls",
      "model_module_version": "2.0.0",
      "model_name": "FloatProgressModel",
      "state": {
       "bar_style": "success",
       "layout": "IPY_MODEL_d3dfddde684a451abcc414719aa20118",
       "style": "IPY_MODEL_8da80140b7df43379c64d980fd05e6f0",
       "value": 100
      }
     },
     "54f559e75edc45518df603384c9311ac": {
      "model_module": "@jupyter-widgets/base",
      "model_module_version": "2.0.0",
      "model_name": "LayoutModel",
      "state": {
       "display": "flex",
       "flex_flow": "row",
       "justify_content": "flex-start",
       "width": "auto"
      }
     },
     "5595166097cd425aafc2ecc8a0a3e573": {
      "model_module": "@jupyter-widgets/controls",
      "model_module_version": "2.0.0",
      "model_name": "HBoxModel",
      "state": {
       "children": [
        "IPY_MODEL_41454899ea264c5da0d34b7ab2a5a77e",
        "IPY_MODEL_11aa4f3620624d0883b2035daba82067"
       ],
       "layout": "IPY_MODEL_ba1e0e2d550b421a84e0c9412fb472e6"
      }
     },
     "55963fd8b77741e0ab4aee5ad9e58582": {
      "model_module": "@jupyter-widgets/base",
      "model_module_version": "2.0.0",
      "model_name": "LayoutModel",
      "state": {
       "display": "flex",
       "flex_flow": "row",
       "justify_content": "flex-start",
       "width": "auto"
      }
     },
     "59c1e7d920244017a20e08b83616ccf3": {
      "model_module": "@jupyter-widgets/base",
      "model_module_version": "2.0.0",
      "model_name": "LayoutModel",
      "state": {
       "display": "flex",
       "flex_flow": "row",
       "justify_content": "flex-start",
       "width": "auto"
      }
     },
     "59d115c4d7b848f2b742f4c7a58f1fe4": {
      "model_module": "@jupyter-widgets/output",
      "model_module_version": "1.0.0",
      "model_name": "OutputModel",
      "state": {
       "layout": "IPY_MODEL_4ef86be3434e4b78a8091f0afcc4b066",
       "outputs": [
        {
         "data": {
          "text/html": "<b>Training set performance</b>",
          "text/plain": "<IPython.core.display.HTML object>"
         },
         "metadata": {},
         "output_type": "display_data"
        },
        {
         "data": {
          "text/html": "<div>\n<style scoped>\n    .dataframe tbody tr th:only-of-type {\n        vertical-align: middle;\n    }\n\n    .dataframe tbody tr th {\n        vertical-align: top;\n    }\n\n    .dataframe thead th {\n        text-align: right;\n    }\n</style>\n<table border=\"1\" class=\"dataframe\">\n  <thead>\n    <tr style=\"text-align: right;\">\n      <th></th>\n      <th>precision</th>\n      <th>recall</th>\n      <th>f1-score</th>\n      <th>support</th>\n    </tr>\n  </thead>\n  <tbody>\n    <tr>\n      <th>0</th>\n      <td>0.99</td>\n      <td>0.92</td>\n      <td>0.95</td>\n      <td>335.00</td>\n    </tr>\n    <tr>\n      <th>1</th>\n      <td>0.92</td>\n      <td>0.99</td>\n      <td>0.96</td>\n      <td>335.00</td>\n    </tr>\n    <tr>\n      <th>accuracy</th>\n      <td>0.95</td>\n      <td>0.95</td>\n      <td>0.95</td>\n      <td>0.95</td>\n    </tr>\n    <tr>\n      <th>macro avg</th>\n      <td>0.96</td>\n      <td>0.95</td>\n      <td>0.95</td>\n      <td>670.00</td>\n    </tr>\n    <tr>\n      <th>weighted avg</th>\n      <td>0.96</td>\n      <td>0.95</td>\n      <td>0.95</td>\n      <td>670.00</td>\n    </tr>\n  </tbody>\n</table>\n</div>",
          "text/plain": "             precision recall f1-score support\n0                 0.99   0.92     0.95  335.00\n1                 0.92   0.99     0.96  335.00\naccuracy          0.95   0.95     0.95    0.95\nmacro avg         0.96   0.95     0.95  670.00\nweighted avg      0.96   0.95     0.95  670.00"
         },
         "metadata": {},
         "output_type": "display_data"
        }
       ]
      }
     },
     "5fb417980af340dc8bdef205d08152c2": {
      "model_module": "@jupyter-widgets/output",
      "model_module_version": "1.0.0",
      "model_name": "OutputModel",
      "state": {
       "layout": "IPY_MODEL_8f9f4585d5154cbe863e82fdade1ecc6",
       "outputs": [
        {
         "data": {
          "text/html": "<b>Training set performance</b>",
          "text/plain": "<IPython.core.display.HTML object>"
         },
         "metadata": {},
         "output_type": "display_data"
        },
        {
         "data": {
          "text/html": "<div>\n<style scoped>\n    .dataframe tbody tr th:only-of-type {\n        vertical-align: middle;\n    }\n\n    .dataframe tbody tr th {\n        vertical-align: top;\n    }\n\n    .dataframe thead th {\n        text-align: right;\n    }\n</style>\n<table border=\"1\" class=\"dataframe\">\n  <thead>\n    <tr style=\"text-align: right;\">\n      <th></th>\n      <th>precision</th>\n      <th>recall</th>\n      <th>f1-score</th>\n      <th>support</th>\n    </tr>\n  </thead>\n  <tbody>\n    <tr>\n      <th>0</th>\n      <td>1.00</td>\n      <td>1.00</td>\n      <td>1.00</td>\n      <td>335.00</td>\n    </tr>\n    <tr>\n      <th>1</th>\n      <td>1.00</td>\n      <td>1.00</td>\n      <td>1.00</td>\n      <td>335.00</td>\n    </tr>\n    <tr>\n      <th>accuracy</th>\n      <td>1.00</td>\n      <td>1.00</td>\n      <td>1.00</td>\n      <td>1.00</td>\n    </tr>\n    <tr>\n      <th>macro avg</th>\n      <td>1.00</td>\n      <td>1.00</td>\n      <td>1.00</td>\n      <td>670.00</td>\n    </tr>\n    <tr>\n      <th>weighted avg</th>\n      <td>1.00</td>\n      <td>1.00</td>\n      <td>1.00</td>\n      <td>670.00</td>\n    </tr>\n  </tbody>\n</table>\n</div>",
          "text/plain": "             precision recall f1-score support\n0                 1.00   1.00     1.00  335.00\n1                 1.00   1.00     1.00  335.00\naccuracy          1.00   1.00     1.00    1.00\nmacro avg         1.00   1.00     1.00  670.00\nweighted avg      1.00   1.00     1.00  670.00"
         },
         "metadata": {},
         "output_type": "display_data"
        }
       ]
      }
     },
     "641727c85d5e47eea2180fef9f1e8e42": {
      "model_module": "@jupyter-widgets/base",
      "model_module_version": "2.0.0",
      "model_name": "LayoutModel",
      "state": {}
     },
     "648f2bfcc33d479b985a148b825ea3fd": {
      "model_module": "@jupyter-widgets/base",
      "model_module_version": "2.0.0",
      "model_name": "LayoutModel",
      "state": {}
     },
     "64af73a5993f46a1892c464cd0c53cc2": {
      "model_module": "@jupyter-widgets/controls",
      "model_module_version": "2.0.0",
      "model_name": "HBoxModel",
      "state": {
       "children": [
        "IPY_MODEL_9345bc59357f435d9e4b0b6f16183f29",
        "IPY_MODEL_8b433f3b19e84492835b499eb518dd35"
       ],
       "layout": "IPY_MODEL_9fb1896d2ebf4d358e84e1e197c5f220"
      }
     },
     "66abce4c49d347c4983b88898ff2a9d1": {
      "model_module": "@jupyter-widgets/output",
      "model_module_version": "1.0.0",
      "model_name": "OutputModel",
      "state": {
       "layout": "IPY_MODEL_a9b855cf527844a8b36fe975060441ab",
       "outputs": [
        {
         "data": {
          "text/html": "<b>Training set performance</b>",
          "text/plain": "<IPython.core.display.HTML object>"
         },
         "metadata": {},
         "output_type": "display_data"
        },
        {
         "data": {
          "text/html": "<div>\n<style scoped>\n    .dataframe tbody tr th:only-of-type {\n        vertical-align: middle;\n    }\n\n    .dataframe tbody tr th {\n        vertical-align: top;\n    }\n\n    .dataframe thead th {\n        text-align: right;\n    }\n</style>\n<table border=\"1\" class=\"dataframe\">\n  <thead>\n    <tr style=\"text-align: right;\">\n      <th></th>\n      <th>precision</th>\n      <th>recall</th>\n      <th>f1-score</th>\n      <th>support</th>\n    </tr>\n  </thead>\n  <tbody>\n    <tr>\n      <th>0</th>\n      <td>1.00</td>\n      <td>1.00</td>\n      <td>1.00</td>\n      <td>335.00</td>\n    </tr>\n    <tr>\n      <th>1</th>\n      <td>1.00</td>\n      <td>1.00</td>\n      <td>1.00</td>\n      <td>335.00</td>\n    </tr>\n    <tr>\n      <th>accuracy</th>\n      <td>1.00</td>\n      <td>1.00</td>\n      <td>1.00</td>\n      <td>1.00</td>\n    </tr>\n    <tr>\n      <th>macro avg</th>\n      <td>1.00</td>\n      <td>1.00</td>\n      <td>1.00</td>\n      <td>670.00</td>\n    </tr>\n    <tr>\n      <th>weighted avg</th>\n      <td>1.00</td>\n      <td>1.00</td>\n      <td>1.00</td>\n      <td>670.00</td>\n    </tr>\n  </tbody>\n</table>\n</div>",
          "text/plain": "             precision recall f1-score support\n0                 1.00   1.00     1.00  335.00\n1                 1.00   1.00     1.00  335.00\naccuracy          1.00   1.00     1.00    1.00\nmacro avg         1.00   1.00     1.00  670.00\nweighted avg      1.00   1.00     1.00  670.00"
         },
         "metadata": {},
         "output_type": "display_data"
        }
       ]
      }
     },
     "66f0cf7ffa4342cf9cb18dc5b6633751": {
      "model_module": "@jupyter-widgets/base",
      "model_module_version": "2.0.0",
      "model_name": "LayoutModel",
      "state": {
       "display": "flex",
       "flex_flow": "row",
       "justify_content": "flex-start",
       "width": "auto"
      }
     },
     "68a7150708b34416bc43b2b2363a42fb": {
      "model_module": "@jupyter-widgets/base",
      "model_module_version": "2.0.0",
      "model_name": "LayoutModel",
      "state": {}
     },
     "69204a21871b48f9b85882240c286023": {
      "model_module": "@jupyter-widgets/controls",
      "model_module_version": "2.0.0",
      "model_name": "HTMLStyleModel",
      "state": {
       "description_width": "",
       "font_size": null,
       "text_color": null
      }
     },
     "6a3e405a261a489fad9de477e4524ca1": {
      "model_module": "@jupyter-widgets/base",
      "model_module_version": "2.0.0",
      "model_name": "LayoutModel",
      "state": {}
     },
     "6c35182be36447e1952e84ac3f9b66a0": {
      "model_module": "@jupyter-widgets/controls",
      "model_module_version": "2.0.0",
      "model_name": "HTMLStyleModel",
      "state": {
       "description_width": "",
       "font_size": null,
       "text_color": null
      }
     },
     "6d6124ef6b0e434c80fc198e5d0efa7c": {
      "model_module": "@jupyter-widgets/output",
      "model_module_version": "1.0.0",
      "model_name": "OutputModel",
      "state": {
       "layout": "IPY_MODEL_957aa02b72b0448fae72d48c8767c1af",
       "outputs": [
        {
         "data": {
          "text/html": "<b>Test set performance</b>",
          "text/plain": "<IPython.core.display.HTML object>"
         },
         "metadata": {},
         "output_type": "display_data"
        },
        {
         "data": {
          "text/html": "<div>\n<style scoped>\n    .dataframe tbody tr th:only-of-type {\n        vertical-align: middle;\n    }\n\n    .dataframe tbody tr th {\n        vertical-align: top;\n    }\n\n    .dataframe thead th {\n        text-align: right;\n    }\n</style>\n<table border=\"1\" class=\"dataframe\">\n  <thead>\n    <tr style=\"text-align: right;\">\n      <th></th>\n      <th>precision</th>\n      <th>recall</th>\n      <th>f1-score</th>\n      <th>support</th>\n    </tr>\n  </thead>\n  <tbody>\n    <tr>\n      <th>0</th>\n      <td>0.78</td>\n      <td>0.84</td>\n      <td>0.80</td>\n      <td>165.00</td>\n    </tr>\n    <tr>\n      <th>1</th>\n      <td>0.64</td>\n      <td>0.55</td>\n      <td>0.59</td>\n      <td>89.00</td>\n    </tr>\n    <tr>\n      <th>accuracy</th>\n      <td>0.74</td>\n      <td>0.74</td>\n      <td>0.74</td>\n      <td>0.74</td>\n    </tr>\n    <tr>\n      <th>macro avg</th>\n      <td>0.71</td>\n      <td>0.69</td>\n      <td>0.70</td>\n      <td>254.00</td>\n    </tr>\n    <tr>\n      <th>weighted avg</th>\n      <td>0.73</td>\n      <td>0.74</td>\n      <td>0.73</td>\n      <td>254.00</td>\n    </tr>\n  </tbody>\n</table>\n</div>",
          "text/plain": "             precision recall f1-score support\n0                 0.78   0.84     0.80  165.00\n1                 0.64   0.55     0.59   89.00\naccuracy          0.74   0.74     0.74    0.74\nmacro avg         0.71   0.69     0.70  254.00\nweighted avg      0.73   0.74     0.73  254.00"
         },
         "metadata": {},
         "output_type": "display_data"
        }
       ]
      }
     },
     "6f41bf6fc9dd4a9da64add5ece8dc71f": {
      "model_module": "@jupyter-widgets/output",
      "model_module_version": "1.0.0",
      "model_name": "OutputModel",
      "state": {
       "layout": "IPY_MODEL_3ad4ea63edf74889b039b9e2bfa4b799",
       "outputs": [
        {
         "data": {
          "text/html": "<b>Training set performance</b>",
          "text/plain": "<IPython.core.display.HTML object>"
         },
         "metadata": {},
         "output_type": "display_data"
        },
        {
         "data": {
          "text/html": "<div>\n<style scoped>\n    .dataframe tbody tr th:only-of-type {\n        vertical-align: middle;\n    }\n\n    .dataframe tbody tr th {\n        vertical-align: top;\n    }\n\n    .dataframe thead th {\n        text-align: right;\n    }\n</style>\n<table border=\"1\" class=\"dataframe\">\n  <thead>\n    <tr style=\"text-align: right;\">\n      <th></th>\n      <th>precision</th>\n      <th>recall</th>\n      <th>f1-score</th>\n      <th>support</th>\n    </tr>\n  </thead>\n  <tbody>\n    <tr>\n      <th>0</th>\n      <td>1.00</td>\n      <td>0.93</td>\n      <td>0.97</td>\n      <td>335.00</td>\n    </tr>\n    <tr>\n      <th>1</th>\n      <td>0.94</td>\n      <td>1.00</td>\n      <td>0.97</td>\n      <td>335.00</td>\n    </tr>\n    <tr>\n      <th>accuracy</th>\n      <td>0.97</td>\n      <td>0.97</td>\n      <td>0.97</td>\n      <td>0.97</td>\n    </tr>\n    <tr>\n      <th>macro avg</th>\n      <td>0.97</td>\n      <td>0.97</td>\n      <td>0.97</td>\n      <td>670.00</td>\n    </tr>\n    <tr>\n      <th>weighted avg</th>\n      <td>0.97</td>\n      <td>0.97</td>\n      <td>0.97</td>\n      <td>670.00</td>\n    </tr>\n  </tbody>\n</table>\n</div>",
          "text/plain": "             precision recall f1-score support\n0                 1.00   0.93     0.97  335.00\n1                 0.94   1.00     0.97  335.00\naccuracy          0.97   0.97     0.97    0.97\nmacro avg         0.97   0.97     0.97  670.00\nweighted avg      0.97   0.97     0.97  670.00"
         },
         "metadata": {},
         "output_type": "display_data"
        }
       ]
      }
     },
     "7147fd691e76405eb2bc0470fd10a7c9": {
      "model_module": "@jupyter-widgets/controls",
      "model_module_version": "2.0.0",
      "model_name": "HBoxModel",
      "state": {
       "children": [
        "IPY_MODEL_0c59e260bf1a4ec78edd92f3e59c63df",
        "IPY_MODEL_48e8afcf42fc4f52987331372a41b04f"
       ],
       "layout": "IPY_MODEL_66f0cf7ffa4342cf9cb18dc5b6633751"
      }
     },
     "72b5803f934f414e86e2235a9b9172ff": {
      "model_module": "@jupyter-widgets/base",
      "model_module_version": "2.0.0",
      "model_name": "LayoutModel",
      "state": {}
     },
     "72db47c7865546acbec3ed4b2ab03006": {
      "model_module": "@jupyter-widgets/output",
      "model_module_version": "1.0.0",
      "model_name": "OutputModel",
      "state": {
       "layout": "IPY_MODEL_d4d6524fbd164da2a8dcdef2e4b0de46",
       "outputs": [
        {
         "data": {
          "text/html": "<b>(Log Loss, ROC Curve, Precission-Recall)</b>",
          "text/plain": "<IPython.core.display.HTML object>"
         },
         "metadata": {},
         "output_type": "display_data"
        },
        {
         "data": {
          "text/html": "<div>\n<style scoped>\n    .dataframe tbody tr th:only-of-type {\n        vertical-align: middle;\n    }\n\n    .dataframe tbody tr th {\n        vertical-align: top;\n    }\n\n    .dataframe thead th {\n        text-align: right;\n    }\n</style>\n<table border=\"1\" class=\"dataframe\">\n  <thead>\n    <tr style=\"text-align: right;\">\n      <th></th>\n      <th>Test Score</th>\n    </tr>\n  </thead>\n  <tbody>\n    <tr>\n      <th>Log Loss</th>\n      <td>0.7832</td>\n    </tr>\n    <tr>\n      <th>ROC AUC</th>\n      <td>0.7902</td>\n    </tr>\n    <tr>\n      <th>AUPRC</th>\n      <td>0.6241</td>\n    </tr>\n  </tbody>\n</table>\n</div>",
          "text/plain": "          Test Score\nLog Loss      0.7832\nROC AUC       0.7902\nAUPRC         0.6241"
         },
         "metadata": {},
         "output_type": "display_data"
        }
       ]
      }
     },
     "75b33b09ac4a4cb6afedf25d676d3d89": {
      "model_module": "@jupyter-widgets/base",
      "model_module_version": "2.0.0",
      "model_name": "LayoutModel",
      "state": {}
     },
     "76a766bce00a4f3095079098e3371017": {
      "model_module": "@jupyter-widgets/base",
      "model_module_version": "2.0.0",
      "model_name": "LayoutModel",
      "state": {
       "display": "flex",
       "flex_flow": "row",
       "justify_content": "flex-start",
       "width": "auto"
      }
     },
     "797afed61ae3440e9a05aff030c8bd19": {
      "model_module": "@jupyter-widgets/controls",
      "model_module_version": "2.0.0",
      "model_name": "HTMLStyleModel",
      "state": {
       "description_width": "",
       "font_size": null,
       "text_color": null
      }
     },
     "79ec177fd993487294e17e9773ccec3a": {
      "model_module": "@jupyter-widgets/controls",
      "model_module_version": "2.0.0",
      "model_name": "HBoxModel",
      "state": {
       "children": [
        "IPY_MODEL_e59299e2db04494caa1f532f311ac35b",
        "IPY_MODEL_c9cbe8dd49124ccb9068063c2ef0f142"
       ],
       "layout": "IPY_MODEL_926f5aa977fc4fc8a6e7e8d5cf53e53c"
      }
     },
     "7bb56cbbbf0446049f8fb557d251b5e8": {
      "model_module": "@jupyter-widgets/base",
      "model_module_version": "2.0.0",
      "model_name": "LayoutModel",
      "state": {
       "display": "flex",
       "flex_flow": "row",
       "justify_content": "flex-start",
       "width": "auto"
      }
     },
     "7fa4c5b1cfea45b3b210215d1802fee4": {
      "model_module": "@jupyter-widgets/base",
      "model_module_version": "2.0.0",
      "model_name": "LayoutModel",
      "state": {
       "display": "flex",
       "flex_flow": "row",
       "justify_content": "flex-start",
       "width": "auto"
      }
     },
     "81d320e4c89e4a56918aa1052f79f699": {
      "model_module": "@jupyter-widgets/base",
      "model_module_version": "2.0.0",
      "model_name": "LayoutModel",
      "state": {}
     },
     "880cb6ea5bf64af09e7810d1eacf0885": {
      "model_module": "@jupyter-widgets/output",
      "model_module_version": "1.0.0",
      "model_name": "OutputModel",
      "state": {
       "layout": "IPY_MODEL_080be6abfe514116971ff1e6a59ffdda",
       "outputs": [
        {
         "data": {
          "text/html": "<b>Test set performance</b>",
          "text/plain": "<IPython.core.display.HTML object>"
         },
         "metadata": {},
         "output_type": "display_data"
        },
        {
         "data": {
          "text/html": "<div>\n<style scoped>\n    .dataframe tbody tr th:only-of-type {\n        vertical-align: middle;\n    }\n\n    .dataframe tbody tr th {\n        vertical-align: top;\n    }\n\n    .dataframe thead th {\n        text-align: right;\n    }\n</style>\n<table border=\"1\" class=\"dataframe\">\n  <thead>\n    <tr style=\"text-align: right;\">\n      <th></th>\n      <th>precision</th>\n      <th>recall</th>\n      <th>f1-score</th>\n      <th>support</th>\n    </tr>\n  </thead>\n  <tbody>\n    <tr>\n      <th>0</th>\n      <td>0.75</td>\n      <td>0.87</td>\n      <td>0.81</td>\n      <td>165.00</td>\n    </tr>\n    <tr>\n      <th>1</th>\n      <td>0.66</td>\n      <td>0.47</td>\n      <td>0.55</td>\n      <td>89.00</td>\n    </tr>\n    <tr>\n      <th>accuracy</th>\n      <td>0.73</td>\n      <td>0.73</td>\n      <td>0.73</td>\n      <td>0.73</td>\n    </tr>\n    <tr>\n      <th>macro avg</th>\n      <td>0.70</td>\n      <td>0.67</td>\n      <td>0.68</td>\n      <td>254.00</td>\n    </tr>\n    <tr>\n      <th>weighted avg</th>\n      <td>0.72</td>\n      <td>0.73</td>\n      <td>0.72</td>\n      <td>254.00</td>\n    </tr>\n  </tbody>\n</table>\n</div>",
          "text/plain": "             precision recall f1-score support\n0                 0.75   0.87     0.81  165.00\n1                 0.66   0.47     0.55   89.00\naccuracy          0.73   0.73     0.73    0.73\nmacro avg         0.70   0.67     0.68  254.00\nweighted avg      0.72   0.73     0.72  254.00"
         },
         "metadata": {},
         "output_type": "display_data"
        }
       ]
      }
     },
     "8b433f3b19e84492835b499eb518dd35": {
      "model_module": "@jupyter-widgets/output",
      "model_module_version": "1.0.0",
      "model_name": "OutputModel",
      "state": {
       "layout": "IPY_MODEL_ebc59db038e145ba8e5d077768c13a48",
       "outputs": [
        {
         "data": {
          "text/html": "<b>(Log Loss, ROC Curve, Precission-Recall)</b>",
          "text/plain": "<IPython.core.display.HTML object>"
         },
         "metadata": {},
         "output_type": "display_data"
        },
        {
         "data": {
          "text/html": "<div>\n<style scoped>\n    .dataframe tbody tr th:only-of-type {\n        vertical-align: middle;\n    }\n\n    .dataframe tbody tr th {\n        vertical-align: top;\n    }\n\n    .dataframe thead th {\n        text-align: right;\n    }\n</style>\n<table border=\"1\" class=\"dataframe\">\n  <thead>\n    <tr style=\"text-align: right;\">\n      <th></th>\n      <th>Test Score</th>\n    </tr>\n  </thead>\n  <tbody>\n    <tr>\n      <th>Log Loss</th>\n      <td>0.5397</td>\n    </tr>\n    <tr>\n      <th>ROC AUC</th>\n      <td>0.8046</td>\n    </tr>\n    <tr>\n      <th>AUPRC</th>\n      <td>0.6478</td>\n    </tr>\n  </tbody>\n</table>\n</div>",
          "text/plain": "          Test Score\nLog Loss      0.5397\nROC AUC       0.8046\nAUPRC         0.6478"
         },
         "metadata": {},
         "output_type": "display_data"
        }
       ]
      }
     },
     "8c9b28f087f44d40bcafd4d8d4ca21db": {
      "model_module": "@jupyter-widgets/controls",
      "model_module_version": "2.0.0",
      "model_name": "HBoxModel",
      "state": {
       "children": [
        "IPY_MODEL_0408f4d401df42a2b9935bc1ac5cc0f0",
        "IPY_MODEL_c2ffc91a3e7e4d3c8ac6fbc860882b9a"
       ],
       "layout": "IPY_MODEL_4806b845185f4fe39c79b63b3fdbbcf9"
      }
     },
     "8da80140b7df43379c64d980fd05e6f0": {
      "model_module": "@jupyter-widgets/controls",
      "model_module_version": "2.0.0",
      "model_name": "ProgressStyleModel",
      "state": {
       "description_width": ""
      }
     },
     "8f9f4585d5154cbe863e82fdade1ecc6": {
      "model_module": "@jupyter-widgets/base",
      "model_module_version": "2.0.0",
      "model_name": "LayoutModel",
      "state": {}
     },
     "8fb9b40729344301ade872425d0f2728": {
      "model_module": "@jupyter-widgets/controls",
      "model_module_version": "2.0.0",
      "model_name": "FloatProgressModel",
      "state": {
       "bar_style": "success",
       "layout": "IPY_MODEL_6a3e405a261a489fad9de477e4524ca1",
       "style": "IPY_MODEL_513e55b33ad54f51aa89636387431d6f",
       "value": 100
      }
     },
     "91688c2028434fc8af792bde11f47ef5": {
      "model_module": "@jupyter-widgets/controls",
      "model_module_version": "2.0.0",
      "model_name": "HTMLModel",
      "state": {
       "layout": "IPY_MODEL_98e75f7bfb9e46829e9fcc80473b1e88",
       "style": "IPY_MODEL_3113ef7cfe714d90b4faae94c5131242",
       "value": "Best trial: 91. Best value: 0.420532: 100%"
      }
     },
     "926f5aa977fc4fc8a6e7e8d5cf53e53c": {
      "model_module": "@jupyter-widgets/base",
      "model_module_version": "2.0.0",
      "model_name": "LayoutModel",
      "state": {
       "display": "flex",
       "flex_flow": "row",
       "justify_content": "flex-start",
       "width": "auto"
      }
     },
     "92a043d1a0c449b892d47da781060ab9": {
      "model_module": "@jupyter-widgets/controls",
      "model_module_version": "2.0.0",
      "model_name": "HBoxModel",
      "state": {
       "children": [
        "IPY_MODEL_32408c3ae0c04caf9ba6f78adfd52296",
        "IPY_MODEL_51530fff699a4f4999ea4a9f4ae9c8e7",
        "IPY_MODEL_2046bb2a183a476897093967044af866"
       ],
       "layout": "IPY_MODEL_32bc3887448e48f99200380724345d10"
      }
     },
     "9345bc59357f435d9e4b0b6f16183f29": {
      "model_module": "@jupyter-widgets/output",
      "model_module_version": "1.0.0",
      "model_name": "OutputModel",
      "state": {
       "layout": "IPY_MODEL_4fabdfc9d4ae493d98500b7a5bd23df2",
       "outputs": [
        {
         "data": {
          "text/html": "<b>Additional metrics</b>",
          "text/plain": "<IPython.core.display.HTML object>"
         },
         "metadata": {},
         "output_type": "display_data"
        },
        {
         "data": {
          "text/html": "<div>\n<style scoped>\n    .dataframe tbody tr th:only-of-type {\n        vertical-align: middle;\n    }\n\n    .dataframe tbody tr th {\n        vertical-align: top;\n    }\n\n    .dataframe thead th {\n        text-align: right;\n    }\n</style>\n<table border=\"1\" class=\"dataframe\">\n  <thead>\n    <tr style=\"text-align: right;\">\n      <th></th>\n      <th>Train Score</th>\n    </tr>\n  </thead>\n  <tbody>\n    <tr>\n      <th>Log Loss</th>\n      <td>0.1600</td>\n    </tr>\n    <tr>\n      <th>ROC AUC</th>\n      <td>0.9980</td>\n    </tr>\n    <tr>\n      <th>AUPRC</th>\n      <td>0.9962</td>\n    </tr>\n  </tbody>\n</table>\n</div>",
          "text/plain": "          Train Score\nLog Loss       0.1600\nROC AUC        0.9980\nAUPRC          0.9962"
         },
         "metadata": {},
         "output_type": "display_data"
        }
       ]
      }
     },
     "93645de2ddb74610acb724668a9e28a6": {
      "model_module": "@jupyter-widgets/base",
      "model_module_version": "2.0.0",
      "model_name": "LayoutModel",
      "state": {
       "display": "flex",
       "flex_flow": "row",
       "justify_content": "flex-start",
       "width": "auto"
      }
     },
     "943bc698edc14ea7b2ffb076073cd5dc": {
      "model_module": "@jupyter-widgets/base",
      "model_module_version": "2.0.0",
      "model_name": "LayoutModel",
      "state": {}
     },
     "957aa02b72b0448fae72d48c8767c1af": {
      "model_module": "@jupyter-widgets/base",
      "model_module_version": "2.0.0",
      "model_name": "LayoutModel",
      "state": {}
     },
     "961ee67b394d4808955acb8963f08874": {
      "model_module": "@jupyter-widgets/base",
      "model_module_version": "2.0.0",
      "model_name": "LayoutModel",
      "state": {}
     },
     "97fc6f2b70524dd9bb28d18699f4ba94": {
      "model_module": "@jupyter-widgets/controls",
      "model_module_version": "2.0.0",
      "model_name": "HBoxModel",
      "state": {
       "children": [
        "IPY_MODEL_59d115c4d7b848f2b742f4c7a58f1fe4",
        "IPY_MODEL_bbd829513a014d84b06dceda0d7f3616"
       ],
       "layout": "IPY_MODEL_416d341a5e8c43ba87bcdee25a5e44fb"
      }
     },
     "98e75f7bfb9e46829e9fcc80473b1e88": {
      "model_module": "@jupyter-widgets/base",
      "model_module_version": "2.0.0",
      "model_name": "LayoutModel",
      "state": {}
     },
     "9a27e64ef429473fbf19c648c8714340": {
      "model_module": "@jupyter-widgets/controls",
      "model_module_version": "2.0.0",
      "model_name": "FloatProgressModel",
      "state": {
       "bar_style": "success",
       "layout": "IPY_MODEL_c4cf0f20ea33459caf6d8688d72c6816",
       "style": "IPY_MODEL_e114a8ae508e412cb060b2d6814e84c4",
       "value": 100
      }
     },
     "9f7a9929500d49e0b65792031e3994af": {
      "model_module": "@jupyter-widgets/base",
      "model_module_version": "2.0.0",
      "model_name": "LayoutModel",
      "state": {}
     },
     "9fb1896d2ebf4d358e84e1e197c5f220": {
      "model_module": "@jupyter-widgets/base",
      "model_module_version": "2.0.0",
      "model_name": "LayoutModel",
      "state": {
       "display": "flex",
       "flex_flow": "row",
       "justify_content": "flex-start",
       "width": "auto"
      }
     },
     "a1472f8fdfe54a909f0a48d518de0e92": {
      "model_module": "@jupyter-widgets/controls",
      "model_module_version": "2.0.0",
      "model_name": "HTMLStyleModel",
      "state": {
       "description_width": "",
       "font_size": null,
       "text_color": null
      }
     },
     "a19c3cde3ef04d75a2c95f6836e14af3": {
      "model_module": "@jupyter-widgets/controls",
      "model_module_version": "2.0.0",
      "model_name": "HBoxModel",
      "state": {
       "children": [
        "IPY_MODEL_b22aeca309c24ffa856770a17fbe9815",
        "IPY_MODEL_298f58e2542d47a185684727516a7268"
       ],
       "layout": "IPY_MODEL_7bb56cbbbf0446049f8fb557d251b5e8"
      }
     },
     "a57500ebb5a8448a88b018437689a399": {
      "model_module": "@jupyter-widgets/base",
      "model_module_version": "2.0.0",
      "model_name": "LayoutModel",
      "state": {}
     },
     "a5bdadd9b580445f9148b1c728966db9": {
      "model_module": "@jupyter-widgets/controls",
      "model_module_version": "2.0.0",
      "model_name": "HBoxModel",
      "state": {
       "children": [
        "IPY_MODEL_0cea794b8143492daf0d54bff0cdd1ca",
        "IPY_MODEL_8fb9b40729344301ade872425d0f2728",
        "IPY_MODEL_2533526f0b604a3285296ff49b746a3a"
       ],
       "layout": "IPY_MODEL_07a72ed373704546b73478c424ffa2be"
      }
     },
     "a633d06b64d842358d6d98814d4662fe": {
      "model_module": "@jupyter-widgets/base",
      "model_module_version": "2.0.0",
      "model_name": "LayoutModel",
      "state": {}
     },
     "a8d539a9ed4549ba93f172a93caeea66": {
      "model_module": "@jupyter-widgets/output",
      "model_module_version": "1.0.0",
      "model_name": "OutputModel",
      "state": {
       "layout": "IPY_MODEL_68a7150708b34416bc43b2b2363a42fb",
       "outputs": [
        {
         "data": {
          "text/html": "<b>Additional metrics</b>",
          "text/plain": "<IPython.core.display.HTML object>"
         },
         "metadata": {},
         "output_type": "display_data"
        },
        {
         "data": {
          "text/html": "<div>\n<style scoped>\n    .dataframe tbody tr th:only-of-type {\n        vertical-align: middle;\n    }\n\n    .dataframe tbody tr th {\n        vertical-align: top;\n    }\n\n    .dataframe thead th {\n        text-align: right;\n    }\n</style>\n<table border=\"1\" class=\"dataframe\">\n  <thead>\n    <tr style=\"text-align: right;\">\n      <th></th>\n      <th>Train Score</th>\n    </tr>\n  </thead>\n  <tbody>\n    <tr>\n      <th>Log Loss</th>\n      <td>0.0222</td>\n    </tr>\n    <tr>\n      <th>ROC AUC</th>\n      <td>1.0000</td>\n    </tr>\n    <tr>\n      <th>AUPRC</th>\n      <td>0.9967</td>\n    </tr>\n  </tbody>\n</table>\n</div>",
          "text/plain": "          Train Score\nLog Loss       0.0222\nROC AUC        1.0000\nAUPRC          0.9967"
         },
         "metadata": {},
         "output_type": "display_data"
        }
       ]
      }
     },
     "a9b855cf527844a8b36fe975060441ab": {
      "model_module": "@jupyter-widgets/base",
      "model_module_version": "2.0.0",
      "model_name": "LayoutModel",
      "state": {}
     },
     "aa1a5585daaa47c1bd4136327f160fc5": {
      "model_module": "@jupyter-widgets/output",
      "model_module_version": "1.0.0",
      "model_name": "OutputModel",
      "state": {
       "layout": "IPY_MODEL_bc838761771f4a3596ef2830dddf83be",
       "outputs": [
        {
         "data": {
          "text/html": "<b>Test set performance</b>",
          "text/plain": "<IPython.core.display.HTML object>"
         },
         "metadata": {},
         "output_type": "display_data"
        },
        {
         "data": {
          "text/html": "<div>\n<style scoped>\n    .dataframe tbody tr th:only-of-type {\n        vertical-align: middle;\n    }\n\n    .dataframe tbody tr th {\n        vertical-align: top;\n    }\n\n    .dataframe thead th {\n        text-align: right;\n    }\n</style>\n<table border=\"1\" class=\"dataframe\">\n  <thead>\n    <tr style=\"text-align: right;\">\n      <th></th>\n      <th>precision</th>\n      <th>recall</th>\n      <th>f1-score</th>\n      <th>support</th>\n    </tr>\n  </thead>\n  <tbody>\n    <tr>\n      <th>0</th>\n      <td>0.75</td>\n      <td>0.87</td>\n      <td>0.80</td>\n      <td>165.00</td>\n    </tr>\n    <tr>\n      <th>1</th>\n      <td>0.65</td>\n      <td>0.46</td>\n      <td>0.54</td>\n      <td>89.00</td>\n    </tr>\n    <tr>\n      <th>accuracy</th>\n      <td>0.72</td>\n      <td>0.72</td>\n      <td>0.72</td>\n      <td>0.72</td>\n    </tr>\n    <tr>\n      <th>macro avg</th>\n      <td>0.70</td>\n      <td>0.66</td>\n      <td>0.67</td>\n      <td>254.00</td>\n    </tr>\n    <tr>\n      <th>weighted avg</th>\n      <td>0.71</td>\n      <td>0.72</td>\n      <td>0.71</td>\n      <td>254.00</td>\n    </tr>\n  </tbody>\n</table>\n</div>",
          "text/plain": "             precision recall f1-score support\n0                 0.75   0.87     0.80  165.00\n1                 0.65   0.46     0.54   89.00\naccuracy          0.72   0.72     0.72    0.72\nmacro avg         0.70   0.66     0.67  254.00\nweighted avg      0.71   0.72     0.71  254.00"
         },
         "metadata": {},
         "output_type": "display_data"
        }
       ]
      }
     },
     "aa96b7b6b4e445f6ac152981bcd4b9dc": {
      "model_module": "@jupyter-widgets/output",
      "model_module_version": "1.0.0",
      "model_name": "OutputModel",
      "state": {
       "layout": "IPY_MODEL_341eb9646826423aa605e9fe8bb8a9f6",
       "outputs": [
        {
         "data": {
          "text/html": "<b>(Log Loss, ROC Curve, Precission-Recall)</b>",
          "text/plain": "<IPython.core.display.HTML object>"
         },
         "metadata": {},
         "output_type": "display_data"
        },
        {
         "data": {
          "text/html": "<div>\n<style scoped>\n    .dataframe tbody tr th:only-of-type {\n        vertical-align: middle;\n    }\n\n    .dataframe tbody tr th {\n        vertical-align: top;\n    }\n\n    .dataframe thead th {\n        text-align: right;\n    }\n</style>\n<table border=\"1\" class=\"dataframe\">\n  <thead>\n    <tr style=\"text-align: right;\">\n      <th></th>\n      <th>Test Score</th>\n    </tr>\n  </thead>\n  <tbody>\n    <tr>\n      <th>Log Loss</th>\n      <td>0.5123</td>\n    </tr>\n    <tr>\n      <th>ROC AUC</th>\n      <td>0.8286</td>\n    </tr>\n    <tr>\n      <th>AUPRC</th>\n      <td>0.6757</td>\n    </tr>\n  </tbody>\n</table>\n</div>",
          "text/plain": "          Test Score\nLog Loss      0.5123\nROC AUC       0.8286\nAUPRC         0.6757"
         },
         "metadata": {},
         "output_type": "display_data"
        }
       ]
      }
     },
     "ac3f6a53185a49e6ab933f2a438c69bf": {
      "model_module": "@jupyter-widgets/base",
      "model_module_version": "2.0.0",
      "model_name": "LayoutModel",
      "state": {
       "display": "flex",
       "flex_flow": "row",
       "justify_content": "flex-start",
       "width": "auto"
      }
     },
     "b1b6d9fbfe6f49ee8262096ff5ca28ff": {
      "model_module": "@jupyter-widgets/base",
      "model_module_version": "2.0.0",
      "model_name": "LayoutModel",
      "state": {}
     },
     "b22aeca309c24ffa856770a17fbe9815": {
      "model_module": "@jupyter-widgets/output",
      "model_module_version": "1.0.0",
      "model_name": "OutputModel",
      "state": {
       "layout": "IPY_MODEL_e2c8007fe22146a29f2b8b7f642c6f1a",
       "outputs": [
        {
         "data": {
          "text/html": "<b>Additional metrics</b>",
          "text/plain": "<IPython.core.display.HTML object>"
         },
         "metadata": {},
         "output_type": "display_data"
        },
        {
         "data": {
          "text/html": "<div>\n<style scoped>\n    .dataframe tbody tr th:only-of-type {\n        vertical-align: middle;\n    }\n\n    .dataframe tbody tr th {\n        vertical-align: top;\n    }\n\n    .dataframe thead th {\n        text-align: right;\n    }\n</style>\n<table border=\"1\" class=\"dataframe\">\n  <thead>\n    <tr style=\"text-align: right;\">\n      <th></th>\n      <th>Train Score</th>\n    </tr>\n  </thead>\n  <tbody>\n    <tr>\n      <th>Log Loss</th>\n      <td>0.1045</td>\n    </tr>\n    <tr>\n      <th>ROC AUC</th>\n      <td>1.0000</td>\n    </tr>\n    <tr>\n      <th>AUPRC</th>\n      <td>0.9975</td>\n    </tr>\n  </tbody>\n</table>\n</div>",
          "text/plain": "          Train Score\nLog Loss       0.1045\nROC AUC        1.0000\nAUPRC          0.9975"
         },
         "metadata": {},
         "output_type": "display_data"
        }
       ]
      }
     },
     "b5ad96ac8cbd4f2bba7a31870919ccc1": {
      "model_module": "@jupyter-widgets/base",
      "model_module_version": "2.0.0",
      "model_name": "LayoutModel",
      "state": {}
     },
     "b810dbd5f1c74b28a9ac1827939f33bc": {
      "model_module": "@jupyter-widgets/base",
      "model_module_version": "2.0.0",
      "model_name": "LayoutModel",
      "state": {
       "display": "flex",
       "flex_flow": "row",
       "justify_content": "flex-start",
       "width": "auto"
      }
     },
     "b8cb179cbc39460f85c55648af898a46": {
      "model_module": "@jupyter-widgets/output",
      "model_module_version": "1.0.0",
      "model_name": "OutputModel",
      "state": {
       "layout": "IPY_MODEL_31b90e5ede5345b88cdf96f67f7e00b2",
       "outputs": [
        {
         "data": {
          "text/html": "<b>Test set performance</b>",
          "text/plain": "<IPython.core.display.HTML object>"
         },
         "metadata": {},
         "output_type": "display_data"
        },
        {
         "data": {
          "text/html": "<div>\n<style scoped>\n    .dataframe tbody tr th:only-of-type {\n        vertical-align: middle;\n    }\n\n    .dataframe tbody tr th {\n        vertical-align: top;\n    }\n\n    .dataframe thead th {\n        text-align: right;\n    }\n</style>\n<table border=\"1\" class=\"dataframe\">\n  <thead>\n    <tr style=\"text-align: right;\">\n      <th></th>\n      <th>precision</th>\n      <th>recall</th>\n      <th>f1-score</th>\n      <th>support</th>\n    </tr>\n  </thead>\n  <tbody>\n    <tr>\n      <th>0</th>\n      <td>0.75</td>\n      <td>0.85</td>\n      <td>0.80</td>\n      <td>165.00</td>\n    </tr>\n    <tr>\n      <th>1</th>\n      <td>0.64</td>\n      <td>0.48</td>\n      <td>0.55</td>\n      <td>89.00</td>\n    </tr>\n    <tr>\n      <th>accuracy</th>\n      <td>0.72</td>\n      <td>0.72</td>\n      <td>0.72</td>\n      <td>0.72</td>\n    </tr>\n    <tr>\n      <th>macro avg</th>\n      <td>0.70</td>\n      <td>0.67</td>\n      <td>0.68</td>\n      <td>254.00</td>\n    </tr>\n    <tr>\n      <th>weighted avg</th>\n      <td>0.71</td>\n      <td>0.72</td>\n      <td>0.71</td>\n      <td>254.00</td>\n    </tr>\n  </tbody>\n</table>\n</div>",
          "text/plain": "             precision recall f1-score support\n0                 0.75   0.85     0.80  165.00\n1                 0.64   0.48     0.55   89.00\naccuracy          0.72   0.72     0.72    0.72\nmacro avg         0.70   0.67     0.68  254.00\nweighted avg      0.71   0.72     0.71  254.00"
         },
         "metadata": {},
         "output_type": "display_data"
        }
       ]
      }
     },
     "b9c2c218b0eb49c3a444612c3c588cfd": {
      "model_module": "@jupyter-widgets/base",
      "model_module_version": "2.0.0",
      "model_name": "LayoutModel",
      "state": {}
     },
     "ba1e0e2d550b421a84e0c9412fb472e6": {
      "model_module": "@jupyter-widgets/base",
      "model_module_version": "2.0.0",
      "model_name": "LayoutModel",
      "state": {
       "display": "flex",
       "flex_flow": "row",
       "justify_content": "flex-start",
       "width": "auto"
      }
     },
     "ba4fe1e4039946a5bf1c95f7f2b2d9eb": {
      "model_module": "@jupyter-widgets/base",
      "model_module_version": "2.0.0",
      "model_name": "LayoutModel",
      "state": {}
     },
     "bbd829513a014d84b06dceda0d7f3616": {
      "model_module": "@jupyter-widgets/output",
      "model_module_version": "1.0.0",
      "model_name": "OutputModel",
      "state": {
       "layout": "IPY_MODEL_2fbfc64b5fbf44f59527de697f00a3c9",
       "outputs": [
        {
         "data": {
          "text/html": "<b>Test set performance</b>",
          "text/plain": "<IPython.core.display.HTML object>"
         },
         "metadata": {},
         "output_type": "display_data"
        },
        {
         "data": {
          "text/html": "<div>\n<style scoped>\n    .dataframe tbody tr th:only-of-type {\n        vertical-align: middle;\n    }\n\n    .dataframe tbody tr th {\n        vertical-align: top;\n    }\n\n    .dataframe thead th {\n        text-align: right;\n    }\n</style>\n<table border=\"1\" class=\"dataframe\">\n  <thead>\n    <tr style=\"text-align: right;\">\n      <th></th>\n      <th>precision</th>\n      <th>recall</th>\n      <th>f1-score</th>\n      <th>support</th>\n    </tr>\n  </thead>\n  <tbody>\n    <tr>\n      <th>0</th>\n      <td>0.83</td>\n      <td>0.81</td>\n      <td>0.82</td>\n      <td>165.00</td>\n    </tr>\n    <tr>\n      <th>1</th>\n      <td>0.66</td>\n      <td>0.70</td>\n      <td>0.68</td>\n      <td>89.00</td>\n    </tr>\n    <tr>\n      <th>accuracy</th>\n      <td>0.77</td>\n      <td>0.77</td>\n      <td>0.77</td>\n      <td>0.77</td>\n    </tr>\n    <tr>\n      <th>macro avg</th>\n      <td>0.75</td>\n      <td>0.75</td>\n      <td>0.75</td>\n      <td>254.00</td>\n    </tr>\n    <tr>\n      <th>weighted avg</th>\n      <td>0.77</td>\n      <td>0.77</td>\n      <td>0.77</td>\n      <td>254.00</td>\n    </tr>\n  </tbody>\n</table>\n</div>",
          "text/plain": "             precision recall f1-score support\n0                 0.83   0.81     0.82  165.00\n1                 0.66   0.70     0.68   89.00\naccuracy          0.77   0.77     0.77    0.77\nmacro avg         0.75   0.75     0.75  254.00\nweighted avg      0.77   0.77     0.77  254.00"
         },
         "metadata": {},
         "output_type": "display_data"
        }
       ]
      }
     },
     "bc2358cacfbf4799a7bed82bbe244e5a": {
      "model_module": "@jupyter-widgets/output",
      "model_module_version": "1.0.0",
      "model_name": "OutputModel",
      "state": {
       "layout": "IPY_MODEL_0fbe7803394340d2ad746da324509642",
       "outputs": [
        {
         "data": {
          "text/html": "<b>Additional metrics</b>",
          "text/plain": "<IPython.core.display.HTML object>"
         },
         "metadata": {},
         "output_type": "display_data"
        },
        {
         "data": {
          "text/html": "<div>\n<style scoped>\n    .dataframe tbody tr th:only-of-type {\n        vertical-align: middle;\n    }\n\n    .dataframe tbody tr th {\n        vertical-align: top;\n    }\n\n    .dataframe thead th {\n        text-align: right;\n    }\n</style>\n<table border=\"1\" class=\"dataframe\">\n  <thead>\n    <tr style=\"text-align: right;\">\n      <th></th>\n      <th>Train Score</th>\n    </tr>\n  </thead>\n  <tbody>\n    <tr>\n      <th>Log Loss</th>\n      <td>0.0240</td>\n    </tr>\n    <tr>\n      <th>ROC AUC</th>\n      <td>1.0000</td>\n    </tr>\n    <tr>\n      <th>AUPRC</th>\n      <td>0.9975</td>\n    </tr>\n  </tbody>\n</table>\n</div>",
          "text/plain": "          Train Score\nLog Loss       0.0240\nROC AUC        1.0000\nAUPRC          0.9975"
         },
         "metadata": {},
         "output_type": "display_data"
        }
       ]
      }
     },
     "bc838761771f4a3596ef2830dddf83be": {
      "model_module": "@jupyter-widgets/base",
      "model_module_version": "2.0.0",
      "model_name": "LayoutModel",
      "state": {}
     },
     "be1f019056a047dea92d72a3ba093ff9": {
      "model_module": "@jupyter-widgets/base",
      "model_module_version": "2.0.0",
      "model_name": "LayoutModel",
      "state": {}
     },
     "be4218e5a4304d8e85bb1d5ec359572f": {
      "model_module": "@jupyter-widgets/controls",
      "model_module_version": "2.0.0",
      "model_name": "HBoxModel",
      "state": {
       "children": [
        "IPY_MODEL_bc2358cacfbf4799a7bed82bbe244e5a",
        "IPY_MODEL_503039be56f34f3ea8da9030891fc5e8"
       ],
       "layout": "IPY_MODEL_7fa4c5b1cfea45b3b210215d1802fee4"
      }
     },
     "c0baf565325a40e79064b7f637528581": {
      "model_module": "@jupyter-widgets/base",
      "model_module_version": "2.0.0",
      "model_name": "LayoutModel",
      "state": {}
     },
     "c1816c1809a34b2d8dca81154a819338": {
      "model_module": "@jupyter-widgets/base",
      "model_module_version": "2.0.0",
      "model_name": "LayoutModel",
      "state": {
       "display": "flex",
       "flex_flow": "row",
       "justify_content": "flex-start",
       "width": "auto"
      }
     },
     "c2ffc91a3e7e4d3c8ac6fbc860882b9a": {
      "model_module": "@jupyter-widgets/output",
      "model_module_version": "1.0.0",
      "model_name": "OutputModel",
      "state": {
       "layout": "IPY_MODEL_641727c85d5e47eea2180fef9f1e8e42",
       "outputs": [
        {
         "data": {
          "text/html": "<b>(Log Loss, ROC Curve, Precission-Recall)</b>",
          "text/plain": "<IPython.core.display.HTML object>"
         },
         "metadata": {},
         "output_type": "display_data"
        },
        {
         "data": {
          "text/html": "<div>\n<style scoped>\n    .dataframe tbody tr th:only-of-type {\n        vertical-align: middle;\n    }\n\n    .dataframe tbody tr th {\n        vertical-align: top;\n    }\n\n    .dataframe thead th {\n        text-align: right;\n    }\n</style>\n<table border=\"1\" class=\"dataframe\">\n  <thead>\n    <tr style=\"text-align: right;\">\n      <th></th>\n      <th>Test Score</th>\n    </tr>\n  </thead>\n  <tbody>\n    <tr>\n      <th>Log Loss</th>\n      <td>0.4994</td>\n    </tr>\n    <tr>\n      <th>ROC AUC</th>\n      <td>0.8301</td>\n    </tr>\n    <tr>\n      <th>AUPRC</th>\n      <td>0.6759</td>\n    </tr>\n  </tbody>\n</table>\n</div>",
          "text/plain": "          Test Score\nLog Loss      0.4994\nROC AUC       0.8301\nAUPRC         0.6759"
         },
         "metadata": {},
         "output_type": "display_data"
        }
       ]
      }
     },
     "c489dda5c4704c7c8f1042db9c5d7df5": {
      "model_module": "@jupyter-widgets/base",
      "model_module_version": "2.0.0",
      "model_name": "LayoutModel",
      "state": {}
     },
     "c4cf0f20ea33459caf6d8688d72c6816": {
      "model_module": "@jupyter-widgets/base",
      "model_module_version": "2.0.0",
      "model_name": "LayoutModel",
      "state": {}
     },
     "c684faf09d18469a951ddf176b1d143b": {
      "model_module": "@jupyter-widgets/controls",
      "model_module_version": "2.0.0",
      "model_name": "HBoxModel",
      "state": {
       "children": [
        "IPY_MODEL_66abce4c49d347c4983b88898ff2a9d1",
        "IPY_MODEL_880cb6ea5bf64af09e7810d1eacf0885"
       ],
       "layout": "IPY_MODEL_93645de2ddb74610acb724668a9e28a6"
      }
     },
     "c79ef89731124920a2c6ecba765a1151": {
      "model_module": "@jupyter-widgets/controls",
      "model_module_version": "2.0.0",
      "model_name": "HBoxModel",
      "state": {
       "children": [
        "IPY_MODEL_5fb417980af340dc8bdef205d08152c2",
        "IPY_MODEL_cfcaff9dc2784ca0a13600450cfbff75"
       ],
       "layout": "IPY_MODEL_ac3f6a53185a49e6ab933f2a438c69bf"
      }
     },
     "c8ed80c1c61e4331be06d2dda300306f": {
      "model_module": "@jupyter-widgets/output",
      "model_module_version": "1.0.0",
      "model_name": "OutputModel",
      "state": {
       "layout": "IPY_MODEL_b5ad96ac8cbd4f2bba7a31870919ccc1",
       "outputs": [
        {
         "data": {
          "text/html": "<b>Additional metrics</b>",
          "text/plain": "<IPython.core.display.HTML object>"
         },
         "metadata": {},
         "output_type": "display_data"
        },
        {
         "data": {
          "text/html": "<div>\n<style scoped>\n    .dataframe tbody tr th:only-of-type {\n        vertical-align: middle;\n    }\n\n    .dataframe tbody tr th {\n        vertical-align: top;\n    }\n\n    .dataframe thead th {\n        text-align: right;\n    }\n</style>\n<table border=\"1\" class=\"dataframe\">\n  <thead>\n    <tr style=\"text-align: right;\">\n      <th></th>\n      <th>Train Score</th>\n    </tr>\n  </thead>\n  <tbody>\n    <tr>\n      <th>Log Loss</th>\n      <td>0.0218</td>\n    </tr>\n    <tr>\n      <th>ROC AUC</th>\n      <td>1.0000</td>\n    </tr>\n    <tr>\n      <th>AUPRC</th>\n      <td>0.9967</td>\n    </tr>\n  </tbody>\n</table>\n</div>",
          "text/plain": "          Train Score\nLog Loss       0.0218\nROC AUC        1.0000\nAUPRC          0.9967"
         },
         "metadata": {},
         "output_type": "display_data"
        }
       ]
      }
     },
     "c9cbe8dd49124ccb9068063c2ef0f142": {
      "model_module": "@jupyter-widgets/output",
      "model_module_version": "1.0.0",
      "model_name": "OutputModel",
      "state": {
       "layout": "IPY_MODEL_943bc698edc14ea7b2ffb076073cd5dc",
       "outputs": [
        {
         "data": {
          "text/html": "<b>(Log Loss, ROC Curve, Precission-Recall)</b>",
          "text/plain": "<IPython.core.display.HTML object>"
         },
         "metadata": {},
         "output_type": "display_data"
        },
        {
         "data": {
          "text/html": "<div>\n<style scoped>\n    .dataframe tbody tr th:only-of-type {\n        vertical-align: middle;\n    }\n\n    .dataframe tbody tr th {\n        vertical-align: top;\n    }\n\n    .dataframe thead th {\n        text-align: right;\n    }\n</style>\n<table border=\"1\" class=\"dataframe\">\n  <thead>\n    <tr style=\"text-align: right;\">\n      <th></th>\n      <th>Test Score</th>\n    </tr>\n  </thead>\n  <tbody>\n    <tr>\n      <th>Log Loss</th>\n      <td>0.6838</td>\n    </tr>\n    <tr>\n      <th>ROC AUC</th>\n      <td>0.7940</td>\n    </tr>\n    <tr>\n      <th>AUPRC</th>\n      <td>0.6476</td>\n    </tr>\n  </tbody>\n</table>\n</div>",
          "text/plain": "          Test Score\nLog Loss      0.6838\nROC AUC       0.7940\nAUPRC         0.6476"
         },
         "metadata": {},
         "output_type": "display_data"
        }
       ]
      }
     },
     "ca974d078d974185800987a2bd0e9cfb": {
      "model_module": "@jupyter-widgets/base",
      "model_module_version": "2.0.0",
      "model_name": "LayoutModel",
      "state": {}
     },
     "cb95bbd35d5444dd985139a89678db8a": {
      "model_module": "@jupyter-widgets/output",
      "model_module_version": "1.0.0",
      "model_name": "OutputModel",
      "state": {
       "layout": "IPY_MODEL_50d5230d480047389b3d4e8b3c497e05",
       "outputs": [
        {
         "data": {
          "text/html": "<b>Training set performance</b>",
          "text/plain": "<IPython.core.display.HTML object>"
         },
         "metadata": {},
         "output_type": "display_data"
        },
        {
         "data": {
          "text/html": "<div>\n<style scoped>\n    .dataframe tbody tr th:only-of-type {\n        vertical-align: middle;\n    }\n\n    .dataframe tbody tr th {\n        vertical-align: top;\n    }\n\n    .dataframe thead th {\n        text-align: right;\n    }\n</style>\n<table border=\"1\" class=\"dataframe\">\n  <thead>\n    <tr style=\"text-align: right;\">\n      <th></th>\n      <th>precision</th>\n      <th>recall</th>\n      <th>f1-score</th>\n      <th>support</th>\n    </tr>\n  </thead>\n  <tbody>\n    <tr>\n      <th>0</th>\n      <td>1.00</td>\n      <td>1.00</td>\n      <td>1.00</td>\n      <td>335.00</td>\n    </tr>\n    <tr>\n      <th>1</th>\n      <td>1.00</td>\n      <td>1.00</td>\n      <td>1.00</td>\n      <td>179.00</td>\n    </tr>\n    <tr>\n      <th>accuracy</th>\n      <td>1.00</td>\n      <td>1.00</td>\n      <td>1.00</td>\n      <td>1.00</td>\n    </tr>\n    <tr>\n      <th>macro avg</th>\n      <td>1.00</td>\n      <td>1.00</td>\n      <td>1.00</td>\n      <td>514.00</td>\n    </tr>\n    <tr>\n      <th>weighted avg</th>\n      <td>1.00</td>\n      <td>1.00</td>\n      <td>1.00</td>\n      <td>514.00</td>\n    </tr>\n  </tbody>\n</table>\n</div>",
          "text/plain": "             precision recall f1-score support\n0                 1.00   1.00     1.00  335.00\n1                 1.00   1.00     1.00  179.00\naccuracy          1.00   1.00     1.00    1.00\nmacro avg         1.00   1.00     1.00  514.00\nweighted avg      1.00   1.00     1.00  514.00"
         },
         "metadata": {},
         "output_type": "display_data"
        }
       ]
      }
     },
     "cc5766891ef947c4810c65a535fb56c3": {
      "model_module": "@jupyter-widgets/controls",
      "model_module_version": "2.0.0",
      "model_name": "HBoxModel",
      "state": {
       "children": [
        "IPY_MODEL_3856deed91db4c228c1de94597dc0b6b",
        "IPY_MODEL_6d6124ef6b0e434c80fc198e5d0efa7c"
       ],
       "layout": "IPY_MODEL_b810dbd5f1c74b28a9ac1827939f33bc"
      }
     },
     "cfcaff9dc2784ca0a13600450cfbff75": {
      "model_module": "@jupyter-widgets/output",
      "model_module_version": "1.0.0",
      "model_name": "OutputModel",
      "state": {
       "layout": "IPY_MODEL_b9c2c218b0eb49c3a444612c3c588cfd",
       "outputs": [
        {
         "data": {
          "text/html": "<b>Test set performance</b>",
          "text/plain": "<IPython.core.display.HTML object>"
         },
         "metadata": {},
         "output_type": "display_data"
        },
        {
         "data": {
          "text/html": "<div>\n<style scoped>\n    .dataframe tbody tr th:only-of-type {\n        vertical-align: middle;\n    }\n\n    .dataframe tbody tr th {\n        vertical-align: top;\n    }\n\n    .dataframe thead th {\n        text-align: right;\n    }\n</style>\n<table border=\"1\" class=\"dataframe\">\n  <thead>\n    <tr style=\"text-align: right;\">\n      <th></th>\n      <th>precision</th>\n      <th>recall</th>\n      <th>f1-score</th>\n      <th>support</th>\n    </tr>\n  </thead>\n  <tbody>\n    <tr>\n      <th>0</th>\n      <td>0.77</td>\n      <td>0.87</td>\n      <td>0.82</td>\n      <td>165.00</td>\n    </tr>\n    <tr>\n      <th>1</th>\n      <td>0.68</td>\n      <td>0.53</td>\n      <td>0.59</td>\n      <td>89.00</td>\n    </tr>\n    <tr>\n      <th>accuracy</th>\n      <td>0.75</td>\n      <td>0.75</td>\n      <td>0.75</td>\n      <td>0.75</td>\n    </tr>\n    <tr>\n      <th>macro avg</th>\n      <td>0.73</td>\n      <td>0.70</td>\n      <td>0.71</td>\n      <td>254.00</td>\n    </tr>\n    <tr>\n      <th>weighted avg</th>\n      <td>0.74</td>\n      <td>0.75</td>\n      <td>0.74</td>\n      <td>254.00</td>\n    </tr>\n  </tbody>\n</table>\n</div>",
          "text/plain": "             precision recall f1-score support\n0                 0.77   0.87     0.82  165.00\n1                 0.68   0.53     0.59   89.00\naccuracy          0.75   0.75     0.75    0.75\nmacro avg         0.73   0.70     0.71  254.00\nweighted avg      0.74   0.75     0.74  254.00"
         },
         "metadata": {},
         "output_type": "display_data"
        }
       ]
      }
     },
     "d33d9875a8c8474db14e241b1d9c3b93": {
      "model_module": "@jupyter-widgets/controls",
      "model_module_version": "2.0.0",
      "model_name": "HBoxModel",
      "state": {
       "children": [
        "IPY_MODEL_249ecdbff4bc4b50b9b4003e3e10bc0d",
        "IPY_MODEL_aa1a5585daaa47c1bd4136327f160fc5"
       ],
       "layout": "IPY_MODEL_59c1e7d920244017a20e08b83616ccf3"
      }
     },
     "d3637b62ca8f49759ac47456c86d2c96": {
      "model_module": "@jupyter-widgets/base",
      "model_module_version": "2.0.0",
      "model_name": "LayoutModel",
      "state": {
       "display": "flex",
       "flex_flow": "row",
       "justify_content": "flex-start",
       "width": "auto"
      }
     },
     "d3dfddde684a451abcc414719aa20118": {
      "model_module": "@jupyter-widgets/base",
      "model_module_version": "2.0.0",
      "model_name": "LayoutModel",
      "state": {}
     },
     "d4d6524fbd164da2a8dcdef2e4b0de46": {
      "model_module": "@jupyter-widgets/base",
      "model_module_version": "2.0.0",
      "model_name": "LayoutModel",
      "state": {}
     },
     "d9ebe8cea3f541a7b844c5553a8586d6": {
      "model_module": "@jupyter-widgets/base",
      "model_module_version": "2.0.0",
      "model_name": "LayoutModel",
      "state": {}
     },
     "db7c5bc7cd01448f97dfd5e0601dd1da": {
      "model_module": "@jupyter-widgets/output",
      "model_module_version": "1.0.0",
      "model_name": "OutputModel",
      "state": {
       "layout": "IPY_MODEL_46dbc0449e16476a97eb4e87c1552f0c",
       "outputs": [
        {
         "data": {
          "text/html": "<b>Test set performance</b>",
          "text/plain": "<IPython.core.display.HTML object>"
         },
         "metadata": {},
         "output_type": "display_data"
        },
        {
         "data": {
          "text/html": "<div>\n<style scoped>\n    .dataframe tbody tr th:only-of-type {\n        vertical-align: middle;\n    }\n\n    .dataframe tbody tr th {\n        vertical-align: top;\n    }\n\n    .dataframe thead th {\n        text-align: right;\n    }\n</style>\n<table border=\"1\" class=\"dataframe\">\n  <thead>\n    <tr style=\"text-align: right;\">\n      <th></th>\n      <th>precision</th>\n      <th>recall</th>\n      <th>f1-score</th>\n      <th>support</th>\n    </tr>\n  </thead>\n  <tbody>\n    <tr>\n      <th>0</th>\n      <td>0.75</td>\n      <td>0.85</td>\n      <td>0.80</td>\n      <td>165.00</td>\n    </tr>\n    <tr>\n      <th>1</th>\n      <td>0.64</td>\n      <td>0.48</td>\n      <td>0.55</td>\n      <td>89.00</td>\n    </tr>\n    <tr>\n      <th>accuracy</th>\n      <td>0.72</td>\n      <td>0.72</td>\n      <td>0.72</td>\n      <td>0.72</td>\n    </tr>\n    <tr>\n      <th>macro avg</th>\n      <td>0.70</td>\n      <td>0.67</td>\n      <td>0.68</td>\n      <td>254.00</td>\n    </tr>\n    <tr>\n      <th>weighted avg</th>\n      <td>0.71</td>\n      <td>0.72</td>\n      <td>0.71</td>\n      <td>254.00</td>\n    </tr>\n  </tbody>\n</table>\n</div>",
          "text/plain": "             precision recall f1-score support\n0                 0.75   0.85     0.80  165.00\n1                 0.64   0.48     0.55   89.00\naccuracy          0.72   0.72     0.72    0.72\nmacro avg         0.70   0.67     0.68  254.00\nweighted avg      0.71   0.72     0.71  254.00"
         },
         "metadata": {},
         "output_type": "display_data"
        }
       ]
      }
     },
     "dfffbe95a5114254bacbb0c9a32fdffc": {
      "model_module": "@jupyter-widgets/base",
      "model_module_version": "2.0.0",
      "model_name": "LayoutModel",
      "state": {}
     },
     "e114a8ae508e412cb060b2d6814e84c4": {
      "model_module": "@jupyter-widgets/controls",
      "model_module_version": "2.0.0",
      "model_name": "ProgressStyleModel",
      "state": {
       "description_width": ""
      }
     },
     "e2c8007fe22146a29f2b8b7f642c6f1a": {
      "model_module": "@jupyter-widgets/base",
      "model_module_version": "2.0.0",
      "model_name": "LayoutModel",
      "state": {}
     },
     "e3333fd276fe4c439f42bbcf0c7dcc8f": {
      "model_module": "@jupyter-widgets/base",
      "model_module_version": "2.0.0",
      "model_name": "LayoutModel",
      "state": {
       "display": "flex",
       "flex_flow": "row",
       "justify_content": "flex-start",
       "width": "auto"
      }
     },
     "e4a776867d4241db95d16a179da21751": {
      "model_module": "@jupyter-widgets/output",
      "model_module_version": "1.0.0",
      "model_name": "OutputModel",
      "state": {
       "layout": "IPY_MODEL_ca974d078d974185800987a2bd0e9cfb",
       "outputs": [
        {
         "data": {
          "text/html": "<b>(Log Loss, ROC Curve, Precission-Recall)</b>",
          "text/plain": "<IPython.core.display.HTML object>"
         },
         "metadata": {},
         "output_type": "display_data"
        },
        {
         "data": {
          "text/html": "<div>\n<style scoped>\n    .dataframe tbody tr th:only-of-type {\n        vertical-align: middle;\n    }\n\n    .dataframe tbody tr th {\n        vertical-align: top;\n    }\n\n    .dataframe thead th {\n        text-align: right;\n    }\n</style>\n<table border=\"1\" class=\"dataframe\">\n  <thead>\n    <tr style=\"text-align: right;\">\n      <th></th>\n      <th>Test Score</th>\n    </tr>\n  </thead>\n  <tbody>\n    <tr>\n      <th>Log Loss</th>\n      <td>0.7319</td>\n    </tr>\n    <tr>\n      <th>ROC AUC</th>\n      <td>0.7872</td>\n    </tr>\n    <tr>\n      <th>AUPRC</th>\n      <td>0.6341</td>\n    </tr>\n  </tbody>\n</table>\n</div>",
          "text/plain": "          Test Score\nLog Loss      0.7319\nROC AUC       0.7872\nAUPRC         0.6341"
         },
         "metadata": {},
         "output_type": "display_data"
        }
       ]
      }
     },
     "e50f47cee29a400d89df2791bb3f14a1": {
      "model_module": "@jupyter-widgets/output",
      "model_module_version": "1.0.0",
      "model_name": "OutputModel",
      "state": {
       "layout": "IPY_MODEL_23649708a83a493288d82181d6788a5d",
       "outputs": [
        {
         "data": {
          "text/html": "<b>Additional metrics</b>",
          "text/plain": "<IPython.core.display.HTML object>"
         },
         "metadata": {},
         "output_type": "display_data"
        },
        {
         "data": {
          "text/html": "<div>\n<style scoped>\n    .dataframe tbody tr th:only-of-type {\n        vertical-align: middle;\n    }\n\n    .dataframe tbody tr th {\n        vertical-align: top;\n    }\n\n    .dataframe thead th {\n        text-align: right;\n    }\n</style>\n<table border=\"1\" class=\"dataframe\">\n  <thead>\n    <tr style=\"text-align: right;\">\n      <th></th>\n      <th>Train Score</th>\n    </tr>\n  </thead>\n  <tbody>\n    <tr>\n      <th>Log Loss</th>\n      <td>0.1685</td>\n    </tr>\n    <tr>\n      <th>ROC AUC</th>\n      <td>0.9991</td>\n    </tr>\n    <tr>\n      <th>AUPRC</th>\n      <td>0.9968</td>\n    </tr>\n  </tbody>\n</table>\n</div>",
          "text/plain": "          Train Score\nLog Loss       0.1685\nROC AUC        0.9991\nAUPRC          0.9968"
         },
         "metadata": {},
         "output_type": "display_data"
        }
       ]
      }
     },
     "e59299e2db04494caa1f532f311ac35b": {
      "model_module": "@jupyter-widgets/output",
      "model_module_version": "1.0.0",
      "model_name": "OutputModel",
      "state": {
       "layout": "IPY_MODEL_a633d06b64d842358d6d98814d4662fe",
       "outputs": [
        {
         "data": {
          "text/html": "<b>Additional metrics</b>",
          "text/plain": "<IPython.core.display.HTML object>"
         },
         "metadata": {},
         "output_type": "display_data"
        },
        {
         "data": {
          "text/html": "<div>\n<style scoped>\n    .dataframe tbody tr th:only-of-type {\n        vertical-align: middle;\n    }\n\n    .dataframe tbody tr th {\n        vertical-align: top;\n    }\n\n    .dataframe thead th {\n        text-align: right;\n    }\n</style>\n<table border=\"1\" class=\"dataframe\">\n  <thead>\n    <tr style=\"text-align: right;\">\n      <th></th>\n      <th>Train Score</th>\n    </tr>\n  </thead>\n  <tbody>\n    <tr>\n      <th>Log Loss</th>\n      <td>0.0296</td>\n    </tr>\n    <tr>\n      <th>ROC AUC</th>\n      <td>1.0000</td>\n    </tr>\n    <tr>\n      <th>AUPRC</th>\n      <td>0.9975</td>\n    </tr>\n  </tbody>\n</table>\n</div>",
          "text/plain": "          Train Score\nLog Loss       0.0296\nROC AUC        1.0000\nAUPRC          0.9975"
         },
         "metadata": {},
         "output_type": "display_data"
        }
       ]
      }
     },
     "ebc59db038e145ba8e5d077768c13a48": {
      "model_module": "@jupyter-widgets/base",
      "model_module_version": "2.0.0",
      "model_name": "LayoutModel",
      "state": {}
     },
     "f1d9f36eda75403d9fa25b111b238518": {
      "model_module": "@jupyter-widgets/base",
      "model_module_version": "2.0.0",
      "model_name": "LayoutModel",
      "state": {}
     },
     "f4d267e4f1404cfc9b0e1294f236bf7e": {
      "model_module": "@jupyter-widgets/base",
      "model_module_version": "2.0.0",
      "model_name": "LayoutModel",
      "state": {
       "display": "flex",
       "flex_flow": "row",
       "justify_content": "flex-start",
       "width": "auto"
      }
     },
     "fb60426099a44d7782a23d6c0a55eba9": {
      "model_module": "@jupyter-widgets/controls",
      "model_module_version": "2.0.0",
      "model_name": "HTMLModel",
      "state": {
       "layout": "IPY_MODEL_a57500ebb5a8448a88b018437689a399",
       "style": "IPY_MODEL_a1472f8fdfe54a909f0a48d518de0e92",
       "value": " 100/100 [09:10&lt;00:00,  6.99s/it, 550.85/600 seconds]"
      }
     },
     "fdc130b25c4a431391c4230b124ad86e": {
      "model_module": "@jupyter-widgets/controls",
      "model_module_version": "2.0.0",
      "model_name": "HBoxModel",
      "state": {
       "children": [
        "IPY_MODEL_167942616fe44042a21d11d2f7ac7608",
        "IPY_MODEL_b8cb179cbc39460f85c55648af898a46"
       ],
       "layout": "IPY_MODEL_55963fd8b77741e0ab4aee5ad9e58582"
      }
     },
     "fe783666b400454d866c3df5602808c6": {
      "model_module": "@jupyter-widgets/output",
      "model_module_version": "1.0.0",
      "model_name": "OutputModel",
      "state": {
       "layout": "IPY_MODEL_dfffbe95a5114254bacbb0c9a32fdffc",
       "outputs": [
        {
         "data": {
          "text/html": "<b>Original dtypes</b>",
          "text/plain": "<IPython.core.display.HTML object>"
         },
         "metadata": {},
         "output_type": "display_data"
        },
        {
         "data": {
          "text/plain": "Pregnancies                   int64\nGlucose                     float64\nBloodPressure               float64\nSkinThickness               float64\nInsulin                     float64\nBMI                         float64\nDiabetesPedigreeFunction    float64\nAge                           int64\nOutcome                       int64\ndtype: object"
         },
         "metadata": {},
         "output_type": "display_data"
        }
       ]
      }
     },
     "fe9f9db2378f4f6d91a95f9a7f329b48": {
      "model_module": "@jupyter-widgets/output",
      "model_module_version": "1.0.0",
      "model_name": "OutputModel",
      "state": {
       "layout": "IPY_MODEL_648f2bfcc33d479b985a148b825ea3fd",
       "outputs": [
        {
         "data": {
          "text/html": "<b>Additional metrics</b>",
          "text/plain": "<IPython.core.display.HTML object>"
         },
         "metadata": {},
         "output_type": "display_data"
        },
        {
         "data": {
          "text/html": "<div>\n<style scoped>\n    .dataframe tbody tr th:only-of-type {\n        vertical-align: middle;\n    }\n\n    .dataframe tbody tr th {\n        vertical-align: top;\n    }\n\n    .dataframe thead th {\n        text-align: right;\n    }\n</style>\n<table border=\"1\" class=\"dataframe\">\n  <thead>\n    <tr style=\"text-align: right;\">\n      <th></th>\n      <th>Train Score</th>\n    </tr>\n  </thead>\n  <tbody>\n    <tr>\n      <th>Log Loss</th>\n      <td>0.3786</td>\n    </tr>\n    <tr>\n      <th>ROC AUC</th>\n      <td>0.9181</td>\n    </tr>\n    <tr>\n      <th>AUPRC</th>\n      <td>0.9173</td>\n    </tr>\n  </tbody>\n</table>\n</div>",
          "text/plain": "          Train Score\nLog Loss       0.3786\nROC AUC        0.9181\nAUPRC          0.9173"
         },
         "metadata": {},
         "output_type": "display_data"
        }
       ]
      }
     }
    },
    "version_major": 2,
    "version_minor": 0
   }
  }
 },
 "nbformat": 4,
 "nbformat_minor": 5
}
