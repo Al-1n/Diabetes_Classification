{
 "cells": [
  {
   "cell_type": "code",
   "execution_count": 1,
   "id": "53a74e21-f736-4e54-ac8d-774609ad9c22",
   "metadata": {},
   "outputs": [],
   "source": [
    "#!pip install optuna\n",
    "#!pip install jupyterlab-optuna\n",
    "#!pip install optuna-fast-fanova gunicorn\n",
    "#!pip install imbalanced-learn\n",
    "#!pip install hyperopt\n",
    "#!pip install lightgbm\n",
    "#!pip install catboost\n",
    "#!pip install optuna-integration"
   ]
  },
  {
   "cell_type": "code",
   "execution_count": 2,
   "id": "158ac2d3-1db7-4774-a4cf-84605a80fdf1",
   "metadata": {},
   "outputs": [],
   "source": [
    "import pandas as pd\n",
    "import numpy as np\n",
    "import seaborn as sns\n",
    "import optuna\n",
    "import matplotlib.pyplot as plt\n",
    "from sklearn.feature_selection import SelectKBest\n",
    "from sklearn.feature_selection import chi2\n",
    "from sklearn.model_selection import  cross_val_score\n",
    "from sklearn.metrics import roc_curve, precision_recall_curve, classification_report, log_loss, roc_auc_score, confusion_matrix, recall_score\n",
    "from IPython.display import Markdown, display\n",
    "from ipywidgets import widgets, Layout\n",
    "from IPython import display as disp\n",
    "\n",
    "# Define a function for printing using markdown\n",
    "def printmd(string, color=None):\n",
    "    colorstr = \"<span style='color:{}'>{}</span>\".format(color, string)\n",
    "    display(Markdown(colorstr))\n",
    "\n",
    "#Bold text delimiters\n",
    "start_bold = \"\\033[1m\"\n",
    "end_bold = \"\\033[0;0m\"\n",
    "\n",
    "from xgboost import XGBClassifier\n",
    "from xgboost import XGBRegressor"
   ]
  },
  {
   "cell_type": "code",
   "execution_count": 3,
   "id": "a2610116-3880-44b5-9b41-ab0eb5cb5379",
   "metadata": {},
   "outputs": [
    {
     "data": {
      "text/html": [
       "<div>\n",
       "<style scoped>\n",
       "    .dataframe tbody tr th:only-of-type {\n",
       "        vertical-align: middle;\n",
       "    }\n",
       "\n",
       "    .dataframe tbody tr th {\n",
       "        vertical-align: top;\n",
       "    }\n",
       "\n",
       "    .dataframe thead th {\n",
       "        text-align: right;\n",
       "    }\n",
       "</style>\n",
       "<table border=\"1\" class=\"dataframe\">\n",
       "  <thead>\n",
       "    <tr style=\"text-align: right;\">\n",
       "      <th></th>\n",
       "      <th>Pregnancies</th>\n",
       "      <th>Glucose</th>\n",
       "      <th>BloodPressure</th>\n",
       "      <th>SkinThickness</th>\n",
       "      <th>Insulin</th>\n",
       "      <th>BMI</th>\n",
       "      <th>DiabetesPedigreeFunction</th>\n",
       "      <th>Age</th>\n",
       "      <th>Outcome</th>\n",
       "    </tr>\n",
       "  </thead>\n",
       "  <tbody>\n",
       "    <tr>\n",
       "      <th>0</th>\n",
       "      <td>6</td>\n",
       "      <td>148</td>\n",
       "      <td>72</td>\n",
       "      <td>35</td>\n",
       "      <td>0</td>\n",
       "      <td>33.6</td>\n",
       "      <td>0.627</td>\n",
       "      <td>50</td>\n",
       "      <td>1</td>\n",
       "    </tr>\n",
       "    <tr>\n",
       "      <th>1</th>\n",
       "      <td>1</td>\n",
       "      <td>85</td>\n",
       "      <td>66</td>\n",
       "      <td>29</td>\n",
       "      <td>0</td>\n",
       "      <td>26.6</td>\n",
       "      <td>0.351</td>\n",
       "      <td>31</td>\n",
       "      <td>0</td>\n",
       "    </tr>\n",
       "    <tr>\n",
       "      <th>2</th>\n",
       "      <td>8</td>\n",
       "      <td>183</td>\n",
       "      <td>64</td>\n",
       "      <td>0</td>\n",
       "      <td>0</td>\n",
       "      <td>23.3</td>\n",
       "      <td>0.672</td>\n",
       "      <td>32</td>\n",
       "      <td>1</td>\n",
       "    </tr>\n",
       "    <tr>\n",
       "      <th>3</th>\n",
       "      <td>1</td>\n",
       "      <td>89</td>\n",
       "      <td>66</td>\n",
       "      <td>23</td>\n",
       "      <td>94</td>\n",
       "      <td>28.1</td>\n",
       "      <td>0.167</td>\n",
       "      <td>21</td>\n",
       "      <td>0</td>\n",
       "    </tr>\n",
       "    <tr>\n",
       "      <th>4</th>\n",
       "      <td>0</td>\n",
       "      <td>137</td>\n",
       "      <td>40</td>\n",
       "      <td>35</td>\n",
       "      <td>168</td>\n",
       "      <td>43.1</td>\n",
       "      <td>2.288</td>\n",
       "      <td>33</td>\n",
       "      <td>1</td>\n",
       "    </tr>\n",
       "  </tbody>\n",
       "</table>\n",
       "</div>"
      ],
      "text/plain": [
       "   Pregnancies  Glucose  BloodPressure  SkinThickness  Insulin   BMI  \\\n",
       "0            6      148             72             35        0  33.6   \n",
       "1            1       85             66             29        0  26.6   \n",
       "2            8      183             64              0        0  23.3   \n",
       "3            1       89             66             23       94  28.1   \n",
       "4            0      137             40             35      168  43.1   \n",
       "\n",
       "   DiabetesPedigreeFunction  Age  Outcome  \n",
       "0                     0.627   50        1  \n",
       "1                     0.351   31        0  \n",
       "2                     0.672   32        1  \n",
       "3                     0.167   21        0  \n",
       "4                     2.288   33        1  "
      ]
     },
     "execution_count": 3,
     "metadata": {},
     "output_type": "execute_result"
    }
   ],
   "source": [
    "#load the dataset and preview the first rows\n",
    "df = pd.read_csv(\"./Data/diabetes.csv\", sep = \",\")\n",
    "\n",
    "df.head()"
   ]
  },
  {
   "cell_type": "markdown",
   "id": "96fad3b9-ddc7-4a85-b913-25b2cb363778",
   "metadata": {},
   "source": [
    "# EDA"
   ]
  },
  {
   "cell_type": "code",
   "execution_count": 4,
   "id": "3dd49629-329d-40f8-9c09-15607116b7e8",
   "metadata": {},
   "outputs": [
    {
     "data": {
      "text/plain": [
       "Pregnancies                   int64\n",
       "Glucose                       int64\n",
       "BloodPressure                 int64\n",
       "SkinThickness                 int64\n",
       "Insulin                       int64\n",
       "BMI                         float64\n",
       "DiabetesPedigreeFunction    float64\n",
       "Age                           int64\n",
       "Outcome                       int64\n",
       "dtype: object"
      ]
     },
     "execution_count": 4,
     "metadata": {},
     "output_type": "execute_result"
    }
   ],
   "source": [
    "#Verify that all columns have numeric types\n",
    "df.dtypes"
   ]
  },
  {
   "cell_type": "code",
   "execution_count": 5,
   "id": "093e00e2-c451-4a3e-82a3-3ef3b73edc1d",
   "metadata": {},
   "outputs": [
    {
     "data": {
      "text/plain": [
       "Outcome\n",
       "0    500\n",
       "1    268\n",
       "Name: count, dtype: int64"
      ]
     },
     "execution_count": 5,
     "metadata": {},
     "output_type": "execute_result"
    }
   ],
   "source": [
    "#Check the target variable label values\n",
    "df[\"Outcome\"].value_counts()"
   ]
  },
  {
   "cell_type": "code",
   "execution_count": 6,
   "id": "6474ee6c-0655-43b1-b4a3-b76c8577eb56",
   "metadata": {},
   "outputs": [
    {
     "data": {
      "text/html": [
       "<div>\n",
       "<style scoped>\n",
       "    .dataframe tbody tr th:only-of-type {\n",
       "        vertical-align: middle;\n",
       "    }\n",
       "\n",
       "    .dataframe tbody tr th {\n",
       "        vertical-align: top;\n",
       "    }\n",
       "\n",
       "    .dataframe thead th {\n",
       "        text-align: right;\n",
       "    }\n",
       "</style>\n",
       "<table border=\"1\" class=\"dataframe\">\n",
       "  <thead>\n",
       "    <tr style=\"text-align: right;\">\n",
       "      <th></th>\n",
       "      <th>Pregnancies</th>\n",
       "      <th>Glucose</th>\n",
       "      <th>BloodPressure</th>\n",
       "      <th>SkinThickness</th>\n",
       "      <th>Insulin</th>\n",
       "      <th>BMI</th>\n",
       "      <th>DiabetesPedigreeFunction</th>\n",
       "      <th>Age</th>\n",
       "      <th>Outcome</th>\n",
       "    </tr>\n",
       "  </thead>\n",
       "  <tbody>\n",
       "    <tr>\n",
       "      <th>count</th>\n",
       "      <td>768.000000</td>\n",
       "      <td>768.000000</td>\n",
       "      <td>768.000000</td>\n",
       "      <td>768.000000</td>\n",
       "      <td>768.000000</td>\n",
       "      <td>768.000000</td>\n",
       "      <td>768.000000</td>\n",
       "      <td>768.000000</td>\n",
       "      <td>768.000000</td>\n",
       "    </tr>\n",
       "    <tr>\n",
       "      <th>mean</th>\n",
       "      <td>3.845052</td>\n",
       "      <td>120.894531</td>\n",
       "      <td>69.105469</td>\n",
       "      <td>20.536458</td>\n",
       "      <td>79.799479</td>\n",
       "      <td>31.992578</td>\n",
       "      <td>0.471876</td>\n",
       "      <td>33.240885</td>\n",
       "      <td>0.348958</td>\n",
       "    </tr>\n",
       "    <tr>\n",
       "      <th>std</th>\n",
       "      <td>3.369578</td>\n",
       "      <td>31.972618</td>\n",
       "      <td>19.355807</td>\n",
       "      <td>15.952218</td>\n",
       "      <td>115.244002</td>\n",
       "      <td>7.884160</td>\n",
       "      <td>0.331329</td>\n",
       "      <td>11.760232</td>\n",
       "      <td>0.476951</td>\n",
       "    </tr>\n",
       "    <tr>\n",
       "      <th>min</th>\n",
       "      <td>0.000000</td>\n",
       "      <td>0.000000</td>\n",
       "      <td>0.000000</td>\n",
       "      <td>0.000000</td>\n",
       "      <td>0.000000</td>\n",
       "      <td>0.000000</td>\n",
       "      <td>0.078000</td>\n",
       "      <td>21.000000</td>\n",
       "      <td>0.000000</td>\n",
       "    </tr>\n",
       "    <tr>\n",
       "      <th>25%</th>\n",
       "      <td>1.000000</td>\n",
       "      <td>99.000000</td>\n",
       "      <td>62.000000</td>\n",
       "      <td>0.000000</td>\n",
       "      <td>0.000000</td>\n",
       "      <td>27.300000</td>\n",
       "      <td>0.243750</td>\n",
       "      <td>24.000000</td>\n",
       "      <td>0.000000</td>\n",
       "    </tr>\n",
       "    <tr>\n",
       "      <th>50%</th>\n",
       "      <td>3.000000</td>\n",
       "      <td>117.000000</td>\n",
       "      <td>72.000000</td>\n",
       "      <td>23.000000</td>\n",
       "      <td>30.500000</td>\n",
       "      <td>32.000000</td>\n",
       "      <td>0.372500</td>\n",
       "      <td>29.000000</td>\n",
       "      <td>0.000000</td>\n",
       "    </tr>\n",
       "    <tr>\n",
       "      <th>75%</th>\n",
       "      <td>6.000000</td>\n",
       "      <td>140.250000</td>\n",
       "      <td>80.000000</td>\n",
       "      <td>32.000000</td>\n",
       "      <td>127.250000</td>\n",
       "      <td>36.600000</td>\n",
       "      <td>0.626250</td>\n",
       "      <td>41.000000</td>\n",
       "      <td>1.000000</td>\n",
       "    </tr>\n",
       "    <tr>\n",
       "      <th>max</th>\n",
       "      <td>17.000000</td>\n",
       "      <td>199.000000</td>\n",
       "      <td>122.000000</td>\n",
       "      <td>99.000000</td>\n",
       "      <td>846.000000</td>\n",
       "      <td>67.100000</td>\n",
       "      <td>2.420000</td>\n",
       "      <td>81.000000</td>\n",
       "      <td>1.000000</td>\n",
       "    </tr>\n",
       "  </tbody>\n",
       "</table>\n",
       "</div>"
      ],
      "text/plain": [
       "       Pregnancies     Glucose  BloodPressure  SkinThickness     Insulin  \\\n",
       "count   768.000000  768.000000     768.000000     768.000000  768.000000   \n",
       "mean      3.845052  120.894531      69.105469      20.536458   79.799479   \n",
       "std       3.369578   31.972618      19.355807      15.952218  115.244002   \n",
       "min       0.000000    0.000000       0.000000       0.000000    0.000000   \n",
       "25%       1.000000   99.000000      62.000000       0.000000    0.000000   \n",
       "50%       3.000000  117.000000      72.000000      23.000000   30.500000   \n",
       "75%       6.000000  140.250000      80.000000      32.000000  127.250000   \n",
       "max      17.000000  199.000000     122.000000      99.000000  846.000000   \n",
       "\n",
       "              BMI  DiabetesPedigreeFunction         Age     Outcome  \n",
       "count  768.000000                768.000000  768.000000  768.000000  \n",
       "mean    31.992578                  0.471876   33.240885    0.348958  \n",
       "std      7.884160                  0.331329   11.760232    0.476951  \n",
       "min      0.000000                  0.078000   21.000000    0.000000  \n",
       "25%     27.300000                  0.243750   24.000000    0.000000  \n",
       "50%     32.000000                  0.372500   29.000000    0.000000  \n",
       "75%     36.600000                  0.626250   41.000000    1.000000  \n",
       "max     67.100000                  2.420000   81.000000    1.000000  "
      ]
     },
     "execution_count": 6,
     "metadata": {},
     "output_type": "execute_result"
    }
   ],
   "source": [
    "#Get the summary sttistics for all the columns\n",
    "df.describe()"
   ]
  },
  {
   "cell_type": "code",
   "execution_count": 7,
   "id": "d0010782-8e3b-477b-9275-252f79424d17",
   "metadata": {},
   "outputs": [
    {
     "data": {
      "image/png": "[encoded data removed]",
      "text/plain": [
       "<Figure size 1000x1000 with 9 Axes>"
      ]
     },
     "metadata": {},
     "output_type": "display_data"
    }
   ],
   "source": [
    "df.hist(bins = 30, figsize = (10, 10), color = 'orange')\n",
    "\n",
    "plt.show()"
   ]
  },
  {
   "cell_type": "code",
   "execution_count": null,
   "id": "4712e29e-0195-4720-bb7b-08e39f79b266",
   "metadata": {},
   "outputs": [],
   "source": []
  },
  {
   "cell_type": "markdown",
   "id": "5d6df996-2754-43ff-a50b-a2ce30ae64a8",
   "metadata": {},
   "source": [
    "Insights from the histograms:\n",
    "\n",
    "* There are more young participants.\n",
    "* Zero values for skin thickness, glucose, insulin, blood presure, and bmi indicate missing measurements. A glucose level of zero would mean the patient is in a coma or worse.\n",
    "* There are about twice as many patients without diabetes (outcome = 0) than with diabetes (outcome = 1) resulting in unbalanced target classes.     "
   ]
  },
  {
   "cell_type": "code",
   "execution_count": 8,
   "id": "4df4b363-17e8-496a-a2da-2ba979fa436e",
   "metadata": {},
   "outputs": [],
   "source": [
    "# Define a function to extract information about missing measurements \n",
    "def print_missing_data_summary(df):\n",
    "    '''\n",
    "    This function will scan for missing values for different features and feature combinations at different steps of the imputation process.\n",
    "\n",
    "    Symbol dicionary:\n",
    "    \n",
    "    N_GLU - Number of missing Glucose measurements \n",
    "    N_INS - Number of missing Insulin measurements\n",
    "    N_BMI - Number of missing BMI measurements\n",
    "    N_BPS - Number of missing Blood Pressure measurements\n",
    "    N_STH - Number of missing Skin Thickness measurements     \n",
    "    '''\n",
    "    def printmd(string, color=None):\n",
    "        colorstr = \"<span style='color:{}'>{}</span>\".format(color, string)\n",
    "        display(Markdown(colorstr))  \n",
    "    \n",
    "    display(Markdown('---'))\n",
    "    printmd(f\"**N_GLU**: {df['Glucose'].isna().sum()}\", color=\"#9DC183\")\n",
    "    printmd(f\"**N_INS**: {df['Insulin'].isna().sum()}\", color=\"#9DC183\")\n",
    "    printmd(f\"**N_BMI**: {df['BMI'].isna().sum()}\", color=\"#9DC183\")\n",
    "    printmd(f\"**N_BPS**: {df['BloodPressure'].isna().sum()}\", color=\"#9DC183\")\n",
    "    printmd(f\"**N_STH**: {df['SkinThickness'].isna().sum()}\", color=\"#9DC183\")\n",
    "    display(Markdown('---'))    \n",
    "\n",
    "def render_widgets(num_widgets, titles, objects):\n",
    "    # Create output widgets\n",
    "    widgets_list = [widgets.Output() for _ in range(num_widgets)]\n",
    "    \n",
    "    # Render content in output widgets\n",
    "    for i in range(num_widgets):\n",
    "        with widgets_list[i]:\n",
    "            # Display title in bold format\n",
    "            title_html = \"<b>{}</b>\".format(titles[i])\n",
    "            disp.display(disp.HTML(title_html))\n",
    "            disp.display(objects[i])\n",
    "    \n",
    "    # Add CSS styles to distribute free space\n",
    "    box_layout = Layout(display='flex',\n",
    "                        flex_flow='row',\n",
    "                        justify_content='flex-start',\n",
    "                        width='auto'\n",
    "                       )\n",
    "    \n",
    "    # Create Horizontal Box container\n",
    "    hbox = widgets.HBox(widgets_list, layout=box_layout)\n",
    "    \n",
    "    # Render hbox\n",
    "    disp.display(hbox)\n",
    "\n",
    "#Define a function to summarize the classification metrics\n",
    "def print_classification_metrics(model, x_train, y_train, x_test, y_test):\n",
    "\n",
    "    #Define pointers for bold text formatting\n",
    "    start_bold = \"\\033[1m\"\n",
    "    end_bold = \"\\033[0m\"\n",
    "    \n",
    "    #print(start_bold + \"Classification metrics\" + end_bold)\n",
    "    print()\n",
    "\n",
    "    # performance of the trained model on the training set \n",
    "    train_result = model.score(x_train, y_train)\n",
    "\n",
    "    # performance of the trained model using the testing set\n",
    "    test_result = model.score(x_test, y_test)\n",
    "\n",
    "    # make predictions on the training data\n",
    "    y_train_predict = model.predict(x_train)     \n",
    "\n",
    "    # make predictions on the test data\n",
    "    y_predict = model.predict(x_test)\n",
    "\n",
    "    # predict class probabilities on the training set\n",
    "    y_train_predict_proba = model.predict_proba(x_train)\n",
    "\n",
    "    # predict class probabilities on the test set\n",
    "    y_predict_proba = model.predict_proba(x_test)\n",
    "\n",
    "    # Calculate log loss for the training set\n",
    "    log_loss_train = round(log_loss(y_train, y_train_predict_proba), 4)\n",
    "    \n",
    "    # Calculate log loss for the test set\n",
    "    log_loss_value = round(log_loss(y_test, y_predict_proba), 4)\n",
    "\n",
    "    # Calculate ROC AUC for the training set    \n",
    "    roc_auc_train = roc_auc_score(y_train, y_train_predict_proba[:, 1])\n",
    "\n",
    "    # Calculate ROC AUC for the test set    \n",
    "    roc_auc = roc_auc_score(y_test, y_predict_proba[:, 1])\n",
    "\n",
    "    # Calculate Precision-Recall score for the TRAINING set\n",
    "    precision_train, recall_train, thresholds_train = precision_recall_curve(y_train, y_train_predict_proba[:, 1])\n",
    "\n",
    "    # Define recall levels for interpolation\n",
    "    recall_levels = np.linspace(0, 1, 100)\n",
    "\n",
    "    # Interpolate precision values for each recall level\n",
    "    interp_precision_train = np.interp(recall_levels, recall_train[::-1], precision_train[::-1])\n",
    "\n",
    "    # Calculate AUPRC using the trapezoidal rule\n",
    "    auprc_train = np.trapz(interp_precision_train, recall_levels)    \n",
    "    \n",
    "    # Calculate Precision-Recall score for the TEST set\n",
    "    precision_test, recall_test, thresholds_test = precision_recall_curve(y_test, y_predict_proba[:, 1])\n",
    "\n",
    "    # # Define recall levels for interpolation\n",
    "    # recall_levels = np.linspace(0, 1, 100)\n",
    "\n",
    "    # Interpolate precision values for each recall level\n",
    "    interp_precision_test = np.interp(recall_levels, recall_test[::-1], precision_test[::-1])\n",
    "\n",
    "    # Calculate AUPRC using the trapezoidal rule\n",
    "    auprc_test = np.trapz(interp_precision_test, recall_levels)    \n",
    "\n",
    "    train_report = pd.DataFrame(classification_report(y_train, \n",
    "                                                      y_train_predict,\n",
    "                                                      digits=4,\n",
    "                                                      output_dict = True)).transpose().astype(float).round(4).map(\"{:,.2f}\".format)\n",
    "    \n",
    "    test_report = pd.DataFrame(classification_report(y_test,\n",
    "                                                     y_predict,\n",
    "                                                     digits=4,\n",
    "                                                     output_dict = True)).transpose().astype(float).round(4).map(\"{:,.2f}\".format)    \n",
    "\n",
    "    titles = ['Training set performance', 'Test set performance']\n",
    "    render_widgets(2, titles, [train_report, test_report])\n",
    "\n",
    "    add_train_metrics = pd.DataFrame([{'Log Loss': log_loss_train,\n",
    "                                      'ROC AUC': round(roc_auc_train, 4),\n",
    "                                      'AUPRC': round(auprc_train, 4)}], columns = ['Log Loss',\n",
    "                                                                                   'ROC AUC',\n",
    "                                                                                   'AUPRC']).transpose().rename(columns = {0: 'Train Score'})\n",
    "    add_test_metrics = pd.DataFrame([{'Log Loss': log_loss_value,\n",
    "                                     'ROC AUC': round(roc_auc, 4),\n",
    "                                     'AUPRC': round(auprc_test, 4)}], columns = ['Log Loss',\n",
    "                                                                                 'ROC AUC',\n",
    "                                                                                 'AUPRC']).transpose().rename(columns = {0: 'Test Score'})\n",
    "\n",
    "    titles = ['Additional metrics', '(Log Loss, ROC Curve, Precission-Recall)']\n",
    "    render_widgets(2, titles, [add_train_metrics, add_test_metrics])\n",
    "\n",
    "    # print the confusion matrix\n",
    "    cm = confusion_matrix(y_test, y_predict)\n",
    "\n",
    "    sns.set_context('talk')\n",
    "\n",
    "    sns.heatmap(cm, fmt = 'd', annot = True, cmap = 'RdGy')    "
   ]
  },
  {
   "cell_type": "code",
   "execution_count": 9,
   "id": "c81e1604-5488-4b94-a71e-76d5c893c49b",
   "metadata": {},
   "outputs": [
    {
     "data": {
      "image/png": "[encoded data removed]",
      "text/plain": [
       "<Figure size 1000x1000 with 2 Axes>"
      ]
     },
     "metadata": {},
     "output_type": "display_data"
    }
   ],
   "source": [
    "# Create a correlation matrix\n",
    "corr_matrix = df.corr()\n",
    "\n",
    "# Plot the correlation matrix\n",
    "sns.set_context('talk')\n",
    "\n",
    "plt.figure(figsize = (10, 10))\n",
    "\n",
    "_ = sns.heatmap(corr_matrix, annot = True, fmt = \".3f\", linewidths = .5)\n",
    "\n",
    "plt.show()"
   ]
  },
  {
   "cell_type": "code",
   "execution_count": 10,
   "id": "18252f2e-a275-43ad-8d16-2888c3c520d6",
   "metadata": {},
   "outputs": [
    {
     "data": {
      "text/markdown": [
       "---"
      ],
      "text/plain": [
       "<IPython.core.display.Markdown object>"
      ]
     },
     "metadata": {},
     "output_type": "display_data"
    },
    {
     "data": {
      "text/markdown": [
       "<span style='color:#9DC183'>**N_GLU**: 5</span>"
      ],
      "text/plain": [
       "<IPython.core.display.Markdown object>"
      ]
     },
     "metadata": {},
     "output_type": "display_data"
    },
    {
     "data": {
      "text/markdown": [
       "<span style='color:#9DC183'>**N_INS**: 374</span>"
      ],
      "text/plain": [
       "<IPython.core.display.Markdown object>"
      ]
     },
     "metadata": {},
     "output_type": "display_data"
    },
    {
     "data": {
      "text/markdown": [
       "<span style='color:#9DC183'>**N_BMI**: 11</span>"
      ],
      "text/plain": [
       "<IPython.core.display.Markdown object>"
      ]
     },
     "metadata": {},
     "output_type": "display_data"
    },
    {
     "data": {
      "text/markdown": [
       "<span style='color:#9DC183'>**N_BPS**: 35</span>"
      ],
      "text/plain": [
       "<IPython.core.display.Markdown object>"
      ]
     },
     "metadata": {},
     "output_type": "display_data"
    },
    {
     "data": {
      "text/markdown": [
       "<span style='color:#9DC183'>**N_STH**: 227</span>"
      ],
      "text/plain": [
       "<IPython.core.display.Markdown object>"
      ]
     },
     "metadata": {},
     "output_type": "display_data"
    },
    {
     "data": {
      "text/markdown": [
       "---"
      ],
      "text/plain": [
       "<IPython.core.display.Markdown object>"
      ]
     },
     "metadata": {},
     "output_type": "display_data"
    }
   ],
   "source": [
    "cols = [\"Glucose\",\"Insulin\",\"BMI\",\"BloodPressure\",\"SkinThickness\"]\n",
    "df[cols] = df[cols].replace({0: np.nan})\n",
    "\n",
    "print_missing_data_summary(df)"
   ]
  },
  {
   "cell_type": "code",
   "execution_count": 11,
   "id": "721a2a76-dd3e-4866-8511-a11b6f1cccca",
   "metadata": {},
   "outputs": [
    {
     "name": "stdout",
     "output_type": "stream",
     "text": [
      "(768, 8)\n",
      "(768,)\n"
     ]
    }
   ],
   "source": [
    "# split the dataframe into target and features\n",
    "\n",
    "y = df[\"Outcome\"].copy() # target\n",
    "X = df.drop(columns = [\"Outcome\"]).copy() # features\n",
    "\n",
    "# Verify that the split was performed correctly\n",
    "print(X.shape)\n",
    "print(y.shape)"
   ]
  },
  {
   "cell_type": "code",
   "execution_count": 12,
   "id": "7950ca98-f7ac-4b3e-a876-42d03d547f1c",
   "metadata": {},
   "outputs": [
    {
     "data": {
      "text/markdown": [
       "---"
      ],
      "text/plain": [
       "<IPython.core.display.Markdown object>"
      ]
     },
     "metadata": {},
     "output_type": "display_data"
    },
    {
     "data": {
      "text/markdown": [
       "<span style='color:#9DC183'>**N_GLU**: 0</span>"
      ],
      "text/plain": [
       "<IPython.core.display.Markdown object>"
      ]
     },
     "metadata": {},
     "output_type": "display_data"
    },
    {
     "data": {
      "text/markdown": [
       "<span style='color:#9DC183'>**N_INS**: 374</span>"
      ],
      "text/plain": [
       "<IPython.core.display.Markdown object>"
      ]
     },
     "metadata": {},
     "output_type": "display_data"
    },
    {
     "data": {
      "text/markdown": [
       "<span style='color:#9DC183'>**N_BMI**: 0</span>"
      ],
      "text/plain": [
       "<IPython.core.display.Markdown object>"
      ]
     },
     "metadata": {},
     "output_type": "display_data"
    },
    {
     "data": {
      "text/markdown": [
       "<span style='color:#9DC183'>**N_BPS**: 0</span>"
      ],
      "text/plain": [
       "<IPython.core.display.Markdown object>"
      ]
     },
     "metadata": {},
     "output_type": "display_data"
    },
    {
     "data": {
      "text/markdown": [
       "<span style='color:#9DC183'>**N_STH**: 227</span>"
      ],
      "text/plain": [
       "<IPython.core.display.Markdown object>"
      ]
     },
     "metadata": {},
     "output_type": "display_data"
    },
    {
     "data": {
      "text/markdown": [
       "---"
      ],
      "text/plain": [
       "<IPython.core.display.Markdown object>"
      ]
     },
     "metadata": {},
     "output_type": "display_data"
    }
   ],
   "source": [
    "from sklearn.impute import SimpleImputer\n",
    "\n",
    "imp_mean = SimpleImputer(missing_values=np.nan, strategy='mean', copy = False)\n",
    "\n",
    "cols = [\"Glucose\", \"BMI\", \"BloodPressure\"]\n",
    "X[cols] = imp_mean.fit_transform(X[cols])\n",
    "\n",
    "print_missing_data_summary(X)"
   ]
  },
  {
   "cell_type": "code",
   "execution_count": 13,
   "id": "41551774-cee9-4d93-b5bb-63e4d1928051",
   "metadata": {},
   "outputs": [
    {
     "name": "stdout",
     "output_type": "stream",
     "text": [
      "100%|███████| 100/100 [00:35<00:00,  2.78trial/s, best loss: 100.83567724283948]\n"
     ]
    },
    {
     "data": {
      "text/markdown": [
       "---"
      ],
      "text/plain": [
       "<IPython.core.display.Markdown object>"
      ]
     },
     "metadata": {},
     "output_type": "display_data"
    },
    {
     "data": {
      "text/markdown": [
       "<span style='color:#9DC183'>**N_GLU**: 0</span>"
      ],
      "text/plain": [
       "<IPython.core.display.Markdown object>"
      ]
     },
     "metadata": {},
     "output_type": "display_data"
    },
    {
     "data": {
      "text/markdown": [
       "<span style='color:#9DC183'>**N_INS**: 0</span>"
      ],
      "text/plain": [
       "<IPython.core.display.Markdown object>"
      ]
     },
     "metadata": {},
     "output_type": "display_data"
    },
    {
     "data": {
      "text/markdown": [
       "<span style='color:#9DC183'>**N_BMI**: 0</span>"
      ],
      "text/plain": [
       "<IPython.core.display.Markdown object>"
      ]
     },
     "metadata": {},
     "output_type": "display_data"
    },
    {
     "data": {
      "text/markdown": [
       "<span style='color:#9DC183'>**N_BPS**: 0</span>"
      ],
      "text/plain": [
       "<IPython.core.display.Markdown object>"
      ]
     },
     "metadata": {},
     "output_type": "display_data"
    },
    {
     "data": {
      "text/markdown": [
       "<span style='color:#9DC183'>**N_STH**: 227</span>"
      ],
      "text/plain": [
       "<IPython.core.display.Markdown object>"
      ]
     },
     "metadata": {},
     "output_type": "display_data"
    },
    {
     "data": {
      "text/markdown": [
       "---"
      ],
      "text/plain": [
       "<IPython.core.display.Markdown object>"
      ]
     },
     "metadata": {},
     "output_type": "display_data"
    }
   ],
   "source": [
    "cols = [\"Glucose\", \"Insulin\"]\n",
    "\n",
    "y_train_imp = X[cols[1]].dropna()\n",
    "X_train_imp = X.loc[y_train_imp.index, cols[0]].values.reshape(-1, 1)\n",
    "\n",
    "from hyperopt import hp, fmin, tpe, STATUS_OK, Trials, space_eval\n",
    "\n",
    "# Define the search space for hyperparameters\n",
    "space = {\n",
    "    'max_depth': hp.choice('max_depth', np.arange(2, 11, dtype = int)),\n",
    "    'n_estimators': hp.choice('n_estimators', np.arange(100, 1001, dtype = int)),\n",
    "    'learning_rate': hp.uniform('learning_rate', 1e-3, 5e-1),\n",
    "    'min_child_weight': hp.choice('min_child_weight', np.arange(1, 11, dtype = int)),\n",
    "    'num_leaves': hp.choice('num_leaves', np.arange(10, 65, dtype = int)),\n",
    "    'subsample': hp.uniform('subsample', 0.5, 1.0),\n",
    "    'min_child_samples': hp.choice('min_child_samples', np.arange(5, 101, dtype = int)),\n",
    "    'colsample_bytree': hp.uniform('colsample_bytree', 0.5, 1.0),\n",
    "    'reg_alpha': hp.uniform('reg_alpha', 1e-8, 1.0),\n",
    "    'reg_lambda': hp.uniform('reg_lambda', 1e-8, 1.0),    \n",
    "    \n",
    "    \n",
    "}\n",
    "\n",
    "# Define the objective function to minimize (e.g., mean squared error)\n",
    "def objective(params):\n",
    "    # Instantiate a Gradient Boosting Regressor with the specified hyperparameters\n",
    "    gb_imputer = XGBRegressor(\n",
    "        objective = 'reg:squarederror',\n",
    "        max_depth = int(params['max_depth']),\n",
    "        n_estimators = int(params['n_estimators']),\n",
    "        learning_rate = params['learning_rate'],\n",
    "        min_child_weight = int(params['min_child_weight']),        \n",
    "        subsample = params['subsample'],\n",
    "        colsample_bytree = params['colsample_bytree'],\n",
    "        reg_alpha = params['reg_alpha'],\n",
    "        reg_lambda = params['reg_lambda'],                        \n",
    "        seed = 21,\n",
    "        n_jobs = -1,                \n",
    "        verbosity = 0,       \n",
    "    )\n",
    "\n",
    "    score = cross_val_score(gb_imputer,\n",
    "                            X_train_imp,\n",
    "                            y_train_imp,\n",
    "                            cv=5,\n",
    "                            scoring='neg_root_mean_squared_error',\n",
    "                            n_jobs=-1)\n",
    "    \n",
    "    return {'loss': -score.mean(), 'status': STATUS_OK}    \n",
    "    \n",
    "# Run hyperparameter optimization\n",
    "trials = Trials()\n",
    "best = fmin(fn=objective, \n",
    "            space=space, \n",
    "            algo=tpe.suggest, \n",
    "            max_evals=100, \n",
    "            trials=trials,\n",
    "            rstate=np.random.default_rng(21)\n",
    "           )\n",
    "\n",
    "# Get the best hyperparameters\n",
    "best_params = space_eval(space, best)\n",
    "\n",
    "# Instantiate a Gradient Boosting Regressor with the best hyperparameters\n",
    "gb_imputer = XGBRegressor(**best_params,\n",
    "                           seed = 21,\n",
    "                           n_jobs = -1,                           \n",
    "                           verbosity = 0,                           \n",
    "                           )\n",
    "\n",
    "# Fit the imputer on your data\n",
    "gb_imputer.fit(X_train_imp, y_train_imp)\n",
    "\n",
    "y_missing_idx = X[cols[1]].isna()\n",
    "X_new = X.loc[y_missing_idx, cols[0]].values.reshape(-1, 1)\n",
    "\n",
    "# Predict missing values\n",
    "y_predict = gb_imputer.predict(X_new)\n",
    "\n",
    "# Update the original DataFrame with predicted values\n",
    "X.loc[y_missing_idx, cols[1]] = y_predict\n",
    "\n",
    "print_missing_data_summary(X)"
   ]
  },
  {
   "cell_type": "code",
   "execution_count": 14,
   "id": "183f0773-f98f-4da6-aadc-15c8e5212f59",
   "metadata": {},
   "outputs": [
    {
     "name": "stdout",
     "output_type": "stream",
     "text": [
      "100%|███████| 100/100 [00:40<00:00,  2.48trial/s, best loss: 7.9809844064657565]\n"
     ]
    },
    {
     "data": {
      "text/markdown": [
       "---"
      ],
      "text/plain": [
       "<IPython.core.display.Markdown object>"
      ]
     },
     "metadata": {},
     "output_type": "display_data"
    },
    {
     "data": {
      "text/markdown": [
       "<span style='color:#9DC183'>**N_GLU**: 0</span>"
      ],
      "text/plain": [
       "<IPython.core.display.Markdown object>"
      ]
     },
     "metadata": {},
     "output_type": "display_data"
    },
    {
     "data": {
      "text/markdown": [
       "<span style='color:#9DC183'>**N_INS**: 0</span>"
      ],
      "text/plain": [
       "<IPython.core.display.Markdown object>"
      ]
     },
     "metadata": {},
     "output_type": "display_data"
    },
    {
     "data": {
      "text/markdown": [
       "<span style='color:#9DC183'>**N_BMI**: 0</span>"
      ],
      "text/plain": [
       "<IPython.core.display.Markdown object>"
      ]
     },
     "metadata": {},
     "output_type": "display_data"
    },
    {
     "data": {
      "text/markdown": [
       "<span style='color:#9DC183'>**N_BPS**: 0</span>"
      ],
      "text/plain": [
       "<IPython.core.display.Markdown object>"
      ]
     },
     "metadata": {},
     "output_type": "display_data"
    },
    {
     "data": {
      "text/markdown": [
       "<span style='color:#9DC183'>**N_STH**: 0</span>"
      ],
      "text/plain": [
       "<IPython.core.display.Markdown object>"
      ]
     },
     "metadata": {},
     "output_type": "display_data"
    },
    {
     "data": {
      "text/markdown": [
       "---"
      ],
      "text/plain": [
       "<IPython.core.display.Markdown object>"
      ]
     },
     "metadata": {},
     "output_type": "display_data"
    }
   ],
   "source": [
    "cols = [\"BMI\", \"SkinThickness\"]\n",
    "\n",
    "y_train_imp = X[cols[1]].dropna()\n",
    "X_train_imp = X.loc[y_train_imp.index, cols[0]].values.reshape(-1, 1)\n",
    "\n",
    "from hyperopt import hp, fmin, tpe, STATUS_OK, Trials, space_eval\n",
    "\n",
    "# Define the search space for hyperparameters\n",
    "space = {\n",
    "    'max_depth': hp.choice('max_depth', np.arange(2, 11, dtype = int)),\n",
    "    'n_estimators': hp.choice('n_estimators', np.arange(100, 1001, dtype = int)),\n",
    "    'learning_rate': hp.uniform('learning_rate', 1e-3, 5e-1),\n",
    "    'min_child_weight': hp.choice('min_child_weight', np.arange(1, 11, dtype = int)),\n",
    "    'num_leaves': hp.choice('num_leaves', np.arange(10, 65, dtype = int)),\n",
    "    'subsample': hp.uniform('subsample', 0.5, 1.0),\n",
    "    'min_child_samples': hp.choice('min_child_samples', np.arange(5, 101, dtype = int)),\n",
    "    'colsample_bytree': hp.uniform('colsample_bytree', 0.5, 1.0),\n",
    "    'reg_alpha': hp.uniform('reg_alpha', 1e-8, 1.0),\n",
    "    'reg_lambda': hp.uniform('reg_lambda', 1e-8, 1.0),    \n",
    "    \n",
    "    \n",
    "}\n",
    "\n",
    "# Define the objective function to minimize (e.g., mean squared error)\n",
    "def objective(params):\n",
    "    # Instantiate a Gradient Boosting Regressor with the specified hyperparameters\n",
    "    gb_imputer = XGBRegressor(\n",
    "        objective = 'reg:squarederror',\n",
    "        max_depth = int(params['max_depth']),\n",
    "        n_estimators = int(params['n_estimators']),\n",
    "        learning_rate = params['learning_rate'],\n",
    "        min_child_weight = int(params['min_child_weight']),        \n",
    "        subsample = params['subsample'],\n",
    "        colsample_bytree = params['colsample_bytree'],\n",
    "        reg_alpha = params['reg_alpha'],\n",
    "        reg_lambda = params['reg_lambda'],                        \n",
    "        seed = 21,\n",
    "        n_jobs = -1,              \n",
    "        verbosity = 0,       \n",
    "    )\n",
    "\n",
    "    score = cross_val_score(gb_imputer,\n",
    "                            X_train_imp,\n",
    "                            y_train_imp,\n",
    "                            cv=5,\n",
    "                            scoring='neg_root_mean_squared_error',\n",
    "                            n_jobs=-1)\n",
    "    \n",
    "    return {'loss': -score.mean(), 'status': STATUS_OK}    \n",
    "    \n",
    "# Run hyperparameter optimization\n",
    "trials = Trials()\n",
    "best = fmin(fn=objective, \n",
    "            space=space, \n",
    "            algo=tpe.suggest, \n",
    "            max_evals=100, \n",
    "            trials=trials,\n",
    "            rstate=np.random.default_rng(21)\n",
    "           )\n",
    "\n",
    "# Get the best hyperparameters\n",
    "best_params = space_eval(space, best)\n",
    "\n",
    "# Instantiate a Gradient Boosting Regressor with the best hyperparameters\n",
    "gb_imputer = XGBRegressor(**best_params,\n",
    "                           seed = 21,\n",
    "                           n_jobs = -1,                           \n",
    "                           verbosity = 0,                                                      \n",
    "                           )\n",
    "\n",
    "# Fit the imputer on your data\n",
    "gb_imputer.fit(X_train_imp, y_train_imp)\n",
    "\n",
    "y_missing_idx = X[cols[1]].isna()\n",
    "X_new = X.loc[y_missing_idx, cols[0]].values.reshape(-1, 1)\n",
    "\n",
    "# Predict missing values\n",
    "y_predict = gb_imputer.predict(X_new)\n",
    "\n",
    "# Update the original DataFrame with predicted values\n",
    "X.loc[y_missing_idx, cols[1]] = y_predict\n",
    "\n",
    "print_missing_data_summary(X)\n",
    "\n",
    "\n",
    "\n",
    "\n",
    "\n",
    "# # Instantiate a Gradient Boosting Regressor\n",
    "# gb_imputer = XGBRegressor(n_estimators=100, random_state=21)\n",
    "\n",
    "# cols = [\"BMI\", \"SkinThickness\"]\n",
    "\n",
    "# y_train_imp = X[cols[1]].dropna()\n",
    "# X_train_imp = X.loc[y_train_imp.index, cols[0]].values.reshape(-1, 1)\n",
    "\n",
    "# gb_imputer.fit(X_train_imp, y_train_imp)\n",
    "\n",
    "# y_missing_idx = X[cols[1]].isna()\n",
    "# X_new = X.loc[y_missing_idx, cols[0]].values.reshape(-1, 1)\n",
    "\n",
    "# y_predict = gb_imputer.predict(X_new)\n",
    "\n",
    "# # Update the original DataFrame with predicted values\n",
    "# X.loc[y_missing_idx, cols[1]] = y_predict\n",
    "\n",
    "# print_missing_data_summary(X)"
   ]
  },
  {
   "cell_type": "code",
   "execution_count": 15,
   "id": "5914014c-9080-4362-89a4-9fc64953a623",
   "metadata": {},
   "outputs": [
    {
     "data": {
      "image/png": "[encoded data removed]",
      "text/plain": [
       "<Figure size 1000x1000 with 2 Axes>"
      ]
     },
     "metadata": {},
     "output_type": "display_data"
    }
   ],
   "source": [
    "# Create a correlation matrix\n",
    "corr_matrix = X.corr()\n",
    "\n",
    "# Plot the correlation matrix\n",
    "sns.set_context('talk')\n",
    "\n",
    "plt.figure(figsize = (10, 10))\n",
    "\n",
    "_ = sns.heatmap(corr_matrix, annot = True, fmt = \".3f\", linewidths = .5)\n",
    "\n",
    "plt.show()"
   ]
  },
  {
   "cell_type": "code",
   "execution_count": 16,
   "id": "36a2d149-9846-4303-b068-96b70c517989",
   "metadata": {},
   "outputs": [
    {
     "data": {
      "application/vnd.jupyter.widget-view+json": {
       "model_id": "f6ff3a7a7b10435abfbef70d2b8f88a8",
       "version_major": 2,
       "version_minor": 0
      },
      "text/plain": [
       "HBox(children=(Output(), Output()), layout=Layout(display='flex', flex_flow='row', justify_content='flex-start…"
      ]
     },
     "metadata": {},
     "output_type": "display_data"
    }
   ],
   "source": [
    "df1 = df.dtypes\n",
    "df2 = X.dtypes\n",
    "\n",
    "\n",
    "titles = ['Original dtypes', 'New dtypes' ]\n",
    "render_widgets(2, titles, [df1, df2])"
   ]
  },
  {
   "cell_type": "code",
   "execution_count": 17,
   "id": "74006c1b-06aa-4dc6-894a-dbf54f576301",
   "metadata": {},
   "outputs": [
    {
     "data": {
      "text/plain": [
       "Pregnancies                   int64\n",
       "Glucose                       int64\n",
       "BloodPressure                 int64\n",
       "SkinThickness                 int64\n",
       "Insulin                       int64\n",
       "BMI                         float64\n",
       "DiabetesPedigreeFunction    float64\n",
       "Age                           int64\n",
       "dtype: object"
      ]
     },
     "execution_count": 17,
     "metadata": {},
     "output_type": "execute_result"
    }
   ],
   "source": [
    "cols = ['Glucose', 'BloodPressure', 'SkinThickness', 'Insulin', 'Age']\n",
    "\n",
    "X[cols] = X[cols].astype(int)\n",
    "\n",
    "X.dtypes"
   ]
  },
  {
   "cell_type": "code",
   "execution_count": 18,
   "id": "f44ddd33-342d-45ed-adc5-cea946f3199f",
   "metadata": {},
   "outputs": [],
   "source": [
    "# sns.pairplot(X, \n",
    "#              #hue = 'Outcome',\n",
    "#              kind = 'scatter',\n",
    "#              diag_kind = 'hist')"
   ]
  },
  {
   "cell_type": "code",
   "execution_count": 19,
   "id": "7b107738-ef6f-460f-b3da-22e4e6679eb4",
   "metadata": {},
   "outputs": [
    {
     "name": "stdout",
     "output_type": "stream",
     "text": [
      "Counter({0: 500, 1: 268})\n"
     ]
    }
   ],
   "source": [
    "from collections import Counter\n",
    "\n",
    "counter = Counter(y)\n",
    "print(counter)"
   ]
  },
  {
   "cell_type": "code",
   "execution_count": 20,
   "id": "f15712ba-38fb-4af0-86ca-56b04ff4ef6c",
   "metadata": {},
   "outputs": [
    {
     "name": "stdout",
     "output_type": "stream",
     "text": [
      "Estimate: 1.866\n"
     ]
    }
   ],
   "source": [
    "# estimate scale_pos_weight value\n",
    "estimate = counter[0] / counter[1]\n",
    "print('Estimate: %.3f' % estimate)"
   ]
  },
  {
   "cell_type": "code",
   "execution_count": 21,
   "id": "63c51e31-53c9-4192-9e0c-6c520c54b2b9",
   "metadata": {},
   "outputs": [
    {
     "name": "stdout",
     "output_type": "stream",
     "text": [
      "Training set\n",
      "(514, 8)\n",
      "(514,)\n",
      "\n",
      "Testing set\n",
      "(254, 8)\n",
      "(254,)\n",
      "\n"
     ]
    }
   ],
   "source": [
    "# split the labels and features into training and testing sets\n",
    "\n",
    "from sklearn.model_selection import train_test_split\n",
    "\n",
    "X_train, X_test, y_train, y_test = train_test_split(X, y, test_size = 0.33, random_state = 21, stratify = y)\n",
    "\n",
    "# Verify that the split was performed correctly\n",
    "print('Training set')\n",
    "print(X_train.shape)\n",
    "print(y_train.shape)\n",
    "print()\n",
    "print('Testing set')\n",
    "print(X_test.shape)\n",
    "print(y_test.shape)\n",
    "print()"
   ]
  },
  {
   "cell_type": "code",
   "execution_count": 22,
   "id": "f31691ea-b47c-446a-9cc0-f22b0ccb5bda",
   "metadata": {},
   "outputs": [
    {
     "name": "stdout",
     "output_type": "stream",
     "text": [
      "RangeIndex(start=0, stop=768, step=1)\n",
      "\n",
      "Index([341, 695, 387, 528, 619, 195, 700, 581, 579, 131,\n",
      "       ...\n",
      "       570, 107, 588,   2, 355,  96, 544, 508, 470, 727],\n",
      "      dtype='int64', length=514)\n"
     ]
    }
   ],
   "source": [
    "# Verify that the index has been shuffled\n",
    "print(X.index)\n",
    "print()\n",
    "print(X_train.index)"
   ]
  },
  {
   "cell_type": "code",
   "execution_count": 23,
   "id": "d086760f-a14d-4cc8-bed9-b65aa458d0bc",
   "metadata": {},
   "outputs": [
    {
     "data": {
      "text/plain": [
       "Index(['Pregnancies', 'Glucose', 'BloodPressure', 'SkinThickness', 'Insulin',\n",
       "       'BMI', 'DiabetesPedigreeFunction', 'Age'],\n",
       "      dtype='object')"
      ]
     },
     "execution_count": 23,
     "metadata": {},
     "output_type": "execute_result"
    }
   ],
   "source": [
    "X_train.columns"
   ]
  },
  {
   "cell_type": "code",
   "execution_count": 24,
   "id": "fbff6e84-e86a-40d7-a3e8-825f9e1a76c9",
   "metadata": {},
   "outputs": [
    {
     "data": {
      "text/html": [
       "<div>\n",
       "<style scoped>\n",
       "    .dataframe tbody tr th:only-of-type {\n",
       "        vertical-align: middle;\n",
       "    }\n",
       "\n",
       "    .dataframe tbody tr th {\n",
       "        vertical-align: top;\n",
       "    }\n",
       "\n",
       "    .dataframe thead th {\n",
       "        text-align: right;\n",
       "    }\n",
       "</style>\n",
       "<table border=\"1\" class=\"dataframe\">\n",
       "  <thead>\n",
       "    <tr style=\"text-align: right;\">\n",
       "      <th></th>\n",
       "      <th>Pregnancies</th>\n",
       "      <th>Glucose</th>\n",
       "      <th>BloodPressure</th>\n",
       "      <th>SkinThickness</th>\n",
       "      <th>Insulin</th>\n",
       "      <th>BMI</th>\n",
       "      <th>DiabetesPedigreeFunction</th>\n",
       "      <th>Age</th>\n",
       "    </tr>\n",
       "  </thead>\n",
       "  <tbody>\n",
       "    <tr>\n",
       "      <th>0</th>\n",
       "      <td>0.071429</td>\n",
       "      <td>0.271429</td>\n",
       "      <td>0.523810</td>\n",
       "      <td>0.152174</td>\n",
       "      <td>0.070913</td>\n",
       "      <td>0.154004</td>\n",
       "      <td>0.254056</td>\n",
       "      <td>0.250000</td>\n",
       "    </tr>\n",
       "    <tr>\n",
       "      <th>1</th>\n",
       "      <td>0.500000</td>\n",
       "      <td>0.607143</td>\n",
       "      <td>0.714286</td>\n",
       "      <td>0.184783</td>\n",
       "      <td>0.560096</td>\n",
       "      <td>0.246407</td>\n",
       "      <td>0.021349</td>\n",
       "      <td>0.366667</td>\n",
       "    </tr>\n",
       "    <tr>\n",
       "      <th>2</th>\n",
       "      <td>0.571429</td>\n",
       "      <td>0.342857</td>\n",
       "      <td>0.833333</td>\n",
       "      <td>0.315217</td>\n",
       "      <td>0.135817</td>\n",
       "      <td>0.511294</td>\n",
       "      <td>0.068745</td>\n",
       "      <td>0.400000</td>\n",
       "    </tr>\n",
       "    <tr>\n",
       "      <th>3</th>\n",
       "      <td>0.000000</td>\n",
       "      <td>0.428571</td>\n",
       "      <td>0.428571</td>\n",
       "      <td>0.260870</td>\n",
       "      <td>0.209135</td>\n",
       "      <td>0.254620</td>\n",
       "      <td>0.177199</td>\n",
       "      <td>0.016667</td>\n",
       "    </tr>\n",
       "    <tr>\n",
       "      <th>4</th>\n",
       "      <td>0.000000</td>\n",
       "      <td>0.442857</td>\n",
       "      <td>0.500000</td>\n",
       "      <td>0.195652</td>\n",
       "      <td>0.137019</td>\n",
       "      <td>0.287474</td>\n",
       "      <td>0.026900</td>\n",
       "      <td>0.050000</td>\n",
       "    </tr>\n",
       "  </tbody>\n",
       "</table>\n",
       "</div>"
      ],
      "text/plain": [
       "   Pregnancies   Glucose  BloodPressure  SkinThickness   Insulin       BMI  \\\n",
       "0     0.071429  0.271429       0.523810       0.152174  0.070913  0.154004   \n",
       "1     0.500000  0.607143       0.714286       0.184783  0.560096  0.246407   \n",
       "2     0.571429  0.342857       0.833333       0.315217  0.135817  0.511294   \n",
       "3     0.000000  0.428571       0.428571       0.260870  0.209135  0.254620   \n",
       "4     0.000000  0.442857       0.500000       0.195652  0.137019  0.287474   \n",
       "\n",
       "   DiabetesPedigreeFunction       Age  \n",
       "0                  0.254056  0.250000  \n",
       "1                  0.021349  0.366667  \n",
       "2                  0.068745  0.400000  \n",
       "3                  0.177199  0.016667  \n",
       "4                  0.026900  0.050000  "
      ]
     },
     "metadata": {},
     "output_type": "display_data"
    },
    {
     "name": "stdout",
     "output_type": "stream",
     "text": [
      "\n"
     ]
    },
    {
     "data": {
      "text/html": [
       "<div>\n",
       "<style scoped>\n",
       "    .dataframe tbody tr th:only-of-type {\n",
       "        vertical-align: middle;\n",
       "    }\n",
       "\n",
       "    .dataframe tbody tr th {\n",
       "        vertical-align: top;\n",
       "    }\n",
       "\n",
       "    .dataframe thead th {\n",
       "        text-align: right;\n",
       "    }\n",
       "</style>\n",
       "<table border=\"1\" class=\"dataframe\">\n",
       "  <thead>\n",
       "    <tr style=\"text-align: right;\">\n",
       "      <th></th>\n",
       "      <th>Pregnancies</th>\n",
       "      <th>Glucose</th>\n",
       "      <th>BloodPressure</th>\n",
       "      <th>SkinThickness</th>\n",
       "      <th>Insulin</th>\n",
       "      <th>BMI</th>\n",
       "      <th>DiabetesPedigreeFunction</th>\n",
       "      <th>Age</th>\n",
       "    </tr>\n",
       "  </thead>\n",
       "  <tbody>\n",
       "    <tr>\n",
       "      <th>341</th>\n",
       "      <td>1</td>\n",
       "      <td>95</td>\n",
       "      <td>74</td>\n",
       "      <td>21</td>\n",
       "      <td>73</td>\n",
       "      <td>25.9</td>\n",
       "      <td>0.673</td>\n",
       "      <td>36</td>\n",
       "    </tr>\n",
       "    <tr>\n",
       "      <th>695</th>\n",
       "      <td>7</td>\n",
       "      <td>142</td>\n",
       "      <td>90</td>\n",
       "      <td>24</td>\n",
       "      <td>480</td>\n",
       "      <td>30.4</td>\n",
       "      <td>0.128</td>\n",
       "      <td>43</td>\n",
       "    </tr>\n",
       "    <tr>\n",
       "      <th>387</th>\n",
       "      <td>8</td>\n",
       "      <td>105</td>\n",
       "      <td>100</td>\n",
       "      <td>36</td>\n",
       "      <td>127</td>\n",
       "      <td>43.3</td>\n",
       "      <td>0.239</td>\n",
       "      <td>45</td>\n",
       "    </tr>\n",
       "    <tr>\n",
       "      <th>528</th>\n",
       "      <td>0</td>\n",
       "      <td>117</td>\n",
       "      <td>66</td>\n",
       "      <td>31</td>\n",
       "      <td>188</td>\n",
       "      <td>30.8</td>\n",
       "      <td>0.493</td>\n",
       "      <td>22</td>\n",
       "    </tr>\n",
       "    <tr>\n",
       "      <th>619</th>\n",
       "      <td>0</td>\n",
       "      <td>119</td>\n",
       "      <td>72</td>\n",
       "      <td>25</td>\n",
       "      <td>128</td>\n",
       "      <td>32.4</td>\n",
       "      <td>0.141</td>\n",
       "      <td>24</td>\n",
       "    </tr>\n",
       "  </tbody>\n",
       "</table>\n",
       "</div>"
      ],
      "text/plain": [
       "     Pregnancies  Glucose  BloodPressure  SkinThickness  Insulin   BMI  \\\n",
       "341            1       95             74             21       73  25.9   \n",
       "695            7      142             90             24      480  30.4   \n",
       "387            8      105            100             36      127  43.3   \n",
       "528            0      117             66             31      188  30.8   \n",
       "619            0      119             72             25      128  32.4   \n",
       "\n",
       "     DiabetesPedigreeFunction  Age  \n",
       "341                     0.673   36  \n",
       "695                     0.128   43  \n",
       "387                     0.239   45  \n",
       "528                     0.493   22  \n",
       "619                     0.141   24  "
      ]
     },
     "metadata": {},
     "output_type": "display_data"
    }
   ],
   "source": [
    "from sklearn.preprocessing import MinMaxScaler\n",
    "\n",
    "# Create a StandardScaler object\n",
    "scaler = MinMaxScaler()\n",
    "\n",
    "# Fit and transform the training data\n",
    "X_train_scaled = pd.DataFrame(scaler.fit_transform(X_train), columns = X_train.columns)\n",
    "\n",
    "# Transform the test data (using the same scaling parameters as the training data)\n",
    "X_test_scaled = pd.DataFrame(scaler.transform(X_test), columns = X_test.columns)\n",
    "\n",
    "display(pd.DataFrame(X_train_scaled).head())\n",
    "\n",
    "print()\n",
    "\n",
    "display(X_train.head())"
   ]
  },
  {
   "cell_type": "markdown",
   "id": "be9921ab-8fd3-419f-8352-6ae5d94c9578",
   "metadata": {},
   "source": [
    "# Train a base XGBoost Classifier on the dataset"
   ]
  },
  {
   "cell_type": "code",
   "execution_count": 25,
   "id": "0fd1328c-a4a4-4cbf-8401-cd7560b53544",
   "metadata": {},
   "outputs": [
    {
     "data": {
      "text/html": [
       "<style>#sk-container-id-1 {color: black;background-color: white;}#sk-container-id-1 pre{padding: 0;}#sk-container-id-1 div.sk-toggleable {background-color: white;}#sk-container-id-1 label.sk-toggleable__label {cursor: pointer;display: block;width: 100%;margin-bottom: 0;padding: 0.3em;box-sizing: border-box;text-align: center;}#sk-container-id-1 label.sk-toggleable__label-arrow:before {content: \"▸\";float: left;margin-right: 0.25em;color: #696969;}#sk-container-id-1 label.sk-toggleable__label-arrow:hover:before {color: black;}#sk-container-id-1 div.sk-estimator:hover label.sk-toggleable__label-arrow:before {color: black;}#sk-container-id-1 div.sk-toggleable__content {max-height: 0;max-width: 0;overflow: hidden;text-align: left;background-color: #f0f8ff;}#sk-container-id-1 div.sk-toggleable__content pre {margin: 0.2em;color: black;border-radius: 0.25em;background-color: #f0f8ff;}#sk-container-id-1 input.sk-toggleable__control:checked~div.sk-toggleable__content {max-height: 200px;max-width: 100%;overflow: auto;}#sk-container-id-1 input.sk-toggleable__control:checked~label.sk-toggleable__label-arrow:before {content: \"▾\";}#sk-container-id-1 div.sk-estimator input.sk-toggleable__control:checked~label.sk-toggleable__label {background-color: #d4ebff;}#sk-container-id-1 div.sk-label input.sk-toggleable__control:checked~label.sk-toggleable__label {background-color: #d4ebff;}#sk-container-id-1 input.sk-hidden--visually {border: 0;clip: rect(1px 1px 1px 1px);clip: rect(1px, 1px, 1px, 1px);height: 1px;margin: -1px;overflow: hidden;padding: 0;position: absolute;width: 1px;}#sk-container-id-1 div.sk-estimator {font-family: monospace;background-color: #f0f8ff;border: 1px dotted black;border-radius: 0.25em;box-sizing: border-box;margin-bottom: 0.5em;}#sk-container-id-1 div.sk-estimator:hover {background-color: #d4ebff;}#sk-container-id-1 div.sk-parallel-item::after {content: \"\";width: 100%;border-bottom: 1px solid gray;flex-grow: 1;}#sk-container-id-1 div.sk-label:hover label.sk-toggleable__label {background-color: #d4ebff;}#sk-container-id-1 div.sk-serial::before {content: \"\";position: absolute;border-left: 1px solid gray;box-sizing: border-box;top: 0;bottom: 0;left: 50%;z-index: 0;}#sk-container-id-1 div.sk-serial {display: flex;flex-direction: column;align-items: center;background-color: white;padding-right: 0.2em;padding-left: 0.2em;position: relative;}#sk-container-id-1 div.sk-item {position: relative;z-index: 1;}#sk-container-id-1 div.sk-parallel {display: flex;align-items: stretch;justify-content: center;background-color: white;position: relative;}#sk-container-id-1 div.sk-item::before, #sk-container-id-1 div.sk-parallel-item::before {content: \"\";position: absolute;border-left: 1px solid gray;box-sizing: border-box;top: 0;bottom: 0;left: 50%;z-index: -1;}#sk-container-id-1 div.sk-parallel-item {display: flex;flex-direction: column;z-index: 1;position: relative;background-color: white;}#sk-container-id-1 div.sk-parallel-item:first-child::after {align-self: flex-end;width: 50%;}#sk-container-id-1 div.sk-parallel-item:last-child::after {align-self: flex-start;width: 50%;}#sk-container-id-1 div.sk-parallel-item:only-child::after {width: 0;}#sk-container-id-1 div.sk-dashed-wrapped {border: 1px dashed gray;margin: 0 0.4em 0.5em 0.4em;box-sizing: border-box;padding-bottom: 0.4em;background-color: white;}#sk-container-id-1 div.sk-label label {font-family: monospace;font-weight: bold;display: inline-block;line-height: 1.2em;}#sk-container-id-1 div.sk-label-container {text-align: center;}#sk-container-id-1 div.sk-container {/* jupyter's `normalize.less` sets `[hidden] { display: none; }` but bootstrap.min.css set `[hidden] { display: none !important; }` so we also need the `!important` here to be able to override the default hidden behavior on the sphinx rendered scikit-learn.org. See: https://github.com/scikit-learn/scikit-learn/issues/21755 */display: inline-block !important;position: relative;}#sk-container-id-1 div.sk-text-repr-fallback {display: none;}</style><div id=\"sk-container-id-1\" class=\"sk-top-container\"><div class=\"sk-text-repr-fallback\"><pre>XGBClassifier(base_score=None, booster=None, callbacks=None,\n",
       "              colsample_bylevel=None, colsample_bynode=None,\n",
       "              colsample_bytree=None, device=None, early_stopping_rounds=None,\n",
       "              enable_categorical=False, eval_metric=&#x27;logloss&#x27;,\n",
       "              feature_types=None, gamma=None, grow_policy=None,\n",
       "              importance_type=None, interaction_constraints=None,\n",
       "              learning_rate=None, max_bin=None, max_cat_threshold=None,\n",
       "              max_cat_to_onehot=None, max_delta_step=None, max_depth=None,\n",
       "              max_leaves=None, min_child_weight=None, missing=nan,\n",
       "              monotone_constraints=None, multi_strategy=None, n_estimators=None,\n",
       "              n_jobs=None, num_parallel_tree=None, random_state=None, ...)</pre><b>In a Jupyter environment, please rerun this cell to show the HTML representation or trust the notebook. <br />On GitHub, the HTML representation is unable to render, please try loading this page with nbviewer.org.</b></div><div class=\"sk-container\" hidden><div class=\"sk-item\"><div class=\"sk-estimator sk-toggleable\"><input class=\"sk-toggleable__control sk-hidden--visually\" id=\"sk-estimator-id-1\" type=\"checkbox\" checked><label for=\"sk-estimator-id-1\" class=\"sk-toggleable__label sk-toggleable__label-arrow\">XGBClassifier</label><div class=\"sk-toggleable__content\"><pre>XGBClassifier(base_score=None, booster=None, callbacks=None,\n",
       "              colsample_bylevel=None, colsample_bynode=None,\n",
       "              colsample_bytree=None, device=None, early_stopping_rounds=None,\n",
       "              enable_categorical=False, eval_metric=&#x27;logloss&#x27;,\n",
       "              feature_types=None, gamma=None, grow_policy=None,\n",
       "              importance_type=None, interaction_constraints=None,\n",
       "              learning_rate=None, max_bin=None, max_cat_threshold=None,\n",
       "              max_cat_to_onehot=None, max_delta_step=None, max_depth=None,\n",
       "              max_leaves=None, min_child_weight=None, missing=nan,\n",
       "              monotone_constraints=None, multi_strategy=None, n_estimators=None,\n",
       "              n_jobs=None, num_parallel_tree=None, random_state=None, ...)</pre></div></div></div></div></div>"
      ],
      "text/plain": [
       "XGBClassifier(base_score=None, booster=None, callbacks=None,\n",
       "              colsample_bylevel=None, colsample_bynode=None,\n",
       "              colsample_bytree=None, device=None, early_stopping_rounds=None,\n",
       "              enable_categorical=False, eval_metric='logloss',\n",
       "              feature_types=None, gamma=None, grow_policy=None,\n",
       "              importance_type=None, interaction_constraints=None,\n",
       "              learning_rate=None, max_bin=None, max_cat_threshold=None,\n",
       "              max_cat_to_onehot=None, max_delta_step=None, max_depth=None,\n",
       "              max_leaves=None, min_child_weight=None, missing=nan,\n",
       "              monotone_constraints=None, multi_strategy=None, n_estimators=None,\n",
       "              n_jobs=None, num_parallel_tree=None, random_state=None, ...)"
      ]
     },
     "execution_count": 25,
     "metadata": {},
     "output_type": "execute_result"
    }
   ],
   "source": [
    "#Build a classifier with minimum parameters\n",
    "xgb_classifier = XGBClassifier(objective = 'binary:logistic', \n",
    "                               eval_metric = 'logloss', \n",
    "                               scale_pos_weight = 1.866,\n",
    "                               )\n",
    "#Train the model\n",
    "xgb_classifier.fit(X_train, y_train)"
   ]
  },
  {
   "cell_type": "markdown",
   "id": "f4b1795b-c381-4d3c-b8d4-63f91afd62e6",
   "metadata": {},
   "source": [
    "# Test the model"
   ]
  },
  {
   "cell_type": "code",
   "execution_count": 26,
   "id": "8c75b7e5-e921-4cb8-b056-d31c9b2bddf1",
   "metadata": {},
   "outputs": [
    {
     "name": "stdout",
     "output_type": "stream",
     "text": [
      "\n"
     ]
    },
    {
     "data": {
      "application/vnd.jupyter.widget-view+json": {
       "model_id": "43874d7452ee44dbb74c210fa7b2dca2",
       "version_major": 2,
       "version_minor": 0
      },
      "text/plain": [
       "HBox(children=(Output(), Output()), layout=Layout(display='flex', flex_flow='row', justify_content='flex-start…"
      ]
     },
     "metadata": {},
     "output_type": "display_data"
    },
    {
     "data": {
      "application/vnd.jupyter.widget-view+json": {
       "model_id": "e841a4e692e948c99425fda4050f1da9",
       "version_major": 2,
       "version_minor": 0
      },
      "text/plain": [
       "HBox(children=(Output(), Output()), layout=Layout(display='flex', flex_flow='row', justify_content='flex-start…"
      ]
     },
     "metadata": {},
     "output_type": "display_data"
    },
    {
     "data": {
      "image/png": "[encoded data removed]",
      "text/plain": [
       "<Figure size 640x480 with 2 Axes>"
      ]
     },
     "metadata": {},
     "output_type": "display_data"
    }
   ],
   "source": [
    "print_classification_metrics(xgb_classifier, X_train, y_train, X_test, y_test)"
   ]
  },
  {
   "cell_type": "markdown",
   "id": "26ba547b-dd57-4836-8265-8b4ee322f8a5",
   "metadata": {},
   "source": [
    "## Re-train the model on the scaled set"
   ]
  },
  {
   "cell_type": "code",
   "execution_count": 27,
   "id": "6da5505c-bc34-4f57-b6de-d47c3839315f",
   "metadata": {},
   "outputs": [
    {
     "name": "stdout",
     "output_type": "stream",
     "text": [
      "\n"
     ]
    },
    {
     "data": {
      "application/vnd.jupyter.widget-view+json": {
       "model_id": "1dd9b2e0dbbf4ac98bc71b03f5a21e5d",
       "version_major": 2,
       "version_minor": 0
      },
      "text/plain": [
       "HBox(children=(Output(), Output()), layout=Layout(display='flex', flex_flow='row', justify_content='flex-start…"
      ]
     },
     "metadata": {},
     "output_type": "display_data"
    },
    {
     "data": {
      "application/vnd.jupyter.widget-view+json": {
       "model_id": "f32cd8bb97094cf0baefed5e5284ffcf",
       "version_major": 2,
       "version_minor": 0
      },
      "text/plain": [
       "HBox(children=(Output(), Output()), layout=Layout(display='flex', flex_flow='row', justify_content='flex-start…"
      ]
     },
     "metadata": {},
     "output_type": "display_data"
    },
    {
     "data": {
      "image/png": "[encoded data removed]",
      "text/plain": [
       "<Figure size 640x480 with 2 Axes>"
      ]
     },
     "metadata": {},
     "output_type": "display_data"
    }
   ],
   "source": [
    "#Build a classifier with minimum parameters\n",
    "xgb_classifier = XGBClassifier(objective = 'binary:logistic', \n",
    "                               eval_metric = 'logloss',\n",
    "                               scale_pos_weight = 1.866,\n",
    "                               )\n",
    "\n",
    "xgb_classifier.fit(X_train_scaled, y_train)\n",
    "\n",
    "# predict the performance score of the trained model using the testing dataset\n",
    "print_classification_metrics(xgb_classifier, X_train_scaled, y_train, X_test_scaled, y_test)"
   ]
  },
  {
   "cell_type": "markdown",
   "id": "82ea3059-0776-45b1-a402-1ca0b0f5fcfb",
   "metadata": {},
   "source": [
    "* For the XGBoost (tree-based) classifier wich is robust to feature scales, scaling is not particularly significant as shown by the scores above. The only improvement over the unscaled set is one less false positive as shown by the confusion matrix.   "
   ]
  },
  {
   "cell_type": "markdown",
   "id": "d530086f-9c86-40d8-a546-cb9b752ac1c1",
   "metadata": {},
   "source": [
    "## Re-train the model on the \"raw\" data"
   ]
  },
  {
   "cell_type": "code",
   "execution_count": 28,
   "id": "44045714-5652-40b8-a758-f15d340c9b04",
   "metadata": {},
   "outputs": [
    {
     "name": "stdout",
     "output_type": "stream",
     "text": [
      "\n"
     ]
    },
    {
     "data": {
      "application/vnd.jupyter.widget-view+json": {
       "model_id": "b86602f7d8bf4b1a8e2d329d1a03b31b",
       "version_major": 2,
       "version_minor": 0
      },
      "text/plain": [
       "HBox(children=(Output(), Output()), layout=Layout(display='flex', flex_flow='row', justify_content='flex-start…"
      ]
     },
     "metadata": {},
     "output_type": "display_data"
    },
    {
     "data": {
      "application/vnd.jupyter.widget-view+json": {
       "model_id": "d09dd7e7e7504ea5b9512956a265693f",
       "version_major": 2,
       "version_minor": 0
      },
      "text/plain": [
       "HBox(children=(Output(), Output()), layout=Layout(display='flex', flex_flow='row', justify_content='flex-start…"
      ]
     },
     "metadata": {},
     "output_type": "display_data"
    },
    {
     "data": {
      "image/png": "[encoded data removed]",
      "text/plain": [
       "<Figure size 640x480 with 2 Axes>"
      ]
     },
     "metadata": {},
     "output_type": "display_data"
    }
   ],
   "source": [
    "# Reload the unprocessed dataset\n",
    "df_raw = pd.read_csv(\"./Data/diabetes.csv\", sep = \",\")\n",
    "\n",
    "# split the unprocessed data into target and features\n",
    "\n",
    "y_raw = df_raw[\"Outcome\"] # target\n",
    "X_raw = df_raw.drop(columns = [\"Outcome\"]) # features\n",
    "\n",
    "# split the data into train and test sets\n",
    "X_train_raw, X_test_raw, y_train_raw, y_test_raw = train_test_split(X_raw, y_raw, test_size = 0.33, random_state = 21, stratify = y_raw)\n",
    "\n",
    "#Build a classifier with minimum parameters\n",
    "xgb_classifier = XGBClassifier(objective = 'binary:logistic', \n",
    "                               eval_metric = 'logloss', \n",
    "                               scale_pos_weight = 1.866,\n",
    "                               )\n",
    "\n",
    "#Fit the classifier to the raw data\n",
    "xgb_classifier.fit(X_train_raw, y_train_raw)\n",
    "\n",
    "# predict the performance score of the trained model using the testing dataset\n",
    "print_classification_metrics(xgb_classifier, X_train_raw, y_train_raw, X_test_raw, y_test_raw)"
   ]
  },
  {
   "cell_type": "code",
   "execution_count": null,
   "id": "cd04bc42-2fb4-4223-a45c-48143f881c9c",
   "metadata": {},
   "outputs": [],
   "source": []
  },
  {
   "cell_type": "code",
   "execution_count": null,
   "id": "a1945a5c-7ce1-493c-83b0-4882bf39a753",
   "metadata": {},
   "outputs": [],
   "source": []
  },
  {
   "cell_type": "code",
   "execution_count": null,
   "id": "2aa1ad39-a9c2-40e5-8ba4-ba0684d2c2eb",
   "metadata": {},
   "outputs": [],
   "source": []
  },
  {
   "cell_type": "code",
   "execution_count": null,
   "id": "ed70ec34-4fa1-4f44-b474-e46cfaed1bf7",
   "metadata": {},
   "outputs": [],
   "source": []
  },
  {
   "cell_type": "code",
   "execution_count": 29,
   "id": "9aa06454-2e49-4a37-af74-c10246189425",
   "metadata": {},
   "outputs": [
    {
     "name": "stdout",
     "output_type": "stream",
     "text": [
      "\n",
      "Original dataset shape Counter({0: 335, 1: 179})\n",
      "\n",
      "Resampled dataset shape Counter({0: 335, 1: 335})\n",
      "\n"
     ]
    }
   ],
   "source": [
    "from imblearn.over_sampling import SMOTE\n",
    "from collections import Counter\n",
    "\n",
    "sm = SMOTE(sampling_strategy = 'minority',\n",
    "           random_state = 21,\n",
    "           k_neighbors = 6,\n",
    "           )\n",
    "\n",
    "X_res, y_res = sm.fit_resample(X_train_scaled, y_train)\n",
    "print()\n",
    "print('Original dataset shape %s' % Counter(y_train))\n",
    "print()\n",
    "print('Resampled dataset shape %s' % Counter(y_res))\n",
    "print()"
   ]
  },
  {
   "cell_type": "code",
   "execution_count": 30,
   "id": "3b2b5d46-9753-4e9d-a890-c747c3ac115e",
   "metadata": {},
   "outputs": [
    {
     "name": "stdout",
     "output_type": "stream",
     "text": [
      "\n"
     ]
    },
    {
     "data": {
      "application/vnd.jupyter.widget-view+json": {
       "model_id": "6939c7ab54ee4bca9f4dc7ca7adf728c",
       "version_major": 2,
       "version_minor": 0
      },
      "text/plain": [
       "HBox(children=(Output(), Output()), layout=Layout(display='flex', flex_flow='row', justify_content='flex-start…"
      ]
     },
     "metadata": {},
     "output_type": "display_data"
    },
    {
     "data": {
      "application/vnd.jupyter.widget-view+json": {
       "model_id": "2e7b60764a5b43b4a3712f25bbe22df7",
       "version_major": 2,
       "version_minor": 0
      },
      "text/plain": [
       "HBox(children=(Output(), Output()), layout=Layout(display='flex', flex_flow='row', justify_content='flex-start…"
      ]
     },
     "metadata": {},
     "output_type": "display_data"
    },
    {
     "data": {
      "image/png": "[encoded data removed]",
      "text/plain": [
       "<Figure size 640x480 with 2 Axes>"
      ]
     },
     "metadata": {},
     "output_type": "display_data"
    }
   ],
   "source": [
    "#Build a classifier with minimum parameters\n",
    "xgb_classifier = XGBClassifier(objective = 'binary:logistic', \n",
    "                               eval_metric = 'logloss',                            \n",
    "                               )\n",
    "\n",
    "#Fit the classifier to the raw data\n",
    "xgb_classifier.fit(X_res, y_res)\n",
    "\n",
    "# predict the performance score of the trained model using the testing dataset\n",
    "print_classification_metrics(xgb_classifier, X_res, y_res, X_test_scaled, y_test)"
   ]
  },
  {
   "cell_type": "code",
   "execution_count": null,
   "id": "65d41ca2-2382-4b38-9f31-42afb497b2e4",
   "metadata": {},
   "outputs": [],
   "source": []
  },
  {
   "cell_type": "code",
   "execution_count": null,
   "id": "18e6f402-c6f3-4667-8684-a4c43ddc4023",
   "metadata": {},
   "outputs": [],
   "source": []
  },
  {
   "cell_type": "code",
   "execution_count": 31,
   "id": "1e49dd36-82f9-4e68-9883-8f1a2400a028",
   "metadata": {},
   "outputs": [
    {
     "name": "stdout",
     "output_type": "stream",
     "text": [
      "Score List:  [ 5.50053277 16.16292816  0.89313729  1.96119325  5.70895251  4.8324159\n",
      "  3.93462433  5.69029101]\n",
      "\n",
      "Feature list:  Index(['Pregnancies', 'Glucose', 'BloodPressure', 'SkinThickness', 'Insulin',\n",
      "       'BMI', 'DiabetesPedigreeFunction', 'Age'],\n",
      "      dtype='object')\n"
     ]
    }
   ],
   "source": [
    "selected_features = SelectKBest(chi2, k = 6).fit(X_res, y_res)\n",
    "\n",
    "print('Score List: ', selected_features.scores_)\n",
    "print()\n",
    "print('Feature list: ', X_res.columns)"
   ]
  },
  {
   "cell_type": "code",
   "execution_count": 32,
   "id": "07a8185d-3ddf-4eaf-8937-26e943d57938",
   "metadata": {},
   "outputs": [
    {
     "data": {
      "text/html": [
       "<div>\n",
       "<style scoped>\n",
       "    .dataframe tbody tr th:only-of-type {\n",
       "        vertical-align: middle;\n",
       "    }\n",
       "\n",
       "    .dataframe tbody tr th {\n",
       "        vertical-align: top;\n",
       "    }\n",
       "\n",
       "    .dataframe thead th {\n",
       "        text-align: right;\n",
       "    }\n",
       "</style>\n",
       "<table border=\"1\" class=\"dataframe\">\n",
       "  <thead>\n",
       "    <tr style=\"text-align: right;\">\n",
       "      <th></th>\n",
       "      <th>0</th>\n",
       "      <th>1</th>\n",
       "      <th>2</th>\n",
       "      <th>3</th>\n",
       "      <th>4</th>\n",
       "      <th>5</th>\n",
       "    </tr>\n",
       "  </thead>\n",
       "  <tbody>\n",
       "    <tr>\n",
       "      <th>0</th>\n",
       "      <td>0.071429</td>\n",
       "      <td>0.271429</td>\n",
       "      <td>0.070913</td>\n",
       "      <td>0.154004</td>\n",
       "      <td>0.254056</td>\n",
       "      <td>0.250000</td>\n",
       "    </tr>\n",
       "    <tr>\n",
       "      <th>1</th>\n",
       "      <td>0.500000</td>\n",
       "      <td>0.607143</td>\n",
       "      <td>0.560096</td>\n",
       "      <td>0.246407</td>\n",
       "      <td>0.021349</td>\n",
       "      <td>0.366667</td>\n",
       "    </tr>\n",
       "    <tr>\n",
       "      <th>2</th>\n",
       "      <td>0.571429</td>\n",
       "      <td>0.342857</td>\n",
       "      <td>0.135817</td>\n",
       "      <td>0.511294</td>\n",
       "      <td>0.068745</td>\n",
       "      <td>0.400000</td>\n",
       "    </tr>\n",
       "    <tr>\n",
       "      <th>3</th>\n",
       "      <td>0.000000</td>\n",
       "      <td>0.428571</td>\n",
       "      <td>0.209135</td>\n",
       "      <td>0.254620</td>\n",
       "      <td>0.177199</td>\n",
       "      <td>0.016667</td>\n",
       "    </tr>\n",
       "    <tr>\n",
       "      <th>4</th>\n",
       "      <td>0.000000</td>\n",
       "      <td>0.442857</td>\n",
       "      <td>0.137019</td>\n",
       "      <td>0.287474</td>\n",
       "      <td>0.026900</td>\n",
       "      <td>0.050000</td>\n",
       "    </tr>\n",
       "  </tbody>\n",
       "</table>\n",
       "</div>"
      ],
      "text/plain": [
       "          0         1         2         3         4         5\n",
       "0  0.071429  0.271429  0.070913  0.154004  0.254056  0.250000\n",
       "1  0.500000  0.607143  0.560096  0.246407  0.021349  0.366667\n",
       "2  0.571429  0.342857  0.135817  0.511294  0.068745  0.400000\n",
       "3  0.000000  0.428571  0.209135  0.254620  0.177199  0.016667\n",
       "4  0.000000  0.442857  0.137019  0.287474  0.026900  0.050000"
      ]
     },
     "metadata": {},
     "output_type": "display_data"
    },
    {
     "data": {
      "text/html": [
       "<div>\n",
       "<style scoped>\n",
       "    .dataframe tbody tr th:only-of-type {\n",
       "        vertical-align: middle;\n",
       "    }\n",
       "\n",
       "    .dataframe tbody tr th {\n",
       "        vertical-align: top;\n",
       "    }\n",
       "\n",
       "    .dataframe thead th {\n",
       "        text-align: right;\n",
       "    }\n",
       "</style>\n",
       "<table border=\"1\" class=\"dataframe\">\n",
       "  <thead>\n",
       "    <tr style=\"text-align: right;\">\n",
       "      <th></th>\n",
       "      <th>Pregnancies</th>\n",
       "      <th>Glucose</th>\n",
       "      <th>BloodPressure</th>\n",
       "      <th>SkinThickness</th>\n",
       "      <th>Insulin</th>\n",
       "      <th>BMI</th>\n",
       "      <th>DiabetesPedigreeFunction</th>\n",
       "      <th>Age</th>\n",
       "    </tr>\n",
       "  </thead>\n",
       "  <tbody>\n",
       "    <tr>\n",
       "      <th>0</th>\n",
       "      <td>0.071429</td>\n",
       "      <td>0.271429</td>\n",
       "      <td>0.523810</td>\n",
       "      <td>0.152174</td>\n",
       "      <td>0.070913</td>\n",
       "      <td>0.154004</td>\n",
       "      <td>0.254056</td>\n",
       "      <td>0.250000</td>\n",
       "    </tr>\n",
       "    <tr>\n",
       "      <th>1</th>\n",
       "      <td>0.500000</td>\n",
       "      <td>0.607143</td>\n",
       "      <td>0.714286</td>\n",
       "      <td>0.184783</td>\n",
       "      <td>0.560096</td>\n",
       "      <td>0.246407</td>\n",
       "      <td>0.021349</td>\n",
       "      <td>0.366667</td>\n",
       "    </tr>\n",
       "    <tr>\n",
       "      <th>2</th>\n",
       "      <td>0.571429</td>\n",
       "      <td>0.342857</td>\n",
       "      <td>0.833333</td>\n",
       "      <td>0.315217</td>\n",
       "      <td>0.135817</td>\n",
       "      <td>0.511294</td>\n",
       "      <td>0.068745</td>\n",
       "      <td>0.400000</td>\n",
       "    </tr>\n",
       "    <tr>\n",
       "      <th>3</th>\n",
       "      <td>0.000000</td>\n",
       "      <td>0.428571</td>\n",
       "      <td>0.428571</td>\n",
       "      <td>0.260870</td>\n",
       "      <td>0.209135</td>\n",
       "      <td>0.254620</td>\n",
       "      <td>0.177199</td>\n",
       "      <td>0.016667</td>\n",
       "    </tr>\n",
       "    <tr>\n",
       "      <th>4</th>\n",
       "      <td>0.000000</td>\n",
       "      <td>0.442857</td>\n",
       "      <td>0.500000</td>\n",
       "      <td>0.195652</td>\n",
       "      <td>0.137019</td>\n",
       "      <td>0.287474</td>\n",
       "      <td>0.026900</td>\n",
       "      <td>0.050000</td>\n",
       "    </tr>\n",
       "  </tbody>\n",
       "</table>\n",
       "</div>"
      ],
      "text/plain": [
       "   Pregnancies   Glucose  BloodPressure  SkinThickness   Insulin       BMI  \\\n",
       "0     0.071429  0.271429       0.523810       0.152174  0.070913  0.154004   \n",
       "1     0.500000  0.607143       0.714286       0.184783  0.560096  0.246407   \n",
       "2     0.571429  0.342857       0.833333       0.315217  0.135817  0.511294   \n",
       "3     0.000000  0.428571       0.428571       0.260870  0.209135  0.254620   \n",
       "4     0.000000  0.442857       0.500000       0.195652  0.137019  0.287474   \n",
       "\n",
       "   DiabetesPedigreeFunction       Age  \n",
       "0                  0.254056  0.250000  \n",
       "1                  0.021349  0.366667  \n",
       "2                  0.068745  0.400000  \n",
       "3                  0.177199  0.016667  \n",
       "4                  0.026900  0.050000  "
      ]
     },
     "metadata": {},
     "output_type": "display_data"
    }
   ],
   "source": [
    "X_train_best = pd.DataFrame(selected_features.transform(X_res))\n",
    "\n",
    "X_test_best = pd.DataFrame(selected_features.transform(X_test_scaled))\n",
    "\n",
    "display(X_train_best.head())\n",
    "display(X_train_scaled.head())"
   ]
  },
  {
   "cell_type": "code",
   "execution_count": null,
   "id": "439e44fc-112f-48f9-857b-a9af0e1e5bef",
   "metadata": {},
   "outputs": [],
   "source": []
  },
  {
   "cell_type": "code",
   "execution_count": null,
   "id": "5c8f890b-ed48-496d-9419-c30b84c6b79d",
   "metadata": {},
   "outputs": [],
   "source": []
  },
  {
   "cell_type": "code",
   "execution_count": null,
   "id": "b4780b58-e4f6-4c6d-a6ef-db8c7a0aecb9",
   "metadata": {},
   "outputs": [],
   "source": []
  },
  {
   "cell_type": "code",
   "execution_count": null,
   "id": "502f348c-88b7-4df8-a8c0-50069277a6b9",
   "metadata": {},
   "outputs": [],
   "source": []
  },
  {
   "cell_type": "code",
   "execution_count": null,
   "id": "dd37e498-262a-4879-9c65-c78f8bbfe158",
   "metadata": {},
   "outputs": [],
   "source": []
  },
  {
   "cell_type": "code",
   "execution_count": null,
   "id": "e6e2eb6e-7cc9-4334-9dcc-fa47f3ea4ac2",
   "metadata": {},
   "outputs": [],
   "source": []
  },
  {
   "cell_type": "code",
   "execution_count": null,
   "id": "868de1d5-2741-4fdb-9c50-ea92302d9877",
   "metadata": {},
   "outputs": [],
   "source": []
  },
  {
   "cell_type": "code",
   "execution_count": 33,
   "id": "27b1820b-f6b7-4a21-9e13-a1be2f4d6675",
   "metadata": {},
   "outputs": [
    {
     "name": "stdout",
     "output_type": "stream",
     "text": [
      "\n"
     ]
    },
    {
     "data": {
      "application/vnd.jupyter.widget-view+json": {
       "model_id": "0cc163c10b5548e980bb274b38ec5e41",
       "version_major": 2,
       "version_minor": 0
      },
      "text/plain": [
       "HBox(children=(Output(), Output()), layout=Layout(display='flex', flex_flow='row', justify_content='flex-start…"
      ]
     },
     "metadata": {},
     "output_type": "display_data"
    },
    {
     "data": {
      "application/vnd.jupyter.widget-view+json": {
       "model_id": "d2f1b156b8294b10859a114935475905",
       "version_major": 2,
       "version_minor": 0
      },
      "text/plain": [
       "HBox(children=(Output(), Output()), layout=Layout(display='flex', flex_flow='row', justify_content='flex-start…"
      ]
     },
     "metadata": {},
     "output_type": "display_data"
    },
    {
     "data": {
      "image/png": "[encoded data removed]",
      "text/plain": [
       "<Figure size 640x480 with 2 Axes>"
      ]
     },
     "metadata": {},
     "output_type": "display_data"
    }
   ],
   "source": [
    "X_train_best = X_train_best.rename(columns = {0: 'Pregnancies', 1: 'Glucose', 2: 'Insulin', 3: 'BMI', 4: 'DPF', 5: 'Age'})\n",
    "X_test_best = X_test_best.rename(columns = {0: 'Pregnancies', 1: 'Glucose', 2: 'Insulin', 3: 'BMI', 4: 'DPF', 5: 'Age'})\n",
    "\n",
    "#Build a classifier with minimum parameters\n",
    "xgb_classifier = XGBClassifier(objective = 'binary:logistic', \n",
    "                               eval_metric = 'logloss',                                                           \n",
    "                               )\n",
    "\n",
    "#Fit the classifier to the raw data\n",
    "xgb_classifier.fit(X_train_best, y_res)\n",
    "\n",
    "# predict the performance score of the trained model using the testing dataset\n",
    "print_classification_metrics(xgb_classifier, X_train_best, y_res, X_test_best, y_test)"
   ]
  },
  {
   "cell_type": "code",
   "execution_count": 34,
   "id": "e6a25477-4e1b-41e9-a4ab-016b3c704184",
   "metadata": {},
   "outputs": [
    {
     "name": "stderr",
     "output_type": "stream",
     "text": [
      "[I 2024-05-10 12:47:24,080] A new study created in memory with name: no-name-849cb2d0-13cf-4cb1-8540-9282735ca7b5\n"
     ]
    },
    {
     "data": {
      "application/vnd.jupyter.widget-view+json": {
       "model_id": "0137eb236e8b45a9ae4ed6515ceddf0c",
       "version_major": 2,
       "version_minor": 0
      },
      "text/plain": [
       "  0%|          | 0/100 [00:00<?, ?it/s]"
      ]
     },
     "metadata": {},
     "output_type": "display_data"
    },
    {
     "name": "stdout",
     "output_type": "stream",
     "text": [
      "\n",
      "Best hyperparameters:                            0\n",
      "max_depth                 4\n",
      "n_estimators            426\n",
      "learning_rate      0.462626\n",
      "max_leaves               33\n",
      "min_child_weight          1\n",
      "subsample          0.560388\n",
      "colsample_bytree   0.616478\n",
      "reg_alpha          3.471244\n",
      "reg_lambda        41.222131\n",
      "eval_metric       error@0.6\n",
      "scale_pos_weight   1.672646\n",
      "\n",
      "Best score (Minimum loss):  0.8583989365929998\n",
      "\n"
     ]
    }
   ],
   "source": [
    "from sklearn.model_selection import StratifiedKFold\n",
    "\n",
    "# Create a StratifiedKFold object\n",
    "# skf = StratifiedKFold(n_splits=5,\n",
    "#                       shuffle=True,\n",
    "#                       random_state=21)\n",
    "\n",
    "def strat_objective(trial):    \n",
    "    # Define the hyperparameter search space\n",
    "    max_depth = trial.suggest_int('max_depth', 3, 10)\n",
    "    n_estimators = trial.suggest_int('n_estimators', 100, 1000)\n",
    "    learning_rate = trial.suggest_float('learning_rate', 0.0, 5e-1, log=False)\n",
    "    max_leaves = trial.suggest_int('max_leaves', 0, 64)\n",
    "    min_child_weight = trial.suggest_int('min_child_weight', 1, 10)    \n",
    "    subsample = trial.suggest_float('subsample', 0.5, 1.0)\n",
    "    colsample_bytree = trial.suggest_float('colsample_bytree', 0.5, 1.0)\n",
    "    reg_alpha = trial.suggest_float('reg_alpha', 1e-8, 100, log=False)\n",
    "    reg_lambda = trial.suggest_float('reg_lambda', 1e-8, 100, log=False)\n",
    "    eval_metric = trial.suggest_categorical(\"eval_metric\", ['logloss',\"error\", \"aucpr\", 'error@0.6'])\n",
    "    scale_pos_weight = trial.suggest_float('scale_pos_weight', 1.0, 1.870)  \n",
    "\n",
    "    # Create the XGBClassifier with the sampled hyperparameters\n",
    "    classifier = XGBClassifier(\n",
    "        max_depth = max_depth,\n",
    "        n_estimators = n_estimators,\n",
    "        learning_rate = learning_rate,\n",
    "        max_leaves = max_leaves,\n",
    "        min_child_weight=min_child_weight,        \n",
    "        subsample = subsample,\n",
    "        colsample_bytree = colsample_bytree,\n",
    "        reg_alpha = reg_alpha,\n",
    "        reg_lambda = reg_lambda,\n",
    "        scale_pos_weight = scale_pos_weight,\n",
    "        eval_metric = eval_metric,\n",
    "        objective = 'binary:logistic',        \n",
    "        grow_policy = 'lossguide',        \n",
    "        use_label_encoder = False,\n",
    "        seed = 21,\n",
    "        n_jobs = -1,        \n",
    "    )\n",
    "    \n",
    "    scores = cross_val_score(classifier, \n",
    "                             X_train_best, \n",
    "                             y_res,\n",
    "                             cv=5,\n",
    "                             scoring='average_precision',\n",
    "                             verbose = False, n_jobs=-1)\n",
    "    #return -scores.mean()\n",
    "    return scores.mean()\n",
    "\n",
    "# Create an Optuna study\n",
    "study = optuna.create_study(direction='maximize')\n",
    "\n",
    "# Optimize the objective function\n",
    "optuna.logging.set_verbosity(optuna.logging.WARNING)\n",
    "study.optimize(strat_objective, n_trials=100, timeout = 600, show_progress_bar = True)\n",
    "\n",
    "# Print the best hyperparameters and the corresponding score\n",
    "print()\n",
    "print('Best hyperparameters: ', pd.DataFrame([study.best_params]).transpose())\n",
    "print()\n",
    "print('Best score (Minimum loss): ', study.best_value)\n",
    "print()"
   ]
  },
  {
   "cell_type": "code",
   "execution_count": 35,
   "id": "12c13896-3fbb-4bb0-a9bb-f0ae4a04f380",
   "metadata": {},
   "outputs": [
    {
     "name": "stdout",
     "output_type": "stream",
     "text": [
      "\n"
     ]
    },
    {
     "data": {
      "application/vnd.jupyter.widget-view+json": {
       "model_id": "78f93e13c1e04ac99b60112f16fc251f",
       "version_major": 2,
       "version_minor": 0
      },
      "text/plain": [
       "HBox(children=(Output(), Output()), layout=Layout(display='flex', flex_flow='row', justify_content='flex-start…"
      ]
     },
     "metadata": {},
     "output_type": "display_data"
    },
    {
     "data": {
      "application/vnd.jupyter.widget-view+json": {
       "model_id": "b67560e392a549cfb713ea34fca78c5e",
       "version_major": 2,
       "version_minor": 0
      },
      "text/plain": [
       "HBox(children=(Output(), Output()), layout=Layout(display='flex', flex_flow='row', justify_content='flex-start…"
      ]
     },
     "metadata": {},
     "output_type": "display_data"
    },
    {
     "data": {
      "image/png": "[encoded data removed]",
      "text/plain": [
       "<Figure size 640x480 with 2 Axes>"
      ]
     },
     "metadata": {},
     "output_type": "display_data"
    }
   ],
   "source": [
    "best_params = study.best_params\n",
    "\n",
    "xgb_classifier_opt = XGBClassifier(**best_params,\n",
    "                                   objective = 'binary:logistic',\n",
    "                                   grow_policy = 'lossguide',\n",
    "                                   use_label_encoder = False,\n",
    "                                   seed = 21,\n",
    "                                   n_jobs = -1).fit(X_train_best, y_res, verbose = 0)\n",
    "\n",
    "print_classification_metrics(xgb_classifier_opt, X_train_best, y_res, X_test_best, y_test)"
   ]
  },
  {
   "cell_type": "markdown",
   "id": "99ab37ad-8813-47ff-a5f4-a0459285a0e7",
   "metadata": {},
   "source": [
    "# Optimize an XGBoost classifier using hyperopt"
   ]
  },
  {
   "cell_type": "code",
   "execution_count": 36,
   "id": "b82c656f-8a1a-419a-8e97-6023e1063441",
   "metadata": {},
   "outputs": [
    {
     "name": "stdout",
     "output_type": "stream",
     "text": [
      "100%|███████| 100/100 [00:44<00:00,  2.26trial/s, best loss: 0.4506469974830791]\n",
      "\n",
      "Best hyperparameters:                            0\n",
      "colsample_bytree    0.785023\n",
      "learning_rate       0.008773\n",
      "max_depth          10.000000\n",
      "max_leaves         31.000000\n",
      "min_child_weight    1.000000\n",
      "n_estimators      540.000000\n",
      "reg_alpha           0.418885\n",
      "reg_lambda          0.592475\n",
      "subsample           0.537759\n",
      "\n",
      "Best score (Minimum loss): 0.4506469974830791\n"
     ]
    }
   ],
   "source": [
    "from hyperopt import hp, fmin, tpe, STATUS_OK, Trials\n",
    "from sklearn.model_selection import cross_val_score\n",
    "\n",
    "# Define the hyperparameter search space\n",
    "space = {\n",
    "    'max_depth': hp.quniform('max_depth', 2, 10, 1),\n",
    "    'n_estimators': hp.quniform('n_estimators', 100, 1000, 1),\n",
    "    'learning_rate': hp.uniform('learning_rate', 1e-3, 5e-1),\n",
    "    'max_leaves': hp.choice('max_leaves', np.arange(10, 65, dtype = int)),\n",
    "    'subsample': hp.uniform('subsample', 0.5, 1.0),\n",
    "    'min_child_weight': hp.quniform('min_child_weight', 1, 10, 1),    \n",
    "    'colsample_bytree': hp.uniform('colsample_bytree', 0.5, 1.0),\n",
    "    'reg_alpha': hp.uniform('reg_alpha', 1e-8, 1.0),\n",
    "    'reg_lambda': hp.uniform('reg_lambda', 1e-8, 1.0),\n",
    "}\n",
    "\n",
    "# Define the objective function to optimize\n",
    "def objective(params):\n",
    "    classifier = XGBClassifier(\n",
    "        max_depth = int(params['max_depth']),\n",
    "        n_estimators = int(params['n_estimators']),\n",
    "        learning_rate = params['learning_rate'],\n",
    "        max_leaves = int(params['max_leaves']),\n",
    "        min_child_weight = int(params['min_child_weight']),        \n",
    "        subsample = params['subsample'],\n",
    "        colsample_bytree = params['colsample_bytree'],\n",
    "        reg_alpha = params['reg_alpha'],\n",
    "        reg_lambda = params['reg_lambda'],\n",
    "        objective = 'binary:logistic',        \n",
    "        use_label_encoder = False,\n",
    "        seed = 21,\n",
    "        n_jobs = -1,\n",
    "    )\n",
    "\n",
    "    score = cross_val_score(classifier, X_train_best, y_res, cv=5, scoring='neg_log_loss', n_jobs=-1)\n",
    "    return {'loss': -score.mean(), 'status': STATUS_OK}\n",
    "\n",
    "# Create a Trials object to track the optimization process\n",
    "trials = Trials()\n",
    "\n",
    "# Optimize the objective function using fmin\n",
    "best = fmin(\n",
    "    fn=objective,\n",
    "    space=space,\n",
    "    algo=tpe.suggest,\n",
    "    max_evals=100,\n",
    "    trials=trials,\n",
    "    rstate=np.random.default_rng(21)\n",
    ")\n",
    "\n",
    "# Print the best hyperparameters and the corresponding score\n",
    "print()\n",
    "print(\"Best hyperparameters:\", pd.DataFrame([best]).transpose())\n",
    "print()\n",
    "print(\"Best score (Minimum loss):\", trials.best_trial['result']['loss'])"
   ]
  },
  {
   "cell_type": "code",
   "execution_count": 37,
   "id": "67a97e9a-ed2f-45dd-9329-7958a6cbf173",
   "metadata": {},
   "outputs": [
    {
     "name": "stdout",
     "output_type": "stream",
     "text": [
      "\n"
     ]
    },
    {
     "data": {
      "application/vnd.jupyter.widget-view+json": {
       "model_id": "6041ecff4ec6486b936f85e02683aeb3",
       "version_major": 2,
       "version_minor": 0
      },
      "text/plain": [
       "HBox(children=(Output(), Output()), layout=Layout(display='flex', flex_flow='row', justify_content='flex-start…"
      ]
     },
     "metadata": {},
     "output_type": "display_data"
    },
    {
     "data": {
      "application/vnd.jupyter.widget-view+json": {
       "model_id": "e4be0da738804736b1eafb4f60c09f75",
       "version_major": 2,
       "version_minor": 0
      },
      "text/plain": [
       "HBox(children=(Output(), Output()), layout=Layout(display='flex', flex_flow='row', justify_content='flex-start…"
      ]
     },
     "metadata": {},
     "output_type": "display_data"
    },
    {
     "data": {
      "image/png": "[encoded data removed]",
      "text/plain": [
       "<Figure size 640x480 with 2 Axes>"
      ]
     },
     "metadata": {},
     "output_type": "display_data"
    }
   ],
   "source": [
    "# Retrieve the best hyperparameters\n",
    "best_params = trials.best_trial['misc']['vals']\n",
    "\n",
    "# Extract scalar values from the lists\n",
    "max_depth = int(best_params['max_depth'][0])\n",
    "n_estimators = int(best_params['n_estimators'][0])\n",
    "learning_rate = best_params['learning_rate'][0]\n",
    "min_child_weight = int(best_params['min_child_weight'][0])\n",
    "max_leaves = best_params['max_leaves'][0]\n",
    "colsample_bytree = best_params['colsample_bytree'][0]\n",
    "subsample = best_params['subsample'][0]\n",
    "reg_alpha = best_params['reg_alpha'][0]\n",
    "reg_lambda = best_params['reg_lambda'][0]\n",
    "\n",
    "xgb_classifier_hyp = XGBClassifier(objective = 'binary:logistic',                                     \n",
    "                                   learning_rate = learning_rate,\n",
    "                                   max_depth = max_depth,\n",
    "                                   max_leaves = max_leaves,\n",
    "                                   n_estimators = n_estimators,                \n",
    "                                   min_child_weight = min_child_weight,\n",
    "                                   subsample = subsample,\n",
    "                                   colsample_bytree = colsample_bytree,\n",
    "                                   reg_alpha = reg_alpha,\n",
    "                                   reg_lambda = reg_lambda,                                 \n",
    "                                   scale_pos_weight = 1.853,\n",
    "                                   use_label_encoder = False,\n",
    "                                   seed = 21).fit(X_train_best, y_res, verbose = 0)\n",
    "\n",
    "print_classification_metrics(xgb_classifier_hyp, X_train_best, y_res, X_test_best, y_test)"
   ]
  },
  {
   "cell_type": "markdown",
   "id": "3d445773-d0ab-4d88-80c7-092613ba0f3a",
   "metadata": {},
   "source": [
    "# Optimize a LightGBM model using optuna"
   ]
  },
  {
   "cell_type": "code",
   "execution_count": 38,
   "id": "99652d0a-74e1-4cda-9e56-63e0263bda07",
   "metadata": {},
   "outputs": [
    {
     "data": {
      "application/vnd.jupyter.widget-view+json": {
       "model_id": "77f7f69a390f45cc89e06aae54518abe",
       "version_major": 2,
       "version_minor": 0
      },
      "text/plain": [
       "  0%|          | 0/100 [00:00<?, ?it/s]"
      ]
     },
     "metadata": {},
     "output_type": "display_data"
    },
    {
     "name": "stdout",
     "output_type": "stream",
     "text": [
      "\n",
      "Best hyperparameters:                             0\n",
      "max_depth            7.000000\n",
      "num_leaves          61.000000\n",
      "n_estimators       349.000000\n",
      "learning_rate        0.016522\n",
      "min_child_weight     1.000000\n",
      "min_child_samples    5.000000\n",
      "reg_alpha            0.956199\n",
      "reg_lambda           0.723670\n",
      "colsample_bytree     0.640198\n",
      "subsample            0.759338\n",
      "\n",
      "Best score (Minimum loss): 0.4535137084064841\n",
      "\n"
     ]
    }
   ],
   "source": [
    "import lightgbm as lgb\n",
    "from sklearn.model_selection import StratifiedKFold, cross_val_score\n",
    "from sklearn.metrics import average_precision_score\n",
    "\n",
    "# LightGBM with Stratified K-Fold Cross-Validation\n",
    "skf = StratifiedKFold(n_splits=5, shuffle=True, random_state=21)\n",
    "\n",
    "# Define the objective function for LightGBM\n",
    "def lgb_objective(trial):\n",
    "    params = {        \n",
    "        'objective': 'binary',        \n",
    "        'max_depth': trial.suggest_int('max_depth', 2, 10),\n",
    "        'num_leaves': trial.suggest_int('num_leaves', 10, 64),\n",
    "        'n_estimators': trial.suggest_int('n_estimators', 100, 1000),\n",
    "        'learning_rate': trial.suggest_float('learning_rate', 1e-3, 5e-1, log=False),\n",
    "        'min_child_weight': trial.suggest_int('min_child_weight', 1, 11),\n",
    "        'min_child_samples': trial.suggest_int('min_child_samples', 5, 100),\n",
    "        'reg_alpha': trial.suggest_float('reg_alpha', 1e-8, 1.0, log=False),\n",
    "        'reg_lambda': trial.suggest_float('reg_lambda', 1e-8, 1.0, log=False),\n",
    "        'colsample_bytree': trial.suggest_float('colsample_bytree', 0.5, 1.0),\n",
    "        'subsample': trial.suggest_float('subsample', 0.5, 1.0),\n",
    "        'random_state': 21,\n",
    "        #'n_jobs': -1, \n",
    "        'verbosity': -1,\n",
    "    }\n",
    "\n",
    "    scores = cross_val_score(lgb.LGBMClassifier(**params), \n",
    "                             X_train_best, y_res, \n",
    "                             cv=skf, \n",
    "                             scoring='neg_log_loss', \n",
    "                             #n_jobs=-1\n",
    "                            )\n",
    "    return -scores.mean()\n",
    "\n",
    "# Create an Optuna study\n",
    "study = optuna.create_study(direction='minimize')\n",
    "\n",
    "# Optimize the objective function\n",
    "optuna.logging.set_verbosity(optuna.logging.WARNING)\n",
    "study.optimize(lgb_objective, \n",
    "               n_trials=100, \n",
    "               timeout = 600, \n",
    "               show_progress_bar = True)\n",
    "\n",
    "# Print the best hyperparameters and the corresponding score\n",
    "print()\n",
    "print(\"Best hyperparameters:\", pd.DataFrame([study.best_params]).transpose())\n",
    "print()\n",
    "print(\"Best score (Minimum loss):\", study.best_value)\n",
    "print()"
   ]
  },
  {
   "cell_type": "markdown",
   "id": "8b9ea8e1-11a6-457d-91ae-9bd8f0dfa8b3",
   "metadata": {},
   "source": [
    "# Train and test a LightGBM model using optimized hyperparameters"
   ]
  },
  {
   "cell_type": "code",
   "execution_count": 39,
   "id": "03cbcf82-feb7-431c-9f23-539c44a3c3b4",
   "metadata": {},
   "outputs": [
    {
     "name": "stdout",
     "output_type": "stream",
     "text": [
      "\n"
     ]
    },
    {
     "data": {
      "application/vnd.jupyter.widget-view+json": {
       "model_id": "f5461ec6eb7f4b7695a0ebc7b9dd8cdb",
       "version_major": 2,
       "version_minor": 0
      },
      "text/plain": [
       "HBox(children=(Output(), Output()), layout=Layout(display='flex', flex_flow='row', justify_content='flex-start…"
      ]
     },
     "metadata": {},
     "output_type": "display_data"
    },
    {
     "data": {
      "application/vnd.jupyter.widget-view+json": {
       "model_id": "b72f13117ad44204b0ad1d56db1c02de",
       "version_major": 2,
       "version_minor": 0
      },
      "text/plain": [
       "HBox(children=(Output(), Output()), layout=Layout(display='flex', flex_flow='row', justify_content='flex-start…"
      ]
     },
     "metadata": {},
     "output_type": "display_data"
    },
    {
     "data": {
      "image/png": "[encoded data removed]",
      "text/plain": [
       "<Figure size 640x480 with 2 Axes>"
      ]
     },
     "metadata": {},
     "output_type": "display_data"
    }
   ],
   "source": [
    "# Train the LightGBM model with the best hyperparameters\n",
    "best_params = study.best_params\n",
    "lgb_model = lgb.LGBMClassifier(**best_params, verbosity = -1)\n",
    "lgb_model.fit(X_train_best, y_res)\n",
    "\n",
    "print_classification_metrics(lgb_model, X_train_best, y_res, X_test_best, y_test)"
   ]
  },
  {
   "cell_type": "code",
   "execution_count": 40,
   "id": "ed9f1b7f-5f74-49c9-86c4-b5a50e7cef73",
   "metadata": {},
   "outputs": [
    {
     "name": "stdout",
     "output_type": "stream",
     "text": [
      "100%|██████| 100/100 [03:51<00:00,  2.32s/trial, best loss: 0.45834686444139255]\n",
      "\n",
      "Best hyperparameters:                             0\n",
      "colsample_bytree     0.773041\n",
      "learning_rate        0.013978\n",
      "max_depth            6.000000\n",
      "min_child_samples   53.000000\n",
      "min_child_weight     1.000000\n",
      "n_estimators       535.000000\n",
      "num_leaves          53.000000\n",
      "reg_alpha            0.858944\n",
      "reg_lambda           0.652613\n",
      "subsample            0.579415\n",
      "\n",
      "Best score (Minimum loss): 0.45834686444139255\n"
     ]
    }
   ],
   "source": [
    "import lightgbm as lgb\n",
    "import warnings\n",
    "from hyperopt import hp, fmin, tpe, STATUS_OK, Trials\n",
    "from sklearn.model_selection import StratifiedKFold, cross_val_score\n",
    "from sklearn.metrics import average_precision_score\n",
    "import sklearn\n",
    "\n",
    "# LightGBM with Stratified K-Fold Cross-Validation\n",
    "skf = StratifiedKFold(n_splits=5, shuffle=True, random_state=21)\n",
    "\n",
    "# Define the hyperparameter search space\n",
    "space = {        \n",
    "    'max_depth': hp.choice('max_depth', np.arange(2, 11, dtype = int)),\n",
    "    'n_estimators': hp.choice('n_estimators', np.arange(100, 1001, dtype = int)),\n",
    "    'learning_rate': hp.uniform('learning_rate', 1e-3, 5e-1),\n",
    "    'min_child_weight': hp.choice('min_child_weight', np.arange(1, 11, dtype = int)),\n",
    "    'num_leaves': hp.choice('num_leaves', np.arange(10, 65, dtype = int)),\n",
    "    'subsample': hp.uniform('subsample', 0.5, 1.0),\n",
    "    'min_child_samples': hp.choice('min_child_samples', np.arange(5, 101, dtype = int)),\n",
    "    'colsample_bytree': hp.uniform('colsample_bytree', 0.5, 1.0),\n",
    "    'reg_alpha': hp.uniform('reg_alpha', 1e-8, 1.0),\n",
    "    'reg_lambda': hp.uniform('reg_lambda', 1e-8, 1.0),\n",
    "}\n",
    "\n",
    "# Define the objective function to optimize\n",
    "def objective(params):    \n",
    "    classifier = lgb.LGBMClassifier(        \n",
    "        objective = 'binary',\n",
    "        max_depth = int(params['max_depth']),\n",
    "        n_estimators = int(params['n_estimators']),\n",
    "        learning_rate = params['learning_rate'],\n",
    "        min_child_weight = int(params['min_child_weight']),        \n",
    "        subsample = params['subsample'],\n",
    "        colsample_bytree = params['colsample_bytree'],\n",
    "        reg_alpha = params['reg_alpha'],\n",
    "        reg_lambda = params['reg_lambda'],\n",
    "        is_unbalance = True,                \n",
    "        seed = 21,\n",
    "        #n_jobs = -1,\n",
    "        verbosity = -1,\n",
    "    )\n",
    "    \n",
    "    score = cross_val_score(classifier, \n",
    "                            X_train_best, y_res, \n",
    "                            cv=skf, \n",
    "                            scoring='neg_log_loss', \n",
    "                            #n_jobs=-1\n",
    "                           )\n",
    "    return {'loss': -score.mean(), 'status': STATUS_OK}\n",
    "\n",
    "# Create a Trials object to track the optimization process\n",
    "trials = Trials()\n",
    "\n",
    "# Optimize the objective function using fmin\n",
    "best = fmin(\n",
    "    fn=objective,\n",
    "    space=space,\n",
    "    algo=tpe.suggest,\n",
    "    max_evals=100,\n",
    "    trials=trials,\n",
    "    rstate=np.random.default_rng(21)\n",
    ")\n",
    "\n",
    "# Print the best hyperparameters and the corresponding score\n",
    "print()\n",
    "print(\"Best hyperparameters:\", pd.DataFrame([best]).transpose())\n",
    "print()\n",
    "print(\"Best score (Minimum loss):\", trials.best_trial['result']['loss'])"
   ]
  },
  {
   "cell_type": "code",
   "execution_count": 41,
   "id": "ca613a77-62eb-487d-aead-452d77d7a4df",
   "metadata": {},
   "outputs": [
    {
     "name": "stdout",
     "output_type": "stream",
     "text": [
      "\n"
     ]
    },
    {
     "data": {
      "application/vnd.jupyter.widget-view+json": {
       "model_id": "f44d94e7ad53437a88c132caa37cacf0",
       "version_major": 2,
       "version_minor": 0
      },
      "text/plain": [
       "HBox(children=(Output(), Output()), layout=Layout(display='flex', flex_flow='row', justify_content='flex-start…"
      ]
     },
     "metadata": {},
     "output_type": "display_data"
    },
    {
     "data": {
      "application/vnd.jupyter.widget-view+json": {
       "model_id": "ad9ffc9f74ad403fb7133f266c0bdda6",
       "version_major": 2,
       "version_minor": 0
      },
      "text/plain": [
       "HBox(children=(Output(), Output()), layout=Layout(display='flex', flex_flow='row', justify_content='flex-start…"
      ]
     },
     "metadata": {},
     "output_type": "display_data"
    },
    {
     "data": {
      "image/png": "[encoded data removed]",
      "text/plain": [
       "<Figure size 640x480 with 2 Axes>"
      ]
     },
     "metadata": {},
     "output_type": "display_data"
    }
   ],
   "source": [
    "# Retrieve the best hyperparameters\n",
    "best_params = trials.best_trial['misc']['vals']\n",
    "\n",
    "# Extract scalar values from the lists\n",
    "max_depth = int(best_params['max_depth'][0])\n",
    "n_estimators = int(best_params['n_estimators'][0])\n",
    "learning_rate = best_params['learning_rate'][0]\n",
    "min_child_weight = int(best_params['min_child_weight'][0])\n",
    "min_child_samples = int(best_params['min_child_samples'][0])\n",
    "num_leaves = int(best_params['num_leaves'][0]) \n",
    "colsample_bytree = best_params['colsample_bytree'][0]\n",
    "subsample = best_params['subsample'][0]\n",
    "reg_alpha = best_params['reg_alpha'][0]\n",
    "reg_lambda = best_params['reg_lambda'][0]\n",
    "\n",
    "\n",
    "lgb_classifier_hyp = lgb.LGBMClassifier(objective = 'binary',\n",
    "                                        max_depth = max_depth,\n",
    "                                        n_estimators = n_estimators,\n",
    "                                        learning_rate = learning_rate,\n",
    "                                        min_child_weight = min_child_weight,\n",
    "                                        min_child_samples = min_child_samples,\n",
    "                                        num_eaves = num_leaves,\n",
    "                                        colsample_bytree = colsample_bytree,\n",
    "                                        subsample = subsample,\n",
    "                                        reg_alpha = reg_alpha,\n",
    "                                        reg_lambda = reg_lambda,                    \n",
    "                                        is_unbalance = True,                                      \n",
    "                                        seed=21,\n",
    "                                        n_jobs=-1, \n",
    "                                        verbosity = -1).fit(X_train_best, y_res)\n",
    "        \n",
    "print_classification_metrics(lgb_classifier_hyp, X_train_best, y_res, X_test_best, y_test)"
   ]
  },
  {
   "cell_type": "code",
   "execution_count": 42,
   "id": "f5f928d5-48e8-4d2b-a4d3-ca1cb7bf315d",
   "metadata": {},
   "outputs": [
    {
     "data": {
      "application/vnd.jupyter.widget-view+json": {
       "model_id": "80d5f4b336f348e2ae80181088478dd2",
       "version_major": 2,
       "version_minor": 0
      },
      "text/plain": [
       "  0%|          | 0/100 [00:00<?, ?it/s]"
      ]
     },
     "metadata": {},
     "output_type": "display_data"
    }
   ],
   "source": [
    "from catboost import CatBoostClassifier\n",
    "from sklearn.model_selection import StratifiedShuffleSplit, cross_val_score\n",
    "import optuna\n",
    "import catboost\n",
    "from optuna_integration import CatBoostPruningCallback\n",
    "\n",
    "\n",
    "# Consider StratifiedShuffleSplit for imbalanced classes\n",
    "skf = StratifiedShuffleSplit(n_splits=5, random_state=21)\n",
    "\n",
    "# Define the objective function with early stopping\n",
    "def catboost_objective(trial):\n",
    "    params = {\n",
    "        'objective': 'Logloss',  \n",
    "        'colsample_bylevel': trial.suggest_float('colsample_bylevel', 0.5, 1.0),\n",
    "        'depth': trial.suggest_int('max_depth', 2, 10), \n",
    "        'learning_rate': trial.suggest_float('learning_rate', 1e-3, 5e-1, log=False),        \n",
    "        'num_leaves': trial.suggest_int('num_leaves', 10, 64),\n",
    "        'min_data_in_leaf': trial.suggest_int('min_data_in_leaf', 5, 100),\n",
    "        'l2_leaf_reg': trial.suggest_float('l2_leaf_reg', 1e-8, 100.0, log=False),\n",
    "        'n_estimators': trial.suggest_int('n_estimators', 100, 1000),\n",
    "        'random_strength': trial.suggest_int('random_strength', 1, 100),\n",
    "        'subsample': trial.suggest_float(\"subsample\", 0.5, 1.0, log=False),\n",
    "        'random_seed': 21,\n",
    "        'grow_policy': 'Lossguide',\n",
    "        'boosting_type': 'Plain',\n",
    "        'used_ram_limit': '4gb',        \n",
    "        'silent':True,\n",
    "        'scale_pos_weight': trial.suggest_float('scale_pos_weight', 1.852, 1.870)        \n",
    "    }\n",
    "\n",
    "    scores = cross_val_score(CatBoostClassifier(**params), \n",
    "                             X_train_best, y_res, \n",
    "                             cv=skf, scoring='neg_log_loss', \n",
    "                             n_jobs=-1)\n",
    "    return -scores.mean()\n",
    "\n",
    "    \n",
    "\n",
    "# Create an Optuna study\n",
    "study = optuna.create_study(pruner=optuna.pruners.MedianPruner(n_warmup_steps=5),\n",
    "                            direction='minimize')\n",
    "\n",
    "# Optimize the objective function\n",
    "optuna.logging.set_verbosity(optuna.logging.WARNING)\n",
    "study.optimize(catboost_objective, \n",
    "               n_trials=100, \n",
    "               timeout=600, \n",
    "               show_progress_bar = True)"
   ]
  },
  {
   "cell_type": "code",
   "execution_count": 43,
   "id": "23ed12fa-5705-4b81-be47-1adfcaddca82",
   "metadata": {},
   "outputs": [
    {
     "name": "stdout",
     "output_type": "stream",
     "text": [
      "\n",
      "Best hyperparameters: {'colsample_bylevel': 0.9410524668173329, 'max_depth': 10, 'learning_rate': 0.38374324392593473, 'num_leaves': 21, 'min_data_in_leaf': 50, 'l2_leaf_reg': 32.1964227768352, 'n_estimators': 113, 'random_strength': 12, 'subsample': 0.6745122319973585, 'scale_pos_weight': 1.8662365729128156}\n",
      "\n",
      "Best score (Minimum loss): 0.4593899140414699\n",
      "\n"
     ]
    }
   ],
   "source": [
    "# Print the best hyperparameters and the corresponding score\n",
    "print()\n",
    "print(\"Best hyperparameters:\", study.best_params)\n",
    "print()\n",
    "print(\"Best score (Minimum loss):\", study.best_value)\n",
    "print()"
   ]
  },
  {
   "cell_type": "code",
   "execution_count": 44,
   "id": "78ef5da7-9cb5-48ea-8bc6-50e0f0306d63",
   "metadata": {},
   "outputs": [
    {
     "name": "stdout",
     "output_type": "stream",
     "text": [
      "\n"
     ]
    },
    {
     "data": {
      "application/vnd.jupyter.widget-view+json": {
       "model_id": "c3d02c30c23f45f0a99030f84ceaae56",
       "version_major": 2,
       "version_minor": 0
      },
      "text/plain": [
       "HBox(children=(Output(), Output()), layout=Layout(display='flex', flex_flow='row', justify_content='flex-start…"
      ]
     },
     "metadata": {},
     "output_type": "display_data"
    },
    {
     "data": {
      "application/vnd.jupyter.widget-view+json": {
       "model_id": "ca7f8abbaf414c92b24e54521e06feb0",
       "version_major": 2,
       "version_minor": 0
      },
      "text/plain": [
       "HBox(children=(Output(), Output()), layout=Layout(display='flex', flex_flow='row', justify_content='flex-start…"
      ]
     },
     "metadata": {},
     "output_type": "display_data"
    },
    {
     "data": {
      "image/png": "[encoded data removed]",
      "text/plain": [
       "<Figure size 640x480 with 2 Axes>"
      ]
     },
     "metadata": {},
     "output_type": "display_data"
    }
   ],
   "source": [
    "# Train the CatBoost model with the best hyperparameters\n",
    "best_params = study.best_params\n",
    "catboost_model = CatBoostClassifier(**best_params,\n",
    "                                    objective = 'Logloss',\n",
    "                                    grow_policy = 'Lossguide',\n",
    "                                    silent = True,\n",
    "                                    boosting_type = 'Plain',\n",
    "                                    random_seed = 21,                                    \n",
    ")\n",
    "\n",
    "catboost_model.fit(X_train_best, y_res)\n",
    "\n",
    "print_classification_metrics(catboost_model, X_train_best, y_res, X_test_best, y_test)"
   ]
  },
  {
   "cell_type": "code",
   "execution_count": 45,
   "id": "774cb2b3-74a9-445e-af53-863e09a7c533",
   "metadata": {},
   "outputs": [],
   "source": [
    "from catboost import CatBoostClassifier\n",
    "from hyperopt import hp, fmin, tpe, STATUS_OK, Trials\n",
    "from sklearn.model_selection import StratifiedShuffleSplit, cross_val_score\n",
    "import numpy as np\n",
    "import sklearn\n",
    "\n",
    "# Consider StratifiedShuffleSplit for imbalanced classes\n",
    "skf = StratifiedShuffleSplit(n_splits=5, random_state=21)\n",
    "\n",
    "# Define the hyperparameter search space\n",
    "space = {\n",
    "    'depth': hp.quniform('depth', 2, 10, 1), \n",
    "    'n_estimators': hp.choice('n_estimators', np.arange(100, 1001, dtype = int)),\n",
    "    'learning_rate': hp.uniform('learning_rate', 0.0, 1.0),\n",
    "    'max_leaves': hp.uniform('max_leaves', 10, 64),\n",
    "    'l2_leaf_reg': hp.uniform('l2_leaf_reg', 0, 100),\n",
    "    'colsample_bylevel': hp.uniform('colsample_bylevel', 0.5, 1.0),\n",
    "    'min_data_in_leaf': hp.uniform(\"min_data_in_leaf\", 5, 100), \n",
    "    'subsample': hp.uniform('subsample', 0.5, 1.0),\n",
    "    'random_strength': hp.quniform('random_strength', 1, 100, 1),\n",
    "    }\n",
    "\n",
    "# Define the objective function with early stopping\n",
    "def catboost_objective(params):\n",
    "    classifier = CatBoostClassifier(        \n",
    "        objective = 'Logloss',        \n",
    "        depth = int(params['depth']),\n",
    "        iterations = int(params['n_estimators']),\n",
    "        learning_rate = params['learning_rate'],\n",
    "        max_leaves = int(params['max_leaves']),\n",
    "        l2_leaf_reg = params['l2_leaf_reg'],\n",
    "        colsample_bylevel = params['colsample_bylevel'],\n",
    "        min_data_in_leaf = params['min_data_in_leaf'],\n",
    "        subsample = params['subsample'],\n",
    "        random_strength = int(params['random_strength']),        \n",
    "        random_state = 21,\n",
    "        grow_policy = 'Lossguide',\n",
    "        boosting_type = 'Plain',\n",
    "        silent = True,\n",
    "        thread_count = -1,  # Enable GPU if available\n",
    "\n",
    "    )\n",
    "\n",
    "    score = cross_val_score(classifier, \n",
    "                            X_train_best, y_res, \n",
    "                            cv=skf, \n",
    "                            scoring='neg_log_loss', \n",
    "                            #n_jobs=-1\n",
    "                           )\n",
    "    \n",
    "    return {'loss': -score.mean(), 'status': STATUS_OK}\n",
    "    \n",
    "# Create a Trials object to track the optimization process\n",
    "trials = Trials()\n",
    "\n",
    "# Optimize the objective function using fmin\n",
    "best = fmin(\n",
    "    fn=catboost_objective,\n",
    "    space=space,\n",
    "    algo=tpe.suggest,\n",
    "    max_evals=100,\n",
    "    trials=trials,\n",
    "    rstate=np.random.default_rng(21)\n",
    ")"
   ]
  },
  {
   "cell_type": "code",
   "execution_count": 46,
   "id": "5906759a-79dc-4407-9246-802cabcdde86",
   "metadata": {},
   "outputs": [],
   "source": [
    "# # Print the best hyperparameters and the corresponding score\n",
    "# print()\n",
    "# print(\"Best hyperparameters:\", best)\n",
    "# print()\n",
    "# print(\"Best score:\", trials.best_trial['result']['loss'])"
   ]
  },
  {
   "cell_type": "code",
   "execution_count": 47,
   "id": "d7c35a26-9c8b-40f6-b5c2-e5ab261669c2",
   "metadata": {},
   "outputs": [],
   "source": [
    "# # Retrieve the best hyperparameters\n",
    "# best_params = trials.best_trial['misc']['vals']\n",
    "\n",
    "# # Extract scalar values from the lists\n",
    "# colsample_bylevel = best_params['colsample_bylevel'][0]\n",
    "# depth = int(best_params['depth'][0])\n",
    "# learning_rate = best_params['learning_rate'][0]\n",
    "# max_leaves = int(best_params['max_leaves'][0])\n",
    "# min_data_in_leaf = int(best_params['min_data_in_leaf'][0])\n",
    "# l2_leaf_reg = best_params['l2_leaf_reg'][0]\n",
    "# n_estimators = best_params['n_estimators'][0]\n",
    "# random_strength = int(best_params['random_strength'][0])\n",
    "# subsample = best_params['subsample'][0]\n",
    "\n",
    "\n",
    "# # Create a new CatBoostClassifier instance with the best hyperparameters\n",
    "# best_model = CatBoostClassifier(\n",
    "#     objective='Logloss',\n",
    "#     colsample_bylevel=colsample_bylevel,\n",
    "#     depth=depth,\n",
    "#     learning_rate=learning_rate,\n",
    "#     max_leaves = max_leaves,\n",
    "#     min_data_in_leaf = min_data_in_leaf,\n",
    "#     l2_leaf_reg=l2_leaf_reg,\n",
    "#     n_estimators = n_estimators,    \n",
    "#     random_strength=random_strength,\n",
    "#     subsample=subsample,\n",
    "#     random_state=21,\n",
    "#     grow_policy = 'Lossguide',\n",
    "#     boosting_type = 'Plain',\n",
    "#     silent = True,\n",
    "#     thread_count=-1,    \n",
    "# )\n",
    "\n",
    "# # Train the best model on the resampled data\n",
    "# best_model.fit(X_train_4, y_less_train)\n",
    "\n",
    "# # Evaluate the model on the test set\n",
    "# result_catboost = best_model.score(X_test_4, y_less_test)\n",
    "# y_pred_catboost = best_model.predict(X_test_4)\n",
    "# y_pred_proba_catboost = best_model.predict_proba(X_test_4)[:, 1]\n",
    "# roc_auc_catboost = roc_auc_score(y_less_test, y_pred_proba_catboost)\n",
    "# auprc_catboost = average_precision_score(y_less_test, y_pred_proba_catboost)\n",
    "\n",
    "# print()\n",
    "# print(classification_report(y_less_test, y_pred_catboost, digits = 4))\n",
    "# print()\n",
    "# print(\"Accuracy (CatBoost): {}\".format(round(result_catboost, 4)))\n",
    "\n",
    "# # Calculate log loss\n",
    "# log_loss_catboost = log_loss(y_less_test, y_pred_proba_catboost)\n",
    "# print()\n",
    "# print(\"Log Loss (CatBoost): {}\".format(round(log_loss_catboost, 4)))\n",
    "# print()\n",
    "# print(\"ROC AUC (CatBoost):\", roc_auc_catboost)\n",
    "# print()\n",
    "# print(\"AUPRC (CatBoost):\", auprc_catboost)"
   ]
  },
  {
   "cell_type": "code",
   "execution_count": null,
   "id": "99ed12c7-2fb2-44b1-9886-7983b3867590",
   "metadata": {},
   "outputs": [],
   "source": []
  }
 ],
 "metadata": {
  "kernelspec": {
   "display_name": "Python 3 (ipykernel)",
   "language": "python",
   "name": "python3"
  },
  "language_info": {
   "codemirror_mode": {
    "name": "ipython",
    "version": 3
   },
   "file_extension": ".py",
   "mimetype": "text/x-python",
   "name": "python",
   "nbconvert_exporter": "python",
   "pygments_lexer": "ipython3",
   "version": "3.11.8"
  },
  "widgets": {
   "application/vnd.jupyter.widget-state+json": {
    "state": {
     "00c65b1cb3594e249031b69c359ec280": {
      "model_module": "@jupyter-widgets/output",
      "model_module_version": "1.0.0",
      "model_name": "OutputModel",
      "state": {
       "layout": "IPY_MODEL_0a90755ad585449b95b6ee547f003b41",
       "outputs": [
        {
         "data": {
          "text/html": "<b>Additional metrics</b>",
          "text/plain": "<IPython.core.display.HTML object>"
         },
         "metadata": {},
         "output_type": "display_data"
        },
        {
         "data": {
          "text/html": "<div>\n<style scoped>\n    .dataframe tbody tr th:only-of-type {\n        vertical-align: middle;\n    }\n\n    .dataframe tbody tr th {\n        vertical-align: top;\n    }\n\n    .dataframe thead th {\n        text-align: right;\n    }\n</style>\n<table border=\"1\" class=\"dataframe\">\n  <thead>\n    <tr style=\"text-align: right;\">\n      <th></th>\n      <th>Train Score</th>\n    </tr>\n  </thead>\n  <tbody>\n    <tr>\n      <th>Log Loss</th>\n      <td>0.0228</td>\n    </tr>\n    <tr>\n      <th>ROC AUC</th>\n      <td>1.0000</td>\n    </tr>\n    <tr>\n      <th>AUPRC</th>\n      <td>0.9967</td>\n    </tr>\n  </tbody>\n</table>\n</div>",
          "text/plain": "          Train Score\nLog Loss       0.0228\nROC AUC        1.0000\nAUPRC          0.9967"
         },
         "metadata": {},
         "output_type": "display_data"
        }
       ]
      }
     },
     "0137eb236e8b45a9ae4ed6515ceddf0c": {
      "model_module": "@jupyter-widgets/controls",
      "model_module_version": "2.0.0",
      "model_name": "HBoxModel",
      "state": {
       "children": [
        "IPY_MODEL_8115497f0ef147c98ee52b7380346b04",
        "IPY_MODEL_605134a4ee924990bfb0c12aedf54ce5",
        "IPY_MODEL_4d85325f27fa4e20a816a8e9bf5300f6"
       ],
       "layout": "IPY_MODEL_70027144966945debda61007ec876b00"
      }
     },
     "05401f920b704fc0a07b1dfcc48416f2": {
      "model_module": "@jupyter-widgets/output",
      "model_module_version": "1.0.0",
      "model_name": "OutputModel",
      "state": {
       "layout": "IPY_MODEL_2b6de2514a2947efbceda39e2cc0ebb5",
       "outputs": [
        {
         "data": {
          "text/html": "<b>Training set performance</b>",
          "text/plain": "<IPython.core.display.HTML object>"
         },
         "metadata": {},
         "output_type": "display_data"
        },
        {
         "data": {
          "text/html": "<div>\n<style scoped>\n    .dataframe tbody tr th:only-of-type {\n        vertical-align: middle;\n    }\n\n    .dataframe tbody tr th {\n        vertical-align: top;\n    }\n\n    .dataframe thead th {\n        text-align: right;\n    }\n</style>\n<table border=\"1\" class=\"dataframe\">\n  <thead>\n    <tr style=\"text-align: right;\">\n      <th></th>\n      <th>precision</th>\n      <th>recall</th>\n      <th>f1-score</th>\n      <th>support</th>\n    </tr>\n  </thead>\n  <tbody>\n    <tr>\n      <th>0</th>\n      <td>0.99</td>\n      <td>0.91</td>\n      <td>0.95</td>\n      <td>335.00</td>\n    </tr>\n    <tr>\n      <th>1</th>\n      <td>0.92</td>\n      <td>0.99</td>\n      <td>0.95</td>\n      <td>335.00</td>\n    </tr>\n    <tr>\n      <th>accuracy</th>\n      <td>0.95</td>\n      <td>0.95</td>\n      <td>0.95</td>\n      <td>0.95</td>\n    </tr>\n    <tr>\n      <th>macro avg</th>\n      <td>0.95</td>\n      <td>0.95</td>\n      <td>0.95</td>\n      <td>670.00</td>\n    </tr>\n    <tr>\n      <th>weighted avg</th>\n      <td>0.95</td>\n      <td>0.95</td>\n      <td>0.95</td>\n      <td>670.00</td>\n    </tr>\n  </tbody>\n</table>\n</div>",
          "text/plain": "             precision recall f1-score support\n0                 0.99   0.91     0.95  335.00\n1                 0.92   0.99     0.95  335.00\naccuracy          0.95   0.95     0.95    0.95\nmacro avg         0.95   0.95     0.95  670.00\nweighted avg      0.95   0.95     0.95  670.00"
         },
         "metadata": {},
         "output_type": "display_data"
        }
       ]
      }
     },
     "0554831151ba432ab3ddcde8e279168f": {
      "model_module": "@jupyter-widgets/controls",
      "model_module_version": "2.0.0",
      "model_name": "HTMLModel",
      "state": {
       "layout": "IPY_MODEL_5764a288503e41d1a143e8a212a12ce2",
       "style": "IPY_MODEL_bf3ce397c1644304bb4f24a10088e694",
       "value": "Best trial: 96. Best value: 0.45939: 100%"
      }
     },
     "06ad252a0d5a42fe90e3b482e41fc98b": {
      "model_module": "@jupyter-widgets/output",
      "model_module_version": "1.0.0",
      "model_name": "OutputModel",
      "state": {
       "layout": "IPY_MODEL_504d1d87104f4d7399259a55e792ed2d",
       "outputs": [
        {
         "data": {
          "text/html": "<b>Additional metrics</b>",
          "text/plain": "<IPython.core.display.HTML object>"
         },
         "metadata": {},
         "output_type": "display_data"
        },
        {
         "data": {
          "text/html": "<div>\n<style scoped>\n    .dataframe tbody tr th:only-of-type {\n        vertical-align: middle;\n    }\n\n    .dataframe tbody tr th {\n        vertical-align: top;\n    }\n\n    .dataframe thead th {\n        text-align: right;\n    }\n</style>\n<table border=\"1\" class=\"dataframe\">\n  <thead>\n    <tr style=\"text-align: right;\">\n      <th></th>\n      <th>Train Score</th>\n    </tr>\n  </thead>\n  <tbody>\n    <tr>\n      <th>Log Loss</th>\n      <td>0.0317</td>\n    </tr>\n    <tr>\n      <th>ROC AUC</th>\n      <td>1.0000</td>\n    </tr>\n    <tr>\n      <th>AUPRC</th>\n      <td>0.9975</td>\n    </tr>\n  </tbody>\n</table>\n</div>",
          "text/plain": "          Train Score\nLog Loss       0.0317\nROC AUC        1.0000\nAUPRC          0.9975"
         },
         "metadata": {},
         "output_type": "display_data"
        }
       ]
      }
     },
     "07540d3769f64b629f586d96baa05f41": {
      "model_module": "@jupyter-widgets/controls",
      "model_module_version": "2.0.0",
      "model_name": "HTMLModel",
      "state": {
       "layout": "IPY_MODEL_136de282d9f242f88e7e03594474f41f",
       "style": "IPY_MODEL_56f18ddd76ab4d4fb5c8d4f3c83a024c",
       "value": " 100/100 [02:50&lt;00:00,  1.24s/it, 170.30/600 seconds]"
      }
     },
     "0a90755ad585449b95b6ee547f003b41": {
      "model_module": "@jupyter-widgets/base",
      "model_module_version": "2.0.0",
      "model_name": "LayoutModel",
      "state": {}
     },
     "0cc163c10b5548e980bb274b38ec5e41": {
      "model_module": "@jupyter-widgets/controls",
      "model_module_version": "2.0.0",
      "model_name": "HBoxModel",
      "state": {
       "children": [
        "IPY_MODEL_3f0d74790ba448989753622024f374b4",
        "IPY_MODEL_3a35d4b651314f45a132f7bc09d8ca9c"
       ],
       "layout": "IPY_MODEL_ff7dca397d884e638d282a4e4b6406dd"
      }
     },
     "0dadd33d5b8f4e70bc1b56b7a70a075b": {
      "model_module": "@jupyter-widgets/controls",
      "model_module_version": "2.0.0",
      "model_name": "ProgressStyleModel",
      "state": {
       "description_width": ""
      }
     },
     "0f724268e768410fbfe47e2588c725e1": {
      "model_module": "@jupyter-widgets/controls",
      "model_module_version": "2.0.0",
      "model_name": "HTMLModel",
      "state": {
       "layout": "IPY_MODEL_daf6489e39de40eba9354995c92e256a",
       "style": "IPY_MODEL_78f7f2691fae47fd9c3f67b98363cec6",
       "value": " 100/100 [03:50&lt;00:00,  2.14s/it, 230.76/600 seconds]"
      }
     },
     "0feda6fbab814866b846bc7e4f465300": {
      "model_module": "@jupyter-widgets/base",
      "model_module_version": "2.0.0",
      "model_name": "LayoutModel",
      "state": {}
     },
     "10bf5ad727a2466fadb248cb7ddec150": {
      "model_module": "@jupyter-widgets/base",
      "model_module_version": "2.0.0",
      "model_name": "LayoutModel",
      "state": {}
     },
     "10daa5078db74e3c9192f2b70c55c54f": {
      "model_module": "@jupyter-widgets/base",
      "model_module_version": "2.0.0",
      "model_name": "LayoutModel",
      "state": {
       "display": "flex",
       "flex_flow": "row",
       "justify_content": "flex-start",
       "width": "auto"
      }
     },
     "1264bea49d2d4176b2f4cf3934a363a9": {
      "model_module": "@jupyter-widgets/controls",
      "model_module_version": "2.0.0",
      "model_name": "HTMLStyleModel",
      "state": {
       "description_width": "",
       "font_size": null,
       "text_color": null
      }
     },
     "136de282d9f242f88e7e03594474f41f": {
      "model_module": "@jupyter-widgets/base",
      "model_module_version": "2.0.0",
      "model_name": "LayoutModel",
      "state": {}
     },
     "13bcb16b295b41acba9499397481d0d7": {
      "model_module": "@jupyter-widgets/output",
      "model_module_version": "1.0.0",
      "model_name": "OutputModel",
      "state": {
       "layout": "IPY_MODEL_b9d1a24ebde14d179b1c2d13dc4029a4",
       "outputs": [
        {
         "data": {
          "text/html": "<b>Additional metrics</b>",
          "text/plain": "<IPython.core.display.HTML object>"
         },
         "metadata": {},
         "output_type": "display_data"
        },
        {
         "data": {
          "text/html": "<div>\n<style scoped>\n    .dataframe tbody tr th:only-of-type {\n        vertical-align: middle;\n    }\n\n    .dataframe tbody tr th {\n        vertical-align: top;\n    }\n\n    .dataframe thead th {\n        text-align: right;\n    }\n</style>\n<table border=\"1\" class=\"dataframe\">\n  <thead>\n    <tr style=\"text-align: right;\">\n      <th></th>\n      <th>Train Score</th>\n    </tr>\n  </thead>\n  <tbody>\n    <tr>\n      <th>Log Loss</th>\n      <td>0.0222</td>\n    </tr>\n    <tr>\n      <th>ROC AUC</th>\n      <td>1.0000</td>\n    </tr>\n    <tr>\n      <th>AUPRC</th>\n      <td>0.9967</td>\n    </tr>\n  </tbody>\n</table>\n</div>",
          "text/plain": "          Train Score\nLog Loss       0.0222\nROC AUC        1.0000\nAUPRC          0.9967"
         },
         "metadata": {},
         "output_type": "display_data"
        }
       ]
      }
     },
     "15727eccd44b4c4d8d0be00e641509ac": {
      "model_module": "@jupyter-widgets/output",
      "model_module_version": "1.0.0",
      "model_name": "OutputModel",
      "state": {
       "layout": "IPY_MODEL_b0942f4c9aad476b9aa3d54650a9c647",
       "outputs": [
        {
         "data": {
          "text/html": "<b>Test set performance</b>",
          "text/plain": "<IPython.core.display.HTML object>"
         },
         "metadata": {},
         "output_type": "display_data"
        },
        {
         "data": {
          "text/html": "<div>\n<style scoped>\n    .dataframe tbody tr th:only-of-type {\n        vertical-align: middle;\n    }\n\n    .dataframe tbody tr th {\n        vertical-align: top;\n    }\n\n    .dataframe thead th {\n        text-align: right;\n    }\n</style>\n<table border=\"1\" class=\"dataframe\">\n  <thead>\n    <tr style=\"text-align: right;\">\n      <th></th>\n      <th>precision</th>\n      <th>recall</th>\n      <th>f1-score</th>\n      <th>support</th>\n    </tr>\n  </thead>\n  <tbody>\n    <tr>\n      <th>0</th>\n      <td>0.80</td>\n      <td>0.84</td>\n      <td>0.82</td>\n      <td>165.00</td>\n    </tr>\n    <tr>\n      <th>1</th>\n      <td>0.67</td>\n      <td>0.61</td>\n      <td>0.64</td>\n      <td>89.00</td>\n    </tr>\n    <tr>\n      <th>accuracy</th>\n      <td>0.76</td>\n      <td>0.76</td>\n      <td>0.76</td>\n      <td>0.76</td>\n    </tr>\n    <tr>\n      <th>macro avg</th>\n      <td>0.73</td>\n      <td>0.72</td>\n      <td>0.73</td>\n      <td>254.00</td>\n    </tr>\n    <tr>\n      <th>weighted avg</th>\n      <td>0.75</td>\n      <td>0.76</td>\n      <td>0.75</td>\n      <td>254.00</td>\n    </tr>\n  </tbody>\n</table>\n</div>",
          "text/plain": "             precision recall f1-score support\n0                 0.80   0.84     0.82  165.00\n1                 0.67   0.61     0.64   89.00\naccuracy          0.76   0.76     0.76    0.76\nmacro avg         0.73   0.72     0.73  254.00\nweighted avg      0.75   0.76     0.75  254.00"
         },
         "metadata": {},
         "output_type": "display_data"
        }
       ]
      }
     },
     "16e681434364422b97f20efffc0bb00f": {
      "model_module": "@jupyter-widgets/base",
      "model_module_version": "2.0.0",
      "model_name": "LayoutModel",
      "state": {}
     },
     "19ce6c8b3aed4537a6785de08107c320": {
      "model_module": "@jupyter-widgets/base",
      "model_module_version": "2.0.0",
      "model_name": "LayoutModel",
      "state": {
       "display": "flex",
       "flex_flow": "row",
       "justify_content": "flex-start",
       "width": "auto"
      }
     },
     "1dd9b2e0dbbf4ac98bc71b03f5a21e5d": {
      "model_module": "@jupyter-widgets/controls",
      "model_module_version": "2.0.0",
      "model_name": "HBoxModel",
      "state": {
       "children": [
        "IPY_MODEL_dcedaa0de6cb4f08be5cb934157cd1a9",
        "IPY_MODEL_b78508246a86410d944d9439f56781d4"
       ],
       "layout": "IPY_MODEL_5af7bd2fc544499cad3f455ad6c9406e"
      }
     },
     "278f59b4ed8e47588f0fdb423818b993": {
      "model_module": "@jupyter-widgets/output",
      "model_module_version": "1.0.0",
      "model_name": "OutputModel",
      "state": {
       "layout": "IPY_MODEL_97a1985a8a394672a6905a15fb8512ed",
       "outputs": [
        {
         "data": {
          "text/html": "<b>Test set performance</b>",
          "text/plain": "<IPython.core.display.HTML object>"
         },
         "metadata": {},
         "output_type": "display_data"
        },
        {
         "data": {
          "text/html": "<div>\n<style scoped>\n    .dataframe tbody tr th:only-of-type {\n        vertical-align: middle;\n    }\n\n    .dataframe tbody tr th {\n        vertical-align: top;\n    }\n\n    .dataframe thead th {\n        text-align: right;\n    }\n</style>\n<table border=\"1\" class=\"dataframe\">\n  <thead>\n    <tr style=\"text-align: right;\">\n      <th></th>\n      <th>precision</th>\n      <th>recall</th>\n      <th>f1-score</th>\n      <th>support</th>\n    </tr>\n  </thead>\n  <tbody>\n    <tr>\n      <th>0</th>\n      <td>0.75</td>\n      <td>0.87</td>\n      <td>0.80</td>\n      <td>165.00</td>\n    </tr>\n    <tr>\n      <th>1</th>\n      <td>0.65</td>\n      <td>0.46</td>\n      <td>0.54</td>\n      <td>89.00</td>\n    </tr>\n    <tr>\n      <th>accuracy</th>\n      <td>0.72</td>\n      <td>0.72</td>\n      <td>0.72</td>\n      <td>0.72</td>\n    </tr>\n    <tr>\n      <th>macro avg</th>\n      <td>0.70</td>\n      <td>0.66</td>\n      <td>0.67</td>\n      <td>254.00</td>\n    </tr>\n    <tr>\n      <th>weighted avg</th>\n      <td>0.71</td>\n      <td>0.72</td>\n      <td>0.71</td>\n      <td>254.00</td>\n    </tr>\n  </tbody>\n</table>\n</div>",
          "text/plain": "             precision recall f1-score support\n0                 0.75   0.87     0.80  165.00\n1                 0.65   0.46     0.54   89.00\naccuracy          0.72   0.72     0.72    0.72\nmacro avg         0.70   0.66     0.67  254.00\nweighted avg      0.71   0.72     0.71  254.00"
         },
         "metadata": {},
         "output_type": "display_data"
        }
       ]
      }
     },
     "2a12a17763c449fbb3f6a598b1c376bb": {
      "model_module": "@jupyter-widgets/output",
      "model_module_version": "1.0.0",
      "model_name": "OutputModel",
      "state": {
       "layout": "IPY_MODEL_7bb248903ab04cdf8a5c5afca67dad8b",
       "outputs": [
        {
         "data": {
          "text/html": "<b>Test set performance</b>",
          "text/plain": "<IPython.core.display.HTML object>"
         },
         "metadata": {},
         "output_type": "display_data"
        },
        {
         "data": {
          "text/html": "<div>\n<style scoped>\n    .dataframe tbody tr th:only-of-type {\n        vertical-align: middle;\n    }\n\n    .dataframe tbody tr th {\n        vertical-align: top;\n    }\n\n    .dataframe thead th {\n        text-align: right;\n    }\n</style>\n<table border=\"1\" class=\"dataframe\">\n  <thead>\n    <tr style=\"text-align: right;\">\n      <th></th>\n      <th>precision</th>\n      <th>recall</th>\n      <th>f1-score</th>\n      <th>support</th>\n    </tr>\n  </thead>\n  <tbody>\n    <tr>\n      <th>0</th>\n      <td>0.85</td>\n      <td>0.75</td>\n      <td>0.80</td>\n      <td>165.00</td>\n    </tr>\n    <tr>\n      <th>1</th>\n      <td>0.62</td>\n      <td>0.76</td>\n      <td>0.68</td>\n      <td>89.00</td>\n    </tr>\n    <tr>\n      <th>accuracy</th>\n      <td>0.75</td>\n      <td>0.75</td>\n      <td>0.75</td>\n      <td>0.75</td>\n    </tr>\n    <tr>\n      <th>macro avg</th>\n      <td>0.74</td>\n      <td>0.75</td>\n      <td>0.74</td>\n      <td>254.00</td>\n    </tr>\n    <tr>\n      <th>weighted avg</th>\n      <td>0.77</td>\n      <td>0.75</td>\n      <td>0.76</td>\n      <td>254.00</td>\n    </tr>\n  </tbody>\n</table>\n</div>",
          "text/plain": "             precision recall f1-score support\n0                 0.85   0.75     0.80  165.00\n1                 0.62   0.76     0.68   89.00\naccuracy          0.75   0.75     0.75    0.75\nmacro avg         0.74   0.75     0.74  254.00\nweighted avg      0.77   0.75     0.76  254.00"
         },
         "metadata": {},
         "output_type": "display_data"
        }
       ]
      }
     },
     "2b6de2514a2947efbceda39e2cc0ebb5": {
      "model_module": "@jupyter-widgets/base",
      "model_module_version": "2.0.0",
      "model_name": "LayoutModel",
      "state": {}
     },
     "2e7b60764a5b43b4a3712f25bbe22df7": {
      "model_module": "@jupyter-widgets/controls",
      "model_module_version": "2.0.0",
      "model_name": "HBoxModel",
      "state": {
       "children": [
        "IPY_MODEL_585c45aa70c84483904c1a5620df2fc8",
        "IPY_MODEL_f838a81303384687a9f824427a8ad1dd"
       ],
       "layout": "IPY_MODEL_6ac66d3e2df240929cf8ec8704519089"
      }
     },
     "3049cab197964d31823c96cc68eb610e": {
      "model_module": "@jupyter-widgets/base",
      "model_module_version": "2.0.0",
      "model_name": "LayoutModel",
      "state": {
       "display": "flex",
       "flex_flow": "row",
       "justify_content": "flex-start",
       "width": "auto"
      }
     },
     "30a60c5221d144568d1cf4de5475026a": {
      "model_module": "@jupyter-widgets/controls",
      "model_module_version": "2.0.0",
      "model_name": "FloatProgressModel",
      "state": {
       "bar_style": "success",
       "layout": "IPY_MODEL_5f624c99e74a4a309d93dc5ef6390d24",
       "style": "IPY_MODEL_ab0b5981d1944d81a64bddd8c7db6be2",
       "value": 100
      }
     },
     "329ed3265118438697fac55348410a77": {
      "model_module": "@jupyter-widgets/base",
      "model_module_version": "2.0.0",
      "model_name": "LayoutModel",
      "state": {}
     },
     "33c978e4307c4b809c79d5ff338b5cf2": {
      "model_module": "@jupyter-widgets/output",
      "model_module_version": "1.0.0",
      "model_name": "OutputModel",
      "state": {
       "layout": "IPY_MODEL_c175b338d76e4ad8b8cd9d31dba7424a",
       "outputs": [
        {
         "data": {
          "text/html": "<b>Training set performance</b>",
          "text/plain": "<IPython.core.display.HTML object>"
         },
         "metadata": {},
         "output_type": "display_data"
        },
        {
         "data": {
          "text/html": "<div>\n<style scoped>\n    .dataframe tbody tr th:only-of-type {\n        vertical-align: middle;\n    }\n\n    .dataframe tbody tr th {\n        vertical-align: top;\n    }\n\n    .dataframe thead th {\n        text-align: right;\n    }\n</style>\n<table border=\"1\" class=\"dataframe\">\n  <thead>\n    <tr style=\"text-align: right;\">\n      <th></th>\n      <th>precision</th>\n      <th>recall</th>\n      <th>f1-score</th>\n      <th>support</th>\n    </tr>\n  </thead>\n  <tbody>\n    <tr>\n      <th>0</th>\n      <td>0.98</td>\n      <td>0.89</td>\n      <td>0.93</td>\n      <td>335.00</td>\n    </tr>\n    <tr>\n      <th>1</th>\n      <td>0.90</td>\n      <td>0.99</td>\n      <td>0.94</td>\n      <td>335.00</td>\n    </tr>\n    <tr>\n      <th>accuracy</th>\n      <td>0.94</td>\n      <td>0.94</td>\n      <td>0.94</td>\n      <td>0.94</td>\n    </tr>\n    <tr>\n      <th>macro avg</th>\n      <td>0.94</td>\n      <td>0.94</td>\n      <td>0.94</td>\n      <td>670.00</td>\n    </tr>\n    <tr>\n      <th>weighted avg</th>\n      <td>0.94</td>\n      <td>0.94</td>\n      <td>0.94</td>\n      <td>670.00</td>\n    </tr>\n  </tbody>\n</table>\n</div>",
          "text/plain": "             precision recall f1-score support\n0                 0.98   0.89     0.93  335.00\n1                 0.90   0.99     0.94  335.00\naccuracy          0.94   0.94     0.94    0.94\nmacro avg         0.94   0.94     0.94  670.00\nweighted avg      0.94   0.94     0.94  670.00"
         },
         "metadata": {},
         "output_type": "display_data"
        }
       ]
      }
     },
     "34d46cf5c50f4b95a241e5ffdd42c16e": {
      "model_module": "@jupyter-widgets/controls",
      "model_module_version": "2.0.0",
      "model_name": "HTMLStyleModel",
      "state": {
       "description_width": "",
       "font_size": null,
       "text_color": null
      }
     },
     "35285a93c1934a72834fe6b0c5830543": {
      "model_module": "@jupyter-widgets/output",
      "model_module_version": "1.0.0",
      "model_name": "OutputModel",
      "state": {
       "layout": "IPY_MODEL_a9bde08af9084fb7ba22329d82e1efe2",
       "outputs": [
        {
         "data": {
          "text/html": "<b>(Log Loss, ROC Curve, Precission-Recall)</b>",
          "text/plain": "<IPython.core.display.HTML object>"
         },
         "metadata": {},
         "output_type": "display_data"
        },
        {
         "data": {
          "text/html": "<div>\n<style scoped>\n    .dataframe tbody tr th:only-of-type {\n        vertical-align: middle;\n    }\n\n    .dataframe tbody tr th {\n        vertical-align: top;\n    }\n\n    .dataframe thead th {\n        text-align: right;\n    }\n</style>\n<table border=\"1\" class=\"dataframe\">\n  <thead>\n    <tr style=\"text-align: right;\">\n      <th></th>\n      <th>Test Score</th>\n    </tr>\n  </thead>\n  <tbody>\n    <tr>\n      <th>Log Loss</th>\n      <td>0.4939</td>\n    </tr>\n    <tr>\n      <th>ROC AUC</th>\n      <td>0.8357</td>\n    </tr>\n    <tr>\n      <th>AUPRC</th>\n      <td>0.6808</td>\n    </tr>\n  </tbody>\n</table>\n</div>",
          "text/plain": "          Test Score\nLog Loss      0.4939\nROC AUC       0.8357\nAUPRC         0.6808"
         },
         "metadata": {},
         "output_type": "display_data"
        }
       ]
      }
     },
     "36c70eeaa401429b9274142cd591db51": {
      "model_module": "@jupyter-widgets/base",
      "model_module_version": "2.0.0",
      "model_name": "LayoutModel",
      "state": {}
     },
     "37611b9b2bc7404a81ba495f09fdc896": {
      "model_module": "@jupyter-widgets/base",
      "model_module_version": "2.0.0",
      "model_name": "LayoutModel",
      "state": {}
     },
     "38835486404246848bbef73420b78400": {
      "model_module": "@jupyter-widgets/base",
      "model_module_version": "2.0.0",
      "model_name": "LayoutModel",
      "state": {}
     },
     "3a35d4b651314f45a132f7bc09d8ca9c": {
      "model_module": "@jupyter-widgets/output",
      "model_module_version": "1.0.0",
      "model_name": "OutputModel",
      "state": {
       "layout": "IPY_MODEL_8214bddd88bb4405bb23595e2c3ef100",
       "outputs": [
        {
         "data": {
          "text/html": "<b>Test set performance</b>",
          "text/plain": "<IPython.core.display.HTML object>"
         },
         "metadata": {},
         "output_type": "display_data"
        },
        {
         "data": {
          "text/html": "<div>\n<style scoped>\n    .dataframe tbody tr th:only-of-type {\n        vertical-align: middle;\n    }\n\n    .dataframe tbody tr th {\n        vertical-align: top;\n    }\n\n    .dataframe thead th {\n        text-align: right;\n    }\n</style>\n<table border=\"1\" class=\"dataframe\">\n  <thead>\n    <tr style=\"text-align: right;\">\n      <th></th>\n      <th>precision</th>\n      <th>recall</th>\n      <th>f1-score</th>\n      <th>support</th>\n    </tr>\n  </thead>\n  <tbody>\n    <tr>\n      <th>0</th>\n      <td>0.77</td>\n      <td>0.86</td>\n      <td>0.81</td>\n      <td>165.00</td>\n    </tr>\n    <tr>\n      <th>1</th>\n      <td>0.67</td>\n      <td>0.52</td>\n      <td>0.58</td>\n      <td>89.00</td>\n    </tr>\n    <tr>\n      <th>accuracy</th>\n      <td>0.74</td>\n      <td>0.74</td>\n      <td>0.74</td>\n      <td>0.74</td>\n    </tr>\n    <tr>\n      <th>macro avg</th>\n      <td>0.72</td>\n      <td>0.69</td>\n      <td>0.70</td>\n      <td>254.00</td>\n    </tr>\n    <tr>\n      <th>weighted avg</th>\n      <td>0.73</td>\n      <td>0.74</td>\n      <td>0.73</td>\n      <td>254.00</td>\n    </tr>\n  </tbody>\n</table>\n</div>",
          "text/plain": "             precision recall f1-score support\n0                 0.77   0.86     0.81  165.00\n1                 0.67   0.52     0.58   89.00\naccuracy          0.74   0.74     0.74    0.74\nmacro avg         0.72   0.69     0.70  254.00\nweighted avg      0.73   0.74     0.73  254.00"
         },
         "metadata": {},
         "output_type": "display_data"
        }
       ]
      }
     },
     "3af104d7a6f64203a8c545318e044bd0": {
      "model_module": "@jupyter-widgets/output",
      "model_module_version": "1.0.0",
      "model_name": "OutputModel",
      "state": {
       "layout": "IPY_MODEL_e7dc4b0070a749558f4a53ca4243a6b7",
       "outputs": [
        {
         "data": {
          "text/html": "<b>(Log Loss, ROC Curve, Precission-Recall)</b>",
          "text/plain": "<IPython.core.display.HTML object>"
         },
         "metadata": {},
         "output_type": "display_data"
        },
        {
         "data": {
          "text/html": "<div>\n<style scoped>\n    .dataframe tbody tr th:only-of-type {\n        vertical-align: middle;\n    }\n\n    .dataframe tbody tr th {\n        vertical-align: top;\n    }\n\n    .dataframe thead th {\n        text-align: right;\n    }\n</style>\n<table border=\"1\" class=\"dataframe\">\n  <thead>\n    <tr style=\"text-align: right;\">\n      <th></th>\n      <th>Test Score</th>\n    </tr>\n  </thead>\n  <tbody>\n    <tr>\n      <th>Log Loss</th>\n      <td>0.7639</td>\n    </tr>\n    <tr>\n      <th>ROC AUC</th>\n      <td>0.7813</td>\n    </tr>\n    <tr>\n      <th>AUPRC</th>\n      <td>0.6042</td>\n    </tr>\n  </tbody>\n</table>\n</div>",
          "text/plain": "          Test Score\nLog Loss      0.7639\nROC AUC       0.7813\nAUPRC         0.6042"
         },
         "metadata": {},
         "output_type": "display_data"
        }
       ]
      }
     },
     "3c5b92055b8447faae7d536864c0338e": {
      "model_module": "@jupyter-widgets/output",
      "model_module_version": "1.0.0",
      "model_name": "OutputModel",
      "state": {
       "layout": "IPY_MODEL_46a2989fcf34487387ce0525e60c73db",
       "outputs": [
        {
         "data": {
          "text/html": "<b>Training set performance</b>",
          "text/plain": "<IPython.core.display.HTML object>"
         },
         "metadata": {},
         "output_type": "display_data"
        },
        {
         "data": {
          "text/html": "<div>\n<style scoped>\n    .dataframe tbody tr th:only-of-type {\n        vertical-align: middle;\n    }\n\n    .dataframe tbody tr th {\n        vertical-align: top;\n    }\n\n    .dataframe thead th {\n        text-align: right;\n    }\n</style>\n<table border=\"1\" class=\"dataframe\">\n  <thead>\n    <tr style=\"text-align: right;\">\n      <th></th>\n      <th>precision</th>\n      <th>recall</th>\n      <th>f1-score</th>\n      <th>support</th>\n    </tr>\n  </thead>\n  <tbody>\n    <tr>\n      <th>0</th>\n      <td>1.00</td>\n      <td>1.00</td>\n      <td>1.00</td>\n      <td>335.00</td>\n    </tr>\n    <tr>\n      <th>1</th>\n      <td>1.00</td>\n      <td>1.00</td>\n      <td>1.00</td>\n      <td>179.00</td>\n    </tr>\n    <tr>\n      <th>accuracy</th>\n      <td>1.00</td>\n      <td>1.00</td>\n      <td>1.00</td>\n      <td>1.00</td>\n    </tr>\n    <tr>\n      <th>macro avg</th>\n      <td>1.00</td>\n      <td>1.00</td>\n      <td>1.00</td>\n      <td>514.00</td>\n    </tr>\n    <tr>\n      <th>weighted avg</th>\n      <td>1.00</td>\n      <td>1.00</td>\n      <td>1.00</td>\n      <td>514.00</td>\n    </tr>\n  </tbody>\n</table>\n</div>",
          "text/plain": "             precision recall f1-score support\n0                 1.00   1.00     1.00  335.00\n1                 1.00   1.00     1.00  179.00\naccuracy          1.00   1.00     1.00    1.00\nmacro avg         1.00   1.00     1.00  514.00\nweighted avg      1.00   1.00     1.00  514.00"
         },
         "metadata": {},
         "output_type": "display_data"
        }
       ]
      }
     },
     "3f0d74790ba448989753622024f374b4": {
      "model_module": "@jupyter-widgets/output",
      "model_module_version": "1.0.0",
      "model_name": "OutputModel",
      "state": {
       "layout": "IPY_MODEL_ebb6c23ee5054b47bfee95fc3524f4ae",
       "outputs": [
        {
         "data": {
          "text/html": "<b>Training set performance</b>",
          "text/plain": "<IPython.core.display.HTML object>"
         },
         "metadata": {},
         "output_type": "display_data"
        },
        {
         "data": {
          "text/html": "<div>\n<style scoped>\n    .dataframe tbody tr th:only-of-type {\n        vertical-align: middle;\n    }\n\n    .dataframe tbody tr th {\n        vertical-align: top;\n    }\n\n    .dataframe thead th {\n        text-align: right;\n    }\n</style>\n<table border=\"1\" class=\"dataframe\">\n  <thead>\n    <tr style=\"text-align: right;\">\n      <th></th>\n      <th>precision</th>\n      <th>recall</th>\n      <th>f1-score</th>\n      <th>support</th>\n    </tr>\n  </thead>\n  <tbody>\n    <tr>\n      <th>0</th>\n      <td>1.00</td>\n      <td>1.00</td>\n      <td>1.00</td>\n      <td>335.00</td>\n    </tr>\n    <tr>\n      <th>1</th>\n      <td>1.00</td>\n      <td>1.00</td>\n      <td>1.00</td>\n      <td>335.00</td>\n    </tr>\n    <tr>\n      <th>accuracy</th>\n      <td>1.00</td>\n      <td>1.00</td>\n      <td>1.00</td>\n      <td>1.00</td>\n    </tr>\n    <tr>\n      <th>macro avg</th>\n      <td>1.00</td>\n      <td>1.00</td>\n      <td>1.00</td>\n      <td>670.00</td>\n    </tr>\n    <tr>\n      <th>weighted avg</th>\n      <td>1.00</td>\n      <td>1.00</td>\n      <td>1.00</td>\n      <td>670.00</td>\n    </tr>\n  </tbody>\n</table>\n</div>",
          "text/plain": "             precision recall f1-score support\n0                 1.00   1.00     1.00  335.00\n1                 1.00   1.00     1.00  335.00\naccuracy          1.00   1.00     1.00    1.00\nmacro avg         1.00   1.00     1.00  670.00\nweighted avg      1.00   1.00     1.00  670.00"
         },
         "metadata": {},
         "output_type": "display_data"
        }
       ]
      }
     },
     "423aa3fce6dd4fbca8ed08d2d8e0483d": {
      "model_module": "@jupyter-widgets/base",
      "model_module_version": "2.0.0",
      "model_name": "LayoutModel",
      "state": {}
     },
     "43874d7452ee44dbb74c210fa7b2dca2": {
      "model_module": "@jupyter-widgets/controls",
      "model_module_version": "2.0.0",
      "model_name": "HBoxModel",
      "state": {
       "children": [
        "IPY_MODEL_e6e01c7ec2b943ce949f3ae0aa7fcc5a",
        "IPY_MODEL_c59a775f2e5e486b8bf32c5ee00c2696"
       ],
       "layout": "IPY_MODEL_10daa5078db74e3c9192f2b70c55c54f"
      }
     },
     "43c5d5d56816488d9c4e6a8461930d9f": {
      "model_module": "@jupyter-widgets/output",
      "model_module_version": "1.0.0",
      "model_name": "OutputModel",
      "state": {
       "layout": "IPY_MODEL_c2ba3ccf6ac34f59a962baaaff690a2c",
       "outputs": [
        {
         "data": {
          "text/html": "<b>Additional metrics</b>",
          "text/plain": "<IPython.core.display.HTML object>"
         },
         "metadata": {},
         "output_type": "display_data"
        },
        {
         "data": {
          "text/html": "<div>\n<style scoped>\n    .dataframe tbody tr th:only-of-type {\n        vertical-align: middle;\n    }\n\n    .dataframe tbody tr th {\n        vertical-align: top;\n    }\n\n    .dataframe thead th {\n        text-align: right;\n    }\n</style>\n<table border=\"1\" class=\"dataframe\">\n  <thead>\n    <tr style=\"text-align: right;\">\n      <th></th>\n      <th>Train Score</th>\n    </tr>\n  </thead>\n  <tbody>\n    <tr>\n      <th>Log Loss</th>\n      <td>0.3079</td>\n    </tr>\n    <tr>\n      <th>ROC AUC</th>\n      <td>0.9531</td>\n    </tr>\n    <tr>\n      <th>AUPRC</th>\n      <td>0.9546</td>\n    </tr>\n  </tbody>\n</table>\n</div>",
          "text/plain": "          Train Score\nLog Loss       0.3079\nROC AUC        0.9531\nAUPRC          0.9546"
         },
         "metadata": {},
         "output_type": "display_data"
        }
       ]
      }
     },
     "450ffa3d171f452da229a6b503eddb39": {
      "model_module": "@jupyter-widgets/base",
      "model_module_version": "2.0.0",
      "model_name": "LayoutModel",
      "state": {}
     },
     "46a2989fcf34487387ce0525e60c73db": {
      "model_module": "@jupyter-widgets/base",
      "model_module_version": "2.0.0",
      "model_name": "LayoutModel",
      "state": {}
     },
     "4a3de337dc1a4b06ae5fb249e10000ca": {
      "model_module": "@jupyter-widgets/output",
      "model_module_version": "1.0.0",
      "model_name": "OutputModel",
      "state": {
       "layout": "IPY_MODEL_0feda6fbab814866b846bc7e4f465300",
       "outputs": [
        {
         "data": {
          "text/html": "<b>(Log Loss, ROC Curve, Precission-Recall)</b>",
          "text/plain": "<IPython.core.display.HTML object>"
         },
         "metadata": {},
         "output_type": "display_data"
        },
        {
         "data": {
          "text/html": "<div>\n<style scoped>\n    .dataframe tbody tr th:only-of-type {\n        vertical-align: middle;\n    }\n\n    .dataframe tbody tr th {\n        vertical-align: top;\n    }\n\n    .dataframe thead th {\n        text-align: right;\n    }\n</style>\n<table border=\"1\" class=\"dataframe\">\n  <thead>\n    <tr style=\"text-align: right;\">\n      <th></th>\n      <th>Test Score</th>\n    </tr>\n  </thead>\n  <tbody>\n    <tr>\n      <th>Log Loss</th>\n      <td>0.4753</td>\n    </tr>\n    <tr>\n      <th>ROC AUC</th>\n      <td>0.8396</td>\n    </tr>\n    <tr>\n      <th>AUPRC</th>\n      <td>0.6922</td>\n    </tr>\n  </tbody>\n</table>\n</div>",
          "text/plain": "          Test Score\nLog Loss      0.4753\nROC AUC       0.8396\nAUPRC         0.6922"
         },
         "metadata": {},
         "output_type": "display_data"
        }
       ]
      }
     },
     "4d85325f27fa4e20a816a8e9bf5300f6": {
      "model_module": "@jupyter-widgets/controls",
      "model_module_version": "2.0.0",
      "model_name": "HTMLModel",
      "state": {
       "layout": "IPY_MODEL_b83d7b292b6046a1bbeeecb80141ec1d",
       "style": "IPY_MODEL_34d46cf5c50f4b95a241e5ffdd42c16e",
       "value": " 100/100 [00:35&lt;00:00,  2.59it/s, 35.00/600 seconds]"
      }
     },
     "504d1d87104f4d7399259a55e792ed2d": {
      "model_module": "@jupyter-widgets/base",
      "model_module_version": "2.0.0",
      "model_name": "LayoutModel",
      "state": {}
     },
     "52d2619a02d44b6bb517960007c68a5c": {
      "model_module": "@jupyter-widgets/output",
      "model_module_version": "1.0.0",
      "model_name": "OutputModel",
      "state": {
       "layout": "IPY_MODEL_7b2398eb762643959458844938524577",
       "outputs": [
        {
         "data": {
          "text/html": "<b>Test set performance</b>",
          "text/plain": "<IPython.core.display.HTML object>"
         },
         "metadata": {},
         "output_type": "display_data"
        },
        {
         "data": {
          "text/html": "<div>\n<style scoped>\n    .dataframe tbody tr th:only-of-type {\n        vertical-align: middle;\n    }\n\n    .dataframe tbody tr th {\n        vertical-align: top;\n    }\n\n    .dataframe thead th {\n        text-align: right;\n    }\n</style>\n<table border=\"1\" class=\"dataframe\">\n  <thead>\n    <tr style=\"text-align: right;\">\n      <th></th>\n      <th>precision</th>\n      <th>recall</th>\n      <th>f1-score</th>\n      <th>support</th>\n    </tr>\n  </thead>\n  <tbody>\n    <tr>\n      <th>0</th>\n      <td>0.81</td>\n      <td>0.82</td>\n      <td>0.82</td>\n      <td>165.00</td>\n    </tr>\n    <tr>\n      <th>1</th>\n      <td>0.67</td>\n      <td>0.65</td>\n      <td>0.66</td>\n      <td>89.00</td>\n    </tr>\n    <tr>\n      <th>accuracy</th>\n      <td>0.76</td>\n      <td>0.76</td>\n      <td>0.76</td>\n      <td>0.76</td>\n    </tr>\n    <tr>\n      <th>macro avg</th>\n      <td>0.74</td>\n      <td>0.74</td>\n      <td>0.74</td>\n      <td>254.00</td>\n    </tr>\n    <tr>\n      <th>weighted avg</th>\n      <td>0.76</td>\n      <td>0.76</td>\n      <td>0.76</td>\n      <td>254.00</td>\n    </tr>\n  </tbody>\n</table>\n</div>",
          "text/plain": "             precision recall f1-score support\n0                 0.81   0.82     0.82  165.00\n1                 0.67   0.65     0.66   89.00\naccuracy          0.76   0.76     0.76    0.76\nmacro avg         0.74   0.74     0.74  254.00\nweighted avg      0.76   0.76     0.76  254.00"
         },
         "metadata": {},
         "output_type": "display_data"
        }
       ]
      }
     },
     "53e430bdcec54113af7c3b44d3abffa4": {
      "model_module": "@jupyter-widgets/base",
      "model_module_version": "2.0.0",
      "model_name": "LayoutModel",
      "state": {
       "display": "flex",
       "flex_flow": "row",
       "justify_content": "flex-start",
       "width": "auto"
      }
     },
     "5513e46b690e47a0bf3ca7954a220fcc": {
      "model_module": "@jupyter-widgets/controls",
      "model_module_version": "2.0.0",
      "model_name": "HTMLModel",
      "state": {
       "layout": "IPY_MODEL_37611b9b2bc7404a81ba495f09fdc896",
       "style": "IPY_MODEL_f37cdbf87aee4618bac7aa5862525d1f",
       "value": "Best trial: 12. Best value: 0.453514: 100%"
      }
     },
     "562b49d2644340b8bc213dfb659ed1b8": {
      "model_module": "@jupyter-widgets/base",
      "model_module_version": "2.0.0",
      "model_name": "LayoutModel",
      "state": {
       "display": "flex",
       "flex_flow": "row",
       "justify_content": "flex-start",
       "width": "auto"
      }
     },
     "56f18ddd76ab4d4fb5c8d4f3c83a024c": {
      "model_module": "@jupyter-widgets/controls",
      "model_module_version": "2.0.0",
      "model_name": "HTMLStyleModel",
      "state": {
       "description_width": "",
       "font_size": null,
       "text_color": null
      }
     },
     "5764a288503e41d1a143e8a212a12ce2": {
      "model_module": "@jupyter-widgets/base",
      "model_module_version": "2.0.0",
      "model_name": "LayoutModel",
      "state": {}
     },
     "585c45aa70c84483904c1a5620df2fc8": {
      "model_module": "@jupyter-widgets/output",
      "model_module_version": "1.0.0",
      "model_name": "OutputModel",
      "state": {
       "layout": "IPY_MODEL_8cd1f4522aa5435ea1b54e56fe152bc4",
       "outputs": [
        {
         "data": {
          "text/html": "<b>Additional metrics</b>",
          "text/plain": "<IPython.core.display.HTML object>"
         },
         "metadata": {},
         "output_type": "display_data"
        },
        {
         "data": {
          "text/html": "<div>\n<style scoped>\n    .dataframe tbody tr th:only-of-type {\n        vertical-align: middle;\n    }\n\n    .dataframe tbody tr th {\n        vertical-align: top;\n    }\n\n    .dataframe thead th {\n        text-align: right;\n    }\n</style>\n<table border=\"1\" class=\"dataframe\">\n  <thead>\n    <tr style=\"text-align: right;\">\n      <th></th>\n      <th>Train Score</th>\n    </tr>\n  </thead>\n  <tbody>\n    <tr>\n      <th>Log Loss</th>\n      <td>0.0234</td>\n    </tr>\n    <tr>\n      <th>ROC AUC</th>\n      <td>1.0000</td>\n    </tr>\n    <tr>\n      <th>AUPRC</th>\n      <td>0.9975</td>\n    </tr>\n  </tbody>\n</table>\n</div>",
          "text/plain": "          Train Score\nLog Loss       0.0234\nROC AUC        1.0000\nAUPRC          0.9975"
         },
         "metadata": {},
         "output_type": "display_data"
        }
       ]
      }
     },
     "5ab17042992b49108889f3c875f54c7e": {
      "model_module": "@jupyter-widgets/controls",
      "model_module_version": "2.0.0",
      "model_name": "FloatProgressModel",
      "state": {
       "bar_style": "success",
       "layout": "IPY_MODEL_16e681434364422b97f20efffc0bb00f",
       "style": "IPY_MODEL_b6aec658bbc94412ab18c0da6010be32",
       "value": 100
      }
     },
     "5af7bd2fc544499cad3f455ad6c9406e": {
      "model_module": "@jupyter-widgets/base",
      "model_module_version": "2.0.0",
      "model_name": "LayoutModel",
      "state": {
       "display": "flex",
       "flex_flow": "row",
       "justify_content": "flex-start",
       "width": "auto"
      }
     },
     "5c5adae1c35f4f2599283e95b69aa078": {
      "model_module": "@jupyter-widgets/output",
      "model_module_version": "1.0.0",
      "model_name": "OutputModel",
      "state": {
       "layout": "IPY_MODEL_38835486404246848bbef73420b78400",
       "outputs": [
        {
         "data": {
          "text/html": "<b>(Log Loss, ROC Curve, Precission-Recall)</b>",
          "text/plain": "<IPython.core.display.HTML object>"
         },
         "metadata": {},
         "output_type": "display_data"
        },
        {
         "data": {
          "text/html": "<div>\n<style scoped>\n    .dataframe tbody tr th:only-of-type {\n        vertical-align: middle;\n    }\n\n    .dataframe tbody tr th {\n        vertical-align: top;\n    }\n\n    .dataframe thead th {\n        text-align: right;\n    }\n</style>\n<table border=\"1\" class=\"dataframe\">\n  <thead>\n    <tr style=\"text-align: right;\">\n      <th></th>\n      <th>Test Score</th>\n    </tr>\n  </thead>\n  <tbody>\n    <tr>\n      <th>Log Loss</th>\n      <td>0.5067</td>\n    </tr>\n    <tr>\n      <th>ROC AUC</th>\n      <td>0.8223</td>\n    </tr>\n    <tr>\n      <th>AUPRC</th>\n      <td>0.6531</td>\n    </tr>\n  </tbody>\n</table>\n</div>",
          "text/plain": "          Test Score\nLog Loss      0.5067\nROC AUC       0.8223\nAUPRC         0.6531"
         },
         "metadata": {},
         "output_type": "display_data"
        }
       ]
      }
     },
     "5c8ceb02aa1f43a69aea26af8a53ab8e": {
      "model_module": "@jupyter-widgets/base",
      "model_module_version": "2.0.0",
      "model_name": "LayoutModel",
      "state": {}
     },
     "5f624c99e74a4a309d93dc5ef6390d24": {
      "model_module": "@jupyter-widgets/base",
      "model_module_version": "2.0.0",
      "model_name": "LayoutModel",
      "state": {}
     },
     "6041ecff4ec6486b936f85e02683aeb3": {
      "model_module": "@jupyter-widgets/controls",
      "model_module_version": "2.0.0",
      "model_name": "HBoxModel",
      "state": {
       "children": [
        "IPY_MODEL_05401f920b704fc0a07b1dfcc48416f2",
        "IPY_MODEL_c8b6549dfdae4a84b1c810c39910f705"
       ],
       "layout": "IPY_MODEL_53e430bdcec54113af7c3b44d3abffa4"
      }
     },
     "605134a4ee924990bfb0c12aedf54ce5": {
      "model_module": "@jupyter-widgets/controls",
      "model_module_version": "2.0.0",
      "model_name": "FloatProgressModel",
      "state": {
       "bar_style": "success",
       "layout": "IPY_MODEL_450ffa3d171f452da229a6b503eddb39",
       "style": "IPY_MODEL_0dadd33d5b8f4e70bc1b56b7a70a075b",
       "value": 100
      }
     },
     "645656aa82e94d32b9c2e55f058b16ee": {
      "model_module": "@jupyter-widgets/output",
      "model_module_version": "1.0.0",
      "model_name": "OutputModel",
      "state": {
       "layout": "IPY_MODEL_be73c1c7ee544a4aaafaf1b66d82bbe7",
       "outputs": [
        {
         "data": {
          "text/html": "<b>(Log Loss, ROC Curve, Precission-Recall)</b>",
          "text/plain": "<IPython.core.display.HTML object>"
         },
         "metadata": {},
         "output_type": "display_data"
        },
        {
         "data": {
          "text/html": "<div>\n<style scoped>\n    .dataframe tbody tr th:only-of-type {\n        vertical-align: middle;\n    }\n\n    .dataframe tbody tr th {\n        vertical-align: top;\n    }\n\n    .dataframe thead th {\n        text-align: right;\n    }\n</style>\n<table border=\"1\" class=\"dataframe\">\n  <thead>\n    <tr style=\"text-align: right;\">\n      <th></th>\n      <th>Test Score</th>\n    </tr>\n  </thead>\n  <tbody>\n    <tr>\n      <th>Log Loss</th>\n      <td>0.7319</td>\n    </tr>\n    <tr>\n      <th>ROC AUC</th>\n      <td>0.7872</td>\n    </tr>\n    <tr>\n      <th>AUPRC</th>\n      <td>0.6341</td>\n    </tr>\n  </tbody>\n</table>\n</div>",
          "text/plain": "          Test Score\nLog Loss      0.7319\nROC AUC       0.7872\nAUPRC         0.6341"
         },
         "metadata": {},
         "output_type": "display_data"
        }
       ]
      }
     },
     "67ad871c00fe45a085273da13784e844": {
      "model_module": "@jupyter-widgets/base",
      "model_module_version": "2.0.0",
      "model_name": "LayoutModel",
      "state": {}
     },
     "680390e1f02443e0a81932478acc3518": {
      "model_module": "@jupyter-widgets/base",
      "model_module_version": "2.0.0",
      "model_name": "LayoutModel",
      "state": {}
     },
     "6939c7ab54ee4bca9f4dc7ca7adf728c": {
      "model_module": "@jupyter-widgets/controls",
      "model_module_version": "2.0.0",
      "model_name": "HBoxModel",
      "state": {
       "children": [
        "IPY_MODEL_c396555ea68245af9b205a0c4a934ba6",
        "IPY_MODEL_6c1ebdd975f24e088c943ca9207ecc28"
       ],
       "layout": "IPY_MODEL_f66e505270df4d74891c4d714a26ef78"
      }
     },
     "6974e4d596424472a57d2759b3aab21f": {
      "model_module": "@jupyter-widgets/base",
      "model_module_version": "2.0.0",
      "model_name": "LayoutModel",
      "state": {
       "display": "flex",
       "flex_flow": "row",
       "justify_content": "flex-start",
       "width": "auto"
      }
     },
     "6ac66d3e2df240929cf8ec8704519089": {
      "model_module": "@jupyter-widgets/base",
      "model_module_version": "2.0.0",
      "model_name": "LayoutModel",
      "state": {
       "display": "flex",
       "flex_flow": "row",
       "justify_content": "flex-start",
       "width": "auto"
      }
     },
     "6af93f1ba57c4f3c8caa43d4261dd56b": {
      "model_module": "@jupyter-widgets/base",
      "model_module_version": "2.0.0",
      "model_name": "LayoutModel",
      "state": {
       "display": "flex",
       "flex_flow": "row",
       "justify_content": "flex-start",
       "width": "auto"
      }
     },
     "6c1ebdd975f24e088c943ca9207ecc28": {
      "model_module": "@jupyter-widgets/output",
      "model_module_version": "1.0.0",
      "model_name": "OutputModel",
      "state": {
       "layout": "IPY_MODEL_10bf5ad727a2466fadb248cb7ddec150",
       "outputs": [
        {
         "data": {
          "text/html": "<b>Test set performance</b>",
          "text/plain": "<IPython.core.display.HTML object>"
         },
         "metadata": {},
         "output_type": "display_data"
        },
        {
         "data": {
          "text/html": "<div>\n<style scoped>\n    .dataframe tbody tr th:only-of-type {\n        vertical-align: middle;\n    }\n\n    .dataframe tbody tr th {\n        vertical-align: top;\n    }\n\n    .dataframe thead th {\n        text-align: right;\n    }\n</style>\n<table border=\"1\" class=\"dataframe\">\n  <thead>\n    <tr style=\"text-align: right;\">\n      <th></th>\n      <th>precision</th>\n      <th>recall</th>\n      <th>f1-score</th>\n      <th>support</th>\n    </tr>\n  </thead>\n  <tbody>\n    <tr>\n      <th>0</th>\n      <td>0.77</td>\n      <td>0.84</td>\n      <td>0.81</td>\n      <td>165.00</td>\n    </tr>\n    <tr>\n      <th>1</th>\n      <td>0.65</td>\n      <td>0.54</td>\n      <td>0.59</td>\n      <td>89.00</td>\n    </tr>\n    <tr>\n      <th>accuracy</th>\n      <td>0.74</td>\n      <td>0.74</td>\n      <td>0.74</td>\n      <td>0.74</td>\n    </tr>\n    <tr>\n      <th>macro avg</th>\n      <td>0.71</td>\n      <td>0.69</td>\n      <td>0.70</td>\n      <td>254.00</td>\n    </tr>\n    <tr>\n      <th>weighted avg</th>\n      <td>0.73</td>\n      <td>0.74</td>\n      <td>0.73</td>\n      <td>254.00</td>\n    </tr>\n  </tbody>\n</table>\n</div>",
          "text/plain": "             precision recall f1-score support\n0                 0.77   0.84     0.81  165.00\n1                 0.65   0.54     0.59   89.00\naccuracy          0.74   0.74     0.74    0.74\nmacro avg         0.71   0.69     0.70  254.00\nweighted avg      0.73   0.74     0.73  254.00"
         },
         "metadata": {},
         "output_type": "display_data"
        }
       ]
      }
     },
     "70027144966945debda61007ec876b00": {
      "model_module": "@jupyter-widgets/base",
      "model_module_version": "2.0.0",
      "model_name": "LayoutModel",
      "state": {}
     },
     "71605a5bcd4f4ce3992a0fb3a1f8fcf2": {
      "model_module": "@jupyter-widgets/output",
      "model_module_version": "1.0.0",
      "model_name": "OutputModel",
      "state": {
       "layout": "IPY_MODEL_a478f41a34364df6a53d64fc5e91ff4d",
       "outputs": [
        {
         "data": {
          "text/html": "<b>(Log Loss, ROC Curve, Precission-Recall)</b>",
          "text/plain": "<IPython.core.display.HTML object>"
         },
         "metadata": {},
         "output_type": "display_data"
        },
        {
         "data": {
          "text/html": "<div>\n<style scoped>\n    .dataframe tbody tr th:only-of-type {\n        vertical-align: middle;\n    }\n\n    .dataframe tbody tr th {\n        vertical-align: top;\n    }\n\n    .dataframe thead th {\n        text-align: right;\n    }\n</style>\n<table border=\"1\" class=\"dataframe\">\n  <thead>\n    <tr style=\"text-align: right;\">\n      <th></th>\n      <th>Test Score</th>\n    </tr>\n  </thead>\n  <tbody>\n    <tr>\n      <th>Log Loss</th>\n      <td>0.5393</td>\n    </tr>\n    <tr>\n      <th>ROC AUC</th>\n      <td>0.8112</td>\n    </tr>\n    <tr>\n      <th>AUPRC</th>\n      <td>0.6246</td>\n    </tr>\n  </tbody>\n</table>\n</div>",
          "text/plain": "          Test Score\nLog Loss      0.5393\nROC AUC       0.8112\nAUPRC         0.6246"
         },
         "metadata": {},
         "output_type": "display_data"
        }
       ]
      }
     },
     "740cfd4870954f37885bc94c34adb89c": {
      "model_module": "@jupyter-widgets/base",
      "model_module_version": "2.0.0",
      "model_name": "LayoutModel",
      "state": {}
     },
     "7558d47d2c2046099e879d106a7c3721": {
      "model_module": "@jupyter-widgets/output",
      "model_module_version": "1.0.0",
      "model_name": "OutputModel",
      "state": {
       "layout": "IPY_MODEL_d51f889ac25d415a8a2b4c978c635482",
       "outputs": [
        {
         "data": {
          "text/html": "<b>(Log Loss, ROC Curve, Precission-Recall)</b>",
          "text/plain": "<IPython.core.display.HTML object>"
         },
         "metadata": {},
         "output_type": "display_data"
        },
        {
         "data": {
          "text/html": "<div>\n<style scoped>\n    .dataframe tbody tr th:only-of-type {\n        vertical-align: middle;\n    }\n\n    .dataframe tbody tr th {\n        vertical-align: top;\n    }\n\n    .dataframe thead th {\n        text-align: right;\n    }\n</style>\n<table border=\"1\" class=\"dataframe\">\n  <thead>\n    <tr style=\"text-align: right;\">\n      <th></th>\n      <th>Test Score</th>\n    </tr>\n  </thead>\n  <tbody>\n    <tr>\n      <th>Log Loss</th>\n      <td>0.5109</td>\n    </tr>\n    <tr>\n      <th>ROC AUC</th>\n      <td>0.8296</td>\n    </tr>\n    <tr>\n      <th>AUPRC</th>\n      <td>0.6855</td>\n    </tr>\n  </tbody>\n</table>\n</div>",
          "text/plain": "          Test Score\nLog Loss      0.5109\nROC AUC       0.8296\nAUPRC         0.6855"
         },
         "metadata": {},
         "output_type": "display_data"
        }
       ]
      }
     },
     "77f7f69a390f45cc89e06aae54518abe": {
      "model_module": "@jupyter-widgets/controls",
      "model_module_version": "2.0.0",
      "model_name": "HBoxModel",
      "state": {
       "children": [
        "IPY_MODEL_5513e46b690e47a0bf3ca7954a220fcc",
        "IPY_MODEL_5ab17042992b49108889f3c875f54c7e",
        "IPY_MODEL_0f724268e768410fbfe47e2588c725e1"
       ],
       "layout": "IPY_MODEL_fef0bd869099442cbff6737e6e4ebf36"
      }
     },
     "78f7f2691fae47fd9c3f67b98363cec6": {
      "model_module": "@jupyter-widgets/controls",
      "model_module_version": "2.0.0",
      "model_name": "HTMLStyleModel",
      "state": {
       "description_width": "",
       "font_size": null,
       "text_color": null
      }
     },
     "78f93e13c1e04ac99b60112f16fc251f": {
      "model_module": "@jupyter-widgets/controls",
      "model_module_version": "2.0.0",
      "model_name": "HBoxModel",
      "state": {
       "children": [
        "IPY_MODEL_33c978e4307c4b809c79d5ff338b5cf2",
        "IPY_MODEL_a7118a66e3df4889816ecfd89a76cd8b"
       ],
       "layout": "IPY_MODEL_c268ea81898e4cd1aab860978d3507d9"
      }
     },
     "7b2398eb762643959458844938524577": {
      "model_module": "@jupyter-widgets/base",
      "model_module_version": "2.0.0",
      "model_name": "LayoutModel",
      "state": {}
     },
     "7bb248903ab04cdf8a5c5afca67dad8b": {
      "model_module": "@jupyter-widgets/base",
      "model_module_version": "2.0.0",
      "model_name": "LayoutModel",
      "state": {}
     },
     "80d5f4b336f348e2ae80181088478dd2": {
      "model_module": "@jupyter-widgets/controls",
      "model_module_version": "2.0.0",
      "model_name": "HBoxModel",
      "state": {
       "children": [
        "IPY_MODEL_0554831151ba432ab3ddcde8e279168f",
        "IPY_MODEL_30a60c5221d144568d1cf4de5475026a",
        "IPY_MODEL_07540d3769f64b629f586d96baa05f41"
       ],
       "layout": "IPY_MODEL_b4b01adaf31547c4b2f44a317cfe9a70"
      }
     },
     "8115497f0ef147c98ee52b7380346b04": {
      "model_module": "@jupyter-widgets/controls",
      "model_module_version": "2.0.0",
      "model_name": "HTMLModel",
      "state": {
       "layout": "IPY_MODEL_5c8ceb02aa1f43a69aea26af8a53ab8e",
       "style": "IPY_MODEL_1264bea49d2d4176b2f4cf3934a363a9",
       "value": "Best trial: 47. Best value: 0.858399: 100%"
      }
     },
     "8158eb0679bd4a80ae14c5e71cebd703": {
      "model_module": "@jupyter-widgets/output",
      "model_module_version": "1.0.0",
      "model_name": "OutputModel",
      "state": {
       "layout": "IPY_MODEL_c693eaba77544c0c83527e212cb3b668",
       "outputs": [
        {
         "data": {
          "text/html": "<b>Additional metrics</b>",
          "text/plain": "<IPython.core.display.HTML object>"
         },
         "metadata": {},
         "output_type": "display_data"
        },
        {
         "data": {
          "text/html": "<div>\n<style scoped>\n    .dataframe tbody tr th:only-of-type {\n        vertical-align: middle;\n    }\n\n    .dataframe tbody tr th {\n        vertical-align: top;\n    }\n\n    .dataframe thead th {\n        text-align: right;\n    }\n</style>\n<table border=\"1\" class=\"dataframe\">\n  <thead>\n    <tr style=\"text-align: right;\">\n      <th></th>\n      <th>Train Score</th>\n    </tr>\n  </thead>\n  <tbody>\n    <tr>\n      <th>Log Loss</th>\n      <td>0.2587</td>\n    </tr>\n    <tr>\n      <th>ROC AUC</th>\n      <td>0.9783</td>\n    </tr>\n    <tr>\n      <th>AUPRC</th>\n      <td>0.9768</td>\n    </tr>\n  </tbody>\n</table>\n</div>",
          "text/plain": "          Train Score\nLog Loss       0.2587\nROC AUC        0.9783\nAUPRC          0.9768"
         },
         "metadata": {},
         "output_type": "display_data"
        }
       ]
      }
     },
     "8214bddd88bb4405bb23595e2c3ef100": {
      "model_module": "@jupyter-widgets/base",
      "model_module_version": "2.0.0",
      "model_name": "LayoutModel",
      "state": {}
     },
     "824875e9460249d681ab304e92e12304": {
      "model_module": "@jupyter-widgets/output",
      "model_module_version": "1.0.0",
      "model_name": "OutputModel",
      "state": {
       "layout": "IPY_MODEL_b3243d030df74318b682e11df87d9453",
       "outputs": [
        {
         "data": {
          "text/html": "<b>Additional metrics</b>",
          "text/plain": "<IPython.core.display.HTML object>"
         },
         "metadata": {},
         "output_type": "display_data"
        },
        {
         "data": {
          "text/html": "<div>\n<style scoped>\n    .dataframe tbody tr th:only-of-type {\n        vertical-align: middle;\n    }\n\n    .dataframe tbody tr th {\n        vertical-align: top;\n    }\n\n    .dataframe thead th {\n        text-align: right;\n    }\n</style>\n<table border=\"1\" class=\"dataframe\">\n  <thead>\n    <tr style=\"text-align: right;\">\n      <th></th>\n      <th>Train Score</th>\n    </tr>\n  </thead>\n  <tbody>\n    <tr>\n      <th>Log Loss</th>\n      <td>0.2101</td>\n    </tr>\n    <tr>\n      <th>ROC AUC</th>\n      <td>0.9894</td>\n    </tr>\n    <tr>\n      <th>AUPRC</th>\n      <td>0.9877</td>\n    </tr>\n  </tbody>\n</table>\n</div>",
          "text/plain": "          Train Score\nLog Loss       0.2101\nROC AUC        0.9894\nAUPRC          0.9877"
         },
         "metadata": {},
         "output_type": "display_data"
        }
       ]
      }
     },
     "89caff2c9acf4abdba7f1fc9df8dd2fe": {
      "model_module": "@jupyter-widgets/output",
      "model_module_version": "1.0.0",
      "model_name": "OutputModel",
      "state": {
       "layout": "IPY_MODEL_a886498a01cf412cbfba73fd385809fd",
       "outputs": [
        {
         "data": {
          "text/html": "<b>Additional metrics</b>",
          "text/plain": "<IPython.core.display.HTML object>"
         },
         "metadata": {},
         "output_type": "display_data"
        },
        {
         "data": {
          "text/html": "<div>\n<style scoped>\n    .dataframe tbody tr th:only-of-type {\n        vertical-align: middle;\n    }\n\n    .dataframe tbody tr th {\n        vertical-align: top;\n    }\n\n    .dataframe thead th {\n        text-align: right;\n    }\n</style>\n<table border=\"1\" class=\"dataframe\">\n  <thead>\n    <tr style=\"text-align: right;\">\n      <th></th>\n      <th>Train Score</th>\n    </tr>\n  </thead>\n  <tbody>\n    <tr>\n      <th>Log Loss</th>\n      <td>0.1958</td>\n    </tr>\n    <tr>\n      <th>ROC AUC</th>\n      <td>0.9967</td>\n    </tr>\n    <tr>\n      <th>AUPRC</th>\n      <td>0.9950</td>\n    </tr>\n  </tbody>\n</table>\n</div>",
          "text/plain": "          Train Score\nLog Loss       0.1958\nROC AUC        0.9967\nAUPRC          0.9950"
         },
         "metadata": {},
         "output_type": "display_data"
        }
       ]
      }
     },
     "8cd1f4522aa5435ea1b54e56fe152bc4": {
      "model_module": "@jupyter-widgets/base",
      "model_module_version": "2.0.0",
      "model_name": "LayoutModel",
      "state": {}
     },
     "90954307397341839e611a54c2e9f7d1": {
      "model_module": "@jupyter-widgets/base",
      "model_module_version": "2.0.0",
      "model_name": "LayoutModel",
      "state": {
       "display": "flex",
       "flex_flow": "row",
       "justify_content": "flex-start",
       "width": "auto"
      }
     },
     "953d76508d9a4144abe14bd4506af468": {
      "model_module": "@jupyter-widgets/base",
      "model_module_version": "2.0.0",
      "model_name": "LayoutModel",
      "state": {}
     },
     "9711547d926b4d42b5487538d8b1e648": {
      "model_module": "@jupyter-widgets/base",
      "model_module_version": "2.0.0",
      "model_name": "LayoutModel",
      "state": {
       "display": "flex",
       "flex_flow": "row",
       "justify_content": "flex-start",
       "width": "auto"
      }
     },
     "97a1985a8a394672a6905a15fb8512ed": {
      "model_module": "@jupyter-widgets/base",
      "model_module_version": "2.0.0",
      "model_name": "LayoutModel",
      "state": {}
     },
     "987ef971c7ef46e7aa5f86c4a0806deb": {
      "model_module": "@jupyter-widgets/base",
      "model_module_version": "2.0.0",
      "model_name": "LayoutModel",
      "state": {
       "display": "flex",
       "flex_flow": "row",
       "justify_content": "flex-start",
       "width": "auto"
      }
     },
     "99bc9bef53fa4ce2a4f38c897215acae": {
      "model_module": "@jupyter-widgets/base",
      "model_module_version": "2.0.0",
      "model_name": "LayoutModel",
      "state": {}
     },
     "9f1127dfabb2403a980c08324deddd6f": {
      "model_module": "@jupyter-widgets/base",
      "model_module_version": "2.0.0",
      "model_name": "LayoutModel",
      "state": {}
     },
     "a478f41a34364df6a53d64fc5e91ff4d": {
      "model_module": "@jupyter-widgets/base",
      "model_module_version": "2.0.0",
      "model_name": "LayoutModel",
      "state": {}
     },
     "a7118a66e3df4889816ecfd89a76cd8b": {
      "model_module": "@jupyter-widgets/output",
      "model_module_version": "1.0.0",
      "model_name": "OutputModel",
      "state": {
       "layout": "IPY_MODEL_9f1127dfabb2403a980c08324deddd6f",
       "outputs": [
        {
         "data": {
          "text/html": "<b>Test set performance</b>",
          "text/plain": "<IPython.core.display.HTML object>"
         },
         "metadata": {},
         "output_type": "display_data"
        },
        {
         "data": {
          "text/html": "<div>\n<style scoped>\n    .dataframe tbody tr th:only-of-type {\n        vertical-align: middle;\n    }\n\n    .dataframe tbody tr th {\n        vertical-align: top;\n    }\n\n    .dataframe thead th {\n        text-align: right;\n    }\n</style>\n<table border=\"1\" class=\"dataframe\">\n  <thead>\n    <tr style=\"text-align: right;\">\n      <th></th>\n      <th>precision</th>\n      <th>recall</th>\n      <th>f1-score</th>\n      <th>support</th>\n    </tr>\n  </thead>\n  <tbody>\n    <tr>\n      <th>0</th>\n      <td>0.83</td>\n      <td>0.73</td>\n      <td>0.77</td>\n      <td>165.00</td>\n    </tr>\n    <tr>\n      <th>1</th>\n      <td>0.59</td>\n      <td>0.72</td>\n      <td>0.65</td>\n      <td>89.00</td>\n    </tr>\n    <tr>\n      <th>accuracy</th>\n      <td>0.72</td>\n      <td>0.72</td>\n      <td>0.72</td>\n      <td>0.72</td>\n    </tr>\n    <tr>\n      <th>macro avg</th>\n      <td>0.71</td>\n      <td>0.72</td>\n      <td>0.71</td>\n      <td>254.00</td>\n    </tr>\n    <tr>\n      <th>weighted avg</th>\n      <td>0.74</td>\n      <td>0.72</td>\n      <td>0.73</td>\n      <td>254.00</td>\n    </tr>\n  </tbody>\n</table>\n</div>",
          "text/plain": "             precision recall f1-score support\n0                 0.83   0.73     0.77  165.00\n1                 0.59   0.72     0.65   89.00\naccuracy          0.72   0.72     0.72    0.72\nmacro avg         0.71   0.72     0.71  254.00\nweighted avg      0.74   0.72     0.73  254.00"
         },
         "metadata": {},
         "output_type": "display_data"
        }
       ]
      }
     },
     "a886498a01cf412cbfba73fd385809fd": {
      "model_module": "@jupyter-widgets/base",
      "model_module_version": "2.0.0",
      "model_name": "LayoutModel",
      "state": {}
     },
     "a9bde08af9084fb7ba22329d82e1efe2": {
      "model_module": "@jupyter-widgets/base",
      "model_module_version": "2.0.0",
      "model_name": "LayoutModel",
      "state": {}
     },
     "ab0b5981d1944d81a64bddd8c7db6be2": {
      "model_module": "@jupyter-widgets/controls",
      "model_module_version": "2.0.0",
      "model_name": "ProgressStyleModel",
      "state": {
       "description_width": ""
      }
     },
     "ad9ffc9f74ad403fb7133f266c0bdda6": {
      "model_module": "@jupyter-widgets/controls",
      "model_module_version": "2.0.0",
      "model_name": "HBoxModel",
      "state": {
       "children": [
        "IPY_MODEL_43c5d5d56816488d9c4e6a8461930d9f",
        "IPY_MODEL_4a3de337dc1a4b06ae5fb249e10000ca"
       ],
       "layout": "IPY_MODEL_987ef971c7ef46e7aa5f86c4a0806deb"
      }
     },
     "ae220eb7a47f4df696c1eb2408b0a7f7": {
      "model_module": "@jupyter-widgets/base",
      "model_module_version": "2.0.0",
      "model_name": "LayoutModel",
      "state": {}
     },
     "b0942f4c9aad476b9aa3d54650a9c647": {
      "model_module": "@jupyter-widgets/base",
      "model_module_version": "2.0.0",
      "model_name": "LayoutModel",
      "state": {}
     },
     "b2e6152000c54728bfdb14ecdd070c7a": {
      "model_module": "@jupyter-widgets/output",
      "model_module_version": "1.0.0",
      "model_name": "OutputModel",
      "state": {
       "layout": "IPY_MODEL_fb268728a52e403f9dfcf736c68d38f4",
       "outputs": [
        {
         "data": {
          "text/html": "<b>New dtypes</b>",
          "text/plain": "<IPython.core.display.HTML object>"
         },
         "metadata": {},
         "output_type": "display_data"
        },
        {
         "data": {
          "text/plain": "Pregnancies                   int64\nGlucose                     float64\nBloodPressure               float64\nSkinThickness               float64\nInsulin                     float64\nBMI                         float64\nDiabetesPedigreeFunction    float64\nAge                           int64\ndtype: object"
         },
         "metadata": {},
         "output_type": "display_data"
        }
       ]
      }
     },
     "b3243d030df74318b682e11df87d9453": {
      "model_module": "@jupyter-widgets/base",
      "model_module_version": "2.0.0",
      "model_name": "LayoutModel",
      "state": {}
     },
     "b4b01adaf31547c4b2f44a317cfe9a70": {
      "model_module": "@jupyter-widgets/base",
      "model_module_version": "2.0.0",
      "model_name": "LayoutModel",
      "state": {}
     },
     "b67560e392a549cfb713ea34fca78c5e": {
      "model_module": "@jupyter-widgets/controls",
      "model_module_version": "2.0.0",
      "model_name": "HBoxModel",
      "state": {
       "children": [
        "IPY_MODEL_824875e9460249d681ab304e92e12304",
        "IPY_MODEL_71605a5bcd4f4ce3992a0fb3a1f8fcf2"
       ],
       "layout": "IPY_MODEL_3049cab197964d31823c96cc68eb610e"
      }
     },
     "b6aec658bbc94412ab18c0da6010be32": {
      "model_module": "@jupyter-widgets/controls",
      "model_module_version": "2.0.0",
      "model_name": "ProgressStyleModel",
      "state": {
       "description_width": ""
      }
     },
     "b6d88b1ea72d43c59e598766cf5e9aaf": {
      "model_module": "@jupyter-widgets/output",
      "model_module_version": "1.0.0",
      "model_name": "OutputModel",
      "state": {
       "layout": "IPY_MODEL_cfae9f16e4ae4434bad16ff52404715e",
       "outputs": [
        {
         "data": {
          "text/html": "<b>(Log Loss, ROC Curve, Precission-Recall)</b>",
          "text/plain": "<IPython.core.display.HTML object>"
         },
         "metadata": {},
         "output_type": "display_data"
        },
        {
         "data": {
          "text/html": "<div>\n<style scoped>\n    .dataframe tbody tr th:only-of-type {\n        vertical-align: middle;\n    }\n\n    .dataframe tbody tr th {\n        vertical-align: top;\n    }\n\n    .dataframe thead th {\n        text-align: right;\n    }\n</style>\n<table border=\"1\" class=\"dataframe\">\n  <thead>\n    <tr style=\"text-align: right;\">\n      <th></th>\n      <th>Test Score</th>\n    </tr>\n  </thead>\n  <tbody>\n    <tr>\n      <th>Log Loss</th>\n      <td>0.7058</td>\n    </tr>\n    <tr>\n      <th>ROC AUC</th>\n      <td>0.7916</td>\n    </tr>\n    <tr>\n      <th>AUPRC</th>\n      <td>0.6552</td>\n    </tr>\n  </tbody>\n</table>\n</div>",
          "text/plain": "          Test Score\nLog Loss      0.7058\nROC AUC       0.7916\nAUPRC         0.6552"
         },
         "metadata": {},
         "output_type": "display_data"
        }
       ]
      }
     },
     "b72f13117ad44204b0ad1d56db1c02de": {
      "model_module": "@jupyter-widgets/controls",
      "model_module_version": "2.0.0",
      "model_name": "HBoxModel",
      "state": {
       "children": [
        "IPY_MODEL_f226b21ce4224970b2a7e0accb8b0d32",
        "IPY_MODEL_5c5adae1c35f4f2599283e95b69aa078"
       ],
       "layout": "IPY_MODEL_c4253e7399eb47658e598d06b6f30039"
      }
     },
     "b78508246a86410d944d9439f56781d4": {
      "model_module": "@jupyter-widgets/output",
      "model_module_version": "1.0.0",
      "model_name": "OutputModel",
      "state": {
       "layout": "IPY_MODEL_67ad871c00fe45a085273da13784e844",
       "outputs": [
        {
         "data": {
          "text/html": "<b>Test set performance</b>",
          "text/plain": "<IPython.core.display.HTML object>"
         },
         "metadata": {},
         "output_type": "display_data"
        },
        {
         "data": {
          "text/html": "<div>\n<style scoped>\n    .dataframe tbody tr th:only-of-type {\n        vertical-align: middle;\n    }\n\n    .dataframe tbody tr th {\n        vertical-align: top;\n    }\n\n    .dataframe thead th {\n        text-align: right;\n    }\n</style>\n<table border=\"1\" class=\"dataframe\">\n  <thead>\n    <tr style=\"text-align: right;\">\n      <th></th>\n      <th>precision</th>\n      <th>recall</th>\n      <th>f1-score</th>\n      <th>support</th>\n    </tr>\n  </thead>\n  <tbody>\n    <tr>\n      <th>0</th>\n      <td>0.77</td>\n      <td>0.85</td>\n      <td>0.81</td>\n      <td>165.00</td>\n    </tr>\n    <tr>\n      <th>1</th>\n      <td>0.66</td>\n      <td>0.53</td>\n      <td>0.59</td>\n      <td>89.00</td>\n    </tr>\n    <tr>\n      <th>accuracy</th>\n      <td>0.74</td>\n      <td>0.74</td>\n      <td>0.74</td>\n      <td>0.74</td>\n    </tr>\n    <tr>\n      <th>macro avg</th>\n      <td>0.72</td>\n      <td>0.69</td>\n      <td>0.70</td>\n      <td>254.00</td>\n    </tr>\n    <tr>\n      <th>weighted avg</th>\n      <td>0.73</td>\n      <td>0.74</td>\n      <td>0.73</td>\n      <td>254.00</td>\n    </tr>\n  </tbody>\n</table>\n</div>",
          "text/plain": "             precision recall f1-score support\n0                 0.77   0.85     0.81  165.00\n1                 0.66   0.53     0.59   89.00\naccuracy          0.74   0.74     0.74    0.74\nmacro avg         0.72   0.69     0.70  254.00\nweighted avg      0.73   0.74     0.73  254.00"
         },
         "metadata": {},
         "output_type": "display_data"
        }
       ]
      }
     },
     "b83d7b292b6046a1bbeeecb80141ec1d": {
      "model_module": "@jupyter-widgets/base",
      "model_module_version": "2.0.0",
      "model_name": "LayoutModel",
      "state": {}
     },
     "b86602f7d8bf4b1a8e2d329d1a03b31b": {
      "model_module": "@jupyter-widgets/controls",
      "model_module_version": "2.0.0",
      "model_name": "HBoxModel",
      "state": {
       "children": [
        "IPY_MODEL_3c5b92055b8447faae7d536864c0338e",
        "IPY_MODEL_278f59b4ed8e47588f0fdb423818b993"
       ],
       "layout": "IPY_MODEL_dc670549175b44e7a54772db2f23051f"
      }
     },
     "b8fe54ffc8684a369d43abd932d4fc55": {
      "model_module": "@jupyter-widgets/output",
      "model_module_version": "1.0.0",
      "model_name": "OutputModel",
      "state": {
       "layout": "IPY_MODEL_ae220eb7a47f4df696c1eb2408b0a7f7",
       "outputs": [
        {
         "data": {
          "text/html": "<b>(Log Loss, ROC Curve, Precission-Recall)</b>",
          "text/plain": "<IPython.core.display.HTML object>"
         },
         "metadata": {},
         "output_type": "display_data"
        },
        {
         "data": {
          "text/html": "<div>\n<style scoped>\n    .dataframe tbody tr th:only-of-type {\n        vertical-align: middle;\n    }\n\n    .dataframe tbody tr th {\n        vertical-align: top;\n    }\n\n    .dataframe thead th {\n        text-align: right;\n    }\n</style>\n<table border=\"1\" class=\"dataframe\">\n  <thead>\n    <tr style=\"text-align: right;\">\n      <th></th>\n      <th>Test Score</th>\n    </tr>\n  </thead>\n  <tbody>\n    <tr>\n      <th>Log Loss</th>\n      <td>0.7639</td>\n    </tr>\n    <tr>\n      <th>ROC AUC</th>\n      <td>0.7813</td>\n    </tr>\n    <tr>\n      <th>AUPRC</th>\n      <td>0.6042</td>\n    </tr>\n  </tbody>\n</table>\n</div>",
          "text/plain": "          Test Score\nLog Loss      0.7639\nROC AUC       0.7813\nAUPRC         0.6042"
         },
         "metadata": {},
         "output_type": "display_data"
        }
       ]
      }
     },
     "b9d1a24ebde14d179b1c2d13dc4029a4": {
      "model_module": "@jupyter-widgets/base",
      "model_module_version": "2.0.0",
      "model_name": "LayoutModel",
      "state": {}
     },
     "b9dbe3038b4e4884ae8e674f411fefa2": {
      "model_module": "@jupyter-widgets/output",
      "model_module_version": "1.0.0",
      "model_name": "OutputModel",
      "state": {
       "layout": "IPY_MODEL_953d76508d9a4144abe14bd4506af468",
       "outputs": [
        {
         "data": {
          "text/html": "<b>Additional metrics</b>",
          "text/plain": "<IPython.core.display.HTML object>"
         },
         "metadata": {},
         "output_type": "display_data"
        },
        {
         "data": {
          "text/html": "<div>\n<style scoped>\n    .dataframe tbody tr th:only-of-type {\n        vertical-align: middle;\n    }\n\n    .dataframe tbody tr th {\n        vertical-align: top;\n    }\n\n    .dataframe thead th {\n        text-align: right;\n    }\n</style>\n<table border=\"1\" class=\"dataframe\">\n  <thead>\n    <tr style=\"text-align: right;\">\n      <th></th>\n      <th>Train Score</th>\n    </tr>\n  </thead>\n  <tbody>\n    <tr>\n      <th>Log Loss</th>\n      <td>0.0228</td>\n    </tr>\n    <tr>\n      <th>ROC AUC</th>\n      <td>1.0000</td>\n    </tr>\n    <tr>\n      <th>AUPRC</th>\n      <td>0.9967</td>\n    </tr>\n  </tbody>\n</table>\n</div>",
          "text/plain": "          Train Score\nLog Loss       0.0228\nROC AUC        1.0000\nAUPRC          0.9967"
         },
         "metadata": {},
         "output_type": "display_data"
        }
       ]
      }
     },
     "be73c1c7ee544a4aaafaf1b66d82bbe7": {
      "model_module": "@jupyter-widgets/base",
      "model_module_version": "2.0.0",
      "model_name": "LayoutModel",
      "state": {}
     },
     "bf3ce397c1644304bb4f24a10088e694": {
      "model_module": "@jupyter-widgets/controls",
      "model_module_version": "2.0.0",
      "model_name": "HTMLStyleModel",
      "state": {
       "description_width": "",
       "font_size": null,
       "text_color": null
      }
     },
     "c175b338d76e4ad8b8cd9d31dba7424a": {
      "model_module": "@jupyter-widgets/base",
      "model_module_version": "2.0.0",
      "model_name": "LayoutModel",
      "state": {}
     },
     "c268ea81898e4cd1aab860978d3507d9": {
      "model_module": "@jupyter-widgets/base",
      "model_module_version": "2.0.0",
      "model_name": "LayoutModel",
      "state": {
       "display": "flex",
       "flex_flow": "row",
       "justify_content": "flex-start",
       "width": "auto"
      }
     },
     "c2ba3ccf6ac34f59a962baaaff690a2c": {
      "model_module": "@jupyter-widgets/base",
      "model_module_version": "2.0.0",
      "model_name": "LayoutModel",
      "state": {}
     },
     "c325ee7221f94d859afe136e5ad55a09": {
      "model_module": "@jupyter-widgets/base",
      "model_module_version": "2.0.0",
      "model_name": "LayoutModel",
      "state": {
       "display": "flex",
       "flex_flow": "row",
       "justify_content": "flex-start",
       "width": "auto"
      }
     },
     "c396555ea68245af9b205a0c4a934ba6": {
      "model_module": "@jupyter-widgets/output",
      "model_module_version": "1.0.0",
      "model_name": "OutputModel",
      "state": {
       "layout": "IPY_MODEL_329ed3265118438697fac55348410a77",
       "outputs": [
        {
         "data": {
          "text/html": "<b>Training set performance</b>",
          "text/plain": "<IPython.core.display.HTML object>"
         },
         "metadata": {},
         "output_type": "display_data"
        },
        {
         "data": {
          "text/html": "<div>\n<style scoped>\n    .dataframe tbody tr th:only-of-type {\n        vertical-align: middle;\n    }\n\n    .dataframe tbody tr th {\n        vertical-align: top;\n    }\n\n    .dataframe thead th {\n        text-align: right;\n    }\n</style>\n<table border=\"1\" class=\"dataframe\">\n  <thead>\n    <tr style=\"text-align: right;\">\n      <th></th>\n      <th>precision</th>\n      <th>recall</th>\n      <th>f1-score</th>\n      <th>support</th>\n    </tr>\n  </thead>\n  <tbody>\n    <tr>\n      <th>0</th>\n      <td>1.00</td>\n      <td>1.00</td>\n      <td>1.00</td>\n      <td>335.00</td>\n    </tr>\n    <tr>\n      <th>1</th>\n      <td>1.00</td>\n      <td>1.00</td>\n      <td>1.00</td>\n      <td>335.00</td>\n    </tr>\n    <tr>\n      <th>accuracy</th>\n      <td>1.00</td>\n      <td>1.00</td>\n      <td>1.00</td>\n      <td>1.00</td>\n    </tr>\n    <tr>\n      <th>macro avg</th>\n      <td>1.00</td>\n      <td>1.00</td>\n      <td>1.00</td>\n      <td>670.00</td>\n    </tr>\n    <tr>\n      <th>weighted avg</th>\n      <td>1.00</td>\n      <td>1.00</td>\n      <td>1.00</td>\n      <td>670.00</td>\n    </tr>\n  </tbody>\n</table>\n</div>",
          "text/plain": "             precision recall f1-score support\n0                 1.00   1.00     1.00  335.00\n1                 1.00   1.00     1.00  335.00\naccuracy          1.00   1.00     1.00    1.00\nmacro avg         1.00   1.00     1.00  670.00\nweighted avg      1.00   1.00     1.00  670.00"
         },
         "metadata": {},
         "output_type": "display_data"
        }
       ]
      }
     },
     "c3d02c30c23f45f0a99030f84ceaae56": {
      "model_module": "@jupyter-widgets/controls",
      "model_module_version": "2.0.0",
      "model_name": "HBoxModel",
      "state": {
       "children": [
        "IPY_MODEL_ca58d5586023424b92d9a6368c08ea8f",
        "IPY_MODEL_2a12a17763c449fbb3f6a598b1c376bb"
       ],
       "layout": "IPY_MODEL_6974e4d596424472a57d2759b3aab21f"
      }
     },
     "c3e6177c4ac4492288b3a7a8b235493d": {
      "model_module": "@jupyter-widgets/output",
      "model_module_version": "1.0.0",
      "model_name": "OutputModel",
      "state": {
       "layout": "IPY_MODEL_d009e8c71e1f462dba1eeefbd2d1d2fe",
       "outputs": [
        {
         "data": {
          "text/html": "<b>Original dtypes</b>",
          "text/plain": "<IPython.core.display.HTML object>"
         },
         "metadata": {},
         "output_type": "display_data"
        },
        {
         "data": {
          "text/plain": "Pregnancies                   int64\nGlucose                     float64\nBloodPressure               float64\nSkinThickness               float64\nInsulin                     float64\nBMI                         float64\nDiabetesPedigreeFunction    float64\nAge                           int64\nOutcome                       int64\ndtype: object"
         },
         "metadata": {},
         "output_type": "display_data"
        }
       ]
      }
     },
     "c4253e7399eb47658e598d06b6f30039": {
      "model_module": "@jupyter-widgets/base",
      "model_module_version": "2.0.0",
      "model_name": "LayoutModel",
      "state": {
       "display": "flex",
       "flex_flow": "row",
       "justify_content": "flex-start",
       "width": "auto"
      }
     },
     "c59a775f2e5e486b8bf32c5ee00c2696": {
      "model_module": "@jupyter-widgets/output",
      "model_module_version": "1.0.0",
      "model_name": "OutputModel",
      "state": {
       "layout": "IPY_MODEL_d9fa8a14a4744f108de2ea093c8c0805",
       "outputs": [
        {
         "data": {
          "text/html": "<b>Test set performance</b>",
          "text/plain": "<IPython.core.display.HTML object>"
         },
         "metadata": {},
         "output_type": "display_data"
        },
        {
         "data": {
          "text/html": "<div>\n<style scoped>\n    .dataframe tbody tr th:only-of-type {\n        vertical-align: middle;\n    }\n\n    .dataframe tbody tr th {\n        vertical-align: top;\n    }\n\n    .dataframe thead th {\n        text-align: right;\n    }\n</style>\n<table border=\"1\" class=\"dataframe\">\n  <thead>\n    <tr style=\"text-align: right;\">\n      <th></th>\n      <th>precision</th>\n      <th>recall</th>\n      <th>f1-score</th>\n      <th>support</th>\n    </tr>\n  </thead>\n  <tbody>\n    <tr>\n      <th>0</th>\n      <td>0.77</td>\n      <td>0.85</td>\n      <td>0.81</td>\n      <td>165.00</td>\n    </tr>\n    <tr>\n      <th>1</th>\n      <td>0.66</td>\n      <td>0.53</td>\n      <td>0.59</td>\n      <td>89.00</td>\n    </tr>\n    <tr>\n      <th>accuracy</th>\n      <td>0.74</td>\n      <td>0.74</td>\n      <td>0.74</td>\n      <td>0.74</td>\n    </tr>\n    <tr>\n      <th>macro avg</th>\n      <td>0.72</td>\n      <td>0.69</td>\n      <td>0.70</td>\n      <td>254.00</td>\n    </tr>\n    <tr>\n      <th>weighted avg</th>\n      <td>0.73</td>\n      <td>0.74</td>\n      <td>0.73</td>\n      <td>254.00</td>\n    </tr>\n  </tbody>\n</table>\n</div>",
          "text/plain": "             precision recall f1-score support\n0                 0.77   0.85     0.81  165.00\n1                 0.66   0.53     0.59   89.00\naccuracy          0.74   0.74     0.74    0.74\nmacro avg         0.72   0.69     0.70  254.00\nweighted avg      0.73   0.74     0.73  254.00"
         },
         "metadata": {},
         "output_type": "display_data"
        }
       ]
      }
     },
     "c65e85a082054da486e6f032371373c4": {
      "model_module": "@jupyter-widgets/base",
      "model_module_version": "2.0.0",
      "model_name": "LayoutModel",
      "state": {}
     },
     "c693eaba77544c0c83527e212cb3b668": {
      "model_module": "@jupyter-widgets/base",
      "model_module_version": "2.0.0",
      "model_name": "LayoutModel",
      "state": {}
     },
     "c8b6549dfdae4a84b1c810c39910f705": {
      "model_module": "@jupyter-widgets/output",
      "model_module_version": "1.0.0",
      "model_name": "OutputModel",
      "state": {
       "layout": "IPY_MODEL_99bc9bef53fa4ce2a4f38c897215acae",
       "outputs": [
        {
         "data": {
          "text/html": "<b>Test set performance</b>",
          "text/plain": "<IPython.core.display.HTML object>"
         },
         "metadata": {},
         "output_type": "display_data"
        },
        {
         "data": {
          "text/html": "<div>\n<style scoped>\n    .dataframe tbody tr th:only-of-type {\n        vertical-align: middle;\n    }\n\n    .dataframe tbody tr th {\n        vertical-align: top;\n    }\n\n    .dataframe thead th {\n        text-align: right;\n    }\n</style>\n<table border=\"1\" class=\"dataframe\">\n  <thead>\n    <tr style=\"text-align: right;\">\n      <th></th>\n      <th>precision</th>\n      <th>recall</th>\n      <th>f1-score</th>\n      <th>support</th>\n    </tr>\n  </thead>\n  <tbody>\n    <tr>\n      <th>0</th>\n      <td>0.84</td>\n      <td>0.78</td>\n      <td>0.81</td>\n      <td>165.00</td>\n    </tr>\n    <tr>\n      <th>1</th>\n      <td>0.64</td>\n      <td>0.73</td>\n      <td>0.68</td>\n      <td>89.00</td>\n    </tr>\n    <tr>\n      <th>accuracy</th>\n      <td>0.76</td>\n      <td>0.76</td>\n      <td>0.76</td>\n      <td>0.76</td>\n    </tr>\n    <tr>\n      <th>macro avg</th>\n      <td>0.74</td>\n      <td>0.76</td>\n      <td>0.75</td>\n      <td>254.00</td>\n    </tr>\n    <tr>\n      <th>weighted avg</th>\n      <td>0.77</td>\n      <td>0.76</td>\n      <td>0.77</td>\n      <td>254.00</td>\n    </tr>\n  </tbody>\n</table>\n</div>",
          "text/plain": "             precision recall f1-score support\n0                 0.84   0.78     0.81  165.00\n1                 0.64   0.73     0.68   89.00\naccuracy          0.76   0.76     0.76    0.76\nmacro avg         0.74   0.76     0.75  254.00\nweighted avg      0.77   0.76     0.77  254.00"
         },
         "metadata": {},
         "output_type": "display_data"
        }
       ]
      }
     },
     "ca58d5586023424b92d9a6368c08ea8f": {
      "model_module": "@jupyter-widgets/output",
      "model_module_version": "1.0.0",
      "model_name": "OutputModel",
      "state": {
       "layout": "IPY_MODEL_36c70eeaa401429b9274142cd591db51",
       "outputs": [
        {
         "data": {
          "text/html": "<b>Training set performance</b>",
          "text/plain": "<IPython.core.display.HTML object>"
         },
         "metadata": {},
         "output_type": "display_data"
        },
        {
         "data": {
          "text/html": "<div>\n<style scoped>\n    .dataframe tbody tr th:only-of-type {\n        vertical-align: middle;\n    }\n\n    .dataframe tbody tr th {\n        vertical-align: top;\n    }\n\n    .dataframe thead th {\n        text-align: right;\n    }\n</style>\n<table border=\"1\" class=\"dataframe\">\n  <thead>\n    <tr style=\"text-align: right;\">\n      <th></th>\n      <th>precision</th>\n      <th>recall</th>\n      <th>f1-score</th>\n      <th>support</th>\n    </tr>\n  </thead>\n  <tbody>\n    <tr>\n      <th>0</th>\n      <td>0.97</td>\n      <td>0.81</td>\n      <td>0.88</td>\n      <td>335.00</td>\n    </tr>\n    <tr>\n      <th>1</th>\n      <td>0.83</td>\n      <td>0.98</td>\n      <td>0.90</td>\n      <td>335.00</td>\n    </tr>\n    <tr>\n      <th>accuracy</th>\n      <td>0.89</td>\n      <td>0.89</td>\n      <td>0.89</td>\n      <td>0.89</td>\n    </tr>\n    <tr>\n      <th>macro avg</th>\n      <td>0.90</td>\n      <td>0.89</td>\n      <td>0.89</td>\n      <td>670.00</td>\n    </tr>\n    <tr>\n      <th>weighted avg</th>\n      <td>0.90</td>\n      <td>0.89</td>\n      <td>0.89</td>\n      <td>670.00</td>\n    </tr>\n  </tbody>\n</table>\n</div>",
          "text/plain": "             precision recall f1-score support\n0                 0.97   0.81     0.88  335.00\n1                 0.83   0.98     0.90  335.00\naccuracy          0.89   0.89     0.89    0.89\nmacro avg         0.90   0.89     0.89  670.00\nweighted avg      0.90   0.89     0.89  670.00"
         },
         "metadata": {},
         "output_type": "display_data"
        }
       ]
      }
     },
     "ca7f8abbaf414c92b24e54521e06feb0": {
      "model_module": "@jupyter-widgets/controls",
      "model_module_version": "2.0.0",
      "model_name": "HBoxModel",
      "state": {
       "children": [
        "IPY_MODEL_8158eb0679bd4a80ae14c5e71cebd703",
        "IPY_MODEL_7558d47d2c2046099e879d106a7c3721"
       ],
       "layout": "IPY_MODEL_dd3c88e46f3e429caf46cee14d366b83"
      }
     },
     "cfae9f16e4ae4434bad16ff52404715e": {
      "model_module": "@jupyter-widgets/base",
      "model_module_version": "2.0.0",
      "model_name": "LayoutModel",
      "state": {}
     },
     "d009e8c71e1f462dba1eeefbd2d1d2fe": {
      "model_module": "@jupyter-widgets/base",
      "model_module_version": "2.0.0",
      "model_name": "LayoutModel",
      "state": {}
     },
     "d09dd7e7e7504ea5b9512956a265693f": {
      "model_module": "@jupyter-widgets/controls",
      "model_module_version": "2.0.0",
      "model_name": "HBoxModel",
      "state": {
       "children": [
        "IPY_MODEL_13bcb16b295b41acba9499397481d0d7",
        "IPY_MODEL_645656aa82e94d32b9c2e55f058b16ee"
       ],
       "layout": "IPY_MODEL_c325ee7221f94d859afe136e5ad55a09"
      }
     },
     "d2f1b156b8294b10859a114935475905": {
      "model_module": "@jupyter-widgets/controls",
      "model_module_version": "2.0.0",
      "model_name": "HBoxModel",
      "state": {
       "children": [
        "IPY_MODEL_06ad252a0d5a42fe90e3b482e41fc98b",
        "IPY_MODEL_b6d88b1ea72d43c59e598766cf5e9aaf"
       ],
       "layout": "IPY_MODEL_e8fda7f2037c49b89f1bf0d2f5d84827"
      }
     },
     "d51f889ac25d415a8a2b4c978c635482": {
      "model_module": "@jupyter-widgets/base",
      "model_module_version": "2.0.0",
      "model_name": "LayoutModel",
      "state": {}
     },
     "d9c9d077ee6a4589a7d08c453cba7ef5": {
      "model_module": "@jupyter-widgets/output",
      "model_module_version": "1.0.0",
      "model_name": "OutputModel",
      "state": {
       "layout": "IPY_MODEL_edb85090442a463a9e91b2ac7ead64c0",
       "outputs": [
        {
         "data": {
          "text/html": "<b>Training set performance</b>",
          "text/plain": "<IPython.core.display.HTML object>"
         },
         "metadata": {},
         "output_type": "display_data"
        },
        {
         "data": {
          "text/html": "<div>\n<style scoped>\n    .dataframe tbody tr th:only-of-type {\n        vertical-align: middle;\n    }\n\n    .dataframe tbody tr th {\n        vertical-align: top;\n    }\n\n    .dataframe thead th {\n        text-align: right;\n    }\n</style>\n<table border=\"1\" class=\"dataframe\">\n  <thead>\n    <tr style=\"text-align: right;\">\n      <th></th>\n      <th>precision</th>\n      <th>recall</th>\n      <th>f1-score</th>\n      <th>support</th>\n    </tr>\n  </thead>\n  <tbody>\n    <tr>\n      <th>0</th>\n      <td>0.90</td>\n      <td>0.87</td>\n      <td>0.88</td>\n      <td>335.00</td>\n    </tr>\n    <tr>\n      <th>1</th>\n      <td>0.87</td>\n      <td>0.90</td>\n      <td>0.89</td>\n      <td>335.00</td>\n    </tr>\n    <tr>\n      <th>accuracy</th>\n      <td>0.88</td>\n      <td>0.88</td>\n      <td>0.88</td>\n      <td>0.88</td>\n    </tr>\n    <tr>\n      <th>macro avg</th>\n      <td>0.88</td>\n      <td>0.88</td>\n      <td>0.88</td>\n      <td>670.00</td>\n    </tr>\n    <tr>\n      <th>weighted avg</th>\n      <td>0.88</td>\n      <td>0.88</td>\n      <td>0.88</td>\n      <td>670.00</td>\n    </tr>\n  </tbody>\n</table>\n</div>",
          "text/plain": "             precision recall f1-score support\n0                 0.90   0.87     0.88  335.00\n1                 0.87   0.90     0.89  335.00\naccuracy          0.88   0.88     0.88    0.88\nmacro avg         0.88   0.88     0.88  670.00\nweighted avg      0.88   0.88     0.88  670.00"
         },
         "metadata": {},
         "output_type": "display_data"
        }
       ]
      }
     },
     "d9fa8a14a4744f108de2ea093c8c0805": {
      "model_module": "@jupyter-widgets/base",
      "model_module_version": "2.0.0",
      "model_name": "LayoutModel",
      "state": {}
     },
     "daf6489e39de40eba9354995c92e256a": {
      "model_module": "@jupyter-widgets/base",
      "model_module_version": "2.0.0",
      "model_name": "LayoutModel",
      "state": {}
     },
     "dc670549175b44e7a54772db2f23051f": {
      "model_module": "@jupyter-widgets/base",
      "model_module_version": "2.0.0",
      "model_name": "LayoutModel",
      "state": {
       "display": "flex",
       "flex_flow": "row",
       "justify_content": "flex-start",
       "width": "auto"
      }
     },
     "dcedaa0de6cb4f08be5cb934157cd1a9": {
      "model_module": "@jupyter-widgets/output",
      "model_module_version": "1.0.0",
      "model_name": "OutputModel",
      "state": {
       "layout": "IPY_MODEL_740cfd4870954f37885bc94c34adb89c",
       "outputs": [
        {
         "data": {
          "text/html": "<b>Training set performance</b>",
          "text/plain": "<IPython.core.display.HTML object>"
         },
         "metadata": {},
         "output_type": "display_data"
        },
        {
         "data": {
          "text/html": "<div>\n<style scoped>\n    .dataframe tbody tr th:only-of-type {\n        vertical-align: middle;\n    }\n\n    .dataframe tbody tr th {\n        vertical-align: top;\n    }\n\n    .dataframe thead th {\n        text-align: right;\n    }\n</style>\n<table border=\"1\" class=\"dataframe\">\n  <thead>\n    <tr style=\"text-align: right;\">\n      <th></th>\n      <th>precision</th>\n      <th>recall</th>\n      <th>f1-score</th>\n      <th>support</th>\n    </tr>\n  </thead>\n  <tbody>\n    <tr>\n      <th>0</th>\n      <td>1.00</td>\n      <td>1.00</td>\n      <td>1.00</td>\n      <td>335.00</td>\n    </tr>\n    <tr>\n      <th>1</th>\n      <td>1.00</td>\n      <td>1.00</td>\n      <td>1.00</td>\n      <td>179.00</td>\n    </tr>\n    <tr>\n      <th>accuracy</th>\n      <td>1.00</td>\n      <td>1.00</td>\n      <td>1.00</td>\n      <td>1.00</td>\n    </tr>\n    <tr>\n      <th>macro avg</th>\n      <td>1.00</td>\n      <td>1.00</td>\n      <td>1.00</td>\n      <td>514.00</td>\n    </tr>\n    <tr>\n      <th>weighted avg</th>\n      <td>1.00</td>\n      <td>1.00</td>\n      <td>1.00</td>\n      <td>514.00</td>\n    </tr>\n  </tbody>\n</table>\n</div>",
          "text/plain": "             precision recall f1-score support\n0                 1.00   1.00     1.00  335.00\n1                 1.00   1.00     1.00  179.00\naccuracy          1.00   1.00     1.00    1.00\nmacro avg         1.00   1.00     1.00  514.00\nweighted avg      1.00   1.00     1.00  514.00"
         },
         "metadata": {},
         "output_type": "display_data"
        }
       ]
      }
     },
     "dd3c88e46f3e429caf46cee14d366b83": {
      "model_module": "@jupyter-widgets/base",
      "model_module_version": "2.0.0",
      "model_name": "LayoutModel",
      "state": {
       "display": "flex",
       "flex_flow": "row",
       "justify_content": "flex-start",
       "width": "auto"
      }
     },
     "dd988d0c4e194b91acf51acb301688fa": {
      "model_module": "@jupyter-widgets/output",
      "model_module_version": "1.0.0",
      "model_name": "OutputModel",
      "state": {
       "layout": "IPY_MODEL_680390e1f02443e0a81932478acc3518",
       "outputs": [
        {
         "data": {
          "text/html": "<b>Training set performance</b>",
          "text/plain": "<IPython.core.display.HTML object>"
         },
         "metadata": {},
         "output_type": "display_data"
        },
        {
         "data": {
          "text/html": "<div>\n<style scoped>\n    .dataframe tbody tr th:only-of-type {\n        vertical-align: middle;\n    }\n\n    .dataframe tbody tr th {\n        vertical-align: top;\n    }\n\n    .dataframe thead th {\n        text-align: right;\n    }\n</style>\n<table border=\"1\" class=\"dataframe\">\n  <thead>\n    <tr style=\"text-align: right;\">\n      <th></th>\n      <th>precision</th>\n      <th>recall</th>\n      <th>f1-score</th>\n      <th>support</th>\n    </tr>\n  </thead>\n  <tbody>\n    <tr>\n      <th>0</th>\n      <td>0.96</td>\n      <td>0.96</td>\n      <td>0.96</td>\n      <td>335.00</td>\n    </tr>\n    <tr>\n      <th>1</th>\n      <td>0.96</td>\n      <td>0.96</td>\n      <td>0.96</td>\n      <td>335.00</td>\n    </tr>\n    <tr>\n      <th>accuracy</th>\n      <td>0.96</td>\n      <td>0.96</td>\n      <td>0.96</td>\n      <td>0.96</td>\n    </tr>\n    <tr>\n      <th>macro avg</th>\n      <td>0.96</td>\n      <td>0.96</td>\n      <td>0.96</td>\n      <td>670.00</td>\n    </tr>\n    <tr>\n      <th>weighted avg</th>\n      <td>0.96</td>\n      <td>0.96</td>\n      <td>0.96</td>\n      <td>670.00</td>\n    </tr>\n  </tbody>\n</table>\n</div>",
          "text/plain": "             precision recall f1-score support\n0                 0.96   0.96     0.96  335.00\n1                 0.96   0.96     0.96  335.00\naccuracy          0.96   0.96     0.96    0.96\nmacro avg         0.96   0.96     0.96  670.00\nweighted avg      0.96   0.96     0.96  670.00"
         },
         "metadata": {},
         "output_type": "display_data"
        }
       ]
      }
     },
     "e4be0da738804736b1eafb4f60c09f75": {
      "model_module": "@jupyter-widgets/controls",
      "model_module_version": "2.0.0",
      "model_name": "HBoxModel",
      "state": {
       "children": [
        "IPY_MODEL_89caff2c9acf4abdba7f1fc9df8dd2fe",
        "IPY_MODEL_35285a93c1934a72834fe6b0c5830543"
       ],
       "layout": "IPY_MODEL_90954307397341839e611a54c2e9f7d1"
      }
     },
     "e6d46a50204f405ba8036f476b3a5e39": {
      "model_module": "@jupyter-widgets/base",
      "model_module_version": "2.0.0",
      "model_name": "LayoutModel",
      "state": {}
     },
     "e6e01c7ec2b943ce949f3ae0aa7fcc5a": {
      "model_module": "@jupyter-widgets/output",
      "model_module_version": "1.0.0",
      "model_name": "OutputModel",
      "state": {
       "layout": "IPY_MODEL_e6d46a50204f405ba8036f476b3a5e39",
       "outputs": [
        {
         "data": {
          "text/html": "<b>Training set performance</b>",
          "text/plain": "<IPython.core.display.HTML object>"
         },
         "metadata": {},
         "output_type": "display_data"
        },
        {
         "data": {
          "text/html": "<div>\n<style scoped>\n    .dataframe tbody tr th:only-of-type {\n        vertical-align: middle;\n    }\n\n    .dataframe tbody tr th {\n        vertical-align: top;\n    }\n\n    .dataframe thead th {\n        text-align: right;\n    }\n</style>\n<table border=\"1\" class=\"dataframe\">\n  <thead>\n    <tr style=\"text-align: right;\">\n      <th></th>\n      <th>precision</th>\n      <th>recall</th>\n      <th>f1-score</th>\n      <th>support</th>\n    </tr>\n  </thead>\n  <tbody>\n    <tr>\n      <th>0</th>\n      <td>1.00</td>\n      <td>1.00</td>\n      <td>1.00</td>\n      <td>335.00</td>\n    </tr>\n    <tr>\n      <th>1</th>\n      <td>1.00</td>\n      <td>1.00</td>\n      <td>1.00</td>\n      <td>179.00</td>\n    </tr>\n    <tr>\n      <th>accuracy</th>\n      <td>1.00</td>\n      <td>1.00</td>\n      <td>1.00</td>\n      <td>1.00</td>\n    </tr>\n    <tr>\n      <th>macro avg</th>\n      <td>1.00</td>\n      <td>1.00</td>\n      <td>1.00</td>\n      <td>514.00</td>\n    </tr>\n    <tr>\n      <th>weighted avg</th>\n      <td>1.00</td>\n      <td>1.00</td>\n      <td>1.00</td>\n      <td>514.00</td>\n    </tr>\n  </tbody>\n</table>\n</div>",
          "text/plain": "             precision recall f1-score support\n0                 1.00   1.00     1.00  335.00\n1                 1.00   1.00     1.00  179.00\naccuracy          1.00   1.00     1.00    1.00\nmacro avg         1.00   1.00     1.00  514.00\nweighted avg      1.00   1.00     1.00  514.00"
         },
         "metadata": {},
         "output_type": "display_data"
        }
       ]
      }
     },
     "e7dc4b0070a749558f4a53ca4243a6b7": {
      "model_module": "@jupyter-widgets/base",
      "model_module_version": "2.0.0",
      "model_name": "LayoutModel",
      "state": {}
     },
     "e841a4e692e948c99425fda4050f1da9": {
      "model_module": "@jupyter-widgets/controls",
      "model_module_version": "2.0.0",
      "model_name": "HBoxModel",
      "state": {
       "children": [
        "IPY_MODEL_00c65b1cb3594e249031b69c359ec280",
        "IPY_MODEL_3af104d7a6f64203a8c545318e044bd0"
       ],
       "layout": "IPY_MODEL_9711547d926b4d42b5487538d8b1e648"
      }
     },
     "e8fda7f2037c49b89f1bf0d2f5d84827": {
      "model_module": "@jupyter-widgets/base",
      "model_module_version": "2.0.0",
      "model_name": "LayoutModel",
      "state": {
       "display": "flex",
       "flex_flow": "row",
       "justify_content": "flex-start",
       "width": "auto"
      }
     },
     "ebb6c23ee5054b47bfee95fc3524f4ae": {
      "model_module": "@jupyter-widgets/base",
      "model_module_version": "2.0.0",
      "model_name": "LayoutModel",
      "state": {}
     },
     "ed5a74cc30b04de48977a3f0258cb511": {
      "model_module": "@jupyter-widgets/base",
      "model_module_version": "2.0.0",
      "model_name": "LayoutModel",
      "state": {
       "display": "flex",
       "flex_flow": "row",
       "justify_content": "flex-start",
       "width": "auto"
      }
     },
     "edb85090442a463a9e91b2ac7ead64c0": {
      "model_module": "@jupyter-widgets/base",
      "model_module_version": "2.0.0",
      "model_name": "LayoutModel",
      "state": {}
     },
     "f226b21ce4224970b2a7e0accb8b0d32": {
      "model_module": "@jupyter-widgets/output",
      "model_module_version": "1.0.0",
      "model_name": "OutputModel",
      "state": {
       "layout": "IPY_MODEL_423aa3fce6dd4fbca8ed08d2d8e0483d",
       "outputs": [
        {
         "data": {
          "text/html": "<b>Additional metrics</b>",
          "text/plain": "<IPython.core.display.HTML object>"
         },
         "metadata": {},
         "output_type": "display_data"
        },
        {
         "data": {
          "text/html": "<div>\n<style scoped>\n    .dataframe tbody tr th:only-of-type {\n        vertical-align: middle;\n    }\n\n    .dataframe tbody tr th {\n        vertical-align: top;\n    }\n\n    .dataframe thead th {\n        text-align: right;\n    }\n</style>\n<table border=\"1\" class=\"dataframe\">\n  <thead>\n    <tr style=\"text-align: right;\">\n      <th></th>\n      <th>Train Score</th>\n    </tr>\n  </thead>\n  <tbody>\n    <tr>\n      <th>Log Loss</th>\n      <td>0.2002</td>\n    </tr>\n    <tr>\n      <th>ROC AUC</th>\n      <td>0.9946</td>\n    </tr>\n    <tr>\n      <th>AUPRC</th>\n      <td>0.9932</td>\n    </tr>\n  </tbody>\n</table>\n</div>",
          "text/plain": "          Train Score\nLog Loss       0.2002\nROC AUC        0.9946\nAUPRC          0.9932"
         },
         "metadata": {},
         "output_type": "display_data"
        }
       ]
      }
     },
     "f32cd8bb97094cf0baefed5e5284ffcf": {
      "model_module": "@jupyter-widgets/controls",
      "model_module_version": "2.0.0",
      "model_name": "HBoxModel",
      "state": {
       "children": [
        "IPY_MODEL_b9dbe3038b4e4884ae8e674f411fefa2",
        "IPY_MODEL_b8fe54ffc8684a369d43abd932d4fc55"
       ],
       "layout": "IPY_MODEL_19ce6c8b3aed4537a6785de08107c320"
      }
     },
     "f37cdbf87aee4618bac7aa5862525d1f": {
      "model_module": "@jupyter-widgets/controls",
      "model_module_version": "2.0.0",
      "model_name": "HTMLStyleModel",
      "state": {
       "description_width": "",
       "font_size": null,
       "text_color": null
      }
     },
     "f44d94e7ad53437a88c132caa37cacf0": {
      "model_module": "@jupyter-widgets/controls",
      "model_module_version": "2.0.0",
      "model_name": "HBoxModel",
      "state": {
       "children": [
        "IPY_MODEL_d9c9d077ee6a4589a7d08c453cba7ef5",
        "IPY_MODEL_52d2619a02d44b6bb517960007c68a5c"
       ],
       "layout": "IPY_MODEL_6af93f1ba57c4f3c8caa43d4261dd56b"
      }
     },
     "f5461ec6eb7f4b7695a0ebc7b9dd8cdb": {
      "model_module": "@jupyter-widgets/controls",
      "model_module_version": "2.0.0",
      "model_name": "HBoxModel",
      "state": {
       "children": [
        "IPY_MODEL_dd988d0c4e194b91acf51acb301688fa",
        "IPY_MODEL_15727eccd44b4c4d8d0be00e641509ac"
       ],
       "layout": "IPY_MODEL_ed5a74cc30b04de48977a3f0258cb511"
      }
     },
     "f66e505270df4d74891c4d714a26ef78": {
      "model_module": "@jupyter-widgets/base",
      "model_module_version": "2.0.0",
      "model_name": "LayoutModel",
      "state": {
       "display": "flex",
       "flex_flow": "row",
       "justify_content": "flex-start",
       "width": "auto"
      }
     },
     "f6ff3a7a7b10435abfbef70d2b8f88a8": {
      "model_module": "@jupyter-widgets/controls",
      "model_module_version": "2.0.0",
      "model_name": "HBoxModel",
      "state": {
       "children": [
        "IPY_MODEL_c3e6177c4ac4492288b3a7a8b235493d",
        "IPY_MODEL_b2e6152000c54728bfdb14ecdd070c7a"
       ],
       "layout": "IPY_MODEL_562b49d2644340b8bc213dfb659ed1b8"
      }
     },
     "f838a81303384687a9f824427a8ad1dd": {
      "model_module": "@jupyter-widgets/output",
      "model_module_version": "1.0.0",
      "model_name": "OutputModel",
      "state": {
       "layout": "IPY_MODEL_c65e85a082054da486e6f032371373c4",
       "outputs": [
        {
         "data": {
          "text/html": "<b>(Log Loss, ROC Curve, Precission-Recall)</b>",
          "text/plain": "<IPython.core.display.HTML object>"
         },
         "metadata": {},
         "output_type": "display_data"
        },
        {
         "data": {
          "text/html": "<div>\n<style scoped>\n    .dataframe tbody tr th:only-of-type {\n        vertical-align: middle;\n    }\n\n    .dataframe tbody tr th {\n        vertical-align: top;\n    }\n\n    .dataframe thead th {\n        text-align: right;\n    }\n</style>\n<table border=\"1\" class=\"dataframe\">\n  <thead>\n    <tr style=\"text-align: right;\">\n      <th></th>\n      <th>Test Score</th>\n    </tr>\n  </thead>\n  <tbody>\n    <tr>\n      <th>Log Loss</th>\n      <td>0.7327</td>\n    </tr>\n    <tr>\n      <th>ROC AUC</th>\n      <td>0.7958</td>\n    </tr>\n    <tr>\n      <th>AUPRC</th>\n      <td>0.6195</td>\n    </tr>\n  </tbody>\n</table>\n</div>",
          "text/plain": "          Test Score\nLog Loss      0.7327\nROC AUC       0.7958\nAUPRC         0.6195"
         },
         "metadata": {},
         "output_type": "display_data"
        }
       ]
      }
     },
     "fb268728a52e403f9dfcf736c68d38f4": {
      "model_module": "@jupyter-widgets/base",
      "model_module_version": "2.0.0",
      "model_name": "LayoutModel",
      "state": {}
     },
     "fef0bd869099442cbff6737e6e4ebf36": {
      "model_module": "@jupyter-widgets/base",
      "model_module_version": "2.0.0",
      "model_name": "LayoutModel",
      "state": {}
     },
     "ff7dca397d884e638d282a4e4b6406dd": {
      "model_module": "@jupyter-widgets/base",
      "model_module_version": "2.0.0",
      "model_name": "LayoutModel",
      "state": {
       "display": "flex",
       "flex_flow": "row",
       "justify_content": "flex-start",
       "width": "auto"
      }
     }
    },
    "version_major": 2,
    "version_minor": 0
   }
  }
 },
 "nbformat": 4,
 "nbformat_minor": 5
}
